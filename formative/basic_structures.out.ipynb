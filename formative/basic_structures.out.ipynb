{
  "cells": [
    {
      "cell_type": "markdown",
      "metadata": {},
      "source": [
        "# Week 3 - Test\n",
        "\n",
        "## Variables, lists, dictionaries and branches\n",
        "\n",
        "This is a **formative test**. It is an occasion to practice the course\n",
        "material. It **does not** contribute to your final grade.\n",
        "\n",
        "Using the topics covered within the workshops (or otherwise), complete\n",
        "the questions below.\n",
        "\n",
        "Make sure to use any described variable names exactly and do not change\n",
        "the name of this file. This ensures the nbgrader tool can grade your\n",
        "work correctly.\n",
        "\n",
        "------------------------------------------------------------------------\n",
        "\n",
        "### Question 1\n",
        "\n",
        "1A) Using the `pi` variable defined below (representing $\\pi$ to 6\n",
        "decimal places), calculate the circumference of a circle with radius of\n",
        "5 and assign to a variable called `circum_circle`.\n",
        "\n",
        "The equation for calculating the circumference of a circle is:\n",
        "\n",
        "$$\\mathrm{Circumference} = 2 \\times \\pi \\times \\mathrm{radius}$$\n",
        "\n",
        "(1 mark)"
      ],
      "id": "2ac3d498-6897-43e0-a088-28b6ba87ba86"
    },
    {
      "cell_type": "code",
      "execution_count": 1,
      "metadata": {
        "quarto-private-1": {
          "key": "nbgrader",
          "value": {
            "grade": false,
            "grade_id": "cell-60bc6ccfefb7a1ca",
            "locked": true,
            "schema_version": 3,
            "solution": false,
            "task": false
          }
        },
        "tags": []
      },
      "outputs": [
        {
          "output_type": "stream",
          "name": "stdout",
          "text": [
            "3.141592"
          ]
        }
      ],
      "source": [
        "pi = 3.141592\n",
        "print(pi)"
      ],
      "id": "177e43f4-b79b-4da7-9cd4-b11f5a1140aa"
    },
    {
      "cell_type": "code",
      "execution_count": 2,
      "metadata": {
        "quarto-private-1": {
          "key": "nbgrader",
          "value": {
            "grade": false,
            "grade_id": "cell-d0fea59114b6b7a6",
            "locked": false,
            "schema_version": 3,
            "solution": true,
            "task": false
          }
        },
        "tags": []
      },
      "outputs": [],
      "source": [
        "### BEGIN SOLUTION\n",
        "radius = 5\n",
        "circum_circle = 2 * pi * radius\n",
        "### END SOLUTION"
      ],
      "id": "bf7f23ae-9759-40f2-8ed6-161605d3241c"
    },
    {
      "cell_type": "code",
      "execution_count": 3,
      "metadata": {
        "quarto-private-1": {
          "key": "nbgrader",
          "value": {
            "grade": true,
            "grade_id": "cell-f6301530bdf87d30",
            "locked": true,
            "points": 1,
            "schema_version": 3,
            "solution": false,
            "task": false
          }
        }
      },
      "outputs": [],
      "source": [
        "### BEGIN HIDDEN TESTS\n",
        "import numpy as np\n",
        "expected_circum = 31.41592\n",
        "assert np.isclose(circum_circle, expected_circum)\n",
        "### END HIDDEN TESTS"
      ],
      "id": "e48d6b49-0f47-4f81-a8da-4b5cdccbbe72"
    },
    {
      "cell_type": "markdown",
      "metadata": {},
      "source": [
        "1B) Again using the `pi` variable defined above, calculate the area of a\n",
        "circle with a radius of 2.5 and assign to a variable called\n",
        "`area_circle`.\n",
        "\n",
        "The equation for calculating the circumference of a circle is:\n",
        "\n",
        "$$\\mathrm{Area} = \\pi \\times \\mathrm{radius}^2$$\n",
        "\n",
        "(1 mark)"
      ],
      "id": "db2a8451-2d07-4f72-9e5c-bf69c49a4d07"
    },
    {
      "cell_type": "code",
      "execution_count": 4,
      "metadata": {
        "quarto-private-1": {
          "key": "nbgrader",
          "value": {
            "grade": false,
            "grade_id": "cell-09524f0adbe1c394",
            "locked": false,
            "schema_version": 3,
            "solution": true,
            "task": false
          }
        }
      },
      "outputs": [],
      "source": [
        "### BEGIN SOLUTION\n",
        "radius = 2.5\n",
        "area_circle = pi * radius**2\n",
        "### END SOLUTION"
      ],
      "id": "8741de2c-6131-4d2d-a1d3-080e1d70d3b4"
    },
    {
      "cell_type": "code",
      "execution_count": 5,
      "metadata": {
        "quarto-private-1": {
          "key": "nbgrader",
          "value": {
            "grade": true,
            "grade_id": "cell-bf492fa63e4cd979",
            "locked": true,
            "points": 1,
            "schema_version": 3,
            "solution": false,
            "task": false
          }
        },
        "tags": []
      },
      "outputs": [],
      "source": [
        "### BEGIN HIDDEN TESTS\n",
        "import numpy as np\n",
        "expected_area = 19.63495\n",
        "assert np.isclose(area_circle, expected_area)\n",
        "### END HIDDEN TESTS"
      ],
      "id": "616d8a3f-dc23-4dea-bb4c-53d43793db14"
    },
    {
      "cell_type": "markdown",
      "metadata": {},
      "source": [
        "------------------------------------------------------------------------\n",
        "\n",
        "### Question 2\n",
        "\n",
        "2A) Using the `names` variable created below, access the second name in\n",
        "the `names` list (“Marie Curie”) and assign to a variable called\n",
        "`chemist`.\n",
        "\n",
        "Note: You can use the `print` function if you want to check the value\n",
        "contained within your `chemist` variable.\n",
        "\n",
        "(1 mark)"
      ],
      "id": "d6f45d28-245c-4e7a-ac93-809d38f0fcb3"
    },
    {
      "cell_type": "code",
      "execution_count": 6,
      "metadata": {
        "quarto-private-1": {
          "key": "nbgrader",
          "value": {
            "grade": false,
            "grade_id": "cell-4354c9bd59a2bb6e",
            "locked": true,
            "schema_version": 3,
            "solution": false,
            "task": false
          }
        },
        "tags": []
      },
      "outputs": [],
      "source": [
        "names = [\"Pythagoras\", \"Marie Curie\", \"Charles Darwin\"]"
      ],
      "id": "89b8ab97-2a75-4181-b9f4-460cd458bb48"
    },
    {
      "cell_type": "code",
      "execution_count": 7,
      "metadata": {
        "quarto-private-1": {
          "key": "nbgrader",
          "value": {
            "grade": false,
            "grade_id": "cell-a75535f65d5c0d0f",
            "locked": false,
            "schema_version": 3,
            "solution": true,
            "task": false
          }
        }
      },
      "outputs": [],
      "source": [
        "### BEGIN SOLUTION\n",
        "chemist = names[1]\n",
        "### END SOLUTION"
      ],
      "id": "ea4fbfe4-18e9-4fdc-a65d-b3c67dc44815"
    },
    {
      "cell_type": "code",
      "execution_count": 8,
      "metadata": {
        "quarto-private-1": {
          "key": "nbgrader",
          "value": {
            "grade": true,
            "grade_id": "cell-2d35c9f6475168b6",
            "locked": true,
            "points": 1,
            "schema_version": 3,
            "solution": false,
            "task": false
          }
        }
      },
      "outputs": [],
      "source": [
        "### BEGIN HIDDEN TESTS\n",
        "assert chemist == \"Marie Curie\"\n",
        "### END HIDDEN TESTS"
      ],
      "id": "807eccb9-6d8b-4450-ae12-3f6b99c9ae46"
    },
    {
      "cell_type": "markdown",
      "metadata": {},
      "source": [
        "2B) Add an additional element to the end of the `names` list to include\n",
        "the name “Albert Einstein”.\n",
        "\n",
        "Note: You can use the `print` function if you want to check the status\n",
        "of your `names` variable (list).\n",
        "\n",
        "(1 mark)"
      ],
      "id": "98cf8e70-08ae-4371-998b-2f32ac36cb5f"
    },
    {
      "cell_type": "code",
      "execution_count": 9,
      "metadata": {
        "quarto-private-1": {
          "key": "nbgrader",
          "value": {
            "grade": false,
            "grade_id": "cell-6146867ba07254e1",
            "locked": false,
            "schema_version": 3,
            "solution": true,
            "task": false
          }
        }
      },
      "outputs": [],
      "source": [
        "### BEGIN SOLUTION\n",
        "scientist_string = \"Albert Einstein\"\n",
        "names.append(scientist_string)\n",
        "### END SOLUTION"
      ],
      "id": "30b03669-c690-43d4-b48e-c1de002b0986"
    },
    {
      "cell_type": "code",
      "execution_count": 10,
      "metadata": {
        "quarto-private-1": {
          "key": "nbgrader",
          "value": {
            "grade": true,
            "grade_id": "cell-444648212523c6ae",
            "locked": true,
            "points": 1,
            "schema_version": 3,
            "solution": false,
            "task": false
          }
        }
      },
      "outputs": [],
      "source": [
        "### BEGIN HIDDEN TESTS\n",
        "assert names[3] == \"Albert Einstein\"\n",
        "### END HIDDEN TESTS"
      ],
      "id": "1f63ab98-e986-4af8-82cc-b945fd3164b0"
    },
    {
      "cell_type": "markdown",
      "metadata": {},
      "source": [
        "------------------------------------------------------------------------\n",
        "\n",
        "### Question 3\n",
        "\n",
        "3A) A dictionary has been defined below and assign to the\n",
        "`quantity_units` variable name. This contains names for quantities (such\n",
        "as distance, temperature) and their associated units. The `quantity`\n",
        "variable represents a key within this dictionary. Use the `quantity`\n",
        "variable to access the value from the dictionary and assign this value\n",
        "to a variable called `units`.\n",
        "\n",
        "*Again, make sure to check all variable names written and defined\n",
        "**exactly match** to what has been specified in the question.*\n",
        "\n",
        "(1 mark)"
      ],
      "id": "30b87830-7404-424e-8f09-3bfae0b06bc4"
    },
    {
      "cell_type": "code",
      "execution_count": 11,
      "metadata": {
        "quarto-private-1": {
          "key": "nbgrader",
          "value": {
            "grade": false,
            "grade_id": "cell-4077751cf0ea6088",
            "locked": true,
            "schema_version": 3,
            "solution": false,
            "task": false
          }
        },
        "tags": []
      },
      "outputs": [],
      "source": [
        "quantity_units = {\"distance\": [\"m\", \"feet\"],\n",
        "                  \"temperature\": [\"K\", \"degreesC\"],\n",
        "                  \"weight\": [\"N\"],\n",
        "                  \"mass\": [\"kg\", \"tonne\"],\n",
        "                  \"speed\": [\"m/s\", \"mph\"]}"
      ],
      "id": "730dad07-bb02-4682-a878-cee190e097f1"
    },
    {
      "cell_type": "code",
      "execution_count": 12,
      "metadata": {
        "quarto-private-1": {
          "key": "nbgrader",
          "value": {
            "grade": false,
            "grade_id": "cell-dcc103d6f7aa3be9",
            "locked": true,
            "schema_version": 3,
            "solution": false,
            "task": false
          }
        },
        "tags": []
      },
      "outputs": [],
      "source": [
        "quantity = \"temperature\""
      ],
      "id": "2fe68091-81e4-4ee6-add6-e98c2bf2d43b"
    },
    {
      "cell_type": "code",
      "execution_count": 13,
      "metadata": {
        "quarto-private-1": {
          "key": "nbgrader",
          "value": {
            "grade": false,
            "grade_id": "cell-bca4c27470701665",
            "locked": false,
            "schema_version": 3,
            "solution": true,
            "task": false
          }
        },
        "tags": []
      },
      "outputs": [],
      "source": [
        "### BEGIN SOLUTION\n",
        "units = quantity_units[quantity]\n",
        "### END SOLUTION"
      ],
      "id": "75b56d6a-deb4-48be-ab8e-d0ec47fbc7f8"
    },
    {
      "cell_type": "code",
      "execution_count": 14,
      "metadata": {
        "quarto-private-1": {
          "key": "nbgrader",
          "value": {
            "grade": true,
            "grade_id": "cell-d77dcfe21d47eaba",
            "locked": true,
            "points": 1,
            "schema_version": 3,
            "solution": false,
            "task": false
          }
        },
        "tags": []
      },
      "outputs": [],
      "source": [
        "### BEGIN HIDDEN TESTS\n",
        "assert units == [\"K\", \"degreesC\"]\n",
        "### END HIDDEN TESTS"
      ],
      "id": "55348a07-6523-4230-abbd-098558b75eea"
    },
    {
      "cell_type": "markdown",
      "metadata": {},
      "source": [
        "3B) For the variable `second_quantity` defined below, check whether this\n",
        "key is present in the `quantity_units` dictionary. If this is in the\n",
        "dictionary create a variable called `quantity_present` and assign this\n",
        "to a value of True, otherwise assign this to a value of False.\n",
        "\n",
        "Notes: - You can use the `print` function to check the value within your\n",
        "`quantity_present` variable (boolean). If this produces a `NameError`,\n",
        "you may need to check that `quantity_present` has been successfully\n",
        "created. - Check your Week 3 notes for examples of how to check\n",
        "*membership* (i.e. whether a value is contained within a collection like\n",
        "a list or a dictionary).\n",
        "\n",
        "(1 mark)"
      ],
      "id": "7b1743a1-53c3-42e3-bcaa-09187f1b5def"
    },
    {
      "cell_type": "code",
      "execution_count": 15,
      "metadata": {
        "quarto-private-1": {
          "key": "nbgrader",
          "value": {
            "grade": false,
            "grade_id": "cell-62674b9a0a01a924",
            "locked": true,
            "schema_version": 3,
            "solution": false,
            "task": false
          }
        },
        "tags": []
      },
      "outputs": [],
      "source": [
        "second_quantity = \"height\""
      ],
      "id": "7eadf8ba-7add-45ef-8dc3-c792bfc76bea"
    },
    {
      "cell_type": "code",
      "execution_count": 16,
      "metadata": {
        "quarto-private-1": {
          "key": "nbgrader",
          "value": {
            "grade": false,
            "grade_id": "cell-f8a4175079919a72",
            "locked": false,
            "schema_version": 3,
            "solution": true,
            "task": false
          }
        },
        "tags": []
      },
      "outputs": [],
      "source": [
        "### BEGIN SOLUTION\n",
        "if second_quantity in quantity_units:\n",
        "    quantity_present = True\n",
        "else:\n",
        "    quantity_present = False\n",
        "\n",
        "# OR\n",
        "# quantity_present = second_quantity in quantity_units\n",
        "### END SOLUTION"
      ],
      "id": "8c64c601-899b-4584-9f73-b04112ed3e14"
    },
    {
      "cell_type": "code",
      "execution_count": 17,
      "metadata": {
        "quarto-private-1": {
          "key": "nbgrader",
          "value": {
            "grade": true,
            "grade_id": "cell-8a9cce46702519ad",
            "locked": true,
            "points": 1,
            "schema_version": 3,
            "solution": false,
            "task": false
          }
        },
        "tags": []
      },
      "outputs": [],
      "source": [
        "assert quantity_present == False"
      ],
      "id": "600b354a-3796-43e1-b8f5-8c2a13d8c6d7"
    },
    {
      "cell_type": "markdown",
      "metadata": {},
      "source": [
        "------------------------------------------------------------------------\n",
        "\n",
        "### Question 4\n",
        "\n",
        "4A) Two values of heights in units of feet are provided below in a list\n",
        "called `height_feet`. Convert these values to metres and calculate the\n",
        "difference in metres. Store this difference in a variable called\n",
        "`height_difference_m`.\n",
        "\n",
        "Conversion from feet to metres can be done using the equation:\n",
        "\n",
        "The conversion equation is:\n",
        "$$ \\mathrm{height_{feet}} = \\mathrm{height_{m}} \\times 3.28084$$\n",
        "\n",
        "(2 marks)"
      ],
      "id": "d518f72b-088e-40e7-95c5-d2e80aaa92a8"
    },
    {
      "cell_type": "code",
      "execution_count": 18,
      "metadata": {
        "quarto-private-1": {
          "key": "nbgrader",
          "value": {
            "grade": false,
            "grade_id": "cell-14e6540e6013f8eb",
            "locked": true,
            "schema_version": 3,
            "solution": false,
            "task": false
          }
        },
        "tags": []
      },
      "outputs": [],
      "source": [
        "height_feet = [5, 6]"
      ],
      "id": "b802f7cb-ced5-4a54-bd60-a6fbbaf7806e"
    },
    {
      "cell_type": "code",
      "execution_count": 19,
      "metadata": {
        "quarto-private-1": {
          "key": "nbgrader",
          "value": {
            "grade": false,
            "grade_id": "cell-8b35691cda492f07",
            "locked": false,
            "schema_version": 3,
            "solution": true,
            "task": false
          }
        },
        "tags": []
      },
      "outputs": [
        {
          "output_type": "stream",
          "name": "stdout",
          "text": [
            "1.524 1.8288000000000002\n",
            "0.3048000000000002"
          ]
        }
      ],
      "source": [
        "### BEGIN SOLUTION\n",
        "conversion = 0.3048\n",
        "height_feet_1 = height_feet[0]\n",
        "height_feet_2 = height_feet[1]\n",
        "height_m_1 = height_feet_1 * conversion\n",
        "height_m_2 = height_feet_2 * conversion\n",
        "\n",
        "print(height_m_1, height_m_2)\n",
        "height_difference_m = height_m_2 - height_m_1\n",
        "print(height_difference_m)\n",
        "### END SOLUTION"
      ],
      "id": "99bdfbfa-bc3b-4dbd-8604-89ceba325f12"
    },
    {
      "cell_type": "code",
      "execution_count": 20,
      "metadata": {
        "quarto-private-1": {
          "key": "nbgrader",
          "value": {
            "grade": true,
            "grade_id": "cell-70282e8ad6401d56",
            "locked": true,
            "points": 2,
            "schema_version": 3,
            "solution": false,
            "task": false
          }
        },
        "tags": []
      },
      "outputs": [],
      "source": [
        "### BEGIN HIDDEN TESTS\n",
        "import numpy as np\n",
        "expected_value = 0.3048\n",
        "assert np.isclose(height_difference_m, expected_value) or np.isclose(height_difference_m, -expected_value)\n",
        "### END HIDDEN TESTS"
      ],
      "id": "15913662-e367-4fa5-b83f-0c2a422c56b7"
    },
    {
      "cell_type": "markdown",
      "metadata": {},
      "source": [
        "4B) Check whether `height_difference_m` is: - If `height_difference_m`\n",
        "is greater than 0.5 metres (50cm), create a variable called `check` and\n",
        "set this to `1` - If `height_difference_m` is between 0.3 and 0.5 metres\n",
        "(30 to 50cm), create a variable called `check` and set this to `2` - If\n",
        "`height_difference_m` is something else, create a variable called\n",
        "`check` and set this to `3`\n",
        "\n",
        "(2 marks)"
      ],
      "id": "cc284581-adf0-4233-8a6a-b598b7635174"
    },
    {
      "cell_type": "code",
      "execution_count": 21,
      "metadata": {
        "quarto-private-1": {
          "key": "nbgrader",
          "value": {
            "grade": false,
            "grade_id": "cell-d597f4f939b58904",
            "locked": false,
            "schema_version": 3,
            "solution": true,
            "task": false
          }
        },
        "tags": []
      },
      "outputs": [
        {
          "output_type": "stream",
          "name": "stdout",
          "text": [
            "0.305 is greater than 0.3m but less than or equal to 0.5m"
          ]
        }
      ],
      "source": [
        "### BEGIN SOLUTION\n",
        "check = 0\n",
        "if height_difference_m > 0.5:\n",
        "    print(f\"{height_difference_m:.3f} is greater than 0.5m\")\n",
        "    check=1\n",
        "elif height_difference_m > 0.3 and height_difference_m <= 0.5:\n",
        "    print(f\"{height_difference_m:.3f} is greater than 0.3m but less than or equal to 0.5m\")\n",
        "    check=2\n",
        "else:\n",
        "    print(height_difference_m)\n",
        "    check=3\n",
        "### END SOLUTION"
      ],
      "id": "dd847984-67f6-4722-8d56-dc19080e31b8"
    },
    {
      "cell_type": "code",
      "execution_count": 22,
      "metadata": {
        "quarto-private-1": {
          "key": "nbgrader",
          "value": {
            "grade": true,
            "grade_id": "cell-385557e0423d3f6b",
            "locked": true,
            "points": 2,
            "schema_version": 3,
            "solution": false,
            "task": false
          }
        },
        "tags": []
      },
      "outputs": [],
      "source": [
        "### BEGIN HIDDEN TESTS\n",
        "assert check == 2\n",
        "### END HIDDEN TESTS"
      ],
      "id": "6369bbc2-e5c0-42d9-8c70-eea057e32a9a"
    },
    {
      "cell_type": "markdown",
      "metadata": {},
      "source": [
        "------------------------------------------------------------------------"
      ],
      "id": "764ff2fb-efb2-40b1-a644-4e2f65e64ad5"
    }
  ],
  "nbformat": 4,
  "nbformat_minor": 5,
  "metadata": {
    "celltoolbar": "Create Assignment",
    "kernelspec": {
      "name": "python3",
      "display_name": "Python 3 (ipykernel)",
      "language": "python"
    },
    "language_info": {
      "name": "python",
      "codemirror_mode": {
        "name": "ipython",
        "version": "3"
      },
      "file_extension": ".py",
      "mimetype": "text/x-python",
      "nbconvert_exporter": "python",
      "pygments_lexer": "ipython3",
      "version": "3.10.9"
    }
  }
}