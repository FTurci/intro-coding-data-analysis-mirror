{
 "cells": [
  {
   "cell_type": "code",
   "execution_count": 1,
   "id": "460beae6",
   "metadata": {},
   "outputs": [
    {
     "name": "stdout",
     "output_type": "stream",
     "text": [
      "{\"/Users/ft14968/.pyenv/versions/3.11.1/lib/python3.11/importlib/_bootstrap.py\": 1716061061.963526, \"/Users/ft14968/.pyenv/versions/3.11.1/lib/python3.11/importlib/_bootstrap_external.py\": 1716061061.9664707, \"/Users/ft14968/.pyenv/versions/3.11.1/lib/python3.11/zipimport.py\": 1716061059.8541, \"/Users/ft14968/.pyenv/versions/3.11.1/lib/python3.11/codecs.py\": 1716061059.3098388, \"/Users/ft14968/.pyenv/versions/3.11.1/lib/python3.11/encodings/aliases.py\": 1716061060.5232508, \"/Users/ft14968/.pyenv/versions/3.11.1/lib/python3.11/encodings/__init__.py\": 1716061060.520605, \"/Users/ft14968/.pyenv/versions/3.11.1/lib/python3.11/encodings/utf_8.py\": 1716061061.3768034, \"/Users/ft14968/.pyenv/versions/3.11.1/lib/python3.11/abc.py\": 1716061059.2254992, \"/Users/ft14968/.pyenv/versions/3.11.1/lib/python3.11/io.py\": 1716061059.4591994, \"/Users/ft14968/.pyenv/versions/3.11.1/lib/python3.11/stat.py\": 1716061059.7052634, \"/Users/ft14968/.pyenv/versions/3.11.1/lib/python3.11/_collections_abc.py\": 1716061059.173277, \"/Users/ft14968/.pyenv/versions/3.11.1/lib/python3.11/genericpath.py\": 1716061059.4027395, \"/Users/ft14968/.pyenv/versions/3.11.1/lib/python3.11/posixpath.py\": 1716061059.5815105, \"/Users/ft14968/.pyenv/versions/3.11.1/lib/python3.11/os.py\": 1716061059.5309658, \"/Users/ft14968/.pyenv/versions/3.11.1/lib/python3.11/_sitebuiltins.py\": 1716061059.210073, \"/Users/ft14968/.pyenv/versions/3.11.1/lib/python3.11/__future__.py\": 1716061059.1587834, \"/Users/ft14968/.pyenv/versions/3.11.1/lib/python3.11/warnings.py\": 1716061059.8232028, \"/Users/ft14968/.pyenv/versions/3.11.1/lib/python3.11/importlib/__init__.py\": 1716061061.9578717, \"/Users/ft14968/.pyenv/versions/3.11.1/lib/python3.11/importlib/machinery.py\": 1716061061.9739954, \"/Users/ft14968/.pyenv/versions/3.11.1/lib/python3.11/importlib/_abc.py\": 1716061061.9607997, \"/Users/ft14968/.pyenv/versions/3.11.1/lib/python3.11/keyword.py\": 1716061059.4675593, \"/Users/ft14968/.pyenv/versions/3.11.1/lib/python3.11/operator.py\": 1716061059.5224, \"/Users/ft14968/.pyenv/versions/3.11.1/lib/python3.11/reprlib.py\": 1716061059.6291683, \"/Users/ft14968/.pyenv/versions/3.11.1/lib/python3.11/collections/__init__.py\": 1716061059.9626675, \"/Users/ft14968/.pyenv/versions/3.11.1/lib/python3.11/types.py\": 1716061059.8050392, \"/Users/ft14968/.pyenv/versions/3.11.1/lib/python3.11/functools.py\": 1716061059.4000704, \"/Users/ft14968/.pyenv/versions/3.11.1/lib/python3.11/contextlib.py\": 1716061059.3296156, \"/Users/ft14968/.pyenv/versions/3.11.1/lib/python3.11/importlib/util.py\": 1716061061.984366, \"/Users/ft14968/.pyenv/versions/3.11.1/lib/python3.11/enum.py\": 1716061059.3757281, \"/Users/ft14968/.pyenv/versions/3.11.1/lib/python3.11/re/_constants.py\": 1716061062.698879, \"/Users/ft14968/.pyenv/versions/3.11.1/lib/python3.11/re/_parser.py\": 1716061062.7015607, \"/Users/ft14968/.pyenv/versions/3.11.1/lib/python3.11/re/_casefix.py\": 1716061062.6938107, \"/Users/ft14968/.pyenv/versions/3.11.1/lib/python3.11/re/_compiler.py\": 1716061062.6965673, \"/Users/ft14968/.pyenv/versions/3.11.1/lib/python3.11/copyreg.py\": 1716061059.3381503, \"/Users/ft14968/.pyenv/versions/3.11.1/lib/python3.11/re/__init__.py\": 1716061062.6904452, \"/Users/ft14968/.pyenv/versions/3.11.1/lib/python3.11/fnmatch.py\": 1716061059.3882155, \"/Users/ft14968/.pyenv/versions/3.11.1/lib/python3.11/ntpath.py\": 1716061059.5095413, \"/Users/ft14968/.pyenv/versions/3.11.1/lib/python3.11/urllib/__init__.py\": 1716061062.9822893, \"/Users/ft14968/.pyenv/versions/3.11.1/lib/python3.11/urllib/parse.py\": 1716061062.989768, \"/Users/ft14968/.pyenv/versions/3.11.1/lib/python3.11/pathlib.py\": 1716061059.5337198, \"/Users/ft14968/.pyenv/versions/3.11.1/lib/python3.11/site-packages/__editable___compdismatter_0_1_0_finder.py\": 1744801661.6628819, \"/Users/ft14968/.pyenv/versions/3.11.1/lib/python3.11/site-packages/_distutils_hack/__init__.py\": 1741966304.0409324, \"/Users/ft14968/.pyenv/versions/3.11.1/lib/python3.11/site.py\": 1716061059.664695, \"/Users/ft14968/.pyenv/versions/3.11.1/lib/python3.11/runpy.py\": 1716061059.636652, \"/Users/ft14968/.pyenv/versions/3.11.1/lib/python3.11/collections/abc.py\": 1716061059.9654276, \"/Users/ft14968/.pyenv/versions/3.11.1/lib/python3.11/lib-dynload/_typing.cpython-311-darwin.so\": 1716061038.0, \"/Users/ft14968/.pyenv/versions/3.11.1/lib/python3.11/typing.py\": 1716061059.808466, \"/Users/ft14968/.pyenv/versions/3.11.1/lib/python3.11/site-packages/ipykernel/_version.py\": 1741966331.6575236, \"/Users/ft14968/.pyenv/versions/3.11.1/lib/python3.11/lib-dynload/_json.cpython-311-darwin.so\": 1716061038.0, \"/Users/ft14968/.pyenv/versions/3.11.1/lib/python3.11/json/scanner.py\": 1716061062.0848458, \"/Users/ft14968/.pyenv/versions/3.11.1/lib/python3.11/json/decoder.py\": 1716061062.0728185, \"/Users/ft14968/.pyenv/versions/3.11.1/lib/python3.11/json/encoder.py\": 1716061062.078212, \"/Users/ft14968/.pyenv/versions/3.11.1/lib/python3.11/json/__init__.py\": 1716061062.0678067, \"/Users/ft14968/.pyenv/versions/3.11.1/lib/python3.11/locale.py\": 1716061059.4731238, \"/Users/ft14968/.pyenv/versions/3.11.1/lib/python3.11/signal.py\": 1716061059.6620436, \"/Users/ft14968/.pyenv/versions/3.11.1/lib/python3.11/_weakrefset.py\": 1716061059.222703, \"/Users/ft14968/.pyenv/versions/3.11.1/lib/python3.11/threading.py\": 1716061059.7652678, \"/Users/ft14968/.pyenv/versions/3.11.1/lib/python3.11/lib-dynload/fcntl.cpython-311-darwin.so\": 1716061038.0, \"/Users/ft14968/.pyenv/versions/3.11.1/lib/python3.11/lib-dynload/_posixsubprocess.cpython-311-darwin.so\": 1716061039.0, \"/Users/ft14968/.pyenv/versions/3.11.1/lib/python3.11/lib-dynload/select.cpython-311-darwin.so\": 1716061039.0, \"/Users/ft14968/.pyenv/versions/3.11.1/lib/python3.11/lib-dynload/math.cpython-311-darwin.so\": 1716061038.0, \"/Users/ft14968/.pyenv/versions/3.11.1/lib/python3.11/selectors.py\": 1716061059.648985, \"/Users/ft14968/.pyenv/versions/3.11.1/lib/python3.11/subprocess.py\": 1716061059.7237668, \"/Users/ft14968/.pyenv/versions/3.11.1/lib/python3.11/site-packages/jupyter_client/_version.py\": 1741966328.8471825, \"/Users/ft14968/.pyenv/versions/3.11.1/lib/python3.11/platform.py\": 1716061059.5683131, \"/Users/ft14968/.pyenv/versions/3.11.1/lib/python3.11/site-packages/zmq/backend/select.py\": 1741966306.8985233, \"/Users/ft14968/.pyenv/versions/3.11.1/lib/python3.11/weakref.py\": 1716061059.8331306, \"/Users/ft14968/.pyenv/versions/3.11.1/lib/python3.11/site-packages/zmq/constants.py\": 1741966306.8856795, \"/Users/ft14968/.pyenv/versions/3.11.1/lib/python3.11/site-packages/zmq/error.py\": 1741966306.8849235, \"/Users/ft14968/.pyenv/versions/3.11.1/lib/python3.11/site-packages/zmq/backend/cython/_zmq.cpython-311-darwin.so\": 1741966306.9063408, \"/Users/ft14968/.pyenv/versions/3.11.1/lib/python3.11/site-packages/zmq/backend/cython/__init__.py\": 1741966306.9033842, \"/Users/ft14968/.pyenv/versions/3.11.1/lib/python3.11/site-packages/zmq/backend/__init__.py\": 1741966306.8976715, \"/Users/ft14968/.pyenv/versions/3.11.1/lib/python3.11/site-packages/zmq/_typing.py\": 1741966306.884593, \"/Users/ft14968/.pyenv/versions/3.11.1/lib/python3.11/site-packages/zmq/utils/__init__.py\": 1741966306.8947513, \"/Users/ft14968/.pyenv/versions/3.11.1/lib/python3.11/site-packages/zmq/utils/interop.py\": 1741966306.8952422, \"/Users/ft14968/.pyenv/versions/3.11.1/lib/python3.11/site-packages/zmq/sugar/attrsettr.py\": 1741966306.890335, \"/Users/ft14968/.pyenv/versions/3.11.1/lib/python3.11/lib-dynload/_struct.cpython-311-darwin.so\": 1716061038.0, \"/Users/ft14968/.pyenv/versions/3.11.1/lib/python3.11/struct.py\": 1716061059.7211916, \"/Users/ft14968/.pyenv/versions/3.11.1/lib/python3.11/_compat_pickle.py\": 1716061059.1759598, \"/Users/ft14968/.pyenv/versions/3.11.1/lib/python3.11/lib-dynload/_pickle.cpython-311-darwin.so\": 1716061039.0, \"/Users/ft14968/.pyenv/versions/3.11.1/lib/python3.11/pickle.py\": 1716061059.545637, \"/Users/ft14968/.pyenv/versions/3.11.1/lib/python3.11/lib-dynload/_bisect.cpython-311-darwin.so\": 1716061038.0, \"/Users/ft14968/.pyenv/versions/3.11.1/lib/python3.11/bisect.py\": 1716061059.2660403, \"/Users/ft14968/.pyenv/versions/3.11.1/lib/python3.11/lib-dynload/_random.cpython-311-darwin.so\": 1716061038.0, \"/Users/ft14968/.pyenv/versions/3.11.1/lib/python3.11/lib-dynload/_sha512.cpython-311-darwin.so\": 1716061039.0, \"/Users/ft14968/.pyenv/versions/3.11.1/lib/python3.11/random.py\": 1716061059.626433, \"/Users/ft14968/.pyenv/versions/3.11.1/lib/python3.11/site-packages/zmq/utils/jsonapi.py\": 1741966306.8956096, \"/Users/ft14968/.pyenv/versions/3.11.1/lib/python3.11/site-packages/zmq/sugar/poll.py\": 1741966306.8914864, \"/Users/ft14968/.pyenv/versions/3.11.1/lib/python3.11/site-packages/zmq/sugar/socket.py\": 1741966306.8917177, \"/Users/ft14968/.pyenv/versions/3.11.1/lib/python3.11/site-packages/zmq/sugar/context.py\": 1741966306.8908563, \"/Users/ft14968/.pyenv/versions/3.11.1/lib/python3.11/site-packages/zmq/sugar/frame.py\": 1741966306.891127, \"/Users/ft14968/.pyenv/versions/3.11.1/lib/python3.11/site-packages/zmq/sugar/tracker.py\": 1741966306.8912969, \"/Users/ft14968/.pyenv/versions/3.11.1/lib/python3.11/site-packages/zmq/sugar/version.py\": 1741966306.8900292, \"/Users/ft14968/.pyenv/versions/3.11.1/lib/python3.11/site-packages/zmq/sugar/stopwatch.py\": 1741966306.8906152, \"/Users/ft14968/.pyenv/versions/3.11.1/lib/python3.11/site-packages/zmq/sugar/__init__.py\": 1741966306.8904753, \"/Users/ft14968/.pyenv/versions/3.11.1/lib/python3.11/site-packages/zmq/__init__.py\": 1741966306.885801, \"/Users/ft14968/.pyenv/versions/3.11.1/lib/python3.11/concurrent/__init__.py\": 1716061059.9706404, \"/Users/ft14968/.pyenv/versions/3.11.1/lib/python3.11/token.py\": 1716061059.7733228, \"/Users/ft14968/.pyenv/versions/3.11.1/lib/python3.11/tokenize.py\": 1716061059.7760863, \"/Users/ft14968/.pyenv/versions/3.11.1/lib/python3.11/linecache.py\": 1716061059.4702873, \"/Users/ft14968/.pyenv/versions/3.11.1/lib/python3.11/textwrap.py\": 1716061059.7584748, \"/Users/ft14968/.pyenv/versions/3.11.1/lib/python3.11/traceback.py\": 1716061059.7838674, \"/Users/ft14968/.pyenv/versions/3.11.1/lib/python3.11/string.py\": 1716061059.7137482, \"/Users/ft14968/.pyenv/versions/3.11.1/lib/python3.11/logging/__init__.py\": 1716061062.5090797, \"/Users/ft14968/.pyenv/versions/3.11.1/lib/python3.11/concurrent/futures/_base.py\": 1716061059.9786777, \"/Users/ft14968/.pyenv/versions/3.11.1/lib/python3.11/concurrent/futures/__init__.py\": 1716061059.9759486, \"/Users/ft14968/.pyenv/versions/3.11.1/lib/python3.11/lib-dynload/_heapq.cpython-311-darwin.so\": 1716061038.0, \"/Users/ft14968/.pyenv/versions/3.11.1/lib/python3.11/heapq.py\": 1716061059.4329584, \"/Users/ft14968/.pyenv/versions/3.11.1/lib/python3.11/lib-dynload/_socket.cpython-311-darwin.so\": 1716061039.0, \"/Users/ft14968/.pyenv/versions/3.11.1/lib/python3.11/lib-dynload/array.cpython-311-darwin.so\": 1716061038.0, \"/Users/ft14968/.pyenv/versions/3.11.1/lib/python3.11/socket.py\": 1716061059.682772, \"/Users/ft14968/.pyenv/versions/3.11.1/lib/python3.11/lib-dynload/_ssl.cpython-311-darwin.so\": 1716061040.0, \"/Users/ft14968/.pyenv/versions/3.11.1/lib/python3.11/lib-dynload/binascii.cpython-311-darwin.so\": 1716061040.0, \"/Users/ft14968/.pyenv/versions/3.11.1/lib/python3.11/base64.py\": 1716061059.2562845, \"/Users/ft14968/.pyenv/versions/3.11.1/lib/python3.11/ssl.py\": 1716061059.702762, \"/Users/ft14968/.pyenv/versions/3.11.1/lib/python3.11/asyncio/constants.py\": 1716061059.8831348, \"/Users/ft14968/.pyenv/versions/3.11.1/lib/python3.11/ast.py\": 1716061059.2408285, \"/Users/ft14968/.pyenv/versions/3.11.1/lib/python3.11/lib-dynload/_opcode.cpython-311-darwin.so\": 1716061038.0, \"/Users/ft14968/.pyenv/versions/3.11.1/lib/python3.11/opcode.py\": 1716061059.5195458, \"/Users/ft14968/.pyenv/versions/3.11.1/lib/python3.11/dis.py\": 1716061059.3663175, \"/Users/ft14968/.pyenv/versions/3.11.1/lib/python3.11/inspect.py\": 1716061059.456508, \"/Users/ft14968/.pyenv/versions/3.11.1/lib/python3.11/asyncio/coroutines.py\": 1716061059.885899, \"/Users/ft14968/.pyenv/versions/3.11.1/lib/python3.11/lib-dynload/_contextvars.cpython-311-darwin.so\": 1716061038.0, \"/Users/ft14968/.pyenv/versions/3.11.1/lib/python3.11/contextvars.py\": 1716061059.332496, \"/Users/ft14968/.pyenv/versions/3.11.1/lib/python3.11/asyncio/format_helpers.py\": 1716061059.8930044, \"/Users/ft14968/.pyenv/versions/3.11.1/lib/python3.11/asyncio/base_futures.py\": 1716061059.8747168, \"/Users/ft14968/.pyenv/versions/3.11.1/lib/python3.11/asyncio/exceptions.py\": 1716061059.8908372, \"/Users/ft14968/.pyenv/versions/3.11.1/lib/python3.11/asyncio/base_tasks.py\": 1716061059.880439, \"/Users/ft14968/.pyenv/versions/3.11.1/lib/python3.11/lib-dynload/_asyncio.cpython-311-darwin.so\": 1716061038.0, \"/Users/ft14968/.pyenv/versions/3.11.1/lib/python3.11/asyncio/events.py\": 1716061059.888302, \"/Users/ft14968/.pyenv/versions/3.11.1/lib/python3.11/asyncio/futures.py\": 1716061059.8952897, \"/Users/ft14968/.pyenv/versions/3.11.1/lib/python3.11/asyncio/protocols.py\": 1716061059.910936, \"/Users/ft14968/.pyenv/versions/3.11.1/lib/python3.11/asyncio/transports.py\": 1716061059.9422748, \"/Users/ft14968/.pyenv/versions/3.11.1/lib/python3.11/asyncio/log.py\": 1716061059.900639, \"/Users/ft14968/.pyenv/versions/3.11.1/lib/python3.11/asyncio/sslproto.py\": 1716061059.921454, \"/Users/ft14968/.pyenv/versions/3.11.1/lib/python3.11/asyncio/mixins.py\": 1716061059.9031422, \"/Users/ft14968/.pyenv/versions/3.11.1/lib/python3.11/asyncio/tasks.py\": 1716061059.9344614, \"/Users/ft14968/.pyenv/versions/3.11.1/lib/python3.11/asyncio/locks.py\": 1716061059.8978152, \"/Users/ft14968/.pyenv/versions/3.11.1/lib/python3.11/asyncio/staggered.py\": 1716061059.9242065, \"/Users/ft14968/.pyenv/versions/3.11.1/lib/python3.11/asyncio/trsock.py\": 1716061059.9445536, \"/Users/ft14968/.pyenv/versions/3.11.1/lib/python3.11/asyncio/base_events.py\": 1716061059.8717134, \"/Users/ft14968/.pyenv/versions/3.11.1/lib/python3.11/asyncio/runners.py\": 1716061059.916224, \"/Users/ft14968/.pyenv/versions/3.11.1/lib/python3.11/asyncio/queues.py\": 1716061059.9134398, \"/Users/ft14968/.pyenv/versions/3.11.1/lib/python3.11/asyncio/streams.py\": 1716061059.926572, \"/Users/ft14968/.pyenv/versions/3.11.1/lib/python3.11/asyncio/subprocess.py\": 1716061059.9291396, \"/Users/ft14968/.pyenv/versions/3.11.1/lib/python3.11/asyncio/taskgroups.py\": 1716061059.9317431, \"/Users/ft14968/.pyenv/versions/3.11.1/lib/python3.11/asyncio/timeouts.py\": 1716061059.9398034, \"/Users/ft14968/.pyenv/versions/3.11.1/lib/python3.11/asyncio/threads.py\": 1716061059.9370184, \"/Users/ft14968/.pyenv/versions/3.11.1/lib/python3.11/asyncio/base_subprocess.py\": 1716061059.8772323, \"/Users/ft14968/.pyenv/versions/3.11.1/lib/python3.11/asyncio/selector_events.py\": 1716061059.9186065, \"/Users/ft14968/.pyenv/versions/3.11.1/lib/python3.11/asyncio/unix_events.py\": 1716061059.9472961, \"/Users/ft14968/.pyenv/versions/3.11.1/lib/python3.11/asyncio/__init__.py\": 1716061059.8639803, \"/Users/ft14968/.pyenv/versions/3.11.1/lib/python3.11/site-packages/zmq/_future.py\": 1741966306.885231, \"/Users/ft14968/.pyenv/versions/3.11.1/lib/python3.11/site-packages/zmq/asyncio.py\": 1741966306.8855333, \"/Users/ft14968/.pyenv/versions/3.11.1/lib/python3.11/site-packages/traitlets/utils/__init__.py\": 1741966299.670051, \"/Users/ft14968/.pyenv/versions/3.11.1/lib/python3.11/site-packages/traitlets/utils/bunch.py\": 1741966299.6701903, \"/Users/ft14968/.pyenv/versions/3.11.1/lib/python3.11/site-packages/traitlets/utils/descriptions.py\": 1741966299.6706445, \"/Users/ft14968/.pyenv/versions/3.11.1/lib/python3.11/site-packages/traitlets/utils/getargspec.py\": 1741966299.670811, \"/Users/ft14968/.pyenv/versions/3.11.1/lib/python3.11/site-packages/traitlets/utils/importstring.py\": 1741966299.6709533, \"/Users/ft14968/.pyenv/versions/3.11.1/lib/python3.11/site-packages/traitlets/utils/sentinel.py\": 1741966299.6713486, \"/Users/ft14968/.pyenv/versions/3.11.1/lib/python3.11/site-packages/traitlets/utils/warnings.py\": 1741966299.6716506, \"/Users/ft14968/.pyenv/versions/3.11.1/lib/python3.11/site-packages/traitlets/traitlets.py\": 1741966299.667864, \"/Users/ft14968/.pyenv/versions/3.11.1/lib/python3.11/site-packages/traitlets/_version.py\": 1741966299.6673129, \"/Users/ft14968/.pyenv/versions/3.11.1/lib/python3.11/copy.py\": 1716061059.3354127, \"/Users/ft14968/.pyenv/versions/3.11.1/lib/python3.11/site-packages/traitlets/utils/decorators.py\": 1741966299.6703207, \"/Users/ft14968/.pyenv/versions/3.11.1/lib/python3.11/site-packages/traitlets/__init__.py\": 1741966299.6671238, \"/Users/ft14968/.pyenv/versions/3.11.1/lib/python3.11/lib-dynload/_queue.cpython-311-darwin.so\": 1716061038.0, \"/Users/ft14968/.pyenv/versions/3.11.1/lib/python3.11/queue.py\": 1716061059.6190948, \"/Users/ft14968/.pyenv/versions/3.11.1/lib/python3.11/site-packages/jupyter_core/version.py\": 1741966323.3333266, \"/Users/ft14968/.pyenv/versions/3.11.1/lib/python3.11/site-packages/jupyter_core/__init__.py\": 1741966323.3317544, \"/Users/ft14968/.pyenv/versions/3.11.1/lib/python3.11/site-packages/jupyter_core/utils/__init__.py\": 1741966323.3335314, \"/Users/ft14968/.pyenv/versions/3.11.1/lib/python3.11/site-packages/jupyter_client/channelsabc.py\": 1741966328.8477323, \"/Users/ft14968/.pyenv/versions/3.11.1/lib/python3.11/lib-dynload/_hashlib.cpython-311-darwin.so\": 1716061039.0, \"/Users/ft14968/.pyenv/versions/3.11.1/lib/python3.11/lib-dynload/_blake2.cpython-311-darwin.so\": 1716061040.0, \"/Users/ft14968/.pyenv/versions/3.11.1/lib/python3.11/hashlib.py\": 1716061059.4304767, \"/Users/ft14968/.pyenv/versions/3.11.1/lib/python3.11/hmac.py\": 1716061059.437412, \"/Users/ft14968/.pyenv/versions/3.11.1/lib/python3.11/dataclasses.py\": 1716061059.3506813, \"/Users/ft14968/.pyenv/versions/3.11.1/lib/python3.11/pprint.py\": 1716061059.5844245, \"/Users/ft14968/.pyenv/versions/3.11.1/lib/python3.11/lib-dynload/_datetime.cpython-311-darwin.so\": 1716061038.0, \"/Users/ft14968/.pyenv/versions/3.11.1/lib/python3.11/datetime.py\": 1716061059.35331, \"/Users/ft14968/.pyenv/versions/3.11.1/lib/python3.11/site-packages/tornado/__init__.py\": 1741966299.780376, \"/Users/ft14968/.pyenv/versions/3.11.1/lib/python3.11/numbers.py\": 1716061059.5168033, \"/Users/ft14968/.pyenv/versions/3.11.1/lib/python3.11/logging/handlers.py\": 1716061062.521003, \"/Users/ft14968/.pyenv/versions/3.11.1/lib/python3.11/html/entities.py\": 1716061061.429328, \"/Users/ft14968/.pyenv/versions/3.11.1/lib/python3.11/html/__init__.py\": 1716061061.426226, \"/Users/ft14968/.pyenv/versions/3.11.1/lib/python3.11/lib-dynload/zlib.cpython-311-darwin.so\": 1716061040.0, \"/Users/ft14968/.pyenv/versions/3.11.1/lib/python3.11/site-packages/tornado/speedups.abi3.so\": 1741966299.7841249, \"/Users/ft14968/.pyenv/versions/3.11.1/lib/python3.11/site-packages/tornado/util.py\": 1741966299.7796867, \"/Users/ft14968/.pyenv/versions/3.11.1/lib/python3.11/site-packages/tornado/escape.py\": 1741966299.7773416, \"/Users/ft14968/.local/lib/python3.11/site-packages/colorama/ansi.py\": 1720542607.153761, \"/Users/ft14968/.pyenv/versions/3.11.1/lib/python3.11/lib-dynload/_ctypes.cpython-311-darwin.so\": 1716061041.0, \"/Users/ft14968/.pyenv/versions/3.11.1/lib/python3.11/ctypes/_endian.py\": 1716061060.0038939, \"/Users/ft14968/.pyenv/versions/3.11.1/lib/python3.11/ctypes/__init__.py\": 1716061059.9941182, \"/Users/ft14968/.local/lib/python3.11/site-packages/colorama/win32.py\": 1720542607.1545868, \"/Users/ft14968/.local/lib/python3.11/site-packages/colorama/winterm.py\": 1720542607.1548429, \"/Users/ft14968/.local/lib/python3.11/site-packages/colorama/ansitowin32.py\": 1720542607.1541002, \"/Users/ft14968/.local/lib/python3.11/site-packages/colorama/initialise.py\": 1720542607.1543179, \"/Users/ft14968/.local/lib/python3.11/site-packages/colorama/__init__.py\": 1720542607.1535215, \"/Users/ft14968/.pyenv/versions/3.11.1/lib/python3.11/lib-dynload/_curses.cpython-311-darwin.so\": 1716061039.0, \"/Users/ft14968/.pyenv/versions/3.11.1/lib/python3.11/curses/__init__.py\": 1716061060.0526962, \"/Users/ft14968/.pyenv/versions/3.11.1/lib/python3.11/site-packages/tornado/log.py\": 1741966299.7793252, \"/Users/ft14968/.pyenv/versions/3.11.1/lib/python3.11/site-packages/tornado/concurrent.py\": 1741966299.777083, \"/Users/ft14968/.pyenv/versions/3.11.1/lib/python3.11/site-packages/tornado/ioloop.py\": 1741966299.7810388, \"/Users/ft14968/.pyenv/versions/3.11.1/lib/python3.11/socketserver.py\": 1716061059.6880703, \"/Users/ft14968/.pyenv/versions/3.11.1/lib/python3.11/logging/config.py\": 1716061062.514769, \"/Users/ft14968/.pyenv/versions/3.11.1/lib/python3.11/site-packages/traitlets/utils/text.py\": 1741966299.6715014, \"/Users/ft14968/.pyenv/versions/3.11.1/lib/python3.11/gettext.py\": 1716061059.412928, \"/Users/ft14968/.pyenv/versions/3.11.1/lib/python3.11/argparse.py\": 1716061059.2381978, \"/Users/ft14968/.pyenv/versions/3.11.1/lib/python3.11/site-packages/traitlets/config/loader.py\": 1741966299.66898, \"/Users/ft14968/.pyenv/versions/3.11.1/lib/python3.11/site-packages/traitlets/config/configurable.py\": 1741966299.6687799, \"/Users/ft14968/.pyenv/versions/3.11.1/lib/python3.11/site-packages/traitlets/utils/nested_update.py\": 1741966299.6711485, \"/Users/ft14968/.pyenv/versions/3.11.1/lib/python3.11/site-packages/traitlets/config/application.py\": 1741966299.6683407, \"/Users/ft14968/.pyenv/versions/3.11.1/lib/python3.11/site-packages/traitlets/config/__init__.py\": 1741966299.6680837, \"/Users/ft14968/.pyenv/versions/3.11.1/lib/python3.11/site-packages/traitlets/log.py\": 1741966299.667482, \"/Users/ft14968/.pyenv/versions/3.11.1/lib/python3.11/site-packages/zmq/eventloop/__init__.py\": 1741966306.9132807, \"/Users/ft14968/.pyenv/versions/3.11.1/lib/python3.11/site-packages/zmq/eventloop/zmqstream.py\": 1741966306.913721, \"/Users/ft14968/.pyenv/versions/3.11.1/lib/python3.11/site-packages/jupyter_client/adapter.py\": 1741966328.847381, \"/Users/ft14968/.pyenv/versions/3.11.1/lib/python3.11/site-packages/dateutil/_version.py\": 1741966321.2862775, \"/Users/ft14968/.pyenv/versions/3.11.1/lib/python3.11/site-packages/dateutil/__init__.py\": 1741966321.285983, \"/Users/ft14968/.pyenv/versions/3.11.1/lib/python3.11/calendar.py\": 1716061059.2802725, \"/Users/ft14968/.pyenv/versions/3.11.1/lib/python3.11/site-packages/six.py\": 1741966302.0567846, \"/Users/ft14968/.pyenv/versions/3.11.1/lib/python3.11/lib-dynload/_decimal.cpython-311-darwin.so\": 1716061041.0, \"/Users/ft14968/.pyenv/versions/3.11.1/lib/python3.11/decimal.py\": 1716061059.3570523, \"/Users/ft14968/.pyenv/versions/3.11.1/lib/python3.11/site-packages/dateutil/_common.py\": 1741966321.286135, \"/Users/ft14968/.pyenv/versions/3.11.1/lib/python3.11/site-packages/dateutil/relativedelta.py\": 1741966321.2866144, \"/Users/ft14968/.pyenv/versions/3.11.1/lib/python3.11/site-packages/dateutil/tz/_common.py\": 1741966321.2881992, \"/Users/ft14968/.pyenv/versions/3.11.1/lib/python3.11/site-packages/dateutil/tz/_factories.py\": 1741966321.2883372, \"/Users/ft14968/.pyenv/versions/3.11.1/lib/python3.11/site-packages/dateutil/tz/tz.py\": 1741966321.2885392, \"/Users/ft14968/.pyenv/versions/3.11.1/lib/python3.11/site-packages/dateutil/tz/__init__.py\": 1741966321.2879906, \"/Users/ft14968/.pyenv/versions/3.11.1/lib/python3.11/site-packages/dateutil/parser/_parser.py\": 1741966321.2876124, \"/Users/ft14968/.pyenv/versions/3.11.1/lib/python3.11/site-packages/dateutil/parser/isoparser.py\": 1741966321.2878509, \"/Users/ft14968/.pyenv/versions/3.11.1/lib/python3.11/site-packages/dateutil/parser/__init__.py\": 1741966321.287398, \"/Users/ft14968/.pyenv/versions/3.11.1/lib/python3.11/_strptime.py\": 1716061059.215093, \"/Users/ft14968/.pyenv/versions/3.11.1/lib/python3.11/site-packages/jupyter_client/jsonutil.py\": 1741966328.848641, \"/Users/ft14968/.pyenv/versions/3.11.1/lib/python3.11/site-packages/jupyter_client/session.py\": 1741966328.8514516, \"/Users/ft14968/.pyenv/versions/3.11.1/lib/python3.11/site-packages/jupyter_client/channels.py\": 1741966328.8475907, \"/Users/ft14968/.pyenv/versions/3.11.1/lib/python3.11/lib-dynload/termios.cpython-311-darwin.so\": 1716061039.0, \"/Users/ft14968/.pyenv/versions/3.11.1/lib/python3.11/getpass.py\": 1716061059.4098403, \"/Users/ft14968/.pyenv/versions/3.11.1/lib/python3.11/site-packages/jupyter_client/clientabc.py\": 1741966328.8480442, \"/Users/ft14968/.pyenv/versions/3.11.1/lib/python3.11/glob.py\": 1716061059.415429, \"/Users/ft14968/.pyenv/versions/3.11.1/lib/python3.11/_compression.py\": 1716061059.1787517, \"/Users/ft14968/.pyenv/versions/3.11.1/lib/python3.11/lib-dynload/_bz2.cpython-311-darwin.so\": 1716061040.0, \"/Users/ft14968/.pyenv/versions/3.11.1/lib/python3.11/bz2.py\": 1716061059.269611, \"/Users/ft14968/.pyenv/versions/3.11.1/lib/python3.11/lib-dynload/_lzma.cpython-311-darwin.so\": 1716061040.0, \"/Users/ft14968/.pyenv/versions/3.11.1/lib/python3.11/lzma.py\": 1716061059.4759243, \"/Users/ft14968/.pyenv/versions/3.11.1/lib/python3.11/shutil.py\": 1716061059.6594555, \"/Users/ft14968/.pyenv/versions/3.11.1/lib/python3.11/tempfile.py\": 1716061059.7556803, \"/Users/ft14968/.pyenv/versions/3.11.1/lib/python3.11/site-packages/platformdirs/api.py\": 1741966308.6871653, \"/Users/ft14968/.pyenv/versions/3.11.1/lib/python3.11/site-packages/platformdirs/version.py\": 1741966308.6877677, \"/Users/ft14968/.pyenv/versions/3.11.1/lib/python3.11/site-packages/platformdirs/macos.py\": 1741966308.6873436, \"/Users/ft14968/.pyenv/versions/3.11.1/lib/python3.11/site-packages/platformdirs/__init__.py\": 1741966308.6866496, \"/Users/ft14968/.pyenv/versions/3.11.1/lib/python3.11/site-packages/jupyter_core/paths.py\": 1741966323.3328147, \"/Users/ft14968/.pyenv/versions/3.11.1/lib/python3.11/site-packages/jupyter_client/localinterfaces.py\": 1741966328.8495162, \"/Users/ft14968/.pyenv/versions/3.11.1/lib/python3.11/site-packages/jupyter_client/utils.py\": 1741966328.852132, \"/Users/ft14968/.pyenv/versions/3.11.1/lib/python3.11/site-packages/jupyter_client/connect.py\": 1741966328.848227, \"/Users/ft14968/.pyenv/versions/3.11.1/lib/python3.11/site-packages/jupyter_client/client.py\": 1741966328.847896, \"/Users/ft14968/.pyenv/versions/3.11.1/lib/python3.11/site-packages/jupyter_client/asynchronous/client.py\": 1741966328.852685, \"/Users/ft14968/.pyenv/versions/3.11.1/lib/python3.11/site-packages/jupyter_client/asynchronous/__init__.py\": 1741966328.8525121, \"/Users/ft14968/.pyenv/versions/3.11.1/lib/python3.11/site-packages/jupyter_client/blocking/client.py\": 1741966328.853062, \"/Users/ft14968/.pyenv/versions/3.11.1/lib/python3.11/site-packages/jupyter_client/blocking/__init__.py\": 1741966328.8528912, \"/Users/ft14968/.pyenv/versions/3.11.1/lib/python3.11/site-packages/jupyter_client/launcher.py\": 1741966328.8493354, \"/Users/ft14968/.pyenv/versions/3.11.1/lib/python3.11/lib-dynload/_uuid.cpython-311-darwin.so\": 1716061040.0, \"/Users/ft14968/.pyenv/versions/3.11.1/lib/python3.11/uuid.py\": 1716061059.8189871, \"/Users/ft14968/.pyenv/versions/3.11.1/lib/python3.11/lib-dynload/_csv.cpython-311-darwin.so\": 1716061039.0, \"/Users/ft14968/.pyenv/versions/3.11.1/lib/python3.11/csv.py\": 1716061059.3475308, \"/Users/ft14968/.pyenv/versions/3.11.1/lib/python3.11/email/__init__.py\": 1716061060.306103, \"/Users/ft14968/.pyenv/versions/3.11.1/lib/python3.11/zipfile.py\": 1716061059.851063, \"/Users/ft14968/.pyenv/versions/3.11.1/lib/python3.11/quopri.py\": 1716061059.6236382, \"/Users/ft14968/.pyenv/versions/3.11.1/lib/python3.11/email/_parseaddr.py\": 1716061060.3273172, \"/Users/ft14968/.pyenv/versions/3.11.1/lib/python3.11/email/base64mime.py\": 1716061060.3475108, \"/Users/ft14968/.pyenv/versions/3.11.1/lib/python3.11/email/quoprimime.py\": 1716061060.4404194, \"/Users/ft14968/.pyenv/versions/3.11.1/lib/python3.11/email/errors.py\": 1716061060.373166, \"/Users/ft14968/.pyenv/versions/3.11.1/lib/python3.11/email/encoders.py\": 1716061060.367182, \"/Users/ft14968/.pyenv/versions/3.11.1/lib/python3.11/email/charset.py\": 1716061060.354127, \"/Users/ft14968/.pyenv/versions/3.11.1/lib/python3.11/email/utils.py\": 1716061060.4486048, \"/Users/ft14968/.pyenv/versions/3.11.1/lib/python3.11/email/header.py\": 1716061060.3939745, \"/Users/ft14968/.pyenv/versions/3.11.1/lib/python3.11/email/_policybase.py\": 1716061060.3341174, \"/Users/ft14968/.pyenv/versions/3.11.1/lib/python3.11/email/_encoded_words.py\": 1716061060.3127263, \"/Users/ft14968/.pyenv/versions/3.11.1/lib/python3.11/email/iterators.py\": 1716061060.4071877, \"/Users/ft14968/.pyenv/versions/3.11.1/lib/python3.11/email/message.py\": 1716061060.415759, \"/Users/ft14968/.pyenv/versions/3.11.1/lib/python3.11/importlib/metadata/_functools.py\": 1716061062.041248, \"/Users/ft14968/.pyenv/versions/3.11.1/lib/python3.11/importlib/metadata/_text.py\": 1716061062.0567207, \"/Users/ft14968/.pyenv/versions/3.11.1/lib/python3.11/importlib/metadata/_adapters.py\": 1716061062.0322464, \"/Users/ft14968/.pyenv/versions/3.11.1/lib/python3.11/importlib/metadata/_meta.py\": 1716061062.0504775, \"/Users/ft14968/.pyenv/versions/3.11.1/lib/python3.11/importlib/metadata/_collections.py\": 1716061062.0365803, \"/Users/ft14968/.pyenv/versions/3.11.1/lib/python3.11/importlib/metadata/_itertools.py\": 1716061062.045829, \"/Users/ft14968/.pyenv/versions/3.11.1/lib/python3.11/importlib/resources/abc.py\": 1716061062.0120096, \"/Users/ft14968/.pyenv/versions/3.11.1/lib/python3.11/importlib/resources/_adapters.py\": 1716061061.995793, \"/Users/ft14968/.pyenv/versions/3.11.1/lib/python3.11/importlib/resources/_common.py\": 1716061062.0003293, \"/Users/ft14968/.pyenv/versions/3.11.1/lib/python3.11/importlib/resources/_legacy.py\": 1716061062.0092657, \"/Users/ft14968/.pyenv/versions/3.11.1/lib/python3.11/importlib/resources/__init__.py\": 1716061061.991022, \"/Users/ft14968/.pyenv/versions/3.11.1/lib/python3.11/importlib/abc.py\": 1716061061.9713542, \"/Users/ft14968/.pyenv/versions/3.11.1/lib/python3.11/importlib/metadata/__init__.py\": 1716061062.0277061, \"/Users/ft14968/.pyenv/versions/3.11.1/lib/python3.11/site-packages/jupyter_client/provisioning/provisioner_base.py\": 1741966328.8557496, \"/Users/ft14968/.pyenv/versions/3.11.1/lib/python3.11/site-packages/jupyter_client/provisioning/factory.py\": 1741966328.8548992, \"/Users/ft14968/.pyenv/versions/3.11.1/lib/python3.11/site-packages/jupyter_client/provisioning/local_provisioner.py\": 1741966328.8553085, \"/Users/ft14968/.pyenv/versions/3.11.1/lib/python3.11/site-packages/jupyter_client/provisioning/__init__.py\": 1741966328.854563, \"/Users/ft14968/.pyenv/versions/3.11.1/lib/python3.11/site-packages/jupyter_client/kernelspec.py\": 1741966328.8489306, \"/Users/ft14968/.pyenv/versions/3.11.1/lib/python3.11/site-packages/jupyter_client/managerabc.py\": 1741966328.8498135, \"/Users/ft14968/.pyenv/versions/3.11.1/lib/python3.11/site-packages/jupyter_client/manager.py\": 1741966328.849691, \"/Users/ft14968/.pyenv/versions/3.11.1/lib/python3.11/site-packages/jupyter_client/multikernelmanager.py\": 1741966328.8500683, \"/Users/ft14968/.pyenv/versions/3.11.1/lib/python3.11/site-packages/jupyter_client/__init__.py\": 1741966328.8470206, \"/Users/ft14968/.pyenv/versions/3.11.1/lib/python3.11/site-packages/ipykernel/connect.py\": 1741966331.6579933, \"/Users/ft14968/.pyenv/versions/3.11.1/lib/python3.11/site-packages/ipykernel/__init__.py\": 1741966331.656833, \"/Users/ft14968/.pyenv/versions/3.11.1/lib/python3.11/site-packages/IPython/core/__init__.py\": 1741966329.0680325, \"/Users/ft14968/.pyenv/versions/3.11.1/lib/python3.11/site-packages/IPython/core/getipython.py\": 1741966329.0736656, \"/Users/ft14968/.pyenv/versions/3.11.1/lib/python3.11/site-packages/IPython/core/release.py\": 1741966329.0795667, \"/Users/ft14968/.pyenv/versions/3.11.1/lib/python3.11/site-packages/executing/_exceptions.py\": 1741966315.3074164, \"/Users/ft14968/.pyenv/versions/3.11.1/lib/python3.11/site-packages/executing/_position_node_finder.py\": 1741966315.307599, \"/Users/ft14968/.pyenv/versions/3.11.1/lib/python3.11/site-packages/executing/executing.py\": 1741966315.307983, \"/Users/ft14968/.pyenv/versions/3.11.1/lib/python3.11/site-packages/executing/_pytest_utils.py\": 1741966315.3077514, \"/Users/ft14968/.pyenv/versions/3.11.1/lib/python3.11/site-packages/executing/version.py\": 1741966315.3082674, \"/Users/ft14968/.pyenv/versions/3.11.1/lib/python3.11/site-packages/executing/__init__.py\": 1741966315.3072739, \"/Users/ft14968/.pyenv/versions/3.11.1/lib/python3.11/site-packages/asttokens/line_numbers.py\": 1741966319.0256705, \"/Users/ft14968/.pyenv/versions/3.11.1/lib/python3.11/site-packages/asttokens/util.py\": 1741966319.0260994, \"/Users/ft14968/.pyenv/versions/3.11.1/lib/python3.11/site-packages/asttokens/asttokens.py\": 1741966319.0255198, \"/Users/ft14968/.pyenv/versions/3.11.1/lib/python3.11/site-packages/asttokens/__init__.py\": 1741966319.025179, \"/Users/ft14968/.pyenv/versions/3.11.1/lib/python3.11/fractions.py\": 1716061059.3923216, \"/Users/ft14968/.pyenv/versions/3.11.1/lib/python3.11/site-packages/pure_eval/utils.py\": 1741966297.1795318, \"/Users/ft14968/.pyenv/versions/3.11.1/lib/python3.11/site-packages/pure_eval/my_getattr_static.py\": 1741966297.1791148, \"/Users/ft14968/.pyenv/versions/3.11.1/lib/python3.11/site-packages/pure_eval/core.py\": 1741966297.178854, \"/Users/ft14968/.pyenv/versions/3.11.1/lib/python3.11/site-packages/pure_eval/version.py\": 1741966297.179698, \"/Users/ft14968/.pyenv/versions/3.11.1/lib/python3.11/site-packages/pure_eval/__init__.py\": 1741966297.1785266, \"/Users/ft14968/.pyenv/versions/3.11.1/lib/python3.11/site-packages/stack_data/utils.py\": 1741966319.1191382, \"/Users/ft14968/.pyenv/versions/3.11.1/lib/python3.11/site-packages/stack_data/core.py\": 1741966319.1183748, \"/Users/ft14968/.pyenv/versions/3.11.1/lib/python3.11/site-packages/stack_data/formatting.py\": 1741966319.118593, \"/Users/ft14968/.pyenv/versions/3.11.1/lib/python3.11/site-packages/stack_data/serializing.py\": 1741966319.1189294, \"/Users/ft14968/.pyenv/versions/3.11.1/lib/python3.11/site-packages/stack_data/version.py\": 1741966319.1192718, \"/Users/ft14968/.pyenv/versions/3.11.1/lib/python3.11/site-packages/stack_data/__init__.py\": 1741966319.118166, \"/Users/ft14968/.pyenv/versions/3.11.1/lib/python3.11/site-packages/pygments/__init__.py\": 1741966307.308948, \"/Users/ft14968/.pyenv/versions/3.11.1/lib/python3.11/site-packages/pygments/formatters/_mapping.py\": 1741966307.313408, \"/Users/ft14968/.pyenv/versions/3.11.1/lib/python3.11/site-packages/pygments/plugin.py\": 1741966307.3104131, \"/Users/ft14968/.pyenv/versions/3.11.1/lib/python3.11/site-packages/pygments/util.py\": 1741966307.312198, \"/Users/ft14968/.pyenv/versions/3.11.1/lib/python3.11/site-packages/pygments/formatters/__init__.py\": 1741966307.313207, \"/Users/ft14968/.pyenv/versions/3.11.1/lib/python3.11/site-packages/pygments/styles/_mapping.py\": 1741966307.428705, \"/Users/ft14968/.pyenv/versions/3.11.1/lib/python3.11/site-packages/pygments/styles/__init__.py\": 1741966307.4285204, \"/Users/ft14968/.pyenv/versions/3.11.1/lib/python3.11/site-packages/pygments/formatter.py\": 1741966307.3098514, \"/Users/ft14968/.pyenv/versions/3.11.1/lib/python3.11/site-packages/pygments/console.py\": 1741966307.309527, \"/Users/ft14968/.pyenv/versions/3.11.1/lib/python3.11/site-packages/pygments/token.py\": 1741966307.311388, \"/Users/ft14968/.pyenv/versions/3.11.1/lib/python3.11/site-packages/pygments/style.py\": 1741966307.311147, \"/Users/ft14968/.pyenv/versions/3.11.1/lib/python3.11/site-packages/pygments/formatters/terminal256.py\": 1741966307.316859, \"/Users/ft14968/.pyenv/versions/3.11.1/lib/python3.11/site-packages/IPython/utils/__init__.py\": 1741966329.1124163, \"/Users/ft14968/.pyenv/versions/3.11.1/lib/python3.11/shlex.py\": 1716061059.6566243, \"/Users/ft14968/.pyenv/versions/3.11.1/lib/python3.11/site-packages/IPython/utils/encoding.py\": 1741966329.1178215, \"/Users/ft14968/.pyenv/versions/3.11.1/lib/python3.11/site-packages/IPython/utils/py3compat.py\": 1741966329.1217227, \"/Users/ft14968/.pyenv/versions/3.11.1/lib/python3.11/site-packages/IPython/utils/_process_common.py\": 1741966329.1129694, \"/Users/ft14968/.pyenv/versions/3.11.1/lib/python3.11/site-packages/IPython/utils/_process_posix.py\": 1741966329.1137261, \"/Users/ft14968/.pyenv/versions/3.11.1/lib/python3.11/site-packages/IPython/utils/process.py\": 1741966329.12145, \"/Users/ft14968/.pyenv/versions/3.11.1/lib/python3.11/site-packages/IPython/utils/path.py\": 1741966329.1204755, \"/Users/ft14968/.pyenv/versions/3.11.1/lib/python3.11/site-packages/IPython/utils/PyColorize.py\": 1741966329.1121483, \"/Users/ft14968/.pyenv/versions/3.11.1/lib/python3.11/site-packages/IPython/utils/terminal.py\": 1741966329.1240559, \"/Users/ft14968/.pyenv/versions/3.11.1/lib/python3.11/site-packages/IPython/core/display_trap.py\": 1741966329.0716846, \"/Users/ft14968/.pyenv/versions/3.11.1/lib/python3.11/pkgutil.py\": 1716061059.562733, \"/Users/ft14968/.pyenv/versions/3.11.1/lib/python3.11/sysconfig.py\": 1716061059.736794, \"/Users/ft14968/.pyenv/versions/3.11.1/lib/python3.11/_sysconfigdata__darwin_darwin.py\": 1716061071.6773932, \"/Users/ft14968/.pyenv/versions/3.11.1/lib/python3.11/_osx_support.py\": 1716061059.1873064, \"/Users/ft14968/.pyenv/versions/3.11.1/lib/python3.11/pydoc.py\": 1716061059.615968, \"/Users/ft14968/.pyenv/versions/3.11.1/lib/python3.11/cmd.py\": 1716061059.3015523, \"/Users/ft14968/.pyenv/versions/3.11.1/lib/python3.11/bdb.py\": 1716061059.2627563, \"/Users/ft14968/.pyenv/versions/3.11.1/lib/python3.11/codeop.py\": 1716061059.3144052, \"/Users/ft14968/.pyenv/versions/3.11.1/lib/python3.11/code.py\": 1716061059.3068972, \"/Users/ft14968/.pyenv/versions/3.11.1/lib/python3.11/pdb.py\": 1716061059.5402, \"/Users/ft14968/.pyenv/versions/3.11.1/lib/python3.11/site-packages/IPython/core/debugger.py\": 1741966329.0707946, \"/Users/ft14968/.pyenv/versions/3.11.1/lib/python3.11/site-packages/IPython/core/tbtools.py\": 1741966329.0804935, \"/Users/ft14968/.pyenv/versions/3.11.1/lib/python3.11/site-packages/IPython/core/doctb.py\": 1741966329.072465, \"/Users/ft14968/.pyenv/versions/3.11.1/lib/python3.11/site-packages/IPython/core/ultratb.py\": 1741966329.0810745, \"/Users/ft14968/.pyenv/versions/3.11.1/lib/python3.11/site-packages/IPython/utils/_sysinfo.py\": 1741966329.1153903, \"/Users/ft14968/.pyenv/versions/3.11.1/lib/python3.11/site-packages/IPython/utils/sysinfo.py\": 1741966329.1232064, \"/Users/ft14968/.pyenv/versions/3.11.1/lib/python3.11/site-packages/IPython/core/crashhandler.py\": 1741966329.070354, \"/Users/ft14968/.pyenv/versions/3.11.1/lib/python3.11/site-packages/IPython/utils/importstring.py\": 1741966329.1187832, \"/Users/ft14968/.pyenv/versions/3.11.1/lib/python3.11/site-packages/IPython/paths.py\": 1741966329.0678155, \"/Users/ft14968/.pyenv/versions/3.11.1/lib/python3.11/site-packages/IPython/core/profiledir.py\": 1741966329.0791714, \"/Users/ft14968/.pyenv/versions/3.11.1/lib/python3.11/site-packages/IPython/core/application.py\": 1741966329.068546, \"/Users/ft14968/.pyenv/versions/3.11.1/lib/python3.11/site-packages/IPython/terminal/__init__.py\": 1741966329.0969038, \"/Users/ft14968/.pyenv/versions/3.11.1/lib/python3.11/site-packages/IPython/core/compilerop.py\": 1741966329.0694253, \"/Users/ft14968/.pyenv/versions/3.11.1/lib/python3.11/site-packages/IPython/core/error.py\": 1741966329.0727718, \"/Users/ft14968/.pyenv/versions/3.11.1/lib/python3.11/site-packages/IPython/utils/docs.py\": 1741966329.1175263, \"/Users/ft14968/.pyenv/versions/3.11.1/lib/python3.11/site-packages/IPython/utils/decorators.py\": 1741966329.1170623, \"/Users/ft14968/.pyenv/versions/3.11.1/lib/python3.11/site-packages/typing_extensions.py\": 1741966299.60409, \"/Users/ft14968/.pyenv/versions/3.11.1/lib/python3.11/site-packages/IPython/utils/text.py\": 1741966329.1245384, \"/Users/ft14968/.pyenv/versions/3.11.1/lib/python3.11/site-packages/IPython/core/magic_arguments.py\": 1741966329.0769005, \"/Users/ft14968/.pyenv/versions/3.11.1/lib/python3.11/getopt.py\": 1716061059.4051986, \"/Users/ft14968/.pyenv/versions/3.11.1/lib/python3.11/site-packages/IPython/core/display_functions.py\": 1741966329.0713372, \"/Users/ft14968/.pyenv/versions/3.11.1/lib/python3.11/mimetypes.py\": 1716061059.4917843, \"/Users/ft14968/.pyenv/versions/3.11.1/lib/python3.11/site-packages/IPython/testing/__init__.py\": 1741966329.1065037, \"/Users/ft14968/.pyenv/versions/3.11.1/lib/python3.11/site-packages/IPython/testing/skipdoctest.py\": 1741966329.1088352, \"/Users/ft14968/.pyenv/versions/3.11.1/lib/python3.11/site-packages/IPython/core/display.py\": 1741966329.0710742, \"/Users/ft14968/.pyenv/versions/3.11.1/lib/python3.11/site-packages/IPython/lib/__init__.py\": 1741966329.0926998, \"/Users/ft14968/.pyenv/versions/3.11.1/lib/python3.11/site-packages/IPython/lib/display.py\": 1741966329.093717, \"/Users/ft14968/.pyenv/versions/3.11.1/lib/python3.11/site-packages/IPython/display.py\": 1741966329.0674777, \"/Users/ft14968/.pyenv/versions/3.11.1/lib/python3.11/site-packages/IPython/utils/data.py\": 1741966329.1167068, \"/Users/ft14968/.pyenv/versions/3.11.1/lib/python3.11/site-packages/IPython/core/page.py\": 1741966329.0779533, \"/Users/ft14968/.pyenv/versions/3.11.1/lib/python3.11/site-packages/IPython/lib/pretty.py\": 1741966329.0952537, \"/Users/ft14968/.pyenv/versions/3.11.1/lib/python3.11/site-packages/IPython/utils/openpy.py\": 1741966329.1200244, \"/Users/ft14968/.pyenv/versions/3.11.1/lib/python3.11/site-packages/IPython/utils/dir2.py\": 1741966329.117356, \"/Users/ft14968/.pyenv/versions/3.11.1/lib/python3.11/site-packages/IPython/utils/wildcard.py\": 1741966329.1254463, \"/Users/ft14968/.pyenv/versions/3.11.1/lib/python3.11/site-packages/pygments/lexers/_mapping.py\": 1741966307.3259988, \"/Users/ft14968/.pyenv/versions/3.11.1/lib/python3.11/site-packages/pygments/modeline.py\": 1741966307.3102767, \"/Users/ft14968/.pyenv/versions/3.11.1/lib/python3.11/site-packages/pygments/lexers/__init__.py\": 1741966307.3174646, \"/Users/ft14968/.pyenv/versions/3.11.1/lib/python3.11/site-packages/pygments/filter.py\": 1741966307.3096733, \"/Users/ft14968/.pyenv/versions/3.11.1/lib/python3.11/site-packages/pygments/filters/__init__.py\": 1741966307.312955, \"/Users/ft14968/.pyenv/versions/3.11.1/lib/python3.11/site-packages/pygments/regexopt.py\": 1741966307.310539, \"/Users/ft14968/.pyenv/versions/3.11.1/lib/python3.11/site-packages/pygments/lexer.py\": 1741966307.3101344, \"/Users/ft14968/.pyenv/versions/3.11.1/lib/python3.11/site-packages/pygments/unistring.py\": 1741966307.311718, \"/Users/ft14968/.pyenv/versions/3.11.1/lib/python3.11/site-packages/pygments/lexers/python.py\": 1741966307.4035354, \"/Users/ft14968/.pyenv/versions/3.11.1/lib/python3.11/site-packages/pygments/formatters/html.py\": 1741966307.3140063, \"/Users/ft14968/.pyenv/versions/3.11.1/lib/python3.11/site-packages/IPython/core/oinspect.py\": 1741966329.0771077, \"/Users/ft14968/.pyenv/versions/3.11.1/lib/python3.11/site-packages/IPython/utils/tokenutil.py\": 1741966329.1251252, \"/Users/ft14968/.pyenv/versions/3.11.1/lib/python3.11/site-packages/IPython/core/inputtransformer2.py\": 1741966329.0752497, \"/Users/ft14968/.pyenv/versions/3.11.1/lib/python3.11/site-packages/IPython/utils/ipstruct.py\": 1741966329.1191854, \"/Users/ft14968/.pyenv/versions/3.11.1/lib/python3.11/site-packages/IPython/core/magic.py\": 1741966329.076596, \"/Users/ft14968/.pyenv/versions/3.11.1/lib/python3.11/site-packages/IPython/external/__init__.py\": 1741966329.0915449, \"/Users/ft14968/.pyenv/versions/3.11.1/lib/python3.11/site-packages/IPython/external/pickleshare.py\": 1741966329.0917687, \"/Users/ft14968/.pyenv/versions/3.11.1/lib/python3.11/site-packages/IPython/core/hooks.py\": 1741966329.0750535, \"/Users/ft14968/.pyenv/versions/3.11.1/lib/python3.11/site-packages/IPython/core/autocall.py\": 1741966329.0689237, \"/Users/ft14968/.pyenv/versions/3.11.1/lib/python3.11/site-packages/IPython/core/macro.py\": 1741966329.0761735, \"/Users/ft14968/.pyenv/versions/3.11.1/lib/python3.11/site-packages/IPython/core/splitinput.py\": 1741966329.0801764, \"/Users/ft14968/.pyenv/versions/3.11.1/lib/python3.11/site-packages/IPython/core/prefilter.py\": 1741966329.0787244, \"/Users/ft14968/.pyenv/versions/3.11.1/lib/python3.11/site-packages/IPython/core/alias.py\": 1741966329.068378, \"/Users/ft14968/.pyenv/versions/3.11.1/lib/python3.11/site-packages/IPython/core/builtin_trap.py\": 1741966329.069211, \"/Users/ft14968/.pyenv/versions/3.11.1/lib/python3.11/site-packages/IPython/core/displayhook.py\": 1741966329.071884, \"/Users/ft14968/.pyenv/versions/3.11.1/lib/python3.11/site-packages/IPython/core/displaypub.py\": 1741966329.0722473, \"/Users/ft14968/.pyenv/versions/3.11.1/lib/python3.11/site-packages/IPython/core/events.py\": 1741966329.0730307, \"/Users/ft14968/.pyenv/versions/3.11.1/lib/python3.11/site-packages/IPython/core/extensions.py\": 1741966329.0732749, \"/Users/ft14968/.pyenv/versions/3.11.1/lib/python3.11/site-packages/decorator.py\": 1741966317.2167165, \"/Users/ft14968/.pyenv/versions/3.11.1/lib/python3.11/site-packages/IPython/utils/sentinel.py\": 1741966329.1220806, \"/Users/ft14968/.pyenv/versions/3.11.1/lib/python3.11/site-packages/IPython/core/formatters.py\": 1741966329.0735133, \"/Users/ft14968/.pyenv/versions/3.11.1/lib/python3.11/lib-dynload/_sqlite3.cpython-311-darwin.so\": 1716061041.0, \"/Users/ft14968/.pyenv/versions/3.11.1/lib/python3.11/sqlite3/dbapi2.py\": 1716061062.7213104, \"/Users/ft14968/.pyenv/versions/3.11.1/lib/python3.11/sqlite3/__init__.py\": 1716061062.7160869, \"/Users/ft14968/.pyenv/versions/3.11.1/lib/python3.11/site-packages/IPython/core/history.py\": 1741966329.0741765, \"/Users/ft14968/.pyenv/versions/3.11.1/lib/python3.11/site-packages/IPython/core/logger.py\": 1741966329.076034, \"/Users/ft14968/.pyenv/versions/3.11.1/lib/python3.11/site-packages/IPython/core/payload.py\": 1741966329.0782573, \"/Users/ft14968/.pyenv/versions/3.11.1/lib/python3.11/site-packages/IPython/core/tips.py\": 1741966329.0808265, \"/Users/ft14968/.pyenv/versions/3.11.1/lib/python3.11/site-packages/IPython/core/usage.py\": 1741966329.081308, \"/Users/ft14968/.pyenv/versions/3.11.1/lib/python3.11/site-packages/IPython/utils/capture.py\": 1741966329.1159859, \"/Users/ft14968/.pyenv/versions/3.11.1/lib/python3.11/site-packages/IPython/utils/io.py\": 1741966329.118953, \"/Users/ft14968/.pyenv/versions/3.11.1/lib/python3.11/site-packages/IPython/utils/strdispatch.py\": 1741966329.122473, \"/Users/ft14968/.pyenv/versions/3.11.1/lib/python3.11/site-packages/IPython/utils/syspathcontext.py\": 1741966329.1234903, \"/Users/ft14968/.pyenv/versions/3.11.1/lib/python3.11/site-packages/IPython/core/async_helpers.py\": 1741966329.068778, \"/Users/ft14968/.pyenv/versions/3.11.1/lib/python3.11/site-packages/IPython/core/interactiveshell.py\": 1741966329.075633, \"/Users/ft14968/.pyenv/versions/3.11.1/lib/python3.11/site-packages/prompt_toolkit/application/current.py\": 1741966308.367049, \"/Users/ft14968/.pyenv/versions/3.11.1/lib/python3.11/site-packages/prompt_toolkit/eventloop/utils.py\": 1741966308.3784688, \"/Users/ft14968/.pyenv/versions/3.11.1/lib/python3.11/site-packages/prompt_toolkit/eventloop/async_generator.py\": 1741966308.377675, \"/Users/ft14968/.pyenv/versions/3.11.1/lib/python3.11/site-packages/prompt_toolkit/eventloop/inputhook.py\": 1741966308.3780978, \"/Users/ft14968/.pyenv/versions/3.11.1/lib/python3.11/site-packages/prompt_toolkit/eventloop/__init__.py\": 1741966308.3774705, \"/Users/ft14968/.pyenv/versions/3.11.1/lib/python3.11/site-packages/prompt_toolkit/application/run_in_terminal.py\": 1741966308.3682685, \"/Users/ft14968/.pyenv/versions/3.11.1/lib/python3.11/site-packages/prompt_toolkit/selection.py\": 1741966308.3651822, \"/Users/ft14968/.pyenv/versions/3.11.1/lib/python3.11/site-packages/prompt_toolkit/clipboard/base.py\": 1741966308.3688862, \"/Users/ft14968/.pyenv/versions/3.11.1/lib/python3.11/site-packages/prompt_toolkit/clipboard/in_memory.py\": 1741966308.3691864, \"/Users/ft14968/.pyenv/versions/3.11.1/lib/python3.11/site-packages/prompt_toolkit/clipboard/__init__.py\": 1741966308.3685622, \"/Users/ft14968/.pyenv/versions/3.11.1/lib/python3.11/site-packages/prompt_toolkit/cache.py\": 1741966308.362668, \"/Users/ft14968/.pyenv/versions/3.11.1/lib/python3.11/site-packages/prompt_toolkit/enums.py\": 1741966308.3634663, \"/Users/ft14968/.pyenv/versions/3.11.1/lib/python3.11/site-packages/prompt_toolkit/filters/base.py\": 1741966308.3803349, \"/Users/ft14968/.pyenv/versions/3.11.1/lib/python3.11/site-packages/prompt_toolkit/filters/app.py\": 1741966308.3799732, \"/Users/ft14968/.pyenv/versions/3.11.1/lib/python3.11/site-packages/prompt_toolkit/filters/cli.py\": 1741966308.3805547, \"/Users/ft14968/.pyenv/versions/3.11.1/lib/python3.11/site-packages/prompt_toolkit/filters/utils.py\": 1741966308.3807344, \"/Users/ft14968/.pyenv/versions/3.11.1/lib/python3.11/site-packages/prompt_toolkit/filters/__init__.py\": 1741966308.3793232, \"/Users/ft14968/.pyenv/versions/3.11.1/lib/python3.11/site-packages/prompt_toolkit/document.py\": 1741966308.3632848, \"/Users/ft14968/.pyenv/versions/3.11.1/lib/python3.11/site-packages/prompt_toolkit/auto_suggest.py\": 1741966308.361983, \"/Users/ft14968/.pyenv/versions/3.11.1/lib/python3.11/site-packages/prompt_toolkit/keys.py\": 1741966308.363943, \"/Users/ft14968/.pyenv/versions/3.11.1/lib/python3.11/site-packages/prompt_toolkit/key_binding/key_bindings.py\": 1741966308.386587, \"/Users/ft14968/.pyenv/versions/3.11.1/lib/python3.11/site-packages/wcwidth/table_vs16.py\": 1741966297.1115394, \"/Users/ft14968/.pyenv/versions/3.11.1/lib/python3.11/site-packages/wcwidth/table_wide.py\": 1741966297.1118095, \"/Users/ft14968/.pyenv/versions/3.11.1/lib/python3.11/site-packages/wcwidth/table_zero.py\": 1741966297.1121438, \"/Users/ft14968/.pyenv/versions/3.11.1/lib/python3.11/site-packages/wcwidth/unicode_versions.py\": 1741966297.1124024, \"/Users/ft14968/.pyenv/versions/3.11.1/lib/python3.11/site-packages/wcwidth/wcwidth.py\": 1741966297.1126733, \"/Users/ft14968/.pyenv/versions/3.11.1/lib/python3.11/site-packages/wcwidth/__init__.py\": 1741966297.1112218, \"/Users/ft14968/.pyenv/versions/3.11.1/lib/python3.11/site-packages/prompt_toolkit/utils.py\": 1741966308.3656018, \"/Users/ft14968/.pyenv/versions/3.11.1/lib/python3.11/site-packages/prompt_toolkit/key_binding/key_processor.py\": 1741966308.386837, \"/Users/ft14968/.pyenv/versions/3.11.1/lib/python3.11/site-packages/prompt_toolkit/key_binding/__init__.py\": 1741966308.3857608, \"/Users/ft14968/.pyenv/versions/3.11.1/lib/python3.11/site-packages/prompt_toolkit/key_binding/vi_state.py\": 1741966308.3870258, \"/Users/ft14968/.pyenv/versions/3.11.1/lib/python3.11/site-packages/prompt_toolkit/cursor_shapes.py\": 1741966308.3628924, \"/Users/ft14968/.pyenv/versions/3.11.1/lib/python3.11/site-packages/prompt_toolkit/data_structures.py\": 1741966308.3630779, \"/Users/ft14968/.pyenv/versions/3.11.1/lib/python3.11/site-packages/prompt_toolkit/styles/base.py\": 1741966308.4030836, \"/Users/ft14968/.pyenv/versions/3.11.1/lib/python3.11/site-packages/prompt_toolkit/styles/named_colors.py\": 1741966308.4041686, \"/Users/ft14968/.pyenv/versions/3.11.1/lib/python3.11/site-packages/prompt_toolkit/styles/style.py\": 1741966308.4045506, \"/Users/ft14968/.pyenv/versions/3.11.1/lib/python3.11/site-packages/prompt_toolkit/styles/defaults.py\": 1741966308.403581, \"/Users/ft14968/.pyenv/versions/3.11.1/lib/python3.11/site-packages/prompt_toolkit/styles/pygments.py\": 1741966308.4043307, \"/Users/ft14968/.pyenv/versions/3.11.1/lib/python3.11/colorsys.py\": 1716061059.3189793, \"/Users/ft14968/.pyenv/versions/3.11.1/lib/python3.11/site-packages/prompt_toolkit/styles/style_transformation.py\": 1741966308.4049184, \"/Users/ft14968/.pyenv/versions/3.11.1/lib/python3.11/site-packages/prompt_toolkit/styles/__init__.py\": 1741966308.402679, \"/Users/ft14968/.pyenv/versions/3.11.1/lib/python3.11/site-packages/prompt_toolkit/output/color_depth.py\": 1741966308.3989658, \"/Users/ft14968/.pyenv/versions/3.11.1/lib/python3.11/site-packages/prompt_toolkit/output/base.py\": 1741966308.3987978, \"/Users/ft14968/.pyenv/versions/3.11.1/lib/python3.11/site-packages/prompt_toolkit/output/flush_stdout.py\": 1741966308.3996468, \"/Users/ft14968/.pyenv/versions/3.11.1/lib/python3.11/site-packages/prompt_toolkit/output/plain_text.py\": 1741966308.3998523, \"/Users/ft14968/.pyenv/versions/3.11.1/lib/python3.11/site-packages/prompt_toolkit/output/defaults.py\": 1741966308.3994725, \"/Users/ft14968/.pyenv/versions/3.11.1/lib/python3.11/site-packages/prompt_toolkit/output/__init__.py\": 1741966308.398505, \"/Users/ft14968/.pyenv/versions/3.11.1/lib/python3.11/site-packages/prompt_toolkit/output/vt100.py\": 1741966308.4000463, \"/Users/ft14968/.pyenv/versions/3.11.1/lib/python3.11/site-packages/prompt_toolkit/mouse_events.py\": 1741966308.3642294, \"/Users/ft14968/.pyenv/versions/3.11.1/lib/python3.11/site-packages/prompt_toolkit/formatted_text/base.py\": 1741966308.3815312, \"/Users/ft14968/.pyenv/versions/3.11.1/lib/python3.11/site-packages/prompt_toolkit/formatted_text/ansi.py\": 1741966308.381313, \"/Users/ft14968/.pyenv/versions/3.11.1/lib/python3.11/xml/__init__.py\": 1716061063.0696318, \"/Users/ft14968/.pyenv/versions/3.11.1/lib/python3.11/xml/dom/domreg.py\": 1716061063.0841377, \"/Users/ft14968/.pyenv/versions/3.11.1/lib/python3.11/xml/dom/__init__.py\": 1716061063.0794249, \"/Users/ft14968/.pyenv/versions/3.11.1/lib/python3.11/xml/dom/minicompat.py\": 1716061063.093885, \"/Users/ft14968/.pyenv/versions/3.11.1/lib/python3.11/xml/dom/NodeFilter.py\": 1716061063.0747242, \"/Users/ft14968/.pyenv/versions/3.11.1/lib/python3.11/xml/dom/xmlbuilder.py\": 1716061063.1069226, \"/Users/ft14968/.pyenv/versions/3.11.1/lib/python3.11/xml/dom/minidom.py\": 1716061063.0995026, \"/Users/ft14968/.pyenv/versions/3.11.1/lib/python3.11/site-packages/prompt_toolkit/formatted_text/html.py\": 1741966308.3817346, \"/Users/ft14968/.pyenv/versions/3.11.1/lib/python3.11/site-packages/prompt_toolkit/formatted_text/pygments.py\": 1741966308.381944, \"/Users/ft14968/.pyenv/versions/3.11.1/lib/python3.11/site-packages/prompt_toolkit/formatted_text/utils.py\": 1741966308.3821285, \"/Users/ft14968/.pyenv/versions/3.11.1/lib/python3.11/site-packages/prompt_toolkit/formatted_text/__init__.py\": 1741966308.3809223, \"/Users/ft14968/.pyenv/versions/3.11.1/lib/python3.11/site-packages/prompt_toolkit/completion/base.py\": 1741966308.3697662, \"/Users/ft14968/.pyenv/versions/3.11.1/lib/python3.11/site-packages/prompt_toolkit/completion/deduplicate.py\": 1741966308.37001, \"/Users/ft14968/.pyenv/versions/3.11.1/lib/python3.11/site-packages/prompt_toolkit/completion/filesystem.py\": 1741966308.370228, \"/Users/ft14968/.pyenv/versions/3.11.1/lib/python3.11/site-packages/prompt_toolkit/completion/word_completer.py\": 1741966308.3722854, \"/Users/ft14968/.pyenv/versions/3.11.1/lib/python3.11/site-packages/prompt_toolkit/completion/fuzzy_completer.py\": 1741966308.37066, \"/Users/ft14968/.pyenv/versions/3.11.1/lib/python3.11/site-packages/prompt_toolkit/completion/nested.py\": 1741966308.371796, \"/Users/ft14968/.pyenv/versions/3.11.1/lib/python3.11/site-packages/prompt_toolkit/completion/__init__.py\": 1741966308.3695211, \"/Users/ft14968/.pyenv/versions/3.11.1/lib/python3.11/site-packages/prompt_toolkit/history.py\": 1741966308.3637092, \"/Users/ft14968/.pyenv/versions/3.11.1/lib/python3.11/site-packages/prompt_toolkit/search.py\": 1741966308.3649654, \"/Users/ft14968/.pyenv/versions/3.11.1/lib/python3.11/site-packages/prompt_toolkit/validation.py\": 1741966308.3658729, \"/Users/ft14968/.pyenv/versions/3.11.1/lib/python3.11/site-packages/prompt_toolkit/buffer.py\": 1741966308.362429, \"/Users/ft14968/.pyenv/versions/3.11.1/lib/python3.11/site-packages/prompt_toolkit/input/base.py\": 1741966308.3829155, \"/Users/ft14968/.pyenv/versions/3.11.1/lib/python3.11/site-packages/prompt_toolkit/input/defaults.py\": 1741966308.3830805, \"/Users/ft14968/.pyenv/versions/3.11.1/lib/python3.11/site-packages/prompt_toolkit/input/__init__.py\": 1741966308.3823073, \"/Users/ft14968/.pyenv/versions/3.11.1/lib/python3.11/site-packages/prompt_toolkit/input/typeahead.py\": 1741966308.3837256, \"/Users/ft14968/.pyenv/versions/3.11.1/lib/python3.11/site-packages/prompt_toolkit/key_binding/bindings/__init__.py\": 1741966308.3871396, \"/Users/ft14968/.pyenv/versions/3.11.1/lib/python3.11/site-packages/prompt_toolkit/key_binding/bindings/scroll.py\": 1741966308.3902867, \"/Users/ft14968/.pyenv/versions/3.11.1/lib/python3.11/site-packages/prompt_toolkit/key_binding/bindings/page_navigation.py\": 1741966308.3901002, \"/Users/ft14968/.pyenv/versions/3.11.1/lib/python3.11/site-packages/prompt_toolkit/lexers/base.py\": 1741966308.398129, \"/Users/ft14968/.pyenv/versions/3.11.1/lib/python3.11/site-packages/prompt_toolkit/lexers/pygments.py\": 1741966308.398316, \"/Users/ft14968/.pyenv/versions/3.11.1/lib/python3.11/site-packages/prompt_toolkit/lexers/__init__.py\": 1741966308.397497, \"/Users/ft14968/.pyenv/versions/3.11.1/lib/python3.11/site-packages/prompt_toolkit/layout/utils.py\": 1741966308.396877, \"/Users/ft14968/.pyenv/versions/3.11.1/lib/python3.11/site-packages/prompt_toolkit/layout/processors.py\": 1741966308.3952513, \"/Users/ft14968/.pyenv/versions/3.11.1/lib/python3.11/site-packages/prompt_toolkit/layout/controls.py\": 1741966308.3923376, \"/Users/ft14968/.pyenv/versions/3.11.1/lib/python3.11/site-packages/prompt_toolkit/layout/dimension.py\": 1741966308.392805, \"/Users/ft14968/.pyenv/versions/3.11.1/lib/python3.11/site-packages/prompt_toolkit/layout/margins.py\": 1741966308.3937578, \"/Users/ft14968/.pyenv/versions/3.11.1/lib/python3.11/site-packages/prompt_toolkit/layout/mouse_handlers.py\": 1741966308.394552, \"/Users/ft14968/.pyenv/versions/3.11.1/lib/python3.11/site-packages/prompt_toolkit/layout/screen.py\": 1741966308.3959658, \"/Users/ft14968/.pyenv/versions/3.11.1/lib/python3.11/site-packages/prompt_toolkit/layout/containers.py\": 1741966308.3919668, \"/Users/ft14968/.pyenv/versions/3.11.1/lib/python3.11/site-packages/prompt_toolkit/layout/layout.py\": 1741966308.3933268, \"/Users/ft14968/.pyenv/versions/3.11.1/lib/python3.11/site-packages/prompt_toolkit/layout/menus.py\": 1741966308.394107, \"/Users/ft14968/.pyenv/versions/3.11.1/lib/python3.11/site-packages/prompt_toolkit/layout/scrollable_pane.py\": 1741966308.3965542, \"/Users/ft14968/.pyenv/versions/3.11.1/lib/python3.11/site-packages/prompt_toolkit/layout/__init__.py\": 1741966308.3913977, \"/Users/ft14968/.pyenv/versions/3.11.1/lib/python3.11/site-packages/prompt_toolkit/key_binding/bindings/completion.py\": 1741966308.3880591, \"/Users/ft14968/.pyenv/versions/3.11.1/lib/python3.11/site-packages/prompt_toolkit/key_binding/bindings/named_commands.py\": 1741966308.3897007, \"/Users/ft14968/.pyenv/versions/3.11.1/lib/python3.11/site-packages/prompt_toolkit/key_binding/bindings/basic.py\": 1741966308.3875837, \"/Users/ft14968/.pyenv/versions/3.11.1/lib/python3.11/site-packages/prompt_toolkit/key_binding/bindings/cpr.py\": 1741966308.3882873, \"/Users/ft14968/.pyenv/versions/3.11.1/lib/python3.11/site-packages/prompt_toolkit/key_binding/bindings/emacs.py\": 1741966308.3885283, \"/Users/ft14968/.pyenv/versions/3.11.1/lib/python3.11/site-packages/prompt_toolkit/key_binding/bindings/mouse.py\": 1741966308.3894556, \"/Users/ft14968/.pyenv/versions/3.11.1/lib/python3.11/site-packages/prompt_toolkit/input/ansi_escape_sequences.py\": 1741966308.3827267, \"/Users/ft14968/.pyenv/versions/3.11.1/lib/python3.11/site-packages/prompt_toolkit/input/vt100_parser.py\": 1741966308.384815, \"/Users/ft14968/.pyenv/versions/3.11.1/lib/python3.11/site-packages/prompt_toolkit/key_binding/digraphs.py\": 1741966308.3862293, \"/Users/ft14968/.pyenv/versions/3.11.1/lib/python3.11/site-packages/prompt_toolkit/key_binding/bindings/vi.py\": 1741966308.391078, \"/Users/ft14968/.pyenv/versions/3.11.1/lib/python3.11/site-packages/prompt_toolkit/key_binding/defaults.py\": 1741966308.3859715, \"/Users/ft14968/.pyenv/versions/3.11.1/lib/python3.11/site-packages/prompt_toolkit/key_binding/emacs_state.py\": 1741966308.3864143, \"/Users/ft14968/.pyenv/versions/3.11.1/lib/python3.11/site-packages/prompt_toolkit/layout/dummy.py\": 1741966308.3930895, \"/Users/ft14968/.pyenv/versions/3.11.1/lib/python3.11/site-packages/prompt_toolkit/renderer.py\": 1741966308.364756, \"/Users/ft14968/.pyenv/versions/3.11.1/lib/python3.11/site-packages/prompt_toolkit/application/application.py\": 1741966308.3665338, \"/Users/ft14968/.pyenv/versions/3.11.1/lib/python3.11/site-packages/prompt_toolkit/application/dummy.py\": 1741966308.3675418, \"/Users/ft14968/.pyenv/versions/3.11.1/lib/python3.11/site-packages/prompt_toolkit/application/__init__.py\": 1741966308.3663144, \"/Users/ft14968/.pyenv/versions/3.11.1/lib/python3.11/site-packages/prompt_toolkit/key_binding/bindings/focus.py\": 1741966308.3891742, \"/Users/ft14968/.pyenv/versions/3.11.1/lib/python3.11/site-packages/prompt_toolkit/widgets/toolbars.py\": 1741966308.406466, \"/Users/ft14968/.pyenv/versions/3.11.1/lib/python3.11/site-packages/prompt_toolkit/widgets/base.py\": 1741966308.4054124, \"/Users/ft14968/.pyenv/versions/3.11.1/lib/python3.11/site-packages/prompt_toolkit/widgets/dialogs.py\": 1741966308.4059453, \"/Users/ft14968/.pyenv/versions/3.11.1/lib/python3.11/site-packages/prompt_toolkit/widgets/menus.py\": 1741966308.4061623, \"/Users/ft14968/.pyenv/versions/3.11.1/lib/python3.11/site-packages/prompt_toolkit/widgets/__init__.py\": 1741966308.4051056, \"/Users/ft14968/.pyenv/versions/3.11.1/lib/python3.11/site-packages/prompt_toolkit/shortcuts/dialogs.py\": 1741966308.4009283, \"/Users/ft14968/.pyenv/versions/3.11.1/lib/python3.11/xml/parsers/__init__.py\": 1716061063.131019, \"/Users/ft14968/.pyenv/versions/3.11.1/lib/python3.11/lib-dynload/pyexpat.cpython-311-darwin.so\": 1716061040.0, \"/Users/ft14968/.pyenv/versions/3.11.1/lib/python3.11/xml/parsers/expat.py\": 1716061063.1353123, \"/Users/ft14968/.pyenv/versions/3.11.1/lib/python3.11/xml/dom/expatbuilder.py\": 1716061063.089276, \"/Users/ft14968/.pyenv/versions/3.11.1/lib/python3.11/site-packages/prompt_toolkit/shortcuts/progress_bar/formatters.py\": 1741966308.4023778, \"/Users/ft14968/.pyenv/versions/3.11.1/lib/python3.11/site-packages/prompt_toolkit/shortcuts/progress_bar/base.py\": 1741966308.4021196, \"/Users/ft14968/.pyenv/versions/3.11.1/lib/python3.11/site-packages/prompt_toolkit/shortcuts/progress_bar/__init__.py\": 1741966308.401873, \"/Users/ft14968/.pyenv/versions/3.11.1/lib/python3.11/site-packages/prompt_toolkit/key_binding/bindings/auto_suggest.py\": 1741966308.3873758, \"/Users/ft14968/.pyenv/versions/3.11.1/lib/python3.11/site-packages/prompt_toolkit/key_binding/bindings/open_in_editor.py\": 1741966308.3899384, \"/Users/ft14968/.pyenv/versions/3.11.1/lib/python3.11/site-packages/prompt_toolkit/shortcuts/prompt.py\": 1741966308.401133, \"/Users/ft14968/.pyenv/versions/3.11.1/lib/python3.11/site-packages/prompt_toolkit/shortcuts/utils.py\": 1741966308.401625, \"/Users/ft14968/.pyenv/versions/3.11.1/lib/python3.11/site-packages/prompt_toolkit/shortcuts/__init__.py\": 1741966308.4006932, \"/Users/ft14968/.pyenv/versions/3.11.1/lib/python3.11/site-packages/prompt_toolkit/__init__.py\": 1741966308.361737, \"/Users/ft14968/.pyenv/versions/3.11.1/lib/python3.11/site-packages/prompt_toolkit/patch_stdout.py\": 1741966308.3644624, \"/Users/ft14968/.pyenv/versions/3.11.1/lib/python3.11/lib-dynload/unicodedata.cpython-311-darwin.so\": 1716061039.0, \"/Users/ft14968/.pyenv/versions/3.11.1/lib/python3.11/site-packages/IPython/core/guarded_eval.py\": 1741966329.0738997, \"/Users/ft14968/.pyenv/versions/3.11.1/lib/python3.11/site-packages/IPython/core/latex_symbols.py\": 1741966329.0758314, \"/Users/ft14968/.pyenv/versions/3.11.1/lib/python3.11/site-packages/IPython/utils/generics.py\": 1741966329.118622, \"/Users/ft14968/.pyenv/versions/3.11.1/lib/python3.11/site-packages/parso/utils.py\": 1741966308.7860436, \"/Users/ft14968/.pyenv/versions/3.11.1/lib/python3.11/site-packages/parso/tree.py\": 1741966308.7858193, \"/Users/ft14968/.pyenv/versions/3.11.1/lib/python3.11/site-packages/parso/python/__init__.py\": 1741966308.7867596, \"/Users/ft14968/.pyenv/versions/3.11.1/lib/python3.11/site-packages/parso/python/token.py\": 1741966308.7899075, \"/Users/ft14968/.pyenv/versions/3.11.1/lib/python3.11/site-packages/parso/python/tokenize.py\": 1741966308.7901156, \"/Users/ft14968/.pyenv/versions/3.11.1/lib/python3.11/site-packages/parso/pgen2/grammar_parser.py\": 1741966308.7866526, \"/Users/ft14968/.pyenv/versions/3.11.1/lib/python3.11/site-packages/parso/pgen2/generator.py\": 1741966308.786462, \"/Users/ft14968/.pyenv/versions/3.11.1/lib/python3.11/site-packages/parso/pgen2/__init__.py\": 1741966308.7862275, \"/Users/ft14968/.pyenv/versions/3.11.1/lib/python3.11/site-packages/parso/parser.py\": 1741966308.785509, \"/Users/ft14968/.pyenv/versions/3.11.1/lib/python3.11/site-packages/parso/_compatibility.py\": 1741966308.7845669, \"/Users/ft14968/.pyenv/versions/3.11.1/lib/python3.11/difflib.py\": 1716061059.3634653, \"/Users/ft14968/.pyenv/versions/3.11.1/lib/python3.11/site-packages/parso/python/prefix.py\": 1741966308.789682, \"/Users/ft14968/.pyenv/versions/3.11.1/lib/python3.11/site-packages/parso/python/tree.py\": 1741966308.790321, \"/Users/ft14968/.pyenv/versions/3.11.1/lib/python3.11/site-packages/parso/python/parser.py\": 1741966308.7893102, \"/Users/ft14968/.pyenv/versions/3.11.1/lib/python3.11/site-packages/parso/python/diff.py\": 1741966308.7869904, \"/Users/ft14968/.pyenv/versions/3.11.1/lib/python3.11/site-packages/parso/cache.py\": 1741966308.7848265, \"/Users/ft14968/.pyenv/versions/3.11.1/lib/python3.11/site-packages/parso/normalizer.py\": 1741966308.7853255, \"/Users/ft14968/.pyenv/versions/3.11.1/lib/python3.11/site-packages/parso/python/errors.py\": 1741966308.7871842, \"/Users/ft14968/.pyenv/versions/3.11.1/lib/python3.11/site-packages/parso/python/pep8.py\": 1741966308.7894988, \"/Users/ft14968/.pyenv/versions/3.11.1/lib/python3.11/site-packages/parso/file_io.py\": 1741966308.7850003, \"/Users/ft14968/.pyenv/versions/3.11.1/lib/python3.11/site-packages/parso/grammar.py\": 1741966308.7851546, \"/Users/ft14968/.pyenv/versions/3.11.1/lib/python3.11/site-packages/parso/__init__.py\": 1741966308.784399, \"/Users/ft14968/.pyenv/versions/3.11.1/lib/python3.11/site-packages/jedi/parser_utils.py\": 1741966323.5798156, \"/Users/ft14968/.pyenv/versions/3.11.1/lib/python3.11/site-packages/jedi/debug.py\": 1741966323.5794773, \"/Users/ft14968/.pyenv/versions/3.11.1/lib/python3.11/site-packages/jedi/settings.py\": 1741966323.5799441, \"/Users/ft14968/.pyenv/versions/3.11.1/lib/python3.11/site-packages/jedi/cache.py\": 1741966323.5791814, \"/Users/ft14968/.pyenv/versions/3.11.1/lib/python3.11/site-packages/jedi/file_io.py\": 1741966323.579625, \"/Users/ft14968/.pyenv/versions/3.11.1/lib/python3.11/site-packages/jedi/inference/cache.py\": 1741966323.5851502, \"/Users/ft14968/.pyenv/versions/3.11.1/lib/python3.11/site-packages/jedi/inference/helpers.py\": 1741966323.5890064, \"/Users/ft14968/.pyenv/versions/3.11.1/lib/python3.11/site-packages/jedi/inference/utils.py\": 1741966323.592482, \"/Users/ft14968/.pyenv/versions/3.11.1/lib/python3.11/site-packages/jedi/inference/base_value.py\": 1741966323.5848095, \"/Users/ft14968/.pyenv/versions/3.11.1/lib/python3.11/site-packages/jedi/inference/sys_path.py\": 1741966323.5917008, \"/Users/ft14968/.pyenv/versions/3.11.1/lib/python3.11/site-packages/jedi/inference/recursion.py\": 1741966323.5903792, \"/Users/ft14968/.pyenv/versions/3.11.1/lib/python3.11/site-packages/jedi/inference/flow_analysis.py\": 1741966323.5887308, \"/Users/ft14968/.pyenv/versions/3.11.1/lib/python3.11/site-packages/jedi/common.py\": 1741966323.579327, \"/Users/ft14968/.pyenv/versions/3.11.1/lib/python3.11/site-packages/jedi/inference/lazy_value.py\": 1741966323.5894232, \"/Users/ft14968/.pyenv/versions/3.11.1/lib/python3.11/site-packages/jedi/inference/docstrings.py\": 1741966323.5859272, \"/Users/ft14968/.pyenv/versions/3.11.1/lib/python3.11/site-packages/jedi/plugins/__init__.py\": 1741966323.6004274, \"/Users/ft14968/.pyenv/versions/3.11.1/lib/python3.11/site-packages/jedi/inference/names.py\": 1741966323.5896544, \"/Users/ft14968/.pyenv/versions/3.11.1/lib/python3.11/site-packages/jedi/inference/filters.py\": 1741966323.5880706, \"/Users/ft14968/.pyenv/versions/3.11.1/lib/python3.11/site-packages/jedi/inference/compiled/getattr_static.py\": 1741966323.5935068, \"/Users/ft14968/.pyenv/versions/3.11.1/lib/python3.11/site-packages/jedi/inference/compiled/access.py\": 1741966323.5933127, \"/Users/ft14968/.pyenv/versions/3.11.1/lib/python3.11/site-packages/jedi/inference/signature.py\": 1741966323.5908911, \"/Users/ft14968/.pyenv/versions/3.11.1/lib/python3.11/site-packages/jedi/inference/context.py\": 1741966323.5854802, \"/Users/ft14968/.pyenv/versions/3.11.1/lib/python3.11/site-packages/jedi/inference/compiled/value.py\": 1741966323.5941114, \"/Users/ft14968/.pyenv/versions/3.11.1/lib/python3.11/site-packages/jedi/inference/compiled/__init__.py\": 1741966323.5927718, \"/Users/ft14968/.pyenv/versions/3.11.1/lib/python3.11/site-packages/jedi/inference/analysis.py\": 1741966323.5843644, \"/Users/ft14968/.pyenv/versions/3.11.1/lib/python3.11/site-packages/jedi/inference/gradual/__init__.py\": 1741966323.595789, \"/Users/ft14968/.pyenv/versions/3.11.1/lib/python3.11/site-packages/jedi/inference/value/module.py\": 1741966323.599812, \"/Users/ft14968/.pyenv/versions/3.11.1/lib/python3.11/site-packages/jedi/inference/value/dynamic_arrays.py\": 1741966323.598526, \"/Users/ft14968/.pyenv/versions/3.11.1/lib/python3.11/site-packages/jedi/inference/value/iterable.py\": 1741966323.5991888, \"/Users/ft14968/.pyenv/versions/3.11.1/lib/python3.11/site-packages/jedi/inference/arguments.py\": 1741966323.584586, \"/Users/ft14968/.pyenv/versions/3.11.1/lib/python3.11/site-packages/jedi/inference/parser_cache.py\": 1741966323.590128, \"/Users/ft14968/.pyenv/versions/3.11.1/lib/python3.11/site-packages/jedi/inference/gradual/generics.py\": 1741966323.5967615, \"/Users/ft14968/.pyenv/versions/3.11.1/lib/python3.11/site-packages/jedi/inference/value/function.py\": 1741966323.5987272, \"/Users/ft14968/.pyenv/versions/3.11.1/lib/python3.11/site-packages/jedi/inference/value/klass.py\": 1741966323.5994203, \"/Users/ft14968/.pyenv/versions/3.11.1/lib/python3.11/site-packages/jedi/inference/value/instance.py\": 1741966323.598912, \"/Users/ft14968/.pyenv/versions/3.11.1/lib/python3.11/site-packages/jedi/inference/value/__init__.py\": 1741966323.5981297, \"/Users/ft14968/.pyenv/versions/3.11.1/lib/python3.11/site-packages/jedi/inference/gradual/base.py\": 1741966323.596352, \"/Users/ft14968/.pyenv/versions/3.11.1/lib/python3.11/site-packages/jedi/inference/gradual/type_var.py\": 1741966323.5972276, \"/Users/ft14968/.pyenv/versions/3.11.1/lib/python3.11/site-packages/jedi/inference/gradual/typing.py\": 1741966323.5977368, \"/Users/ft14968/.pyenv/versions/3.11.1/lib/python3.11/site-packages/jedi/inference/gradual/stub_value.py\": 1741966323.5969284, \"/Users/ft14968/.pyenv/versions/3.11.1/lib/python3.11/site-packages/jedi/inference/gradual/typeshed.py\": 1741966323.5974813, \"/Users/ft14968/.pyenv/versions/3.11.1/lib/python3.11/site-packages/jedi/_compatibility.py\": 1741966323.5790277, \"/Users/ft14968/.pyenv/versions/3.11.1/lib/python3.11/site-packages/jedi/inference/compiled/subprocess/functions.py\": 1741966323.5954323, \"/Users/ft14968/.pyenv/versions/3.11.1/lib/python3.11/site-packages/jedi/api/exceptions.py\": 1741966323.5812986, \"/Users/ft14968/.pyenv/versions/3.11.1/lib/python3.11/site-packages/jedi/inference/compiled/subprocess/__init__.py\": 1741966323.5948908, \"/Users/ft14968/.pyenv/versions/3.11.1/lib/python3.11/site-packages/jedi/inference/imports.py\": 1741966323.5891998, \"/Users/ft14968/.pyenv/versions/3.11.1/lib/python3.11/site-packages/jedi/inference/param.py\": 1741966323.5899086, \"/Users/ft14968/.pyenv/versions/3.11.1/lib/python3.11/site-packages/jedi/inference/gradual/annotation.py\": 1741966323.5960448, \"/Users/ft14968/.pyenv/versions/3.11.1/lib/python3.11/site-packages/jedi/inference/value/decorator.py\": 1741966323.5982823, \"/Users/ft14968/.pyenv/versions/3.11.1/lib/python3.11/site-packages/jedi/inference/syntax_tree.py\": 1741966323.591341, \"/Users/ft14968/.pyenv/versions/3.11.1/lib/python3.11/site-packages/jedi/inference/__init__.py\": 1741966323.5837417, \"/Users/ft14968/.pyenv/versions/3.11.1/lib/python3.11/site-packages/jedi/inference/gradual/conversion.py\": 1741966323.5965955, \"/Users/ft14968/.pyenv/versions/3.11.1/lib/python3.11/site-packages/jedi/inference/compiled/mixed.py\": 1741966323.5938153, \"/Users/ft14968/.pyenv/versions/3.11.1/lib/python3.11/pydoc_data/__init__.py\": 1716061062.65778, \"/Users/ft14968/.pyenv/versions/3.11.1/lib/python3.11/pydoc_data/topics.py\": 1716061062.6809478, \"/Users/ft14968/.pyenv/versions/3.11.1/lib/python3.11/site-packages/jedi/api/keywords.py\": 1741966323.5819132, \"/Users/ft14968/.pyenv/versions/3.11.1/lib/python3.11/site-packages/jedi/api/completion_cache.py\": 1741966323.5809157, \"/Users/ft14968/.pyenv/versions/3.11.1/lib/python3.11/site-packages/jedi/api/helpers.py\": 1741966323.5816374, \"/Users/ft14968/.pyenv/versions/3.11.1/lib/python3.11/site-packages/jedi/api/classes.py\": 1741966323.5805976, \"/Users/ft14968/.pyenv/versions/3.11.1/lib/python3.11/site-packages/jedi/api/interpreter.py\": 1741966323.581774, \"/Users/ft14968/.pyenv/versions/3.11.1/lib/python3.11/site-packages/jedi/api/strings.py\": 1741966323.5828283, \"/Users/ft14968/.pyenv/versions/3.11.1/lib/python3.11/site-packages/jedi/api/file_name.py\": 1741966323.5814896, \"/Users/ft14968/.pyenv/versions/3.11.1/lib/python3.11/site-packages/jedi/inference/docstring_utils.py\": 1741966323.5856783, \"/Users/ft14968/.pyenv/versions/3.11.1/lib/python3.11/site-packages/jedi/api/completion.py\": 1741966323.5807703, \"/Users/ft14968/.pyenv/versions/3.11.1/lib/python3.11/filecmp.py\": 1716061059.3804994, \"/Users/ft14968/.pyenv/versions/3.11.1/lib/python3.11/site-packages/jedi/api/environment.py\": 1741966323.581058, \"/Users/ft14968/.pyenv/versions/3.11.1/lib/python3.11/site-packages/jedi/inference/references.py\": 1741966323.5906055, \"/Users/ft14968/.pyenv/versions/3.11.1/lib/python3.11/site-packages/jedi/api/project.py\": 1741966323.5821772, \"/Users/ft14968/.pyenv/versions/3.11.1/lib/python3.11/site-packages/jedi/api/errors.py\": 1741966323.581175, \"/Users/ft14968/.pyenv/versions/3.11.1/lib/python3.11/site-packages/jedi/inference/value/namespace.py\": 1741966323.6000466, \"/Users/ft14968/.pyenv/versions/3.11.1/lib/python3.11/site-packages/jedi/api/refactoring/__init__.py\": 1741966323.583163, \"/Users/ft14968/.pyenv/versions/3.11.1/lib/python3.11/site-packages/jedi/api/refactoring/extract.py\": 1741966323.5835197, \"/Users/ft14968/.pyenv/versions/3.11.1/lib/python3.11/site-packages/jedi/inference/gradual/utils.py\": 1741966323.597935, \"/Users/ft14968/.pyenv/versions/3.11.1/lib/python3.11/site-packages/jedi/api/__init__.py\": 1741966323.5804243, \"/Users/ft14968/.pyenv/versions/3.11.1/lib/python3.11/site-packages/jedi/plugins/stdlib.py\": 1741966323.6015592, \"/Users/ft14968/.pyenv/versions/3.11.1/lib/python3.11/site-packages/jedi/plugins/flask.py\": 1741966323.6008623, \"/Users/ft14968/.pyenv/versions/3.11.1/lib/python3.11/site-packages/jedi/plugins/pytest.py\": 1741966323.6010973, \"/Users/ft14968/.pyenv/versions/3.11.1/lib/python3.11/site-packages/jedi/plugins/django.py\": 1741966323.600665, \"/Users/ft14968/.pyenv/versions/3.11.1/lib/python3.11/site-packages/jedi/plugins/registry.py\": 1741966323.6013036, \"/Users/ft14968/.pyenv/versions/3.11.1/lib/python3.11/site-packages/jedi/__init__.py\": 1741966323.5787163, \"/Users/ft14968/.pyenv/versions/3.11.1/lib/python3.11/site-packages/IPython/core/completer.py\": 1741966329.0699706, \"/Users/ft14968/.pyenv/versions/3.11.1/lib/python3.11/site-packages/IPython/terminal/ptutils.py\": 1741966329.0995271, \"/Users/ft14968/.pyenv/versions/3.11.1/lib/python3.11/site-packages/IPython/terminal/shortcuts/auto_match.py\": 1741966329.1051748, \"/Users/ft14968/.pyenv/versions/3.11.1/lib/python3.11/site-packages/IPython/terminal/shortcuts/filters.py\": 1741966329.1059177, \"/Users/ft14968/.pyenv/versions/3.11.1/lib/python3.11/site-packages/IPython/terminal/shortcuts/auto_suggest.py\": 1741966329.105383, \"/Users/ft14968/.pyenv/versions/3.11.1/lib/python3.11/site-packages/IPython/terminal/shortcuts/__init__.py\": 1741966329.1046803, \"/Users/ft14968/.pyenv/versions/3.11.1/lib/python3.11/concurrent/futures/thread.py\": 1716061059.9862916, \"/Users/ft14968/.pyenv/versions/3.11.1/lib/python3.11/site-packages/IPython/terminal/debugger.py\": 1741966329.0972347, \"/Users/ft14968/.pyenv/versions/3.11.1/lib/python3.11/site-packages/IPython/lib/clipboard.py\": 1741966329.0930777, \"/Users/ft14968/.pyenv/versions/3.11.1/lib/python3.11/site-packages/IPython/terminal/magics.py\": 1741966329.0985997, \"/Users/ft14968/.pyenv/versions/3.11.1/lib/python3.11/site-packages/IPython/terminal/pt_inputhooks/__init__.py\": 1741966329.099924, \"/Users/ft14968/.pyenv/versions/3.11.1/lib/python3.11/site-packages/IPython/terminal/prompts.py\": 1741966329.0990589, \"/Users/ft14968/.pyenv/versions/3.11.1/lib/python3.11/site-packages/IPython/terminal/interactiveshell.py\": 1741966329.0979018, \"/Users/ft14968/.pyenv/versions/3.11.1/lib/python3.11/site-packages/IPython/core/magics/auto.py\": 1741966329.0819588, \"/Users/ft14968/.pyenv/versions/3.11.1/lib/python3.11/site-packages/IPython/core/magics/basic.py\": 1741966329.082202, \"/Users/ft14968/.pyenv/versions/3.11.1/lib/python3.11/http/__init__.py\": 1716061061.4401262, \"/Users/ft14968/.pyenv/versions/3.11.1/lib/python3.11/email/feedparser.py\": 1716061060.37994, \"/Users/ft14968/.pyenv/versions/3.11.1/lib/python3.11/email/parser.py\": 1716061060.423358, \"/Users/ft14968/.pyenv/versions/3.11.1/lib/python3.11/http/client.py\": 1716061061.4427552, \"/Users/ft14968/.pyenv/versions/3.11.1/lib/python3.11/urllib/response.py\": 1716061062.994883, \"/Users/ft14968/.pyenv/versions/3.11.1/lib/python3.11/urllib/error.py\": 1716061062.9870546, \"/Users/ft14968/.pyenv/versions/3.11.1/lib/python3.11/lib-dynload/_scproxy.cpython-311-darwin.so\": 1716061040.0, \"/Users/ft14968/.pyenv/versions/3.11.1/lib/python3.11/urllib/request.py\": 1716061062.9925048, \"/Users/ft14968/.pyenv/versions/3.11.1/lib/python3.11/site-packages/IPython/utils/contexts.py\": 1741966329.1164672, \"/Users/ft14968/.pyenv/versions/3.11.1/lib/python3.11/site-packages/IPython/core/magics/code.py\": 1741966329.0827878, \"/Users/ft14968/.pyenv/versions/3.11.1/lib/python3.11/site-packages/IPython/core/magics/config.py\": 1741966329.0831618, \"/Users/ft14968/.pyenv/versions/3.11.1/lib/python3.11/site-packages/IPython/core/magics/display.py\": 1741966329.0833993, \"/Users/ft14968/.pyenv/versions/3.11.1/lib/python3.11/lib-dynload/_lsprof.cpython-311-darwin.so\": 1716061038.0, \"/Users/ft14968/.pyenv/versions/3.11.1/lib/python3.11/profile.py\": 1716061059.5897954, \"/Users/ft14968/.pyenv/versions/3.11.1/lib/python3.11/cProfile.py\": 1716061059.2746737, \"/Users/ft14968/.pyenv/versions/3.11.1/lib/python3.11/pstats.py\": 1716061059.5954034, \"/Users/ft14968/.pyenv/versions/3.11.1/lib/python3.11/timeit.py\": 1716061059.7704897, \"/Users/ft14968/.pyenv/versions/3.11.1/lib/python3.11/site-packages/IPython/utils/module_paths.py\": 1741966329.11959, \"/Users/ft14968/.pyenv/versions/3.11.1/lib/python3.11/lib-dynload/resource.cpython-311-darwin.so\": 1716061039.0, \"/Users/ft14968/.pyenv/versions/3.11.1/lib/python3.11/site-packages/IPython/utils/timing.py\": 1741966329.124813, \"/Users/ft14968/.pyenv/versions/3.11.1/lib/python3.11/site-packages/IPython/core/magics/ast_mod.py\": 1741966329.081725, \"/Users/ft14968/.pyenv/versions/3.11.1/lib/python3.11/site-packages/IPython/core/magics/execution.py\": 1741966329.0836375, \"/Users/ft14968/.pyenv/versions/3.11.1/lib/python3.11/site-packages/IPython/core/magics/extension.py\": 1741966329.08408, \"/Users/ft14968/.pyenv/versions/3.11.1/lib/python3.11/site-packages/IPython/core/magics/history.py\": 1741966329.0843735, \"/Users/ft14968/.pyenv/versions/3.11.1/lib/python3.11/site-packages/IPython/core/magics/logging.py\": 1741966329.0848336, \"/Users/ft14968/.pyenv/versions/3.11.1/lib/python3.11/site-packages/IPython/core/magics/namespace.py\": 1741966329.0850518, \"/Users/ft14968/.pyenv/versions/3.11.1/lib/python3.11/site-packages/IPython/core/magics/osm.py\": 1741966329.0855708, \"/Users/ft14968/.pyenv/versions/3.11.1/lib/python3.11/site-packages/IPython/core/magics/packaging.py\": 1741966329.0870965, \"/Users/ft14968/.pyenv/versions/3.11.1/lib/python3.11/site-packages/IPython/core/magics/pylab.py\": 1741966329.0883512, \"/Users/ft14968/.pyenv/versions/3.11.1/lib/python3.11/site-packages/IPython/core/magics/script.py\": 1741966329.0886068, \"/Users/ft14968/.pyenv/versions/3.11.1/lib/python3.11/site-packages/IPython/core/magics/__init__.py\": 1741966329.0815117, \"/Users/ft14968/.pyenv/versions/3.11.1/lib/python3.11/site-packages/IPython/core/shellapp.py\": 1741966329.0797641, \"/Users/ft14968/.pyenv/versions/3.11.1/lib/python3.11/site-packages/IPython/extensions/__init__.py\": 1741966329.0892353, \"/Users/ft14968/.pyenv/versions/3.11.1/lib/python3.11/site-packages/IPython/extensions/storemagic.py\": 1741966329.0898871, \"/Users/ft14968/.pyenv/versions/3.11.1/lib/python3.11/site-packages/IPython/terminal/ipapp.py\": 1741966329.0981216, \"/Users/ft14968/.pyenv/versions/3.11.1/lib/python3.11/site-packages/IPython/terminal/embed.py\": 1741966329.0976853, \"/Users/ft14968/.pyenv/versions/3.11.1/lib/python3.11/site-packages/IPython/utils/frame.py\": 1741966329.1184192, \"/Users/ft14968/.pyenv/versions/3.11.1/lib/python3.11/site-packages/IPython/__init__.py\": 1741966329.0671484, \"/Users/ft14968/.pyenv/versions/3.11.1/lib/python3.11/site-packages/ipykernel/control.py\": 1741966331.6581259, \"/Users/ft14968/.pyenv/versions/3.11.1/lib/python3.11/site-packages/ipykernel/heartbeat.py\": 1741966331.659939, \"/Users/ft14968/.pyenv/versions/3.11.1/lib/python3.11/site-packages/ipykernel/iostream.py\": 1741966331.660218, \"/Users/ft14968/.pyenv/versions/3.11.1/lib/python3.11/site-packages/comm/base_comm.py\": 1741966326.5467126, \"/Users/ft14968/.pyenv/versions/3.11.1/lib/python3.11/site-packages/comm/__init__.py\": 1741966326.5465107, \"/Users/ft14968/.pyenv/versions/3.11.1/lib/python3.11/site-packages/ipykernel/jsonutil.py\": 1741966331.6611388, \"/Users/ft14968/.pyenv/versions/3.11.1/lib/python3.11/site-packages/psutil/_common.py\": 1741966308.1011894, \"/Users/ft14968/.pyenv/versions/3.11.1/lib/python3.11/site-packages/psutil/_psutil_osx.abi3.so\": 1741966308.1008055, \"/Users/ft14968/.pyenv/versions/3.11.1/lib/python3.11/site-packages/psutil/_psposix.py\": 1741966308.1031454, \"/Users/ft14968/.pyenv/versions/3.11.1/lib/python3.11/site-packages/psutil/_psutil_posix.abi3.so\": 1741966308.0993154, \"/Users/ft14968/.pyenv/versions/3.11.1/lib/python3.11/site-packages/psutil/_psosx.py\": 1741966308.101991, \"/Users/ft14968/.pyenv/versions/3.11.1/lib/python3.11/site-packages/psutil/__init__.py\": 1741966308.101715, \"/Users/ft14968/.pyenv/versions/3.11.1/lib/python3.11/site-packages/tornado/gen.py\": 1741966299.7784178, \"/Users/ft14968/.pyenv/versions/3.11.1/lib/python3.11/site-packages/tornado/locks.py\": 1741966299.7799482, \"/Users/ft14968/.pyenv/versions/3.11.1/lib/python3.11/site-packages/tornado/queues.py\": 1741966299.7778902, \"/Users/ft14968/.pyenv/versions/3.11.1/lib/python3.11/site-packages/ipykernel/kernelbase.py\": 1741966331.6616516, \"/Users/ft14968/.pyenv/versions/3.11.1/lib/python3.11/site-packages/ipykernel/comm/comm.py\": 1741966331.6638868, \"/Users/ft14968/.pyenv/versions/3.11.1/lib/python3.11/site-packages/ipykernel/comm/manager.py\": 1741966331.664051, \"/Users/ft14968/.pyenv/versions/3.11.1/lib/python3.11/site-packages/ipykernel/comm/__init__.py\": 1741966331.6637235, \"/Users/ft14968/.pyenv/versions/3.11.1/lib/python3.11/site-packages/ipykernel/compiler.py\": 1741966331.6576695, \"/Users/ft14968/.pyenv/versions/3.11.1/lib/python3.11/site-packages/packaging/__init__.py\": 1741966310.8496056, \"/Users/ft14968/.pyenv/versions/3.11.1/lib/python3.11/site-packages/packaging/_structures.py\": 1741966310.8507829, \"/Users/ft14968/.pyenv/versions/3.11.1/lib/python3.11/site-packages/packaging/version.py\": 1741966310.852826, \"/Users/ft14968/.pyenv/versions/3.11.1/lib/python3.11/site-packages/ipykernel/eventloops.py\": 1741966331.6591556, \"/Users/ft14968/.pyenv/versions/3.11.1/lib/python3.11/site-packages/IPython/core/payloadpage.py\": 1741966329.0784903, \"/Users/ft14968/.pyenv/versions/3.11.1/lib/python3.11/site-packages/ipykernel/displayhook.py\": 1741966331.6585486, \"/Users/ft14968/.pyenv/versions/3.11.1/lib/python3.11/site-packages/ipykernel/zmqshell.py\": 1741966331.6635559, \"/Users/ft14968/.pyenv/versions/3.11.1/lib/python3.11/site-packages/ipykernel/ipkernel.py\": 1741966331.6604726, \"/Users/ft14968/.pyenv/versions/3.11.1/lib/python3.11/site-packages/ipykernel/parentpoller.py\": 1741966331.6624753, \"/Users/ft14968/.pyenv/versions/3.11.1/lib/python3.11/site-packages/ipykernel/kernelapp.py\": 1741966331.6613522, \"/Users/ft14968/.pyenv/versions/3.11.1/lib/python3.11/site-packages/tornado/platform/__init__.py\": 1741966299.8154564, \"/Users/ft14968/.pyenv/versions/3.11.1/lib/python3.11/site-packages/tornado/platform/asyncio.py\": 1741966299.8146923, \"/Users/ft14968/.pyenv/versions/3.11.1/lib/python3.11/site-packages/debugpy/_version.py\": 1741966317.4404435, \"/Users/ft14968/.pyenv/versions/3.11.1/lib/python3.11/site-packages/debugpy/public_api.py\": 1741966317.4406667, \"/Users/ft14968/.pyenv/versions/3.11.1/lib/python3.11/site-packages/debugpy/__init__.py\": 1741966317.440074, \"/Users/ft14968/.pyenv/versions/3.11.1/lib/python3.11/site-packages/debugpy/_vendored/_util.py\": 1741966317.441315, \"/Users/ft14968/.pyenv/versions/3.11.1/lib/python3.11/site-packages/debugpy/_vendored/__init__.py\": 1741966317.440853, \"/Users/ft14968/.pyenv/versions/3.11.1/lib/python3.11/site-packages/debugpy/_vendored/pydevd/_pydevd_bundle/__init__.py\": 1741966317.4643884, \"/Users/ft14968/.pyenv/versions/3.11.1/lib/python3.11/encodings/ascii.py\": 1716061060.5260007, \"/Users/ft14968/.pyenv/versions/3.11.1/lib/python3.11/encodings/latin_1.py\": 1716061061.1660354, \"/Users/ft14968/.pyenv/versions/3.11.1/lib/python3.11/stringprep.py\": 1716061059.7186692, \"/Users/ft14968/.pyenv/versions/3.11.1/lib/python3.11/encodings/idna.py\": 1716061060.9470475, \"/Users/ft14968/.pyenv/versions/3.11.1/lib/python3.11/site-packages/debugpy/_vendored/pydevd/_pydevd_bundle/pydevd_vm_type.py\": 1741966317.503045, \"/Users/ft14968/.pyenv/versions/3.11.1/lib/python3.11/site-packages/debugpy/_vendored/pydevd/_pydev_bundle/__init__.py\": 1741966317.44365, \"/Users/ft14968/.pyenv/versions/3.11.1/lib/python3.11/xmlrpc/__init__.py\": 1716061063.170343, \"/Users/ft14968/.pyenv/versions/3.11.1/lib/python3.11/gzip.py\": 1716061059.4255135, \"/Users/ft14968/.pyenv/versions/3.11.1/lib/python3.11/xmlrpc/client.py\": 1716061063.1759977, \"/Users/ft14968/.pyenv/versions/3.11.1/lib/python3.11/http/server.py\": 1716061061.4589972, \"/Users/ft14968/.pyenv/versions/3.11.1/lib/python3.11/xmlrpc/server.py\": 1716061063.1807468, \"/Users/ft14968/.pyenv/versions/3.11.1/lib/python3.11/site-packages/debugpy/_vendored/pydevd/_pydev_bundle/_pydev_saved_modules.py\": 1741966317.4490752, \"/Users/ft14968/.pyenv/versions/3.11.1/lib/python3.11/site-packages/debugpy/_vendored/pydevd/_pydevd_bundle/pydevd_constants.py\": 1741966317.4741666, \"/Users/ft14968/.pyenv/versions/3.11.1/lib/python3.11/site-packages/debugpy/_vendored/pydevd/_pydev_runfiles/__init__.py\": 1741966317.4616807, \"/Users/ft14968/.pyenv/versions/3.11.1/lib/python3.11/site-packages/debugpy/_vendored/pydevd/_pydevd_frame_eval/__init__.py\": 1741966317.5085874, \"/Users/ft14968/.pyenv/versions/3.11.1/lib/python3.11/site-packages/debugpy/_vendored/pydevd/pydev_ipython/__init__.py\": 1741966317.5303998, \"/Users/ft14968/.pyenv/versions/3.11.1/lib/python3.11/site-packages/debugpy/_vendored/pydevd/pydevd_plugins/__init__.py\": 1741966317.5795093, \"/Users/ft14968/.pyenv/versions/3.11.1/lib/python3.11/site-packages/debugpy/_vendored/pydevd/_pydev_bundle/pydev_log.py\": 1741966317.459143, \"/Users/ft14968/.pyenv/versions/3.11.1/lib/python3.11/site-packages/debugpy/_vendored/pydevd/_pydev_bundle/_pydev_filesystem_encoding.py\": 1741966317.4447958, \"/Users/ft14968/.pyenv/versions/3.11.1/lib/python3.11/site-packages/debugpy/_vendored/pydevd/_pydevd_bundle/pydevd_comm_constants.py\": 1741966317.4733214, \"/Users/ft14968/.pyenv/versions/3.11.1/lib/python3.11/site-packages/debugpy/_vendored/pydevd/pydevd_file_utils.py\": 1741966317.443104, \"/Users/ft14968/.pyenv/versions/3.11.1/lib/python3.11/site-packages/debugpy/_vendored/pydevd/_pydevd_bundle/pydevd_dont_trace_files.py\": 1741966317.484344, \"/Users/ft14968/.pyenv/versions/3.11.1/lib/python3.11/site-packages/debugpy/_vendored/pydevd/_pydev_bundle/_pydev_execfile.py\": 1741966317.4443104, \"/Users/ft14968/.pyenv/versions/3.11.1/lib/python3.11/site-packages/debugpy/_vendored/pydevd/_pydevd_bundle/pydevd_exec2.py\": 1741966317.4844868, \"/Users/ft14968/.pyenv/versions/3.11.1/lib/python3.11/site-packages/debugpy/_vendored/pydevd/_pydev_bundle/pydev_imports.py\": 1741966317.4561298, \"/Users/ft14968/.pyenv/versions/3.11.1/lib/python3.11/site-packages/debugpy/_vendored/pydevd/_pydev_bundle/pydev_is_thread_alive.py\": 1741966317.4576113, \"/Users/ft14968/.pyenv/versions/3.11.1/lib/python3.11/site-packages/debugpy/_vendored/pydevd/_pydev_bundle/pydev_override.py\": 1741966317.460751, \"/Users/ft14968/.pyenv/versions/3.11.1/lib/python3.11/site-packages/debugpy/_vendored/pydevd/pydevd_plugins/extensions/__init__.py\": 1741966317.5810661, \"/Users/ft14968/.pyenv/versions/3.11.1/lib/python3.11/site-packages/debugpy/_vendored/pydevd/_pydevd_bundle/pydevd_extension_utils.py\": 1741966317.48479, \"/Users/ft14968/.pyenv/versions/3.11.1/lib/python3.11/site-packages/debugpy/_vendored/pydevd/_pydevd_bundle/pydevd_frame_utils.py\": 1741966317.485536, \"/Users/ft14968/.pyenv/versions/3.11.1/lib/python3.11/site-packages/debugpy/_vendored/pydevd/_pydevd_bundle/pydevd_filtering.py\": 1741966317.4850245, \"/Users/ft14968/.pyenv/versions/3.11.1/lib/python3.11/site-packages/debugpy/_vendored/pydevd/_pydevd_bundle/pydevd_io.py\": 1741966317.4863021, \"/Users/ft14968/.pyenv/versions/3.11.1/lib/python3.11/site-packages/debugpy/_vendored/pydevd/_pydevd_bundle/pydevd_defaults.py\": 1741966317.4839633, \"/Users/ft14968/.pyenv/versions/3.11.1/lib/python3.11/site-packages/debugpy/_vendored/pydevd/_pydevd_bundle/pydevd_utils.py\": 1741966317.5004623, \"/Users/ft14968/.pyenv/versions/3.11.1/lib/python3.11/site-packages/debugpy/_vendored/pydevd/_pydevd_bundle/pydevd_runpy.py\": 1741966317.4922035, \"/Users/ft14968/.pyenv/versions/3.11.1/lib/python3.11/site-packages/debugpy/_vendored/pydevd/_pydev_bundle/_pydev_tipper_common.py\": 1741966317.4526548, \"/Users/ft14968/.pyenv/versions/3.11.1/lib/python3.11/site-packages/debugpy/_vendored/pydevd/_pydev_bundle/_pydev_imports_tipper.py\": 1741966317.446182, \"/Users/ft14968/.pyenv/versions/3.11.1/lib/python3.11/site-packages/debugpy/_vendored/pydevd/_pydev_bundle/_pydev_calltip_util.py\": 1741966317.4438822, \"/Users/ft14968/.pyenv/versions/3.11.1/lib/python3.11/site-packages/debugpy/_vendored/pydevd/_pydevd_bundle/pydevd_safe_repr.py\": 1741966317.4925914, \"/Users/ft14968/.pyenv/versions/3.11.1/lib/python3.11/site-packages/debugpy/_vendored/pydevd/_pydevd_bundle/pydevd_resolver.py\": 1741966317.491058, \"/Users/ft14968/.pyenv/versions/3.11.1/lib/python3.11/site-packages/debugpy/_vendored/pydevd/_pydevd_bundle/pydevd_extension_api.py\": 1741966317.4846318, \"/Users/ft14968/.pyenv/versions/3.11.1/lib/python3.11/site-packages/debugpy/_vendored/pydevd/_pydevd_bundle/pydevd_xml.py\": 1741966317.503312, \"/Users/ft14968/.pyenv/versions/3.11.1/lib/python3.11/site-packages/debugpy/_vendored/pydevd/_pydevd_bundle/pydevd_dont_trace.py\": 1741966317.484137, \"/Users/ft14968/.pyenv/versions/3.11.1/lib/python3.11/site-packages/debugpy/_vendored/pydevd/_pydevd_frame_eval/vendored/__init__.py\": 1741966317.514999, \"/Users/ft14968/.pyenv/versions/3.11.1/lib/python3.11/site-packages/debugpy/_vendored/pydevd/_pydevd_frame_eval/vendored/bytecode/flags.py\": 1741966317.5185318, \"/Users/ft14968/.pyenv/versions/3.11.1/lib/python3.11/site-packages/debugpy/_vendored/pydevd/_pydevd_frame_eval/vendored/bytecode/instr.py\": 1741966317.5189445, \"/Users/ft14968/.pyenv/versions/3.11.1/lib/python3.11/site-packages/debugpy/_vendored/pydevd/_pydevd_frame_eval/vendored/bytecode/bytecode.py\": 1741966317.5160604, \"/Users/ft14968/.pyenv/versions/3.11.1/lib/python3.11/site-packages/debugpy/_vendored/pydevd/_pydevd_frame_eval/vendored/bytecode/concrete.py\": 1741966317.5177522, \"/Users/ft14968/.pyenv/versions/3.11.1/lib/python3.11/site-packages/debugpy/_vendored/pydevd/_pydevd_frame_eval/vendored/bytecode/cfg.py\": 1741966317.5168612, \"/Users/ft14968/.pyenv/versions/3.11.1/lib/python3.11/site-packages/debugpy/_vendored/pydevd/_pydevd_frame_eval/vendored/bytecode/__init__.py\": 1741966317.5156102, \"/Users/ft14968/.pyenv/versions/3.11.1/lib/python3.11/site-packages/debugpy/_vendored/pydevd/_pydevd_bundle/pydevd_bytecode_utils.py\": 1741966317.4675794, \"/Users/ft14968/.pyenv/versions/3.11.1/lib/python3.11/site-packages/debugpy/_vendored/pydevd/_pydevd_bundle/pydevd_cython.cpython-311-darwin.so\": 1741966317.4812682, \"/Users/ft14968/.pyenv/versions/3.11.1/lib/python3.11/site-packages/debugpy/_vendored/pydevd/_pydevd_bundle/pydevd_cython_wrapper.py\": 1741966317.4822233, \"/Users/ft14968/.pyenv/versions/3.11.1/lib/python3.11/site-packages/debugpy/_vendored/pydevd/_pydevd_bundle/pydevd_additional_thread_info.py\": 1741966317.465953, \"/Users/ft14968/.pyenv/versions/3.11.1/lib/python3.11/site-packages/debugpy/_vendored/pydevd/_pydevd_bundle/pydevd_additional_thread_info_regular.py\": 1741966317.4665892, \"/Users/ft14968/.pyenv/versions/3.11.1/lib/python3.11/site-packages/debugpy/_vendored/pydevd/_pydevd_bundle/pydevd_trace_dispatch.py\": 1741966317.4978726, \"/Users/ft14968/.pyenv/versions/3.11.1/lib/python3.11/site-packages/debugpy/_vendored/pydevd/_pydevd_bundle/pydevd_import_class.py\": 1741966317.4859886, \"/Users/ft14968/.pyenv/versions/3.11.1/lib/python3.11/site-packages/debugpy/_vendored/pydevd/_pydevd_bundle/pydevd_breakpoints.py\": 1741966317.4673357, \"/Users/ft14968/.pyenv/versions/3.11.1/lib/python3.11/site-packages/debugpy/_vendored/pydevd/_pydevd_sys_monitoring/_pydevd_sys_monitoring.py\": 1741966317.5268917, \"/Users/ft14968/.pyenv/versions/3.11.1/lib/python3.11/site-packages/debugpy/_vendored/pydevd/_pydevd_sys_monitoring/pydevd_sys_monitoring.py\": 1741966317.529818, \"/Users/ft14968/.pyenv/versions/3.11.1/lib/python3.11/site-packages/debugpy/_vendored/pydevd/_pydevd_bundle/pydevd_thread_lifecycle.py\": 1741966317.4970045, \"/Users/ft14968/.pyenv/versions/3.11.1/lib/python3.11/site-packages/debugpy/_vendored/pydevd/_pydevd_bundle/pydevd_save_locals.py\": 1741966317.4936395, \"/Users/ft14968/.pyenv/versions/3.11.1/lib/python3.11/site-packages/debugpy/_vendored/pydevd/_pydev_bundle/pydev_monkey.py\": 1741966317.4594834, \"/Users/ft14968/.pyenv/versions/3.11.1/lib/python3.11/site-packages/debugpy/_vendored/pydevd/pydevd_tracing.py\": 1741966317.4433587, \"/Users/ft14968/.pyenv/versions/3.11.1/lib/python3.11/site-packages/debugpy/_vendored/pydevd/_pydevd_bundle/pydevd_collect_bytecode_info.py\": 1741966317.4706466, \"/Users/ft14968/.pyenv/versions/3.11.1/lib/python3.11/site-packages/debugpy/_vendored/pydevd/_pydevd_bundle/pydevd_daemon_thread.py\": 1741966317.48367, \"/Users/ft14968/.pyenv/versions/3.11.1/lib/python3.11/site-packages/debugpy/_vendored/pydevd/_pydevd_bundle/pydevd_timeout.py\": 1741966317.4973629, \"/Users/ft14968/.pyenv/versions/3.11.1/lib/python3.11/site-packages/debugpy/_vendored/pydevd/_pydevd_bundle/pydevd_vars.py\": 1741966317.5018055, \"/Users/ft14968/.pyenv/versions/3.11.1/lib/python3.11/site-packages/debugpy/_vendored/pydevd/_pydev_bundle/pydev_console_utils.py\": 1741966317.4546256, \"/Users/ft14968/.pyenv/versions/3.11.1/lib/python3.11/site-packages/debugpy/_vendored/pydevd/_pydevd_bundle/pydevd_custom_frames.py\": 1741966317.474888, \"/Users/ft14968/.pyenv/versions/3.11.1/lib/python3.11/site-packages/debugpy/_vendored/pydevd/_pydevd_bundle/pydevd_net_command.py\": 1741966317.4870412, \"/Users/ft14968/.pyenv/versions/3.11.1/lib/python3.11/site-packages/debugpy/_vendored/pydevd/_pydevd_bundle/pydevconsole_code.py\": 1741966317.4649606, \"/Users/ft14968/.pyenv/versions/3.11.1/lib/python3.11/site-packages/debugpy/_vendored/pydevd/_pydev_bundle/pydev_umd.py\": 1741966317.4609818, \"/Users/ft14968/.pyenv/versions/3.11.1/lib/python3.11/site-packages/debugpy/_vendored/pydevd/pydevconsole.py\": 1741966317.4424307, \"/Users/ft14968/.pyenv/versions/3.11.1/lib/python3.11/site-packages/debugpy/_vendored/pydevd/_pydev_bundle/_pydev_completer.py\": 1741966317.444066, \"/Users/ft14968/.pyenv/versions/3.11.1/lib/python3.11/site-packages/debugpy/_vendored/pydevd/_pydevd_bundle/pydevd_net_command_factory_xml.py\": 1741966317.4875576, \"/Users/ft14968/.pyenv/versions/3.11.1/lib/python3.11/site-packages/debugpy/_vendored/pydevd/_pydevd_frame_eval/pydevd_frame_eval_main.py\": 1741966317.5094106, \"/Users/ft14968/.pyenv/versions/3.11.1/lib/python3.11/site-packages/debugpy/_vendored/pydevd/_pydevd_bundle/pydevd_source_mapping.py\": 1741966317.4948764, \"/Users/ft14968/.pyenv/versions/3.11.1/lib/python3.11/site-packages/debugpy/_vendored/pydevd/_pydevd_bundle/pydevd_concurrency_analyser/__init__.py\": 1741966317.5062191, \"/Users/ft14968/.pyenv/versions/3.11.1/lib/python3.11/site-packages/debugpy/_vendored/pydevd/_pydevd_bundle/pydevd_concurrency_analyser/pydevd_thread_wrappers.py\": 1741966317.507673, \"/Users/ft14968/.pyenv/versions/3.11.1/lib/python3.11/site-packages/debugpy/_vendored/pydevd/_pydevd_bundle/pydevd_concurrency_analyser/pydevd_concurrency_logger.py\": 1741966317.506512, \"/Users/ft14968/.pyenv/versions/3.11.1/lib/python3.11/site-packages/debugpy/_vendored/pydevd/_pydevd_bundle/_debug_adapter/__init__.py\": 1741966317.5035124, \"/Users/ft14968/.pyenv/versions/3.11.1/lib/python3.11/site-packages/debugpy/_vendored/pydevd/_pydevd_bundle/_debug_adapter/pydevd_schema_log.py\": 1741966317.50598, \"/Users/ft14968/.pyenv/versions/3.11.1/lib/python3.11/site-packages/debugpy/_vendored/pydevd/_pydevd_bundle/_debug_adapter/pydevd_base_schema.py\": 1741966317.5051372, \"/Users/ft14968/.pyenv/versions/3.11.1/lib/python3.11/site-packages/debugpy/_vendored/pydevd/_pydevd_bundle/_debug_adapter/pydevd_schema.py\": 1741966317.505668, \"/Users/ft14968/.pyenv/versions/3.11.1/lib/python3.11/site-packages/debugpy/_vendored/pydevd/_pydevd_bundle/pydevd_reload.py\": 1741966317.490257, \"/Users/ft14968/.pyenv/versions/3.11.1/lib/python3.11/site-packages/debugpy/_vendored/pydevd/_pydev_bundle/fsnotify/__init__.py\": 1741966317.4615588, \"/Users/ft14968/.pyenv/versions/3.11.1/lib/python3.11/site-packages/debugpy/_vendored/pydevd/_pydevd_bundle/pydevd_console.py\": 1741966317.4739442, \"/Users/ft14968/.pyenv/versions/3.11.1/lib/python3.11/site-packages/debugpy/_vendored/pydevd/_pydevd_bundle/pydevd_comm.py\": 1741966317.4726052, \"/Users/ft14968/.pyenv/versions/3.11.1/lib/python3.11/site-packages/debugpy/_vendored/pydevd/_pydevd_bundle/pydevd_net_command_factory_json.py\": 1741966317.4873855, \"/Users/ft14968/.pyenv/versions/3.11.1/lib/python3.11/site-packages/debugpy/_vendored/pydevd/_pydevd_bundle/pydevd_api.py\": 1741966317.466975, \"/Users/ft14968/.pyenv/versions/3.11.1/lib/python3.11/site-packages/debugpy/_vendored/pydevd/_pydevd_bundle/pydevd_json_debug_options.py\": 1741966317.4866247, \"/Users/ft14968/.pyenv/versions/3.11.1/lib/python3.11/site-packages/debugpy/_vendored/pydevd/_pydevd_bundle/pydevd_process_net_command_json.py\": 1741966317.4883907, \"/Users/ft14968/.pyenv/versions/3.11.1/lib/python3.11/site-packages/debugpy/_vendored/pydevd/_pydevd_bundle/pydevd_traceproperty.py\": 1741966317.4992974, \"/Users/ft14968/.pyenv/versions/3.11.1/lib/python3.11/site-packages/debugpy/_vendored/pydevd/_pydevd_bundle/pydevd_process_net_command.py\": 1741966317.488147, \"/Users/ft14968/.pyenv/versions/3.11.1/lib/python3.11/site-packages/debugpy/_vendored/pydevd/_pydevd_bundle/pydevd_suspended_frames.py\": 1741966317.4967332, \"/Users/ft14968/.pyenv/versions/3.11.1/lib/python3.11/site-packages/debugpy/_vendored/pydevd/pydevd_plugins/pydevd_line_validation.py\": 1741966317.58057, \"/Users/ft14968/.pyenv/versions/3.11.1/lib/python3.11/site-packages/debugpy/_vendored/pydevd/pydevd_plugins/django_debug.py\": 1741966317.5797393, \"/Users/ft14968/.pyenv/versions/3.11.1/lib/python3.11/site-packages/debugpy/_vendored/pydevd/pydevd_plugins/jinja2_debug.py\": 1741966317.5799432, \"/Users/ft14968/.pyenv/versions/3.11.1/lib/python3.11/site-packages/debugpy/_vendored/pydevd/_pydevd_bundle/pydevd_plugin_utils.py\": 1741966317.4877894, \"/Users/ft14968/.pyenv/versions/3.11.1/lib/python3.11/site-packages/debugpy/_vendored/pydevd/pydevd_plugins/extensions/types/__init__.py\": 1741966317.5814595, \"/Users/ft14968/.pyenv/versions/3.11.1/lib/python3.11/site-packages/debugpy/_vendored/pydevd/pydevd_plugins/extensions/types/pydevd_helpers.py\": 1741966317.581731, \"/Users/ft14968/.pyenv/versions/3.11.1/lib/python3.11/site-packages/debugpy/_vendored/pydevd/pydevd_plugins/extensions/types/pydevd_plugin_numpy_types.py\": 1741966317.5822995, \"/Users/ft14968/.pyenv/versions/3.11.1/lib/python3.11/site-packages/debugpy/_vendored/pydevd/pydevd_plugins/extensions/types/pydevd_plugin_pandas_types.py\": 1741966317.5827875, \"/Users/ft14968/.pyenv/versions/3.11.1/lib/python3.11/site-packages/debugpy/_vendored/pydevd/pydevd_plugins/extensions/types/pydevd_plugins_django_form_str.py\": 1741966317.5845735, \"/Users/ft14968/.pyenv/versions/3.11.1/lib/python3.11/site-packages/debugpy/_vendored/pydevd/pydevd.py\": 1741966317.44283, \"/Users/ft14968/.pyenv/versions/3.11.1/lib/python3.11/site-packages/debugpy/_vendored/force_pydevd.py\": 1741966317.4414914, \"/Users/ft14968/.pyenv/versions/3.11.1/lib/python3.11/site-packages/debugpy/server/__init__.py\": 1741966317.5911143, \"/Users/ft14968/.pyenv/versions/3.11.1/lib/python3.11/site-packages/debugpy/adapter/__init__.py\": 1741966317.5849159, \"/Users/ft14968/.pyenv/versions/3.11.1/lib/python3.11/site-packages/debugpy/common/__init__.py\": 1741966317.587812, \"/Users/ft14968/.pyenv/versions/3.11.1/lib/python3.11/site-packages/debugpy/common/json.py\": 1741966317.5880644, \"/Users/ft14968/.pyenv/versions/3.11.1/lib/python3.11/site-packages/debugpy/common/timestamp.py\": 1741966317.5895045, \"/Users/ft14968/.pyenv/versions/3.11.1/lib/python3.11/site-packages/debugpy/common/util.py\": 1741966317.5897863, \"/Users/ft14968/.pyenv/versions/3.11.1/lib/python3.11/plistlib.py\": 1716061059.5738113, \"/Users/ft14968/.pyenv/versions/3.11.1/lib/python3.11/site-packages/debugpy/common/log.py\": 1741966317.5883694, \"/Users/ft14968/.pyenv/versions/3.11.1/lib/python3.11/site-packages/debugpy/common/sockets.py\": 1741966317.5890932, \"/Users/ft14968/.pyenv/versions/3.11.1/lib/python3.11/site-packages/debugpy/server/api.py\": 1741966317.5914955, \"/Users/ft14968/.pyenv/versions/3.11.1/lib/python3.11/site-packages/ipykernel/debugger.py\": 1741966331.658416, \"/Users/ft14968/.pyenv/versions/3.11.1/lib/python3.11/site-packages/IPython/core/completerlib.py\": 1741966329.0701642, \"/Users/ft14968/.pyenv/versions/3.11.1/lib/python3.11/ctypes/macholib/__init__.py\": 1716061060.0244668, \"/Users/ft14968/.pyenv/versions/3.11.1/lib/python3.11/ctypes/macholib/framework.py\": 1716061060.045023, \"/Users/ft14968/.pyenv/versions/3.11.1/lib/python3.11/ctypes/macholib/dylib.py\": 1716061060.0331736, \"/Users/ft14968/.pyenv/versions/3.11.1/lib/python3.11/ctypes/macholib/dyld.py\": 1716061060.0293438, \"/Users/ft14968/.pyenv/versions/3.11.1/lib/python3.11/ctypes/util.py\": 1716061060.009425, \"/Users/ft14968/.pyenv/versions/3.11.1/lib/python3.11/site-packages/appnope/_nope.py\": 1741966319.0541153, \"/Users/ft14968/.pyenv/versions/3.11.1/lib/python3.11/site-packages/appnope/__init__.py\": 1741966319.0533113, \"/Users/ft14968/.pyenv/versions/3.11.1/lib/python3.11/site-packages/numpy/_utils/_convertions.py\": 1710341712.5341103, \"/Users/ft14968/.pyenv/versions/3.11.1/lib/python3.11/site-packages/numpy/_utils/__init__.py\": 1710341712.5339413, \"/Users/ft14968/.pyenv/versions/3.11.1/lib/python3.11/site-packages/numpy/_globals.py\": 1710341712.4991703, \"/Users/ft14968/.pyenv/versions/3.11.1/lib/python3.11/site-packages/numpy/exceptions.py\": 1710341712.501754, \"/Users/ft14968/.pyenv/versions/3.11.1/lib/python3.11/site-packages/numpy/version.py\": 1710341712.4983, \"/Users/ft14968/.pyenv/versions/3.11.1/lib/python3.11/site-packages/numpy/_distributor_init.py\": 1710341712.5004609, \"/Users/ft14968/.pyenv/versions/3.11.1/lib/python3.11/site-packages/numpy/_utils/_inspect.py\": 1710341712.5342867, \"/Users/ft14968/.pyenv/versions/3.11.1/lib/python3.11/site-packages/numpy/core/_exceptions.py\": 1710341712.5489686, \"/Users/ft14968/.pyenv/versions/3.11.1/lib/python3.11/site-packages/numpy/dtypes.py\": 1710341712.5002184, \"/Users/ft14968/.pyenv/versions/3.11.1/lib/python3.11/site-packages/numpy/core/_multiarray_umath.cpython-311-darwin.so\": 1710341712.5410695, \"/Users/ft14968/.pyenv/versions/3.11.1/lib/python3.11/site-packages/numpy/core/overrides.py\": 1710341712.5450017, \"/Users/ft14968/.pyenv/versions/3.11.1/lib/python3.11/site-packages/numpy/core/multiarray.py\": 1710341712.5431118, \"/Users/ft14968/.pyenv/versions/3.11.1/lib/python3.11/site-packages/numpy/core/umath.py\": 1710341712.5355628, \"/Users/ft14968/.pyenv/versions/3.11.1/lib/python3.11/site-packages/numpy/core/_string_helpers.py\": 1710341712.54288, \"/Users/ft14968/.pyenv/versions/3.11.1/lib/python3.11/site-packages/numpy/compat/py3k.py\": 1710341712.534568, \"/Users/ft14968/.pyenv/versions/3.11.1/lib/python3.11/site-packages/numpy/compat/__init__.py\": 1710341712.5347202, \"/Users/ft14968/.pyenv/versions/3.11.1/lib/python3.11/site-packages/numpy/core/_dtype.py\": 1710341712.536244, \"/Users/ft14968/.pyenv/versions/3.11.1/lib/python3.11/site-packages/numpy/core/_type_aliases.py\": 1710341712.549528, \"/Users/ft14968/.pyenv/versions/3.11.1/lib/python3.11/site-packages/numpy/core/numerictypes.py\": 1710341712.5491683, \"/Users/ft14968/.pyenv/versions/3.11.1/lib/python3.11/site-packages/numpy/core/_ufunc_config.py\": 1710341712.5486128, \"/Users/ft14968/.pyenv/versions/3.11.1/lib/python3.11/site-packages/numpy/core/_methods.py\": 1710341712.5415967, \"/Users/ft14968/.pyenv/versions/3.11.1/lib/python3.11/site-packages/numpy/core/fromnumeric.py\": 1710341712.5358527, \"/Users/ft14968/.pyenv/versions/3.11.1/lib/python3.11/site-packages/numpy/core/shape_base.py\": 1710341712.5463915, \"/Users/ft14968/.pyenv/versions/3.11.1/lib/python3.11/site-packages/numpy/core/arrayprint.py\": 1710341712.551014, \"/Users/ft14968/.pyenv/versions/3.11.1/lib/python3.11/site-packages/numpy/core/_asarray.py\": 1710341712.543289, \"/Users/ft14968/.pyenv/versions/3.11.1/lib/python3.11/site-packages/numpy/core/numeric.py\": 1710341712.5471895, \"/Users/ft14968/.pyenv/versions/3.11.1/lib/python3.11/site-packages/numpy/core/defchararray.py\": 1710341712.5456338, \"/Users/ft14968/.pyenv/versions/3.11.1/lib/python3.11/site-packages/numpy/core/records.py\": 1710341712.5435057, \"/Users/ft14968/.pyenv/versions/3.11.1/lib/python3.11/site-packages/numpy/core/memmap.py\": 1710341712.544815, \"/Users/ft14968/.pyenv/versions/3.11.1/lib/python3.11/site-packages/numpy/core/function_base.py\": 1710341712.5477574, \"/Users/ft14968/.pyenv/versions/3.11.1/lib/python3.11/site-packages/numpy/core/_machar.py\": 1710341712.54462, \"/Users/ft14968/.pyenv/versions/3.11.1/lib/python3.11/site-packages/numpy/core/getlimits.py\": 1710341712.545218, \"/Users/ft14968/.pyenv/versions/3.11.1/lib/python3.11/site-packages/numpy/core/einsumfunc.py\": 1710341712.5479968, \"/Users/ft14968/.pyenv/versions/3.11.1/lib/python3.11/site-packages/numpy/core/_multiarray_tests.cpython-311-darwin.so\": 1710341712.546894, \"/Users/ft14968/.pyenv/versions/3.11.1/lib/python3.11/site-packages/numpy/core/_add_newdocs.py\": 1710341712.536792, \"/Users/ft14968/.pyenv/versions/3.11.1/lib/python3.11/site-packages/numpy/core/_add_newdocs_scalars.py\": 1710341712.5442343, \"/Users/ft14968/.pyenv/versions/3.11.1/lib/python3.11/site-packages/numpy/core/_dtype_ctypes.py\": 1710341712.5454013, \"/Users/ft14968/.pyenv/versions/3.11.1/lib/python3.11/site-packages/numpy/core/_internal.py\": 1710341712.541807, \"/Users/ft14968/.pyenv/versions/3.11.1/lib/python3.11/site-packages/numpy/_pytesttester.py\": 1710341712.5021808, \"/Users/ft14968/.pyenv/versions/3.11.1/lib/python3.11/site-packages/numpy/core/__init__.py\": 1710341712.544424, \"/Users/ft14968/.pyenv/versions/3.11.1/lib/python3.11/site-packages/numpy/__config__.py\": 1710341712.5007246, \"/Users/ft14968/.pyenv/versions/3.11.1/lib/python3.11/site-packages/numpy/lib/mixins.py\": 1710341712.6908293, \"/Users/ft14968/.pyenv/versions/3.11.1/lib/python3.11/site-packages/numpy/lib/ufunclike.py\": 1710341712.6973896, \"/Users/ft14968/.pyenv/versions/3.11.1/lib/python3.11/site-packages/numpy/lib/type_check.py\": 1710341712.6966097, \"/Users/ft14968/.pyenv/versions/3.11.1/lib/python3.11/site-packages/numpy/lib/scimath.py\": 1710341712.6917288, \"/Users/ft14968/.pyenv/versions/3.11.1/lib/python3.11/site-packages/numpy/lib/stride_tricks.py\": 1710341712.6950474, \"/Users/ft14968/.pyenv/versions/3.11.1/lib/python3.11/site-packages/numpy/lib/twodim_base.py\": 1710341712.6934886, \"/Users/ft14968/.pyenv/versions/3.11.1/lib/python3.11/site-packages/numpy/linalg/_umath_linalg.cpython-311-darwin.so\": 1710341712.5836694, \"/Users/ft14968/.pyenv/versions/3.11.1/lib/python3.11/site-packages/numpy/_typing/_nested_sequence.py\": 1710341712.5933263, \"/Users/ft14968/.pyenv/versions/3.11.1/lib/python3.11/site-packages/numpy/_typing/_nbit.py\": 1710341712.5919845, \"/Users/ft14968/.pyenv/versions/3.11.1/lib/python3.11/site-packages/numpy/_typing/_char_codes.py\": 1710341712.5914738, \"/Users/ft14968/.pyenv/versions/3.11.1/lib/python3.11/site-packages/numpy/_typing/_scalars.py\": 1710341712.5928264, \"/Users/ft14968/.pyenv/versions/3.11.1/lib/python3.11/site-packages/numpy/_typing/_shape.py\": 1710341712.5929928, \"/Users/ft14968/.pyenv/versions/3.11.1/lib/python3.11/site-packages/numpy/_typing/_dtype_like.py\": 1710341712.592336, \"/Users/ft14968/.pyenv/versions/3.11.1/lib/python3.11/site-packages/numpy/_typing/_array_like.py\": 1710341712.5926685, \"/Users/ft14968/.pyenv/versions/3.11.1/lib/python3.11/site-packages/numpy/_typing/__init__.py\": 1710341712.592157, \"/Users/ft14968/.pyenv/versions/3.11.1/lib/python3.11/site-packages/numpy/linalg/linalg.py\": 1710341712.5841763, \"/Users/ft14968/.pyenv/versions/3.11.1/lib/python3.11/site-packages/numpy/linalg/__init__.py\": 1710341712.5833242, \"/Users/ft14968/.pyenv/versions/3.11.1/lib/python3.11/site-packages/numpy/matrixlib/defmatrix.py\": 1710341712.7186356, \"/Users/ft14968/.pyenv/versions/3.11.1/lib/python3.11/site-packages/numpy/matrixlib/__init__.py\": 1710341712.7181914, \"/Users/ft14968/.pyenv/versions/3.11.1/lib/python3.11/site-packages/numpy/lib/histograms.py\": 1710341712.6915457, \"/Users/ft14968/.pyenv/versions/3.11.1/lib/python3.11/site-packages/numpy/lib/function_base.py\": 1710341712.6958334, \"/Users/ft14968/.pyenv/versions/3.11.1/lib/python3.11/site-packages/numpy/lib/index_tricks.py\": 1710341712.693937, \"/Users/ft14968/.pyenv/versions/3.11.1/lib/python3.11/site-packages/numpy/lib/nanfunctions.py\": 1710341712.6910238, \"/Users/ft14968/.pyenv/versions/3.11.1/lib/python3.11/site-packages/numpy/lib/shape_base.py\": 1710341712.6946325, \"/Users/ft14968/.pyenv/versions/3.11.1/lib/python3.11/site-packages/numpy/lib/polynomial.py\": 1710341712.6969228, \"/Users/ft14968/.pyenv/versions/3.11.1/lib/python3.11/site-packages/numpy/lib/utils.py\": 1710341712.6952224, \"/Users/ft14968/.pyenv/versions/3.11.1/lib/python3.11/site-packages/numpy/lib/arraysetops.py\": 1710341712.6961567, \"/Users/ft14968/.pyenv/versions/3.11.1/lib/python3.11/site-packages/numpy/lib/format.py\": 1710341712.6933298, \"/Users/ft14968/.pyenv/versions/3.11.1/lib/python3.11/site-packages/numpy/lib/_datasource.py\": 1710341712.6972528, \"/Users/ft14968/.pyenv/versions/3.11.1/lib/python3.11/site-packages/numpy/lib/_iotools.py\": 1710341712.6905572, \"/Users/ft14968/.pyenv/versions/3.11.1/lib/python3.11/site-packages/numpy/lib/npyio.py\": 1710341712.6941676, \"/Users/ft14968/.pyenv/versions/3.11.1/lib/python3.11/site-packages/numpy/lib/arrayterator.py\": 1710341712.6954896, \"/Users/ft14968/.pyenv/versions/3.11.1/lib/python3.11/site-packages/numpy/lib/arraypad.py\": 1710341712.6964605, \"/Users/ft14968/.pyenv/versions/3.11.1/lib/python3.11/site-packages/numpy/lib/_version.py\": 1710341712.6922674, \"/Users/ft14968/.pyenv/versions/3.11.1/lib/python3.11/site-packages/numpy/lib/__init__.py\": 1710341712.6931694, \"/Users/ft14968/.pyenv/versions/3.11.1/lib/python3.11/site-packages/numpy/fft/_pocketfft_internal.cpython-311-darwin.so\": 1710341712.702903, \"/Users/ft14968/.pyenv/versions/3.11.1/lib/python3.11/site-packages/numpy/fft/_pocketfft.py\": 1710341712.7036188, \"/Users/ft14968/.pyenv/versions/3.11.1/lib/python3.11/site-packages/numpy/fft/helper.py\": 1710341712.7033153, \"/Users/ft14968/.pyenv/versions/3.11.1/lib/python3.11/site-packages/numpy/fft/__init__.py\": 1710341712.7031868, \"/Users/ft14968/.pyenv/versions/3.11.1/lib/python3.11/site-packages/numpy/polynomial/polyutils.py\": 1710341712.7207103, \"/Users/ft14968/.pyenv/versions/3.11.1/lib/python3.11/site-packages/numpy/polynomial/_polybase.py\": 1710341712.7203813, \"/Users/ft14968/.pyenv/versions/3.11.1/lib/python3.11/site-packages/numpy/polynomial/polynomial.py\": 1710341712.7227585, \"/Users/ft14968/.pyenv/versions/3.11.1/lib/python3.11/site-packages/numpy/polynomial/chebyshev.py\": 1710341712.7225676, \"/Users/ft14968/.pyenv/versions/3.11.1/lib/python3.11/site-packages/numpy/polynomial/legendre.py\": 1710341712.7229486, \"/Users/ft14968/.pyenv/versions/3.11.1/lib/python3.11/site-packages/numpy/polynomial/hermite.py\": 1710341712.7231386, \"/Users/ft14968/.pyenv/versions/3.11.1/lib/python3.11/site-packages/numpy/polynomial/hermite_e.py\": 1710341712.722358, \"/Users/ft14968/.pyenv/versions/3.11.1/lib/python3.11/site-packages/numpy/polynomial/laguerre.py\": 1710341712.7201824, \"/Users/ft14968/.pyenv/versions/3.11.1/lib/python3.11/site-packages/numpy/polynomial/__init__.py\": 1710341712.721004, \"/Users/ft14968/.pyenv/versions/3.11.1/lib/python3.11/site-packages/numpy/random/_common.cpython-311-darwin.so\": 1710341712.707232, \"/Users/ft14968/.pyenv/versions/3.11.1/lib/python3.11/secrets.py\": 1716061059.6459746, \"/Users/ft14968/.pyenv/versions/3.11.1/lib/python3.11/site-packages/numpy/random/bit_generator.cpython-311-darwin.so\": 1710341712.7120109, \"/Users/ft14968/.pyenv/versions/3.11.1/lib/python3.11/site-packages/numpy/random/_bounded_integers.cpython-311-darwin.so\": 1710341712.7111602, \"/Users/ft14968/.pyenv/versions/3.11.1/lib/python3.11/site-packages/numpy/random/_mt19937.cpython-311-darwin.so\": 1710341712.7101402, \"/Users/ft14968/.pyenv/versions/3.11.1/lib/python3.11/site-packages/numpy/random/mtrand.cpython-311-darwin.so\": 1710341712.708556, \"/Users/ft14968/.pyenv/versions/3.11.1/lib/python3.11/site-packages/numpy/random/_philox.cpython-311-darwin.so\": 1710341712.7098353, \"/Users/ft14968/.pyenv/versions/3.11.1/lib/python3.11/site-packages/numpy/random/_pcg64.cpython-311-darwin.so\": 1710341712.7094057, \"/Users/ft14968/.pyenv/versions/3.11.1/lib/python3.11/site-packages/numpy/random/_sfc64.cpython-311-darwin.so\": 1710341712.7089803, \"/Users/ft14968/.pyenv/versions/3.11.1/lib/python3.11/site-packages/numpy/random/_generator.cpython-311-darwin.so\": 1710341712.7063043, \"/Users/ft14968/.pyenv/versions/3.11.1/lib/python3.11/site-packages/numpy/random/_pickle.py\": 1710341712.7074254, \"/Users/ft14968/.pyenv/versions/3.11.1/lib/python3.11/site-packages/numpy/random/__init__.py\": 1710341712.7087464, \"/Users/ft14968/.pyenv/versions/3.11.1/lib/python3.11/site-packages/numpy/ctypeslib.py\": 1710341712.501001, \"/Users/ft14968/.pyenv/versions/3.11.1/lib/python3.11/site-packages/numpy/ma/core.py\": 1710341712.5870738, \"/Users/ft14968/.pyenv/versions/3.11.1/lib/python3.11/site-packages/numpy/ma/extras.py\": 1710341712.5853858, \"/Users/ft14968/.pyenv/versions/3.11.1/lib/python3.11/site-packages/numpy/ma/__init__.py\": 1710341712.5866308, \"/Users/ft14968/.pyenv/versions/3.11.1/lib/python3.11/site-packages/numpy/__init__.py\": 1710341712.4999492, \"/Users/ft14968/.pyenv/versions/3.11.1/lib/python3.11/site-packages/matplotlib/_api/deprecation.py\": 1710757427.5148447, \"/Users/ft14968/.pyenv/versions/3.11.1/lib/python3.11/site-packages/matplotlib/_api/__init__.py\": 1710757427.5151904, \"/Users/ft14968/.pyenv/versions/3.11.1/lib/python3.11/site-packages/matplotlib/_version.py\": 1710757427.435907, \"/Users/ft14968/.pyenv/versions/3.11.1/lib/python3.11/site-packages/matplotlib/_c_internal_utils.cpython-311-darwin.so\": 1710757427.4340947, \"/Users/ft14968/.pyenv/versions/3.11.1/lib/python3.11/site-packages/matplotlib/cbook.py\": 1710757427.4399953, \"/Users/ft14968/.pyenv/versions/3.11.1/lib/python3.11/site-packages/matplotlib/_docstring.py\": 1710757427.4647079, \"/Users/ft14968/.pyenv/versions/3.11.1/lib/python3.11/site-packages/PIL/_version.py\": 1710341711.699586, \"/Users/ft14968/.pyenv/versions/3.11.1/lib/python3.11/site-packages/PIL/__init__.py\": 1710341711.7058177, \"/Users/ft14968/.pyenv/versions/3.11.1/lib/python3.11/site-packages/defusedxml/common.py\": 1741966315.3480892, \"/Users/ft14968/.pyenv/versions/3.11.1/lib/python3.11/site-packages/defusedxml/__init__.py\": 1741966315.3477643, \"/Users/ft14968/.pyenv/versions/3.11.1/lib/python3.11/xml/etree/__init__.py\": 1716061063.1217196, \"/Users/ft14968/.pyenv/versions/3.11.1/lib/python3.11/xml/etree/ElementPath.py\": 1716061063.1170187, \"/Users/ft14968/.pyenv/versions/3.11.1/lib/python3.11/lib-dynload/_elementtree.cpython-311-darwin.so\": 1716061040.0, \"/Users/ft14968/.pyenv/versions/3.11.1/lib/python3.11/xml/etree/ElementTree.py\": 1716061063.1192224, \"/Users/ft14968/.pyenv/versions/3.11.1/lib/python3.11/site-packages/defusedxml/ElementTree.py\": 1741966315.3475735, \"/Users/ft14968/.pyenv/versions/3.11.1/lib/python3.11/site-packages/PIL/ExifTags.py\": 1710341711.702633, \"/Users/ft14968/.pyenv/versions/3.11.1/lib/python3.11/site-packages/PIL/ImageMode.py\": 1710341711.6941218, \"/Users/ft14968/.pyenv/versions/3.11.1/lib/python3.11/site-packages/PIL/TiffTags.py\": 1710341711.7116323, \"/Users/ft14968/.pyenv/versions/3.11.1/lib/python3.11/site-packages/PIL/_binary.py\": 1710341711.7174423, \"/Users/ft14968/.pyenv/versions/3.11.1/lib/python3.11/site-packages/PIL/_typing.py\": 1710341711.6988797, \"/Users/ft14968/.pyenv/versions/3.11.1/lib/python3.11/site-packages/PIL/_util.py\": 1710341711.7120829, \"/Users/ft14968/.pyenv/versions/3.11.1/lib/python3.11/site-packages/PIL/_imaging.cpython-311-darwin.so\": 1710341711.7141228, \"/Users/ft14968/.pyenv/versions/3.11.1/lib/python3.11/site-packages/cffi/lock.py\": 1741966328.5025945, \"/Users/ft14968/.pyenv/versions/3.11.1/lib/python3.11/site-packages/cffi/error.py\": 1741966328.4991286, \"/Users/ft14968/.pyenv/versions/3.11.1/lib/python3.11/site-packages/cffi/model.py\": 1741966328.5007083, \"/Users/ft14968/.pyenv/versions/3.11.1/lib/python3.11/site-packages/cffi/api.py\": 1741966328.5012195, \"/Users/ft14968/.pyenv/versions/3.11.1/lib/python3.11/site-packages/cffi/__init__.py\": 1741966328.499789, \"/Users/ft14968/.pyenv/versions/3.11.1/lib/python3.11/site-packages/PIL/Image.py\": 1710341711.7178218, \"/Users/ft14968/.pyenv/versions/3.11.1/lib/python3.11/site-packages/PIL/ImageChops.py\": 1710341711.7034898, \"/Users/ft14968/.pyenv/versions/3.11.1/lib/python3.11/site-packages/PIL/_deprecate.py\": 1710341711.7039075, \"/Users/ft14968/.pyenv/versions/3.11.1/lib/python3.11/site-packages/PIL/ImageFile.py\": 1710341711.695273, \"/Users/ft14968/.pyenv/versions/3.11.1/lib/python3.11/site-packages/PIL/GimpGradientFile.py\": 1710341711.7069936, \"/Users/ft14968/.pyenv/versions/3.11.1/lib/python3.11/site-packages/PIL/GimpPaletteFile.py\": 1710341711.6968331, \"/Users/ft14968/.pyenv/versions/3.11.1/lib/python3.11/site-packages/PIL/ImageColor.py\": 1710341711.6971653, \"/Users/ft14968/.pyenv/versions/3.11.1/lib/python3.11/site-packages/PIL/PaletteFile.py\": 1710341711.702026, \"/Users/ft14968/.pyenv/versions/3.11.1/lib/python3.11/site-packages/PIL/ImagePalette.py\": 1710341711.714621, \"/Users/ft14968/.pyenv/versions/3.11.1/lib/python3.11/site-packages/PIL/ImageSequence.py\": 1710341711.716605, \"/Users/ft14968/.pyenv/versions/3.11.1/lib/python3.11/site-packages/PIL/PngImagePlugin.py\": 1710341711.694398, \"/Users/ft14968/.pyenv/versions/3.11.1/lib/python3.11/site-packages/matplotlib/_cm.py\": 1710757427.4388328, \"/Users/ft14968/.pyenv/versions/3.11.1/lib/python3.11/site-packages/matplotlib/_path.cpython-311-darwin.so\": 1710757427.433066, \"/Users/ft14968/.pyenv/versions/3.11.1/lib/python3.11/site-packages/matplotlib/bezier.py\": 1710757427.4423823, \"/Users/ft14968/.pyenv/versions/3.11.1/lib/python3.11/site-packages/matplotlib/path.py\": 1710757427.4649887, \"/Users/ft14968/.pyenv/versions/3.11.1/lib/python3.11/site-packages/matplotlib/transforms.py\": 1710757427.4279287, \"/Users/ft14968/.pyenv/versions/3.11.1/lib/python3.11/site-packages/matplotlib/ticker.py\": 1710757427.4644377, \"/Users/ft14968/.pyenv/versions/3.11.1/lib/python3.11/site-packages/matplotlib/scale.py\": 1710757427.4667351, \"/Users/ft14968/.pyenv/versions/3.11.1/lib/python3.11/site-packages/matplotlib/_color_data.py\": 1710757427.451784, \"/Users/ft14968/.pyenv/versions/3.11.1/lib/python3.11/site-packages/matplotlib/colors.py\": 1710757427.4690943, \"/Users/ft14968/.pyenv/versions/3.11.1/lib/python3.11/site-packages/pyparsing/util.py\": 1710341711.6352723, \"/Users/ft14968/.pyenv/versions/3.11.1/lib/python3.11/site-packages/pyparsing/unicode.py\": 1710341711.6350386, \"/Users/ft14968/.pyenv/versions/3.11.1/lib/python3.11/site-packages/pyparsing/exceptions.py\": 1710341711.6339235, \"/Users/ft14968/.pyenv/versions/3.11.1/lib/python3.11/site-packages/pyparsing/actions.py\": 1710341711.6329443, \"/Users/ft14968/.pyenv/versions/3.11.1/lib/python3.11/site-packages/pyparsing/results.py\": 1710341711.6345596, \"/Users/ft14968/.pyenv/versions/3.11.1/lib/python3.11/site-packages/pyparsing/core.py\": 1710341711.6336656, \"/Users/ft14968/.pyenv/versions/3.11.1/lib/python3.11/site-packages/pyparsing/helpers.py\": 1710341711.6341736, \"/Users/ft14968/.pyenv/versions/3.11.1/lib/python3.11/site-packages/pyparsing/testing.py\": 1710341711.634813, \"/Users/ft14968/.pyenv/versions/3.11.1/lib/python3.11/site-packages/pyparsing/common.py\": 1710341711.633199, \"/Users/ft14968/.pyenv/versions/3.11.1/lib/python3.11/site-packages/pyparsing/__init__.py\": 1710341711.632668, \"/Users/ft14968/.pyenv/versions/3.11.1/lib/python3.11/site-packages/matplotlib/_fontconfig_pattern.py\": 1710757427.4413517, \"/Users/ft14968/.pyenv/versions/3.11.1/lib/python3.11/site-packages/matplotlib/_enums.py\": 1710757427.4459298, \"/Users/ft14968/.pyenv/versions/3.11.1/lib/python3.11/site-packages/cycler/__init__.py\": 1710341718.932183, \"/Users/ft14968/.pyenv/versions/3.11.1/lib/python3.11/site-packages/matplotlib/rcsetup.py\": 1710757427.4630911, \"/Users/ft14968/.pyenv/versions/3.11.1/lib/python3.11/site-packages/matplotlib/ft2font.cpython-311-darwin.so\": 1710757427.4383833, \"/Users/ft14968/.pyenv/versions/3.11.1/lib/python3.11/site-packages/kiwisolver/exceptions.py\": 1710341717.3400326, \"/Users/ft14968/.pyenv/versions/3.11.1/lib/python3.11/site-packages/kiwisolver/_cext.cpython-311-darwin.so\": 1710341717.3393285, \"/Users/ft14968/.pyenv/versions/3.11.1/lib/python3.11/site-packages/kiwisolver/__init__.py\": 1710341717.3395603, \"/Users/ft14968/.pyenv/versions/3.11.1/lib/python3.11/site-packages/matplotlib/_cm_listed.py\": 1710757427.4601786, \"/Users/ft14968/.pyenv/versions/3.11.1/lib/python3.11/site-packages/matplotlib/cm.py\": 1710757427.4428892, \"/Users/ft14968/.pyenv/versions/3.11.1/lib/python3.11/site-packages/matplotlib/__init__.py\": 1710757427.444345, \"/Users/ft14968/.pyenv/versions/3.11.1/lib/python3.11/site-packages/matplotlib/artist.py\": 1710757427.4501812, \"/Users/ft14968/.pyenv/versions/3.11.1/lib/python3.11/site-packages/matplotlib/hatch.py\": 1710757427.4269106, \"/Users/ft14968/.pyenv/versions/3.11.1/lib/python3.11/site-packages/matplotlib/markers.py\": 1710757427.456001, \"/Users/ft14968/.pyenv/versions/3.11.1/lib/python3.11/site-packages/matplotlib/lines.py\": 1710757427.447779, \"/Users/ft14968/.pyenv/versions/3.11.1/lib/python3.11/site-packages/matplotlib/collections.py\": 1710757427.4531941, \"/Users/ft14968/.pyenv/versions/3.11.1/lib/python3.11/site-packages/matplotlib/_pylab_helpers.py\": 1710757427.4589999, \"/Users/ft14968/.pyenv/versions/3.11.1/lib/python3.11/site-packages/matplotlib/backend_tools.py\": 1710757427.4507394, \"/Users/ft14968/.pyenv/versions/3.11.1/lib/python3.11/site-packages/matplotlib/_mathtext_data.py\": 1710757427.449711, \"/Users/ft14968/.pyenv/versions/3.11.1/lib/python3.11/site-packages/matplotlib/_afm.py\": 1710757427.4426374, \"/Users/ft14968/.pyenv/versions/3.11.1/lib/python3.11/site-packages/matplotlib/font_manager.py\": 1710757427.4418936, \"/Users/ft14968/.pyenv/versions/3.11.1/lib/python3.11/site-packages/matplotlib/patches.py\": 1710757427.4526002, \"/Users/ft14968/.pyenv/versions/3.11.1/lib/python3.11/site-packages/matplotlib/_text_helpers.py\": 1710757427.4547036, \"/Users/ft14968/.pyenv/versions/3.11.1/lib/python3.11/site-packages/matplotlib/dviread.py\": 1710757427.4484708, \"/Users/ft14968/.pyenv/versions/3.11.1/lib/python3.11/site-packages/matplotlib/_mathtext.py\": 1710757427.4454446, \"/Users/ft14968/.pyenv/versions/3.11.1/lib/python3.11/site-packages/matplotlib/mathtext.py\": 1710757427.4411504, \"/Users/ft14968/.pyenv/versions/3.11.1/lib/python3.11/site-packages/matplotlib/texmanager.py\": 1710757427.452215, \"/Users/ft14968/.pyenv/versions/3.11.1/lib/python3.11/site-packages/matplotlib/textpath.py\": 1710757427.431691, \"/Users/ft14968/.pyenv/versions/3.11.1/lib/python3.11/site-packages/matplotlib/text.py\": 1710757427.4552522, \"/Users/ft14968/.pyenv/versions/3.11.1/lib/python3.11/site-packages/matplotlib/_tight_bbox.py\": 1710757427.4313986, \"/Users/ft14968/.pyenv/versions/3.11.1/lib/python3.11/site-packages/matplotlib/widgets.py\": 1710757427.4481533, \"/Users/ft14968/.pyenv/versions/3.11.1/lib/python3.11/site-packages/matplotlib/backend_managers.py\": 1710757427.4394073, \"/Users/ft14968/.pyenv/versions/3.11.1/lib/python3.11/site-packages/matplotlib/_layoutgrid.py\": 1710757427.465494, \"/Users/ft14968/.pyenv/versions/3.11.1/lib/python3.11/site-packages/matplotlib/_constrained_layout.py\": 1710757427.467429, \"/Users/ft14968/.pyenv/versions/3.11.1/lib/python3.11/site-packages/matplotlib/_tight_layout.py\": 1710757427.4264848, \"/Users/ft14968/.pyenv/versions/3.11.1/lib/python3.11/site-packages/matplotlib/layout_engine.py\": 1710757427.458052, \"/Users/ft14968/.pyenv/versions/3.11.1/lib/python3.11/site-packages/matplotlib/backend_bases.py\": 1710757427.4326022, \"/Users/ft14968/.pyenv/versions/3.11.1/lib/python3.11/site-packages/matplotlib/contour.py\": 1710757427.4657931, \"/Users/ft14968/.pyenv/versions/3.11.1/lib/python3.11/site-packages/matplotlib/spines.py\": 1710757427.4536557, \"/Users/ft14968/.pyenv/versions/3.11.1/lib/python3.11/site-packages/matplotlib/colorbar.py\": 1710757427.4355323, \"/Users/ft14968/.pyenv/versions/3.11.1/lib/python3.11/site-packages/matplotlib/_image.cpython-311-darwin.so\": 1710757427.4544313, \"/Users/ft14968/.pyenv/versions/3.11.1/lib/python3.11/site-packages/matplotlib/image.py\": 1710757427.4664667, \"/Users/ft14968/.pyenv/versions/3.11.1/lib/python3.11/site-packages/matplotlib/style/core.py\": 1710757427.5159743, \"/Users/ft14968/.pyenv/versions/3.11.1/lib/python3.11/site-packages/matplotlib/style/__init__.py\": 1710757427.5156496, \"/Users/ft14968/.pyenv/versions/3.11.1/lib/python3.11/site-packages/matplotlib/_blocking_input.py\": 1710757427.458263, \"/Users/ft14968/.pyenv/versions/3.11.1/lib/python3.11/site-packages/matplotlib/offsetbox.py\": 1710757427.446191, \"/Users/ft14968/.pyenv/versions/3.11.1/lib/python3.11/site-packages/matplotlib/units.py\": 1710757427.4338446, \"/Users/ft14968/.pyenv/versions/3.11.1/lib/python3.11/site-packages/matplotlib/axis.py\": 1710757427.430691, \"/Users/ft14968/.pyenv/versions/3.11.1/lib/python3.11/site-packages/matplotlib/gridspec.py\": 1710757427.4472687, \"/Users/ft14968/.pyenv/versions/3.11.1/lib/python3.11/site-packages/matplotlib/table.py\": 1710757427.4610653, \"/Users/ft14968/.pyenv/versions/3.11.1/lib/python3.11/site-packages/matplotlib/axes/_base.py\": 1710757427.4758012, \"/Users/ft14968/.pyenv/versions/3.11.1/lib/python3.11/site-packages/matplotlib/category.py\": 1710757427.4671736, \"/Users/ft14968/.pyenv/versions/3.11.1/lib/python3.11/site-packages/dateutil/rrule.py\": 1741966321.2869332, \"/Users/ft14968/.pyenv/versions/3.11.1/lib/python3.11/site-packages/matplotlib/dates.py\": 1710757427.4604814, \"/Users/ft14968/.pyenv/versions/3.11.1/lib/python3.11/site-packages/matplotlib/container.py\": 1710757427.446979, \"/Users/ft14968/.pyenv/versions/3.11.1/lib/python3.11/site-packages/matplotlib/legend_handler.py\": 1710757427.4303532, \"/Users/ft14968/.pyenv/versions/3.11.1/lib/python3.11/site-packages/matplotlib/legend.py\": 1710757427.443412, \"/Users/ft14968/.pyenv/versions/3.11.1/lib/python3.11/site-packages/matplotlib/mlab.py\": 1710757427.4562647, \"/Users/ft14968/.pyenv/versions/3.11.1/lib/python3.11/site-packages/matplotlib/quiver.py\": 1710757427.432011, \"/Users/ft14968/.pyenv/versions/3.11.1/lib/python3.11/site-packages/matplotlib/stackplot.py\": 1710757427.4528668, \"/Users/ft14968/.pyenv/versions/3.11.1/lib/python3.11/site-packages/matplotlib/streamplot.py\": 1710757427.4681559, \"/Users/ft14968/.pyenv/versions/3.11.1/lib/python3.11/site-packages/matplotlib/tri/_triangulation.py\": 1710757427.470438, \"/Users/ft14968/.pyenv/versions/3.11.1/lib/python3.11/site-packages/matplotlib/tri/_tricontour.py\": 1710757427.4736426, \"/Users/ft14968/.pyenv/versions/3.11.1/lib/python3.11/site-packages/matplotlib/tri/_trifinder.py\": 1710757427.469704, \"/Users/ft14968/.pyenv/versions/3.11.1/lib/python3.11/site-packages/matplotlib/tri/_tritools.py\": 1710757427.4723213, \"/Users/ft14968/.pyenv/versions/3.11.1/lib/python3.11/site-packages/matplotlib/tri/_triinterpolate.py\": 1710757427.473316, \"/Users/ft14968/.pyenv/versions/3.11.1/lib/python3.11/site-packages/matplotlib/tri/_tripcolor.py\": 1710757427.4694855, \"/Users/ft14968/.pyenv/versions/3.11.1/lib/python3.11/site-packages/matplotlib/tri/_triplot.py\": 1710757427.4719043, \"/Users/ft14968/.pyenv/versions/3.11.1/lib/python3.11/site-packages/matplotlib/tri/_trirefine.py\": 1710757427.4715796, \"/Users/ft14968/.pyenv/versions/3.11.1/lib/python3.11/site-packages/matplotlib/tri/__init__.py\": 1710757427.4713857, \"/Users/ft14968/.pyenv/versions/3.11.1/lib/python3.11/site-packages/matplotlib/axes/_secondary_axes.py\": 1710757427.4772553, \"/Users/ft14968/.pyenv/versions/3.11.1/lib/python3.11/site-packages/matplotlib/axes/_axes.py\": 1710757427.4751217, \"/Users/ft14968/.pyenv/versions/3.11.1/lib/python3.11/site-packages/matplotlib/axes/__init__.py\": 1710757427.4766226, \"/Users/ft14968/.pyenv/versions/3.11.1/lib/python3.11/site-packages/matplotlib/projections/geo.py\": 1710757427.5163503, \"/Users/ft14968/.pyenv/versions/3.11.1/lib/python3.11/site-packages/matplotlib/projections/polar.py\": 1710757427.5166059, \"/Users/ft14968/.pyenv/versions/3.11.1/lib/python3.11/site-packages/mpl_toolkits/mplot3d/proj3d.py\": 1710757427.4048417, \"/Users/ft14968/.pyenv/versions/3.11.1/lib/python3.11/site-packages/mpl_toolkits/mplot3d/art3d.py\": 1710757427.4068332, \"/Users/ft14968/.pyenv/versions/3.11.1/lib/python3.11/site-packages/mpl_toolkits/mplot3d/axis3d.py\": 1710757427.4064753, \"/Users/ft14968/.pyenv/versions/3.11.1/lib/python3.11/site-packages/mpl_toolkits/mplot3d/axes3d.py\": 1710757427.4058785, \"/Users/ft14968/.pyenv/versions/3.11.1/lib/python3.11/site-packages/mpl_toolkits/mplot3d/__init__.py\": 1710757427.4054027, \"/Users/ft14968/.pyenv/versions/3.11.1/lib/python3.11/site-packages/matplotlib/projections/__init__.py\": 1710757427.5169876, \"/Users/ft14968/.pyenv/versions/3.11.1/lib/python3.11/site-packages/matplotlib/figure.py\": 1710757427.4437873, \"/Users/ft14968/.pyenv/versions/3.11.1/lib/python3.11/site-packages/matplotlib/pyplot.py\": 1710757427.4617758, \"/Users/ft14968/.pyenv/versions/3.11.1/lib/python3.11/site-packages/_plotly_utils/__init__.py\": 1710410632.891112, \"/Users/ft14968/.pyenv/versions/3.11.1/lib/python3.11/site-packages/_plotly_utils/importers.py\": 1710410632.8921595, \"/Users/ft14968/.pyenv/versions/3.11.1/lib/python3.11/site-packages/plotly/__init__.py\": 1710410632.9119933, \"/Users/ft14968/.pyenv/versions/3.11.1/lib/python3.11/site-packages/plotly/io/_templates.py\": 1710410633.2468998, \"/Users/ft14968/.pyenv/versions/3.11.1/lib/python3.11/site-packages/plotly/io/__init__.py\": 1710410633.245796, \"/Users/ft14968/.pyenv/versions/3.11.1/lib/python3.11/site-packages/_plotly_utils/optional_imports.py\": 1710410632.8923223, \"/Users/ft14968/.pyenv/versions/3.11.1/lib/python3.11/site-packages/plotly/optional_imports.py\": 1710410632.9149864, \"/Users/ft14968/.pyenv/versions/3.11.1/lib/python3.11/webbrowser.py\": 1716061059.8385577, \"/Users/ft14968/.pyenv/versions/3.11.1/lib/python3.11/site-packages/_plotly_utils/basevalidators.py\": 1710410632.8913941, \"/Users/ft14968/.pyenv/versions/3.11.1/lib/python3.11/site-packages/_plotly_utils/utils.py\": 1710410632.89288, \"/Users/ft14968/.pyenv/versions/3.11.1/lib/python3.11/site-packages/_plotly_utils/png.py\": 1710410632.8926208, \"/Users/ft14968/.pyenv/versions/3.11.1/lib/python3.11/site-packages/_plotly_utils/data_utils.py\": 1710410632.8916209, \"/Users/ft14968/.pyenv/versions/3.11.1/lib/python3.11/site-packages/plotly/utils.py\": 1710410632.9165058, \"/Users/ft14968/.pyenv/versions/3.11.1/lib/python3.11/site-packages/plotly/graph_objs/__init__.py\": 1710410632.9274402, \"/Users/ft14968/.pyenv/versions/3.11.1/lib/python3.11/site-packages/_plotly_utils/exceptions.py\": 1710410632.8918214, \"/Users/ft14968/.pyenv/versions/3.11.1/lib/python3.11/site-packages/plotly/exceptions.py\": 1710410632.9142914, \"/Users/ft14968/.pyenv/versions/3.11.1/lib/python3.11/site-packages/_plotly_utils/files.py\": 1710410632.8919911, \"/Users/ft14968/.pyenv/versions/3.11.1/lib/python3.11/site-packages/plotly/files.py\": 1710410632.91444, \"/Users/ft14968/.pyenv/versions/3.11.1/lib/python3.11/site-packages/plotly/tools.py\": 1710410632.9162734, \"/Users/ft14968/.pyenv/versions/3.11.1/lib/python3.11/site-packages/plotly/offline/_plotlyjs_version.py\": 1710410633.2493088, \"/Users/ft14968/.pyenv/versions/3.11.1/lib/python3.11/site-packages/plotly/offline/offline.py\": 1710410633.249465, \"/Users/ft14968/.pyenv/versions/3.11.1/lib/python3.11/site-packages/plotly/offline/__init__.py\": 1710410633.2492123, \"/Users/ft14968/.pyenv/versions/3.11.1/lib/python3.11/site-packages/plotly/io/_utils.py\": 1710410633.2470028, \"/Users/ft14968/.pyenv/versions/3.11.1/lib/python3.11/site-packages/plotly/io/_json.py\": 1710410633.2461782, \"/Users/ft14968/.pyenv/versions/3.11.1/lib/python3.11/site-packages/plotly/io/_kaleido.py\": 1710410633.2463264, \"/Users/ft14968/.pyenv/versions/3.11.1/lib/python3.11/site-packages/plotly/io/_html.py\": 1710410633.2460546, \"/Users/ft14968/.pyenv/versions/3.11.1/lib/python3.11/site-packages/tenacity/retry.py\": 1710410632.8010702, \"/Users/ft14968/.pyenv/versions/3.11.1/lib/python3.11/site-packages/tenacity/nap.py\": 1710410632.8005886, \"/Users/ft14968/.pyenv/versions/3.11.1/lib/python3.11/site-packages/tenacity/_utils.py\": 1710410632.7996924, \"/Users/ft14968/.pyenv/versions/3.11.1/lib/python3.11/site-packages/tenacity/stop.py\": 1710410632.8013232, \"/Users/ft14968/.pyenv/versions/3.11.1/lib/python3.11/site-packages/tenacity/wait.py\": 1710410632.801778, \"/Users/ft14968/.pyenv/versions/3.11.1/lib/python3.11/site-packages/tenacity/before.py\": 1710410632.800174, \"/Users/ft14968/.pyenv/versions/3.11.1/lib/python3.11/site-packages/tenacity/after.py\": 1710410632.7999535, \"/Users/ft14968/.pyenv/versions/3.11.1/lib/python3.11/site-packages/tenacity/before_sleep.py\": 1710410632.8003762, \"/Users/ft14968/.pyenv/versions/3.11.1/lib/python3.11/site-packages/tenacity/_asyncio.py\": 1710410632.799446, \"/Users/ft14968/.pyenv/versions/3.11.1/lib/python3.11/site-packages/tenacity/tornadoweb.py\": 1710410632.8015459, \"/Users/ft14968/.pyenv/versions/3.11.1/lib/python3.11/site-packages/tenacity/__init__.py\": 1710410632.799013, \"/Users/ft14968/.pyenv/versions/3.11.1/lib/python3.11/site-packages/plotly/io/_orca.py\": 1710410633.2464857, \"/Users/ft14968/.pyenv/versions/3.11.1/lib/python3.11/site-packages/plotly/io/_base_renderers.py\": 1710410633.2459288, \"/Users/ft14968/.pyenv/versions/3.11.1/lib/python3.11/site-packages/nbformat/v1/convert.py\": 1741966331.8022025, \"/Users/ft14968/.pyenv/versions/3.11.1/lib/python3.11/site-packages/nbformat/_struct.py\": 1741966331.798074, \"/Users/ft14968/.pyenv/versions/3.11.1/lib/python3.11/site-packages/nbformat/v1/nbbase.py\": 1741966331.8023603, \"/Users/ft14968/.pyenv/versions/3.11.1/lib/python3.11/site-packages/nbformat/v1/rwbase.py\": 1741966331.8026638, \"/Users/ft14968/.pyenv/versions/3.11.1/lib/python3.11/site-packages/nbformat/v1/nbjson.py\": 1741966331.8025062, \"/Users/ft14968/.pyenv/versions/3.11.1/lib/python3.11/site-packages/nbformat/v1/__init__.py\": 1741966331.8019795, \"/Users/ft14968/.pyenv/versions/3.11.1/lib/python3.11/site-packages/nbformat/v2/nbbase.py\": 1741966331.803245, \"/Users/ft14968/.pyenv/versions/3.11.1/lib/python3.11/site-packages/nbformat/v2/convert.py\": 1741966331.802998, \"/Users/ft14968/.pyenv/versions/3.11.1/lib/python3.11/site-packages/nbformat/v2/rwbase.py\": 1741966331.8041718, \"/Users/ft14968/.pyenv/versions/3.11.1/lib/python3.11/site-packages/nbformat/v2/nbjson.py\": 1741966331.803392, \"/Users/ft14968/.pyenv/versions/3.11.1/lib/python3.11/site-packages/nbformat/v2/nbpy.py\": 1741966331.8035688, \"/Users/ft14968/.pyenv/versions/3.11.1/lib/python3.11/site-packages/nbformat/v2/nbxml.py\": 1741966331.8037488, \"/Users/ft14968/.pyenv/versions/3.11.1/lib/python3.11/site-packages/nbformat/v2/__init__.py\": 1741966331.8028452, \"/Users/ft14968/.pyenv/versions/3.11.1/lib/python3.11/site-packages/nbformat/v3/nbbase.py\": 1741966331.8062894, \"/Users/ft14968/.pyenv/versions/3.11.1/lib/python3.11/site-packages/nbformat/v3/convert.py\": 1741966331.805597, \"/Users/ft14968/.pyenv/versions/3.11.1/lib/python3.11/site-packages/nbformat/v3/rwbase.py\": 1741966331.8071496, \"/Users/ft14968/.pyenv/versions/3.11.1/lib/python3.11/site-packages/nbformat/v3/nbjson.py\": 1741966331.8067172, \"/Users/ft14968/.pyenv/versions/3.11.1/lib/python3.11/site-packages/nbformat/v3/nbpy.py\": 1741966331.8069036, \"/Users/ft14968/.pyenv/versions/3.11.1/lib/python3.11/site-packages/nbformat/v3/__init__.py\": 1741966331.8050935, \"/Users/ft14968/.pyenv/versions/3.11.1/lib/python3.11/site-packages/nbformat/_imports.py\": 1741966331.7978523, \"/Users/ft14968/.pyenv/versions/3.11.1/lib/python3.11/site-packages/nbformat/corpus/__init__.py\": 1741966331.8012896, \"/Users/ft14968/.pyenv/versions/3.11.1/lib/python3.11/site-packages/nbformat/corpus/words.py\": 1741966331.8014624, \"/Users/ft14968/.pyenv/versions/3.11.1/lib/python3.11/site-packages/fastjsonschema/exceptions.py\": 1741966297.337389, \"/Users/ft14968/.pyenv/versions/3.11.1/lib/python3.11/site-packages/fastjsonschema/indent.py\": 1741966297.3377953, \"/Users/ft14968/.pyenv/versions/3.11.1/lib/python3.11/site-packages/fastjsonschema/ref_resolver.py\": 1741966297.338011, \"/Users/ft14968/.pyenv/versions/3.11.1/lib/python3.11/site-packages/fastjsonschema/generator.py\": 1741966297.3376245, \"/Users/ft14968/.pyenv/versions/3.11.1/lib/python3.11/site-packages/fastjsonschema/draft04.py\": 1741966297.336493, \"/Users/ft14968/.pyenv/versions/3.11.1/lib/python3.11/site-packages/fastjsonschema/draft06.py\": 1741966297.336917, \"/Users/ft14968/.pyenv/versions/3.11.1/lib/python3.11/site-packages/fastjsonschema/draft07.py\": 1741966297.3371847, \"/Users/ft14968/.pyenv/versions/3.11.1/lib/python3.11/site-packages/fastjsonschema/version.py\": 1741966297.3382046, \"/Users/ft14968/.pyenv/versions/3.11.1/lib/python3.11/site-packages/fastjsonschema/__init__.py\": 1741966297.3360114, \"/Users/ft14968/.pyenv/versions/3.11.1/lib/python3.11/ipaddress.py\": 1716061059.465108, \"/Users/ft14968/.pyenv/versions/3.11.1/lib/python3.11/site-packages/attr/_compat.py\": 1741966318.954477, \"/Users/ft14968/.pyenv/versions/3.11.1/lib/python3.11/site-packages/attr/_config.py\": 1741966318.9546561, \"/Users/ft14968/.pyenv/versions/3.11.1/lib/python3.11/site-packages/attr/exceptions.py\": 1741966318.9562087, \"/Users/ft14968/.pyenv/versions/3.11.1/lib/python3.11/site-packages/attr/setters.py\": 1741966318.9570203, \"/Users/ft14968/.pyenv/versions/3.11.1/lib/python3.11/site-packages/attr/_make.py\": 1741966318.9552207, \"/Users/ft14968/.pyenv/versions/3.11.1/lib/python3.11/site-packages/attr/converters.py\": 1741966318.9559665, \"/Users/ft14968/.pyenv/versions/3.11.1/lib/python3.11/site-packages/attr/filters.py\": 1741966318.9564786, \"/Users/ft14968/.pyenv/versions/3.11.1/lib/python3.11/site-packages/attr/validators.py\": 1741966318.9577537, \"/Users/ft14968/.pyenv/versions/3.11.1/lib/python3.11/site-packages/attr/_cmp.py\": 1741966318.9541183, \"/Users/ft14968/.pyenv/versions/3.11.1/lib/python3.11/site-packages/attr/_funcs.py\": 1741966318.9548972, \"/Users/ft14968/.pyenv/versions/3.11.1/lib/python3.11/site-packages/attr/_next_gen.py\": 1741966318.9554293, \"/Users/ft14968/.pyenv/versions/3.11.1/lib/python3.11/site-packages/attr/_version_info.py\": 1741966318.9557147, \"/Users/ft14968/.pyenv/versions/3.11.1/lib/python3.11/site-packages/attr/__init__.py\": 1741966318.9536047, \"/Users/ft14968/.pyenv/versions/3.11.1/lib/python3.11/site-packages/attrs/converters.py\": 1741966318.958973, \"/Users/ft14968/.pyenv/versions/3.11.1/lib/python3.11/site-packages/attrs/exceptions.py\": 1741966318.9594407, \"/Users/ft14968/.pyenv/versions/3.11.1/lib/python3.11/site-packages/attrs/filters.py\": 1741966318.959589, \"/Users/ft14968/.pyenv/versions/3.11.1/lib/python3.11/site-packages/attrs/setters.py\": 1741966318.9598951, \"/Users/ft14968/.pyenv/versions/3.11.1/lib/python3.11/site-packages/attrs/validators.py\": 1741966318.9601564, \"/Users/ft14968/.pyenv/versions/3.11.1/lib/python3.11/site-packages/attrs/__init__.py\": 1741966318.9583986, \"/Users/ft14968/.pyenv/versions/3.11.1/lib/python3.11/site-packages/rpds/rpds.cpython-311-darwin.so\": 1741966304.8356786, \"/Users/ft14968/.pyenv/versions/3.11.1/lib/python3.11/site-packages/rpds/__init__.py\": 1741966304.8337982, \"/Users/ft14968/.pyenv/versions/3.11.1/lib/python3.11/site-packages/referencing/_attrs.py\": 1741966321.2363827, \"/Users/ft14968/.pyenv/versions/3.11.1/lib/python3.11/site-packages/referencing/exceptions.py\": 1741966321.2370381, \"/Users/ft14968/.pyenv/versions/3.11.1/lib/python3.11/site-packages/referencing/typing.py\": 1741966321.2377055, \"/Users/ft14968/.pyenv/versions/3.11.1/lib/python3.11/site-packages/referencing/_core.py\": 1741966321.2367828, \"/Users/ft14968/.pyenv/versions/3.11.1/lib/python3.11/site-packages/referencing/__init__.py\": 1741966321.2361841, \"/Users/ft14968/.pyenv/versions/3.11.1/lib/python3.11/site-packages/jsonschema/_utils.py\": 1741966329.5536811, \"/Users/ft14968/.pyenv/versions/3.11.1/lib/python3.11/site-packages/jsonschema/exceptions.py\": 1741966329.5541363, \"/Users/ft14968/.pyenv/versions/3.11.1/lib/python3.11/site-packages/fqdn/_compat.py\": 1741966315.2859037, \"/Users/ft14968/.pyenv/versions/3.11.1/lib/python3.11/site-packages/fqdn/__init__.py\": 1741966315.2857418, \"/Users/ft14968/.pyenv/versions/3.11.1/lib/python3.11/site-packages/idna/idnadata.py\": 1741966315.135545, \"/Users/ft14968/.pyenv/versions/3.11.1/lib/python3.11/site-packages/idna/intranges.py\": 1741966315.1356864, \"/Users/ft14968/.pyenv/versions/3.11.1/lib/python3.11/site-packages/idna/core.py\": 1741966315.1353137, \"/Users/ft14968/.pyenv/versions/3.11.1/lib/python3.11/site-packages/idna/package_data.py\": 1741966315.1358273, \"/Users/ft14968/.pyenv/versions/3.11.1/lib/python3.11/site-packages/idna/__init__.py\": 1741966315.1347783, \"/Users/ft14968/.pyenv/versions/3.11.1/lib/python3.11/site-packages/rfc3986_validator.py\": 1741966306.8096168, \"/Users/ft14968/.pyenv/versions/3.11.1/lib/python3.11/site-packages/rfc3339_validator.py\": 1741966321.159371, \"/Users/ft14968/.pyenv/versions/3.11.1/lib/python3.11/site-packages/webcolors/_definitions.py\": 1741966297.468778, \"/Users/ft14968/.pyenv/versions/3.11.1/lib/python3.11/site-packages/webcolors/_types.py\": 1741966297.4694884, \"/Users/ft14968/.pyenv/versions/3.11.1/lib/python3.11/site-packages/webcolors/_normalization.py\": 1741966297.4692812, \"/Users/ft14968/.pyenv/versions/3.11.1/lib/python3.11/site-packages/webcolors/_conversion.py\": 1741966297.4684525, \"/Users/ft14968/.pyenv/versions/3.11.1/lib/python3.11/site-packages/webcolors/_html5.py\": 1741966297.469062, \"/Users/ft14968/.pyenv/versions/3.11.1/lib/python3.11/site-packages/webcolors/__init__.py\": 1741966297.4682395, \"/Users/ft14968/.pyenv/versions/3.11.1/lib/python3.11/site-packages/jsonpointer.py\": 1741966315.0645082, \"/Users/ft14968/.pyenv/versions/3.11.1/lib/python3.11/site-packages/uri_template/charset.py\": 1741966297.625645, \"/Users/ft14968/.pyenv/versions/3.11.1/lib/python3.11/site-packages/uri_template/variable.py\": 1741966297.6264923, \"/Users/ft14968/.pyenv/versions/3.11.1/lib/python3.11/site-packages/uri_template/expansions.py\": 1741966297.6258588, \"/Users/ft14968/.pyenv/versions/3.11.1/lib/python3.11/site-packages/uri_template/uritemplate.py\": 1741966297.6262896, \"/Users/ft14968/.pyenv/versions/3.11.1/lib/python3.11/site-packages/uri_template/__init__.py\": 1741966297.6254218, \"/Users/ft14968/.pyenv/versions/3.11.1/lib/python3.11/site-packages/isoduration/constants.py\": 1741966329.6326272, \"/Users/ft14968/.pyenv/versions/3.11.1/lib/python3.11/site-packages/isoduration/formatter/exceptions.py\": 1741966329.6339583, \"/Users/ft14968/.pyenv/versions/3.11.1/lib/python3.11/site-packages/isoduration/formatter/checking.py\": 1741966329.6332083, \"/Users/ft14968/.pyenv/versions/3.11.1/lib/python3.11/site-packages/isoduration/formatter/formatting.py\": 1741966329.6342661, \"/Users/ft14968/.pyenv/versions/3.11.1/lib/python3.11/site-packages/isoduration/formatter/__init__.py\": 1741966329.632937, \"/Users/ft14968/.pyenv/versions/3.11.1/lib/python3.11/site-packages/isoduration/parser/exceptions.py\": 1741966329.6350338, \"/Users/ft14968/.pyenv/versions/3.11.1/lib/python3.11/site-packages/arrow/_version.py\": 1741966329.4643004, \"/Users/ft14968/.pyenv/versions/3.11.1/lib/python3.11/site-packages/arrow/locales.py\": 1741966329.4655817, \"/Users/ft14968/.pyenv/versions/3.11.1/lib/python3.11/site-packages/arrow/constants.py\": 1741966329.4648035, \"/Users/ft14968/.pyenv/versions/3.11.1/lib/python3.11/site-packages/arrow/formatter.py\": 1741966329.4652739, \"/Users/ft14968/.pyenv/versions/3.11.1/lib/python3.11/site-packages/arrow/util.py\": 1741966329.4661233, \"/Users/ft14968/.pyenv/versions/3.11.1/lib/python3.11/site-packages/arrow/parser.py\": 1741966329.4657843, \"/Users/ft14968/.pyenv/versions/3.11.1/lib/python3.11/site-packages/arrow/arrow.py\": 1741966329.464641, \"/Users/ft14968/.pyenv/versions/3.11.1/lib/python3.11/site-packages/arrow/factory.py\": 1741966329.4650083, \"/Users/ft14968/.pyenv/versions/3.11.1/lib/python3.11/site-packages/arrow/api.py\": 1741966329.4644506, \"/Users/ft14968/.pyenv/versions/3.11.1/lib/python3.11/site-packages/arrow/__init__.py\": 1741966329.464145, \"/Users/ft14968/.pyenv/versions/3.11.1/lib/python3.11/site-packages/isoduration/parser/util.py\": 1741966329.6354043, \"/Users/ft14968/.pyenv/versions/3.11.1/lib/python3.11/site-packages/isoduration/operations/util.py\": 1741966329.6346228, \"/Users/ft14968/.pyenv/versions/3.11.1/lib/python3.11/site-packages/isoduration/operations/__init__.py\": 1741966329.634473, \"/Users/ft14968/.pyenv/versions/3.11.1/lib/python3.11/site-packages/isoduration/types.py\": 1741966329.632781, \"/Users/ft14968/.pyenv/versions/3.11.1/lib/python3.11/site-packages/isoduration/parser/parsing.py\": 1741966329.635195, \"/Users/ft14968/.pyenv/versions/3.11.1/lib/python3.11/site-packages/isoduration/parser/__init__.py\": 1741966329.6348553, \"/Users/ft14968/.pyenv/versions/3.11.1/lib/python3.11/site-packages/isoduration/__init__.py\": 1741966329.6324437, \"/Users/ft14968/.pyenv/versions/3.11.1/lib/python3.11/site-packages/jsonschema/_format.py\": 1741966329.552378, \"/Users/ft14968/.pyenv/versions/3.11.1/lib/python3.11/site-packages/jsonschema/_types.py\": 1741966329.5531273, \"/Users/ft14968/.pyenv/versions/3.11.1/lib/python3.11/site-packages/referencing/jsonschema.py\": 1741966321.237227, \"/Users/ft14968/.pyenv/versions/3.11.1/lib/python3.11/site-packages/jsonschema_specifications/_core.py\": 1741966328.9352, \"/Users/ft14968/.pyenv/versions/3.11.1/lib/python3.11/importlib/resources/_itertools.py\": 1716061062.0043356, \"/Users/ft14968/.pyenv/versions/3.11.1/lib/python3.11/importlib/resources/readers.py\": 1716061062.0150635, \"/Users/ft14968/.pyenv/versions/3.11.1/lib/python3.11/importlib/readers.py\": 1716061061.9778638, \"/Users/ft14968/.pyenv/versions/3.11.1/lib/python3.11/site-packages/jsonschema_specifications/__init__.py\": 1741966328.9350111, \"/Users/ft14968/.pyenv/versions/3.11.1/lib/python3.11/site-packages/jsonschema/_keywords.py\": 1741966329.5525665, \"/Users/ft14968/.pyenv/versions/3.11.1/lib/python3.11/site-packages/jsonschema/_legacy_keywords.py\": 1741966329.5527618, \"/Users/ft14968/.pyenv/versions/3.11.1/lib/python3.11/site-packages/jsonschema/protocols.py\": 1741966329.554613, \"/Users/ft14968/.pyenv/versions/3.11.1/lib/python3.11/site-packages/jsonschema/_typing.py\": 1741966329.5533876, \"/Users/ft14968/.pyenv/versions/3.11.1/lib/python3.11/site-packages/jsonschema/validators.py\": 1741966329.5548913, \"/Users/ft14968/.pyenv/versions/3.11.1/lib/python3.11/site-packages/jsonschema/__init__.py\": 1741966329.552013, \"/Users/ft14968/.pyenv/versions/3.11.1/lib/python3.11/site-packages/nbformat/json_compat.py\": 1741966331.798873, \"/Users/ft14968/.pyenv/versions/3.11.1/lib/python3.11/site-packages/nbformat/reader.py\": 1741966331.7994456, \"/Users/ft14968/.pyenv/versions/3.11.1/lib/python3.11/site-packages/nbformat/warnings.py\": 1741966331.8011067, \"/Users/ft14968/.pyenv/versions/3.11.1/lib/python3.11/site-packages/nbformat/validator.py\": 1741966331.8008747, \"/Users/ft14968/.pyenv/versions/3.11.1/lib/python3.11/site-packages/nbformat/notebooknode.py\": 1741966331.7990534, \"/Users/ft14968/.pyenv/versions/3.11.1/lib/python3.11/site-packages/nbformat/v4/nbbase.py\": 1741966331.8078697, \"/Users/ft14968/.pyenv/versions/3.11.1/lib/python3.11/site-packages/nbformat/v4/convert.py\": 1741966331.8076184, \"/Users/ft14968/.pyenv/versions/3.11.1/lib/python3.11/site-packages/nbformat/v4/rwbase.py\": 1741966331.8100097, \"/Users/ft14968/.pyenv/versions/3.11.1/lib/python3.11/site-packages/nbformat/v4/nbjson.py\": 1741966331.809752, \"/Users/ft14968/.pyenv/versions/3.11.1/lib/python3.11/site-packages/nbformat/v4/__init__.py\": 1741966331.8073344, \"/Users/ft14968/.pyenv/versions/3.11.1/lib/python3.11/site-packages/nbformat/_version.py\": 1741966331.7982616, \"/Users/ft14968/.pyenv/versions/3.11.1/lib/python3.11/site-packages/nbformat/sentinel.py\": 1741966331.8000088, \"/Users/ft14968/.pyenv/versions/3.11.1/lib/python3.11/site-packages/nbformat/converter.py\": 1741966331.7984467, \"/Users/ft14968/.pyenv/versions/3.11.1/lib/python3.11/site-packages/nbformat/__init__.py\": 1741966331.7976418, \"/Users/ft14968/.pyenv/versions/3.11.1/lib/python3.11/site-packages/plotly/io/_renderers.py\": 1710410633.2466166, \"/Users/ft14968/.pyenv/versions/3.11.1/lib/python3.11/site-packages/plotly/graph_objs/layout/__init__.py\": 1710410633.0718982, \"/Users/ft14968/.pyenv/versions/3.11.1/lib/python3.11/site-packages/plotly/shapeannotation.py\": 1710410632.9157875, \"/Users/ft14968/.pyenv/versions/3.11.1/lib/python3.11/site-packages/plotly/_subplots.py\": 1710410632.912325, \"/Users/ft14968/.pyenv/versions/3.11.1/lib/python3.11/site-packages/plotly/basedatatypes.py\": 1710410632.913269, \"/Users/ft14968/.pyenv/versions/3.11.1/lib/python3.11/site-packages/plotly/graph_objs/layout/_template.py\": 1710410633.076635, \"/Users/ft14968/.pyenv/versions/3.11.1/lib/python3.11/site-packages/plotly/validator_cache.py\": 1710410632.917597, \"/Users/ft14968/.pyenv/versions/3.11.1/lib/python3.11/site-packages/plotly/validators/__init__.py\": 1710410633.26182, \"/Users/ft14968/.pyenv/versions/3.11.1/lib/python3.11/site-packages/plotly/validators/layout/__init__.py\": 1710410633.7439044, \"/Users/ft14968/.pyenv/versions/3.11.1/lib/python3.11/site-packages/plotly/validators/layout/template/__init__.py\": 1710410633.8869288, \"/Users/ft14968/.pyenv/versions/3.11.1/lib/python3.11/site-packages/plotly/validators/layout/template/_layout.py\": 1710410633.88718, \"/Users/ft14968/.pyenv/versions/3.11.1/lib/python3.11/site-packages/plotly/graph_objs/_layout.py\": 1710410632.9366217, \"/Users/ft14968/.pyenv/versions/3.11.1/lib/python3.11/site-packages/plotly/graph_objects/__init__.py\": 1710410632.9270966, \"/Users/ft14968/.pyenv/versions/3.11.1/lib/python3.11/site-packages/plotly/validators/layout/_margin.py\": 1710410633.7498012, \"/Users/ft14968/.pyenv/versions/3.11.1/lib/python3.11/site-packages/plotly/graph_objs/layout/_margin.py\": 1710410633.0746503, \"/Users/ft14968/.pyenv/versions/3.11.1/lib/python3.11/site-packages/plotly/validators/layout/margin/__init__.py\": 1710410633.7974458, \"/Users/ft14968/.pyenv/versions/3.11.1/lib/python3.11/site-packages/plotly/validators/layout/margin/_b.py\": 1710410633.7976947, \"/Users/ft14968/.pyenv/versions/3.11.1/lib/python3.11/site-packages/plotly/validators/layout/margin/_l.py\": 1710410633.797815, \"/Users/ft14968/.pyenv/versions/3.11.1/lib/python3.11/site-packages/plotly/validators/layout/margin/_r.py\": 1710410633.7980657, \"/Users/ft14968/.pyenv/versions/3.11.1/lib/python3.11/site-packages/plotly/validators/layout/margin/_t.py\": 1710410633.7981863, \"/Users/ft14968/.pyenv/versions/3.11.1/lib/python3.11/site-packages/plotly/validators/layout/template/_data.py\": 1710410633.8870783, \"/Users/ft14968/.pyenv/versions/3.11.1/lib/python3.11/site-packages/plotly/graph_objs/layout/template/__init__.py\": 1710410633.117602, \"/Users/ft14968/.pyenv/versions/3.11.1/lib/python3.11/site-packages/plotly/graph_objs/layout/template/_data.py\": 1710410633.117762, \"/Users/ft14968/.pyenv/versions/3.11.1/lib/python3.11/site-packages/plotly/validators/layout/template/data/__init__.py\": 1710410633.887399, \"/Users/ft14968/.pyenv/versions/3.11.1/lib/python3.11/site-packages/plotly/validators/layout/template/data/_scatter.py\": 1710410633.8904386, \"/Users/ft14968/.pyenv/versions/3.11.1/lib/python3.11/site-packages/plotly/graph_objs/layout/template/data/__init__.py\": 1710410633.1180787, \"/Users/ft14968/.pyenv/versions/3.11.1/lib/python3.11/site-packages/plotly/graph_objs/_scatter.py\": 1710410632.9384277, \"/Users/ft14968/.pyenv/versions/3.11.1/lib/python3.11/site-packages/plotly/graph_objs/layout/template/data/_scatter.py\": 1710410633.1218407, \"/Users/ft14968/.pyenv/versions/3.11.1/lib/python3.11/site-packages/pytz/exceptions.py\": 1710342076.4342492, \"/Users/ft14968/.pyenv/versions/3.11.1/lib/python3.11/site-packages/pytz/lazy.py\": 1710342076.4345086, \"/Users/ft14968/.pyenv/versions/3.11.1/lib/python3.11/site-packages/pytz/tzinfo.py\": 1710342076.4352946, \"/Users/ft14968/.pyenv/versions/3.11.1/lib/python3.11/site-packages/pytz/tzfile.py\": 1710342076.4350033, \"/Users/ft14968/.pyenv/versions/3.11.1/lib/python3.11/site-packages/pytz/__init__.py\": 1710342076.433963, \"/Users/ft14968/.pyenv/versions/3.11.1/lib/python3.11/site-packages/pandas/compat/_constants.py\": 1734787355.5840955, \"/Users/ft14968/.pyenv/versions/3.11.1/lib/python3.11/site-packages/pandas/compat/compressors.py\": 1734787355.5857604, \"/Users/ft14968/.pyenv/versions/3.11.1/lib/python3.11/site-packages/pandas/util/__init__.py\": 1734787355.6720748, \"/Users/ft14968/.pyenv/versions/3.11.1/lib/python3.11/site-packages/pandas/util/version/__init__.py\": 1734787355.6729965, \"/Users/ft14968/.pyenv/versions/3.11.1/lib/python3.11/site-packages/pandas/compat/numpy/__init__.py\": 1734787355.5868008, \"/Users/ft14968/.pyenv/versions/3.11.1/lib/python3.11/site-packages/pyarrow/_generated_version.py\": 1711261399.5245147, \"/Users/ft14968/.pyenv/versions/3.11.1/lib/python3.11/site-packages/cloudpickle/cloudpickle.py\": 1714384260.484253, \"/Users/ft14968/.pyenv/versions/3.11.1/lib/python3.11/site-packages/cloudpickle/__init__.py\": 1714384260.4839523, \"/Users/ft14968/.pyenv/versions/3.11.1/lib/python3.11/site-packages/pyarrow/util.py\": 1711261399.6386533, \"/Users/ft14968/.pyenv/versions/3.11.1/lib/python3.11/site-packages/pyarrow/lib.cpython-311-darwin.so\": 1711261399.550298, \"/Users/ft14968/.pyenv/versions/3.11.1/lib/python3.11/site-packages/pyarrow/_hdfsio.cpython-311-darwin.so\": 1711261399.5256906, \"/Users/ft14968/.pyenv/versions/3.11.1/lib/python3.11/site-packages/pyarrow/filesystem.py\": 1711261399.5429926, \"/Users/ft14968/.pyenv/versions/3.11.1/lib/python3.11/site-packages/pyarrow/hdfs.py\": 1711261399.543965, \"/Users/ft14968/.pyenv/versions/3.11.1/lib/python3.11/site-packages/pyarrow/ipc.py\": 1711261399.5447695, \"/Users/ft14968/.pyenv/versions/3.11.1/lib/python3.11/site-packages/pyarrow/types.py\": 1711261399.638418, \"/Users/ft14968/.pyenv/versions/3.11.1/lib/python3.11/site-packages/pyarrow/__init__.py\": 1711261399.5033503, \"/Users/ft14968/.pyenv/versions/3.11.1/lib/python3.11/site-packages/pandas/compat/pyarrow.py\": 1734787355.5846486, \"/Users/ft14968/.pyenv/versions/3.11.1/lib/python3.11/site-packages/pandas/compat/__init__.py\": 1734787355.5849278, \"/Users/ft14968/.pyenv/versions/3.11.1/lib/python3.11/site-packages/pandas/_typing.py\": 1734787355.5826063, \"/Users/ft14968/.pyenv/versions/3.11.1/lib/python3.11/site-packages/pandas/util/_exceptions.py\": 1734787355.672671, \"/Users/ft14968/.pyenv/versions/3.11.1/lib/python3.11/site-packages/pandas/_config/config.py\": 1734787355.9923503, \"/Users/ft14968/.pyenv/versions/3.11.1/lib/python3.11/site-packages/pandas/_config/dates.py\": 1734787355.9930055, \"/Users/ft14968/.pyenv/versions/3.11.1/lib/python3.11/site-packages/pandas/_config/display.py\": 1734787355.9927106, \"/Users/ft14968/.pyenv/versions/3.11.1/lib/python3.11/site-packages/pandas/_config/__init__.py\": 1734787355.992494, \"/Users/ft14968/.pyenv/versions/3.11.1/lib/python3.11/site-packages/pandas/core/__init__.py\": 1734787355.59141, \"/Users/ft14968/.pyenv/versions/3.11.1/lib/python3.11/site-packages/pandas/core/config_init.py\": 1734787355.5891647, \"/Users/ft14968/.pyenv/versions/3.11.1/lib/python3.11/site-packages/pandas/_libs/pandas_parser.cpython-311-darwin.so\": 1734787355.9615152, \"/Users/ft14968/.pyenv/versions/3.11.1/lib/python3.11/site-packages/numpy/_core/__init__.py\": 1710341712.5908687, \"/Users/ft14968/.pyenv/versions/3.11.1/lib/python3.11/site-packages/pandas/_libs/pandas_datetime.cpython-311-darwin.so\": 1734787355.9647317, \"/Users/ft14968/.pyenv/versions/3.11.1/lib/python3.11/site-packages/pandas/_libs/tslibs/ccalendar.cpython-311-darwin.so\": 1734787355.9877949, \"/Users/ft14968/.pyenv/versions/3.11.1/lib/python3.11/site-packages/pandas/_libs/tslibs/np_datetime.cpython-311-darwin.so\": 1734787355.9781318, \"/Users/ft14968/.pyenv/versions/3.11.1/lib/python3.11/site-packages/pandas/_libs/tslibs/dtypes.cpython-311-darwin.so\": 1734787355.9733138, \"/Users/ft14968/.pyenv/versions/3.11.1/lib/python3.11/site-packages/pandas/_libs/tslibs/base.cpython-311-darwin.so\": 1734787355.974337, \"/Users/ft14968/.pyenv/versions/3.11.1/lib/python3.11/site-packages/pandas/_libs/tslibs/nattype.cpython-311-darwin.so\": 1734787355.9816911, \"/Users/ft14968/.pyenv/versions/3.11.1/lib/python3.11/site-packages/pandas/compat/_optional.py\": 1734787355.5843923, \"/Users/ft14968/.pyenv/versions/3.11.1/lib/python3.11/zoneinfo/_tzpath.py\": 1716061063.1917136, \"/Users/ft14968/.pyenv/versions/3.11.1/lib/python3.11/zoneinfo/_common.py\": 1716061063.1890152, \"/Users/ft14968/.pyenv/versions/3.11.1/lib/python3.11/lib-dynload/_zoneinfo.cpython-311-darwin.so\": 1716061038.0, \"/Users/ft14968/.pyenv/versions/3.11.1/lib/python3.11/zoneinfo/__init__.py\": 1716061063.1864142, \"/Users/ft14968/.pyenv/versions/3.11.1/lib/python3.11/site-packages/pandas/_libs/tslibs/timezones.cpython-311-darwin.so\": 1734787355.979239, \"/Users/ft14968/.pyenv/versions/3.11.1/lib/python3.11/site-packages/pandas/_config/localization.py\": 1734787355.9928682, \"/Users/ft14968/.pyenv/versions/3.11.1/lib/python3.11/site-packages/pandas/_libs/tslibs/fields.cpython-311-darwin.so\": 1734787355.9824622, \"/Users/ft14968/.pyenv/versions/3.11.1/lib/python3.11/site-packages/pandas/_libs/tslibs/timedeltas.cpython-311-darwin.so\": 1734787355.9873896, \"/Users/ft14968/.pyenv/versions/3.11.1/lib/python3.11/site-packages/pandas/_libs/tslibs/tzconversion.cpython-311-darwin.so\": 1734787355.9836304, \"/Users/ft14968/.pyenv/versions/3.11.1/lib/python3.11/site-packages/pandas/_libs/tslibs/timestamps.cpython-311-darwin.so\": 1734787355.976812, \"/Users/ft14968/.pyenv/versions/3.11.1/lib/python3.11/site-packages/pandas/_libs/properties.cpython-311-darwin.so\": 1734787355.9624941, \"/Users/ft14968/.pyenv/versions/3.11.1/lib/python3.11/site-packages/pandas/_libs/tslibs/offsets.cpython-311-darwin.so\": 1734787355.9862015, \"/Users/ft14968/.pyenv/versions/3.11.1/lib/python3.11/site-packages/pandas/_libs/tslibs/strptime.cpython-311-darwin.so\": 1734787355.9724588, \"/Users/ft14968/.pyenv/versions/3.11.1/lib/python3.11/site-packages/pandas/_libs/tslibs/parsing.cpython-311-darwin.so\": 1734787355.9752517, \"/Users/ft14968/.pyenv/versions/3.11.1/lib/python3.11/site-packages/pandas/_libs/tslibs/conversion.cpython-311-darwin.so\": 1734787355.9811447, \"/Users/ft14968/.pyenv/versions/3.11.1/lib/python3.11/site-packages/pandas/_libs/tslibs/period.cpython-311-darwin.so\": 1734787355.9801517, \"/Users/ft14968/.pyenv/versions/3.11.1/lib/python3.11/site-packages/pandas/_libs/tslibs/vectorized.cpython-311-darwin.so\": 1734787355.9738786, \"/Users/ft14968/.pyenv/versions/3.11.1/lib/python3.11/site-packages/pandas/_libs/tslibs/__init__.py\": 1734787355.9786704, \"/Users/ft14968/.pyenv/versions/3.11.1/lib/python3.11/site-packages/pandas/_libs/ops_dispatch.cpython-311-darwin.so\": 1734787355.963053, \"/Users/ft14968/.pyenv/versions/3.11.1/lib/python3.11/site-packages/pandas/_libs/missing.cpython-311-darwin.so\": 1734787355.9489288, \"/Users/ft14968/.pyenv/versions/3.11.1/lib/python3.11/site-packages/pandas/_libs/hashtable.cpython-311-darwin.so\": 1734787355.940283, \"/Users/ft14968/.pyenv/versions/3.11.1/lib/python3.11/site-packages/pandas/_libs/algos.cpython-311-darwin.so\": 1734787355.9347627, \"/Users/ft14968/.pyenv/versions/3.11.1/lib/python3.11/site-packages/pandas/_libs/interval.cpython-311-darwin.so\": 1734787355.967489, \"/Users/ft14968/.pyenv/versions/3.11.1/lib/python3.11/site-packages/pandas/_libs/__init__.py\": 1734787355.950512, \"/Users/ft14968/.pyenv/versions/3.11.1/lib/python3.11/site-packages/pandas/core/dtypes/__init__.py\": 1734787355.640852, \"/Users/ft14968/.pyenv/versions/3.11.1/lib/python3.11/site-packages/pandas/_libs/lib.cpython-311-darwin.so\": 1734787355.9597507, \"/Users/ft14968/.pyenv/versions/3.11.1/lib/python3.11/site-packages/pandas/errors/__init__.py\": 1734787355.99218, \"/Users/ft14968/.pyenv/versions/3.11.1/lib/python3.11/site-packages/pandas/core/dtypes/generic.py\": 1734787355.6401305, \"/Users/ft14968/.pyenv/versions/3.11.1/lib/python3.11/site-packages/pandas/core/dtypes/base.py\": 1734787355.6428137, \"/Users/ft14968/.pyenv/versions/3.11.1/lib/python3.11/site-packages/pandas/core/dtypes/inference.py\": 1734787355.6425426, \"/Users/ft14968/.pyenv/versions/3.11.1/lib/python3.11/site-packages/pandas/core/dtypes/dtypes.py\": 1734787355.6413267, \"/Users/ft14968/.pyenv/versions/3.11.1/lib/python3.11/site-packages/pandas/core/dtypes/common.py\": 1734787355.642242, \"/Users/ft14968/.pyenv/versions/3.11.1/lib/python3.11/site-packages/pandas/core/dtypes/missing.py\": 1734787355.638623, \"/Users/ft14968/.pyenv/versions/3.11.1/lib/python3.11/site-packages/pandas/util/_decorators.py\": 1734787355.6722596, \"/Users/ft14968/.pyenv/versions/3.11.1/lib/python3.11/site-packages/pandas/io/__init__.py\": 1734787355.6749523, \"/Users/ft14968/.pyenv/versions/3.11.1/lib/python3.11/site-packages/pandas/io/_util.py\": 1734787355.6756713, \"/Users/ft14968/.pyenv/versions/3.11.1/lib/python3.11/site-packages/pandas/core/dtypes/cast.py\": 1734787355.6381333, \"/Users/ft14968/.pyenv/versions/3.11.1/lib/python3.11/site-packages/pandas/core/dtypes/astype.py\": 1734787355.6375082, \"/Users/ft14968/.pyenv/versions/3.11.1/lib/python3.11/site-packages/pandas/core/dtypes/concat.py\": 1734787355.6393392, \"/Users/ft14968/.pyenv/versions/3.11.1/lib/python3.11/site-packages/pandas/core/array_algos/__init__.py\": 1734787355.6310108, \"/Users/ft14968/.pyenv/versions/3.11.1/lib/python3.11/site-packages/pandas/core/common.py\": 1734787355.5918088, \"/Users/ft14968/.pyenv/versions/3.11.1/lib/python3.11/site-packages/pandas/core/construction.py\": 1734787355.5888383, \"/Users/ft14968/.pyenv/versions/3.11.1/lib/python3.11/site-packages/pandas/core/array_algos/take.py\": 1734787355.6327236, \"/Users/ft14968/.pyenv/versions/3.11.1/lib/python3.11/site-packages/pandas/core/indexers/utils.py\": 1734787355.612624, \"/Users/ft14968/.pyenv/versions/3.11.1/lib/python3.11/site-packages/pandas/core/indexers/__init__.py\": 1734787355.6119118, \"/Users/ft14968/.pyenv/versions/3.11.1/lib/python3.11/site-packages/pandas/core/algorithms.py\": 1734787355.5881727, \"/Users/ft14968/.pyenv/versions/3.11.1/lib/python3.11/site-packages/pyarrow/_compute.cpython-311-darwin.so\": 1711261399.5060816, \"/Users/ft14968/.pyenv/versions/3.11.1/lib/python3.11/site-packages/pyarrow/_compute_docstrings.py\": 1711261399.5069325, \"/Users/ft14968/.pyenv/versions/3.11.1/lib/python3.11/site-packages/pyarrow/vendored/__init__.py\": 1711261399.773358, \"/Users/ft14968/.pyenv/versions/3.11.1/lib/python3.11/site-packages/pyarrow/vendored/docscrape.py\": 1711261399.773518, \"/Users/ft14968/.pyenv/versions/3.11.1/lib/python3.11/site-packages/pyarrow/compute.py\": 1711261399.5410774, \"/Users/ft14968/.pyenv/versions/3.11.1/lib/python3.11/site-packages/pandas/core/arrays/arrow/accessors.py\": 1734787355.6628804, \"/Users/ft14968/.pyenv/versions/3.11.1/lib/python3.11/site-packages/pandas/util/_validators.py\": 1734787355.671608, \"/Users/ft14968/.pyenv/versions/3.11.1/lib/python3.11/site-packages/pandas/core/missing.py\": 1734787355.5879748, \"/Users/ft14968/.pyenv/versions/3.11.1/lib/python3.11/site-packages/pandas/_libs/ops.cpython-311-darwin.so\": 1734787355.946305, \"/Users/ft14968/.pyenv/versions/3.11.1/lib/python3.11/site-packages/pandas/core/roperator.py\": 1734787355.587767, \"/Users/ft14968/.pyenv/versions/3.11.1/lib/python3.11/site-packages/pandas/core/computation/__init__.py\": 1734787355.6508293, \"/Users/ft14968/.pyenv/versions/3.11.1/lib/python3.11/site-packages/pandas/core/computation/check.py\": 1734787355.6496365, \"/Users/ft14968/.pyenv/versions/3.11.1/lib/python3.11/site-packages/pandas/core/computation/expressions.py\": 1734787355.650688, \"/Users/ft14968/.pyenv/versions/3.11.1/lib/python3.11/site-packages/pandas/core/ops/missing.py\": 1734787355.6652827, \"/Users/ft14968/.pyenv/versions/3.11.1/lib/python3.11/site-packages/pandas/core/ops/dispatch.py\": 1734787355.6654463, \"/Users/ft14968/.pyenv/versions/3.11.1/lib/python3.11/site-packages/pandas/core/ops/invalid.py\": 1734787355.6656044, \"/Users/ft14968/.pyenv/versions/3.11.1/lib/python3.11/site-packages/pandas/core/ops/array_ops.py\": 1734787355.6649575, \"/Users/ft14968/.pyenv/versions/3.11.1/lib/python3.11/site-packages/pandas/core/ops/common.py\": 1734787355.6666214, \"/Users/ft14968/.pyenv/versions/3.11.1/lib/python3.11/site-packages/pandas/core/ops/docstrings.py\": 1734787355.6661594, \"/Users/ft14968/.pyenv/versions/3.11.1/lib/python3.11/site-packages/pandas/core/ops/mask_ops.py\": 1734787355.6664014, \"/Users/ft14968/.pyenv/versions/3.11.1/lib/python3.11/site-packages/pandas/core/ops/__init__.py\": 1734787355.6657414, \"/Users/ft14968/.pyenv/versions/3.11.1/lib/python3.11/site-packages/pandas/core/arraylike.py\": 1734787355.5886438, \"/Users/ft14968/.pyenv/versions/3.11.1/lib/python3.11/site-packages/pandas/core/arrays/_arrow_string_mixins.py\": 1734787355.6585212, \"/Users/ft14968/.pyenv/versions/3.11.1/lib/python3.11/site-packages/pandas/core/arrays/_utils.py\": 1734787355.6626143, \"/Users/ft14968/.pyenv/versions/3.11.1/lib/python3.11/site-packages/pandas/compat/numpy/function.py\": 1734787355.5870242, \"/Users/ft14968/.pyenv/versions/3.11.1/lib/python3.11/site-packages/pandas/core/array_algos/quantile.py\": 1734787355.6306543, \"/Users/ft14968/.pyenv/versions/3.11.1/lib/python3.11/site-packages/pandas/core/sorting.py\": 1734787355.5912786, \"/Users/ft14968/.pyenv/versions/3.11.1/lib/python3.11/site-packages/pandas/core/arrays/base.py\": 1734787355.6621242, \"/Users/ft14968/.pyenv/versions/3.11.1/lib/python3.11/site-packages/pandas/core/nanops.py\": 1734787355.5875897, \"/Users/ft14968/.pyenv/versions/3.11.1/lib/python3.11/site-packages/pandas/core/array_algos/masked_accumulations.py\": 1734787355.6289206, \"/Users/ft14968/.pyenv/versions/3.11.1/lib/python3.11/site-packages/pandas/core/array_algos/masked_reductions.py\": 1734787355.6317413, \"/Users/ft14968/.pyenv/versions/3.11.1/lib/python3.11/site-packages/pandas/core/util/__init__.py\": 1734787355.625184, \"/Users/ft14968/.pyenv/versions/3.11.1/lib/python3.11/site-packages/pandas/_libs/hashing.cpython-311-darwin.so\": 1734787355.9494655, \"/Users/ft14968/.pyenv/versions/3.11.1/lib/python3.11/site-packages/pandas/core/util/hashing.py\": 1734787355.6265135, \"/Users/ft14968/.pyenv/versions/3.11.1/lib/python3.11/site-packages/pandas/core/arrays/masked.py\": 1734787355.6611795, \"/Users/ft14968/.pyenv/versions/3.11.1/lib/python3.11/site-packages/pandas/_libs/arrays.cpython-311-darwin.so\": 1734787355.952723, \"/Users/ft14968/.pyenv/versions/3.11.1/lib/python3.11/site-packages/pandas/core/arrays/numeric.py\": 1734787355.6615996, \"/Users/ft14968/.pyenv/versions/3.11.1/lib/python3.11/site-packages/pandas/core/arrays/floating.py\": 1734787355.6578255, \"/Users/ft14968/.pyenv/versions/3.11.1/lib/python3.11/site-packages/pandas/core/arrays/integer.py\": 1734787355.6608515, \"/Users/ft14968/.pyenv/versions/3.11.1/lib/python3.11/site-packages/pandas/core/array_algos/transforms.py\": 1734787355.6280403, \"/Users/ft14968/.pyenv/versions/3.11.1/lib/python3.11/site-packages/pandas/core/arrays/_mixins.py\": 1734787355.6623378, \"/Users/ft14968/.pyenv/versions/3.11.1/lib/python3.11/site-packages/pandas/core/strings/__init__.py\": 1734787355.6169043, \"/Users/ft14968/.pyenv/versions/3.11.1/lib/python3.11/site-packages/pandas/core/strings/base.py\": 1734787355.6171606, \"/Users/ft14968/.pyenv/versions/3.11.1/lib/python3.11/site-packages/pandas/core/strings/object_array.py\": 1734787355.6165824, \"/Users/ft14968/.pyenv/versions/3.11.1/lib/python3.11/site-packages/pandas/core/arrays/numpy_.py\": 1734787355.6599216, \"/Users/ft14968/.pyenv/versions/3.11.1/lib/python3.11/site-packages/pandas/core/arrays/string_.py\": 1734787355.6596012, \"/Users/ft14968/.pyenv/versions/3.11.1/lib/python3.11/site-packages/pandas/tseries/__init__.py\": 1734787355.6873963, \"/Users/ft14968/.pyenv/versions/3.11.1/lib/python3.11/site-packages/pandas/tseries/frequencies.py\": 1734787355.6878757, \"/Users/ft14968/.pyenv/versions/3.11.1/lib/python3.11/site-packages/pandas/core/arrays/arrow/array.py\": 1734787355.663746, \"/Users/ft14968/.pyenv/versions/3.11.1/lib/python3.11/site-packages/pandas/core/arrays/arrow/__init__.py\": 1734787355.663258, \"/Users/ft14968/.pyenv/versions/3.11.1/lib/python3.11/site-packages/pandas/core/arrays/boolean.py\": 1734787355.6606061, \"/Users/ft14968/.pyenv/versions/3.11.1/lib/python3.11/site-packages/pandas/core/accessor.py\": 1734787355.5873425, \"/Users/ft14968/.pyenv/versions/3.11.1/lib/python3.11/site-packages/pandas/core/base.py\": 1734787355.6098616, \"/Users/ft14968/.pyenv/versions/3.11.1/lib/python3.11/site-packages/pandas/io/formats/__init__.py\": 1734787355.679638, \"/Users/ft14968/.pyenv/versions/3.11.1/lib/python3.11/site-packages/pandas/io/formats/console.py\": 1734787355.67852, \"/Users/ft14968/.pyenv/versions/3.11.1/lib/python3.11/site-packages/pandas/core/arrays/categorical.py\": 1734787355.658087, \"/Users/ft14968/.pyenv/versions/3.11.1/lib/python3.11/site-packages/pandas/_libs/tslib.cpython-311-darwin.so\": 1734787355.93621, \"/Users/ft14968/.pyenv/versions/3.11.1/lib/python3.11/site-packages/pandas/core/array_algos/datetimelike_accumulations.py\": 1734787355.6336353, \"/Users/ft14968/.pyenv/versions/3.11.1/lib/python3.11/site-packages/pandas/core/arrays/datetimelike.py\": 1734787355.6618657, \"/Users/ft14968/.pyenv/versions/3.11.1/lib/python3.11/site-packages/pandas/core/arrays/_ranges.py\": 1734787355.660154, \"/Users/ft14968/.pyenv/versions/3.11.1/lib/python3.11/site-packages/pandas/tseries/offsets.py\": 1734787355.6877093, \"/Users/ft14968/.pyenv/versions/3.11.1/lib/python3.11/site-packages/pandas/core/arrays/datetimes.py\": 1734787355.6593795, \"/Users/ft14968/.pyenv/versions/3.11.1/lib/python3.11/site-packages/pandas/core/arrays/timedeltas.py\": 1734787355.659066, \"/Users/ft14968/.pyenv/versions/3.11.1/lib/python3.11/site-packages/pandas/core/arrays/interval.py\": 1734787355.6583035, \"/Users/ft14968/.pyenv/versions/3.11.1/lib/python3.11/site-packages/pandas/core/arrays/period.py\": 1734787355.661384, \"/Users/ft14968/.pyenv/versions/3.11.1/lib/python3.11/site-packages/pandas/_libs/sparse.cpython-311-darwin.so\": 1734787355.952014, \"/Users/ft14968/.pyenv/versions/3.11.1/lib/python3.11/site-packages/pandas/io/formats/printing.py\": 1734787355.6818888, \"/Users/ft14968/.pyenv/versions/3.11.1/lib/python3.11/site-packages/pandas/core/arrays/sparse/array.py\": 1734787355.664661, \"/Users/ft14968/.pyenv/versions/3.11.1/lib/python3.11/site-packages/pandas/core/arrays/sparse/accessor.py\": 1734787355.6640198, \"/Users/ft14968/.pyenv/versions/3.11.1/lib/python3.11/site-packages/pandas/core/arrays/sparse/__init__.py\": 1734787355.6644142, \"/Users/ft14968/.pyenv/versions/3.11.1/lib/python3.11/site-packages/pandas/core/arrays/arrow/_arrow_utils.py\": 1734787355.663046, \"/Users/ft14968/.pyenv/versions/3.11.1/lib/python3.11/site-packages/pandas/core/arrays/string_arrow.py\": 1734787355.660346, \"/Users/ft14968/.pyenv/versions/3.11.1/lib/python3.11/site-packages/pandas/core/arrays/__init__.py\": 1734787355.6597514, \"/Users/ft14968/.pyenv/versions/3.11.1/lib/python3.11/site-packages/pandas/core/flags.py\": 1734787355.5893853, \"/Users/ft14968/.pyenv/versions/3.11.1/lib/python3.11/site-packages/pandas/_libs/internals.cpython-311-darwin.so\": 1734787355.9611688, \"/Users/ft14968/.pyenv/versions/3.11.1/lib/python3.11/site-packages/pandas/core/_numba/__init__.py\": 1734787355.6537704, \"/Users/ft14968/.pyenv/versions/3.11.1/lib/python3.11/site-packages/pandas/core/_numba/executor.py\": 1734787355.6544023, \"/Users/ft14968/.pyenv/versions/3.11.1/lib/python3.11/site-packages/pandas/core/apply.py\": 1734787355.6100712, \"/Users/ft14968/.pyenv/versions/3.11.1/lib/python3.11/site-packages/pandas/_libs/indexing.cpython-311-darwin.so\": 1734787355.9482741, \"/Users/ft14968/.pyenv/versions/3.11.1/lib/python3.11/site-packages/pandas/core/indexes/__init__.py\": 1734787355.6687975, \"/Users/ft14968/.pyenv/versions/3.11.1/lib/python3.11/site-packages/pandas/_libs/index.cpython-311-darwin.so\": 1734787355.9320562, \"/Users/ft14968/.pyenv/versions/3.11.1/lib/python3.11/site-packages/pandas/_libs/writers.cpython-311-darwin.so\": 1734787355.9653668, \"/Users/ft14968/.pyenv/versions/3.11.1/lib/python3.11/site-packages/pandas/_libs/join.cpython-311-darwin.so\": 1734787355.957535, \"/Users/ft14968/.pyenv/versions/3.11.1/lib/python3.11/site-packages/pandas/core/array_algos/putmask.py\": 1734787355.6342022, \"/Users/ft14968/.pyenv/versions/3.11.1/lib/python3.11/site-packages/pandas/core/indexes/frozen.py\": 1734787355.6696396, \"/Users/ft14968/.pyenv/versions/3.11.1/lib/python3.11/site-packages/pandas/core/strings/accessor.py\": 1734787355.6161578, \"/Users/ft14968/.pyenv/versions/3.11.1/lib/python3.11/site-packages/pandas/core/indexes/base.py\": 1734787355.670793, \"/Users/ft14968/.pyenv/versions/3.11.1/lib/python3.11/site-packages/pandas/core/indexes/extension.py\": 1734787355.6700542, \"/Users/ft14968/.pyenv/versions/3.11.1/lib/python3.11/site-packages/pandas/core/indexes/category.py\": 1734787355.6710122, \"/Users/ft14968/.pyenv/versions/3.11.1/lib/python3.11/site-packages/pandas/core/indexes/range.py\": 1734787355.6678967, \"/Users/ft14968/.pyenv/versions/3.11.1/lib/python3.11/site-packages/pandas/core/tools/__init__.py\": 1734787355.6192214, \"/Users/ft14968/.pyenv/versions/3.11.1/lib/python3.11/site-packages/pandas/core/tools/timedeltas.py\": 1734787355.6174054, \"/Users/ft14968/.pyenv/versions/3.11.1/lib/python3.11/site-packages/pandas/core/indexes/datetimelike.py\": 1734787355.6703417, \"/Users/ft14968/.pyenv/versions/3.11.1/lib/python3.11/site-packages/pandas/core/tools/times.py\": 1734787355.6200433, \"/Users/ft14968/.pyenv/versions/3.11.1/lib/python3.11/site-packages/pandas/core/indexes/datetimes.py\": 1734787355.668087, \"/Users/ft14968/.pyenv/versions/3.11.1/lib/python3.11/site-packages/pandas/core/indexes/multi.py\": 1734787355.6684117, \"/Users/ft14968/.pyenv/versions/3.11.1/lib/python3.11/site-packages/pandas/core/indexes/timedeltas.py\": 1734787355.6677082, \"/Users/ft14968/.pyenv/versions/3.11.1/lib/python3.11/site-packages/pandas/core/indexes/interval.py\": 1734787355.6675131, \"/Users/ft14968/.pyenv/versions/3.11.1/lib/python3.11/site-packages/pandas/core/indexes/period.py\": 1734787355.669221, \"/Users/ft14968/.pyenv/versions/3.11.1/lib/python3.11/site-packages/pandas/core/indexes/api.py\": 1734787355.6690152, \"/Users/ft14968/.pyenv/versions/3.11.1/lib/python3.11/site-packages/pandas/core/indexing.py\": 1734787355.6096108, \"/Users/ft14968/.pyenv/versions/3.11.1/lib/python3.11/site-packages/pandas/core/sample.py\": 1734787355.6091797, \"/Users/ft14968/.pyenv/versions/3.11.1/lib/python3.11/site-packages/pandas/core/array_algos/replace.py\": 1734787355.6350303, \"/Users/ft14968/.pyenv/versions/3.11.1/lib/python3.11/site-packages/pandas/core/internals/blocks.py\": 1734787355.6483996, \"/Users/ft14968/.pyenv/versions/3.11.1/lib/python3.11/site-packages/pandas/core/internals/api.py\": 1734787355.6478043, \"/Users/ft14968/.pyenv/versions/3.11.1/lib/python3.11/site-packages/pandas/core/internals/base.py\": 1734787355.648641, \"/Users/ft14968/.pyenv/versions/3.11.1/lib/python3.11/site-packages/pandas/core/internals/ops.py\": 1734787355.648133, \"/Users/ft14968/.pyenv/versions/3.11.1/lib/python3.11/site-packages/pandas/core/internals/managers.py\": 1734787355.6490085, \"/Users/ft14968/.pyenv/versions/3.11.1/lib/python3.11/site-packages/pandas/core/internals/array_manager.py\": 1734787355.6475122, \"/Users/ft14968/.pyenv/versions/3.11.1/lib/python3.11/site-packages/pandas/core/internals/concat.py\": 1734787355.646583, \"/Users/ft14968/.pyenv/versions/3.11.1/lib/python3.11/site-packages/pandas/core/internals/__init__.py\": 1734787355.647257, \"/Users/ft14968/.pyenv/versions/3.11.1/lib/python3.11/site-packages/pandas/core/internals/construction.py\": 1734787355.6469288, \"/Users/ft14968/.pyenv/versions/3.11.1/lib/python3.11/site-packages/pandas/core/methods/__init__.py\": 1734787355.6221163, \"/Users/ft14968/.pyenv/versions/3.11.1/lib/python3.11/site-packages/pandas/core/reshape/__init__.py\": 1734787355.6149426, \"/Users/ft14968/.pyenv/versions/3.11.1/lib/python3.11/site-packages/pandas/core/reshape/concat.py\": 1734787355.613725, \"/Users/ft14968/.pyenv/versions/3.11.1/lib/python3.11/lib-dynload/mmap.cpython-311-darwin.so\": 1716061039.0, \"/Users/ft14968/.pyenv/versions/3.11.1/lib/python3.11/lib-dynload/grp.cpython-311-darwin.so\": 1716061038.0, \"/Users/ft14968/.pyenv/versions/3.11.1/lib/python3.11/tarfile.py\": 1716061059.7476175, \"/Users/ft14968/.pyenv/versions/3.11.1/lib/python3.11/site-packages/pandas/core/shared_docs.py\": 1734787355.6040926, \"/Users/ft14968/.pyenv/versions/3.11.1/lib/python3.11/site-packages/pandas/io/common.py\": 1734787355.6755085, \"/Users/ft14968/.pyenv/versions/3.11.1/lib/python3.11/site-packages/pandas/io/formats/format.py\": 1734787355.6798818, \"/Users/ft14968/.pyenv/versions/3.11.1/lib/python3.11/site-packages/pandas/core/methods/describe.py\": 1734787355.6217349, \"/Users/ft14968/.pyenv/versions/3.11.1/lib/python3.11/site-packages/pandas/_libs/window/__init__.py\": 1734787355.9708521, \"/Users/ft14968/.pyenv/versions/3.11.1/lib/python3.11/site-packages/pandas/_libs/window/aggregations.cpython-311-darwin.so\": 1734787355.9700367, \"/Users/ft14968/.pyenv/versions/3.11.1/lib/python3.11/site-packages/pandas/_libs/window/indexers.cpython-311-darwin.so\": 1734787355.9692001, \"/Users/ft14968/.pyenv/versions/3.11.1/lib/python3.11/site-packages/pandas/core/indexers/objects.py\": 1734787355.6128685, \"/Users/ft14968/.pyenv/versions/3.11.1/lib/python3.11/site-packages/pandas/core/util/numba_.py\": 1734787355.6271958, \"/Users/ft14968/.pyenv/versions/3.11.1/lib/python3.11/site-packages/pandas/core/window/common.py\": 1734787355.6569872, \"/Users/ft14968/.pyenv/versions/3.11.1/lib/python3.11/site-packages/pandas/core/window/doc.py\": 1734787355.6572285, \"/Users/ft14968/.pyenv/versions/3.11.1/lib/python3.11/site-packages/pandas/core/window/numba_.py\": 1734787355.6574223, \"/Users/ft14968/.pyenv/versions/3.11.1/lib/python3.11/site-packages/pandas/core/window/online.py\": 1734787355.656209, \"/Users/ft14968/.pyenv/versions/3.11.1/lib/python3.11/site-packages/pandas/core/window/rolling.py\": 1734787355.6567125, \"/Users/ft14968/.pyenv/versions/3.11.1/lib/python3.11/site-packages/pandas/core/window/ewm.py\": 1734787355.6559432, \"/Users/ft14968/.pyenv/versions/3.11.1/lib/python3.11/site-packages/pandas/core/window/expanding.py\": 1734787355.6575832, \"/Users/ft14968/.pyenv/versions/3.11.1/lib/python3.11/site-packages/pandas/core/window/__init__.py\": 1734787355.6564467, \"/Users/ft14968/.pyenv/versions/3.11.1/lib/python3.11/site-packages/pandas/core/generic.py\": 1734787355.5902126, \"/Users/ft14968/.pyenv/versions/3.11.1/lib/python3.11/site-packages/pandas/core/methods/selectn.py\": 1734787355.622866, \"/Users/ft14968/.pyenv/versions/3.11.1/lib/python3.11/site-packages/pandas/core/reshape/util.py\": 1734787355.613992, \"/Users/ft14968/.pyenv/versions/3.11.1/lib/python3.11/site-packages/pandas/core/tools/numeric.py\": 1734787355.6209664, \"/Users/ft14968/.pyenv/versions/3.11.1/lib/python3.11/site-packages/pandas/core/reshape/melt.py\": 1734787355.6154695, \"/Users/ft14968/.pyenv/versions/3.11.1/lib/python3.11/site-packages/pandas/_libs/reshape.cpython-311-darwin.so\": 1734787355.954084, \"/Users/ft14968/.pyenv/versions/3.11.1/lib/python3.11/site-packages/pandas/core/indexes/accessors.py\": 1734787355.6672723, \"/Users/ft14968/.pyenv/versions/3.11.1/lib/python3.11/site-packages/pandas/arrays/__init__.py\": 1734787355.991121, \"/Users/ft14968/.pyenv/versions/3.11.1/lib/python3.11/site-packages/pandas/core/tools/datetimes.py\": 1734787355.6178489, \"/Users/ft14968/.pyenv/versions/3.11.1/lib/python3.11/site-packages/pandas/io/formats/info.py\": 1734787355.6813622, \"/Users/ft14968/.pyenv/versions/3.11.1/lib/python3.11/site-packages/pandas/plotting/_core.py\": 1734787355.9886258, \"/Users/ft14968/.pyenv/versions/3.11.1/lib/python3.11/site-packages/pandas/plotting/_misc.py\": 1734787355.988808, \"/Users/ft14968/.pyenv/versions/3.11.1/lib/python3.11/site-packages/pandas/plotting/__init__.py\": 1734787355.9883864, \"/Users/ft14968/.pyenv/versions/3.11.1/lib/python3.11/site-packages/pandas/core/series.py\": 1734787355.5910246, \"/Users/ft14968/.pyenv/versions/3.11.1/lib/python3.11/site-packages/pandas/core/frame.py\": 1734787355.6036074, \"/Users/ft14968/.pyenv/versions/3.11.1/lib/python3.11/site-packages/pandas/core/groupby/base.py\": 1734787355.6463602, \"/Users/ft14968/.pyenv/versions/3.11.1/lib/python3.11/site-packages/pandas/_libs/groupby.cpython-311-darwin.so\": 1734787355.944792, \"/Users/ft14968/.pyenv/versions/3.11.1/lib/python3.11/site-packages/pandas/core/groupby/categorical.py\": 1734787355.6437058, \"/Users/ft14968/.pyenv/versions/3.11.1/lib/python3.11/site-packages/pandas/core/groupby/grouper.py\": 1734787355.644947, \"/Users/ft14968/.pyenv/versions/3.11.1/lib/python3.11/site-packages/pandas/core/groupby/ops.py\": 1734787355.6446028, \"/Users/ft14968/.pyenv/versions/3.11.1/lib/python3.11/site-packages/pandas/core/groupby/numba_.py\": 1734787355.646164, \"/Users/ft14968/.pyenv/versions/3.11.1/lib/python3.11/site-packages/pandas/core/groupby/indexing.py\": 1734787355.645221, \"/Users/ft14968/.pyenv/versions/3.11.1/lib/python3.11/site-packages/pandas/core/groupby/groupby.py\": 1734787355.6456027, \"/Users/ft14968/.pyenv/versions/3.11.1/lib/python3.11/site-packages/pandas/core/groupby/generic.py\": 1734787355.6440175, \"/Users/ft14968/.pyenv/versions/3.11.1/lib/python3.11/site-packages/pandas/core/groupby/__init__.py\": 1734787355.6443198, \"/Users/ft14968/.pyenv/versions/3.11.1/lib/python3.11/site-packages/pandas/core/api.py\": 1734787355.5915754, \"/Users/ft14968/.pyenv/versions/3.11.1/lib/python3.11/site-packages/pandas/tseries/api.py\": 1734787355.6875348, \"/Users/ft14968/.pyenv/versions/3.11.1/lib/python3.11/site-packages/pandas/core/computation/common.py\": 1734787355.6523216, \"/Users/ft14968/.pyenv/versions/3.11.1/lib/python3.11/site-packages/pandas/core/computation/align.py\": 1734787355.649919, \"/Users/ft14968/.pyenv/versions/3.11.1/lib/python3.11/site-packages/pandas/core/computation/scope.py\": 1734787355.6529853, \"/Users/ft14968/.pyenv/versions/3.11.1/lib/python3.11/site-packages/pandas/core/computation/ops.py\": 1734787355.6517758, \"/Users/ft14968/.pyenv/versions/3.11.1/lib/python3.11/site-packages/pandas/core/computation/engines.py\": 1734787355.6502864, \"/Users/ft14968/.pyenv/versions/3.11.1/lib/python3.11/site-packages/pandas/core/computation/parsing.py\": 1734787355.6494803, \"/Users/ft14968/.pyenv/versions/3.11.1/lib/python3.11/site-packages/pandas/core/computation/expr.py\": 1734787355.6536071, \"/Users/ft14968/.pyenv/versions/3.11.1/lib/python3.11/site-packages/pandas/core/computation/eval.py\": 1734787355.6525955, \"/Users/ft14968/.pyenv/versions/3.11.1/lib/python3.11/site-packages/pandas/core/computation/api.py\": 1734787355.6510212, \"/Users/ft14968/.pyenv/versions/3.11.1/lib/python3.11/site-packages/pandas/core/reshape/encoding.py\": 1734787355.6134684, \"/Users/ft14968/.pyenv/versions/3.11.1/lib/python3.11/site-packages/pandas/core/reshape/merge.py\": 1734787355.61331, \"/Users/ft14968/.pyenv/versions/3.11.1/lib/python3.11/site-packages/pandas/core/reshape/pivot.py\": 1734787355.6157494, \"/Users/ft14968/.pyenv/versions/3.11.1/lib/python3.11/site-packages/pandas/core/reshape/tile.py\": 1734787355.6130757, \"/Users/ft14968/.pyenv/versions/3.11.1/lib/python3.11/site-packages/pandas/core/reshape/api.py\": 1734787355.6152065, \"/Users/ft14968/.pyenv/versions/3.11.1/lib/python3.11/site-packages/pandas/api/extensions/__init__.py\": 1734787355.9918747, \"/Users/ft14968/.pyenv/versions/3.11.1/lib/python3.11/site-packages/pandas/api/indexers/__init__.py\": 1734787355.9914281, \"/Users/ft14968/.pyenv/versions/3.11.1/lib/python3.11/site-packages/pandas/core/interchange/__init__.py\": 1734787355.6363716, \"/Users/ft14968/.pyenv/versions/3.11.1/lib/python3.11/site-packages/pandas/core/interchange/dataframe_protocol.py\": 1734787355.6366274, \"/Users/ft14968/.pyenv/versions/3.11.1/lib/python3.11/site-packages/pandas/core/interchange/utils.py\": 1734787355.6369147, \"/Users/ft14968/.pyenv/versions/3.11.1/lib/python3.11/site-packages/pandas/core/interchange/from_dataframe.py\": 1734787355.6357489, \"/Users/ft14968/.pyenv/versions/3.11.1/lib/python3.11/site-packages/pandas/api/interchange/__init__.py\": 1734787355.99173, \"/Users/ft14968/.pyenv/versions/3.11.1/lib/python3.11/site-packages/pandas/core/dtypes/api.py\": 1734787355.6416607, \"/Users/ft14968/.pyenv/versions/3.11.1/lib/python3.11/site-packages/pandas/api/types/__init__.py\": 1734787355.9915895, \"/Users/ft14968/.pyenv/versions/3.11.1/lib/python3.11/site-packages/pandas/core/resample.py\": 1734787355.5884466, \"/Users/ft14968/.pyenv/versions/3.11.1/lib/python3.11/site-packages/pandas/_libs/json.cpython-311-darwin.so\": 1734787355.9370213, \"/Users/ft14968/.pyenv/versions/3.11.1/lib/python3.11/site-packages/pandas/io/json/_normalize.py\": 1734787355.6856625, \"/Users/ft14968/.pyenv/versions/3.11.1/lib/python3.11/site-packages/pandas/io/json/_table_schema.py\": 1734787355.6858394, \"/Users/ft14968/.pyenv/versions/3.11.1/lib/python3.11/site-packages/pandas/_libs/parsers.cpython-311-darwin.so\": 1734787355.9478364, \"/Users/ft14968/.pyenv/versions/3.11.1/lib/python3.11/site-packages/pandas/io/parsers/base_parser.py\": 1734787355.6779783, \"/Users/ft14968/.pyenv/versions/3.11.1/lib/python3.11/site-packages/pandas/io/parsers/arrow_parser_wrapper.py\": 1734787355.6781805, \"/Users/ft14968/.pyenv/versions/3.11.1/lib/python3.11/site-packages/pandas/io/parsers/c_parser_wrapper.py\": 1734787355.678366, \"/Users/ft14968/.pyenv/versions/3.11.1/lib/python3.11/site-packages/pandas/io/parsers/python_parser.py\": 1734787355.6774826, \"/Users/ft14968/.pyenv/versions/3.11.1/lib/python3.11/site-packages/pandas/io/parsers/readers.py\": 1734787355.6771472, \"/Users/ft14968/.pyenv/versions/3.11.1/lib/python3.11/site-packages/pandas/io/parsers/__init__.py\": 1734787355.6772969, \"/Users/ft14968/.pyenv/versions/3.11.1/lib/python3.11/site-packages/pandas/io/json/_json.py\": 1734787355.6855092, \"/Users/ft14968/.pyenv/versions/3.11.1/lib/python3.11/site-packages/pandas/io/json/__init__.py\": 1734787355.6859825, \"/Users/ft14968/.pyenv/versions/3.11.1/lib/python3.11/site-packages/pandas/io/stata.py\": 1734787355.6764884, \"/Users/ft14968/.pyenv/versions/3.11.1/lib/python3.11/site-packages/pandas/api/typing/__init__.py\": 1734787355.9920084, \"/Users/ft14968/.pyenv/versions/3.11.1/lib/python3.11/site-packages/pandas/api/__init__.py\": 1734787355.9912806, \"/Users/ft14968/.pyenv/versions/3.11.1/lib/python3.11/site-packages/pandas/_testing/contexts.py\": 1734787355.930569, \"/Users/ft14968/.pyenv/versions/3.11.1/lib/python3.11/site-packages/pandas/_testing/_io.py\": 1734787355.9294972, \"/Users/ft14968/.pyenv/versions/3.11.1/lib/python3.11/site-packages/pandas/_testing/_warnings.py\": 1734787355.9299192, \"/Users/ft14968/.pyenv/versions/3.11.1/lib/python3.11/lib-dynload/cmath.cpython-311-darwin.so\": 1716061038.0, \"/Users/ft14968/.pyenv/versions/3.11.1/lib/python3.11/site-packages/pandas/_libs/testing.cpython-311-darwin.so\": 1734787355.958378, \"/Users/ft14968/.pyenv/versions/3.11.1/lib/python3.11/site-packages/pandas/_testing/asserters.py\": 1734787355.93011, \"/Users/ft14968/.pyenv/versions/3.11.1/lib/python3.11/site-packages/pandas/_testing/compat.py\": 1734787355.9293282, \"/Users/ft14968/.pyenv/versions/3.11.1/lib/python3.11/site-packages/pandas/_testing/__init__.py\": 1734787355.9296863, \"/Users/ft14968/.pyenv/versions/3.11.1/lib/python3.11/site-packages/pandas/testing.py\": 1734787355.5838645, \"/Users/ft14968/.pyenv/versions/3.11.1/lib/python3.11/site-packages/pandas/util/_print_versions.py\": 1734787355.6718407, \"/Users/ft14968/.pyenv/versions/3.11.1/lib/python3.11/site-packages/pandas/io/clipboards.py\": 1734787355.6751773, \"/Users/ft14968/.pyenv/versions/3.11.1/lib/python3.11/site-packages/pandas/io/excel/_util.py\": 1734787355.6848679, \"/Users/ft14968/.pyenv/versions/3.11.1/lib/python3.11/site-packages/pandas/io/excel/_calamine.py\": 1734787355.6837645, \"/Users/ft14968/.pyenv/versions/3.11.1/lib/python3.11/site-packages/pandas/io/excel/_odfreader.py\": 1734787355.6851027, \"/Users/ft14968/.pyenv/versions/3.11.1/lib/python3.11/site-packages/pandas/io/excel/_openpyxl.py\": 1734787355.6834009, \"/Users/ft14968/.pyenv/versions/3.11.1/lib/python3.11/site-packages/pandas/io/excel/_pyxlsb.py\": 1734787355.6843336, \"/Users/ft14968/.pyenv/versions/3.11.1/lib/python3.11/site-packages/pandas/io/excel/_xlrd.py\": 1734787355.6839895, \"/Users/ft14968/.pyenv/versions/3.11.1/lib/python3.11/site-packages/pandas/io/excel/_base.py\": 1734787355.6836112, \"/Users/ft14968/.pyenv/versions/3.11.1/lib/python3.11/site-packages/pandas/io/excel/_odswriter.py\": 1734787355.6845088, \"/Users/ft14968/.pyenv/versions/3.11.1/lib/python3.11/site-packages/pandas/io/excel/_xlsxwriter.py\": 1734787355.6853037, \"/Users/ft14968/.pyenv/versions/3.11.1/lib/python3.11/site-packages/pandas/io/excel/__init__.py\": 1734787355.6841226, \"/Users/ft14968/.pyenv/versions/3.11.1/lib/python3.11/site-packages/pandas/io/feather_format.py\": 1734787355.6735234, \"/Users/ft14968/.pyenv/versions/3.11.1/lib/python3.11/site-packages/pandas/io/gbq.py\": 1734787355.6767368, \"/Users/ft14968/.pyenv/versions/3.11.1/lib/python3.11/site-packages/pandas/io/html.py\": 1734787355.6742365, \"/Users/ft14968/.pyenv/versions/3.11.1/lib/python3.11/site-packages/pandas/io/orc.py\": 1734787355.673281, \"/Users/ft14968/.pyenv/versions/3.11.1/lib/python3.11/site-packages/pandas/io/parquet.py\": 1734787355.673678, \"/Users/ft14968/.pyenv/versions/3.11.1/lib/python3.11/site-packages/pandas/compat/pickle_compat.py\": 1734787355.5852203, \"/Users/ft14968/.pyenv/versions/3.11.1/lib/python3.11/site-packages/pandas/io/pickle.py\": 1734787355.6758997, \"/Users/ft14968/.pyenv/versions/3.11.1/lib/python3.11/site-packages/pandas/core/computation/pytables.py\": 1734787355.6501136, \"/Users/ft14968/.pyenv/versions/3.11.1/lib/python3.11/site-packages/pandas/io/pytables.py\": 1734787355.674006, \"/Users/ft14968/.pyenv/versions/3.11.1/lib/python3.11/site-packages/pandas/io/sas/sasreader.py\": 1734787355.686728, \"/Users/ft14968/.pyenv/versions/3.11.1/lib/python3.11/site-packages/pandas/io/sas/__init__.py\": 1734787355.6868715, \"/Users/ft14968/.pyenv/versions/3.11.1/lib/python3.11/site-packages/pandas/io/spss.py\": 1734787355.676908, \"/Users/ft14968/.pyenv/versions/3.11.1/lib/python3.11/site-packages/pandas/io/sql.py\": 1734787355.6761398, \"/Users/ft14968/.pyenv/versions/3.11.1/lib/python3.11/site-packages/pandas/io/xml.py\": 1734787355.674505, \"/Users/ft14968/.pyenv/versions/3.11.1/lib/python3.11/site-packages/pandas/io/api.py\": 1734787355.6753132, \"/Users/ft14968/.pyenv/versions/3.11.1/lib/python3.11/site-packages/pandas/util/_tester.py\": 1734787355.672834, \"/Users/ft14968/.pyenv/versions/3.11.1/lib/python3.11/site-packages/pandas/_version_meson.py\": 1734787355.5836651, \"/Users/ft14968/.pyenv/versions/3.11.1/lib/python3.11/site-packages/pandas/__init__.py\": 1734787355.5834537}\n"
     ]
    }
   ],
   "source": [
    "\n",
    "# imports\n",
    "import os\n",
    "import sys\n",
    "import types\n",
    "import json\n",
    "import base64\n",
    "\n",
    "# figure size/format\n",
    "fig_width = 7\n",
    "fig_height = 5\n",
    "fig_format = 'retina'\n",
    "fig_dpi = 96\n",
    "interactivity = ''\n",
    "is_shiny = False\n",
    "is_dashboard = False\n",
    "plotly_connected = True\n",
    "\n",
    "# matplotlib defaults / format\n",
    "try:\n",
    "  import matplotlib.pyplot as plt\n",
    "  plt.rcParams['figure.figsize'] = (fig_width, fig_height)\n",
    "  plt.rcParams['figure.dpi'] = fig_dpi\n",
    "  plt.rcParams['savefig.dpi'] = \"figure\"\n",
    "  from IPython.display import set_matplotlib_formats\n",
    "  set_matplotlib_formats(fig_format)\n",
    "except Exception:\n",
    "  pass\n",
    "\n",
    "# plotly use connected mode\n",
    "try:\n",
    "  import plotly.io as pio\n",
    "  if plotly_connected:\n",
    "    pio.renderers.default = \"notebook_connected\"\n",
    "  else:\n",
    "    pio.renderers.default = \"notebook\"\n",
    "  for template in pio.templates.keys():\n",
    "    pio.templates[template].layout.margin = dict(t=30,r=0,b=0,l=0)\n",
    "except Exception:\n",
    "  pass\n",
    "\n",
    "# disable itables paging for dashboards\n",
    "if is_dashboard:\n",
    "  try:\n",
    "    from itables import options\n",
    "    options.dom = 'fiBrtlp'\n",
    "    options.maxBytes = 1024 * 1024\n",
    "    options.language = dict(info = \"Showing _TOTAL_ entries\")\n",
    "    options.classes = \"display nowrap compact\"\n",
    "    options.paging = False\n",
    "    options.searching = True\n",
    "    options.ordering = True\n",
    "    options.info = True\n",
    "    options.lengthChange = False\n",
    "    options.autoWidth = False\n",
    "    options.responsive = True\n",
    "    options.keys = True\n",
    "    options.buttons = []\n",
    "  except Exception:\n",
    "    pass\n",
    "  \n",
    "  try:\n",
    "    import altair as alt\n",
    "    # By default, dashboards will have container sized\n",
    "    # vega visualizations which allows them to flow reasonably\n",
    "    theme_sentinel = '_quarto-dashboard-internal'\n",
    "    def make_theme(name):\n",
    "        nonTheme = alt.themes._plugins[name]    \n",
    "        def patch_theme(*args, **kwargs):\n",
    "            existingTheme = nonTheme()\n",
    "            if 'height' not in existingTheme:\n",
    "              existingTheme['height'] = 'container'\n",
    "            if 'width' not in existingTheme:\n",
    "              existingTheme['width'] = 'container'\n",
    "\n",
    "            if 'config' not in existingTheme:\n",
    "              existingTheme['config'] = dict()\n",
    "            \n",
    "            # Configure the default font sizes\n",
    "            title_font_size = 15\n",
    "            header_font_size = 13\n",
    "            axis_font_size = 12\n",
    "            legend_font_size = 12\n",
    "            mark_font_size = 12\n",
    "            tooltip = False\n",
    "\n",
    "            config = existingTheme['config']\n",
    "\n",
    "            # The Axis\n",
    "            if 'axis' not in config:\n",
    "              config['axis'] = dict()\n",
    "            axis = config['axis']\n",
    "            if 'labelFontSize' not in axis:\n",
    "              axis['labelFontSize'] = axis_font_size\n",
    "            if 'titleFontSize' not in axis:\n",
    "              axis['titleFontSize'] = axis_font_size  \n",
    "\n",
    "            # The legend\n",
    "            if 'legend' not in config:\n",
    "              config['legend'] = dict()\n",
    "            legend = config['legend']\n",
    "            if 'labelFontSize' not in legend:\n",
    "              legend['labelFontSize'] = legend_font_size\n",
    "            if 'titleFontSize' not in legend:\n",
    "              legend['titleFontSize'] = legend_font_size  \n",
    "\n",
    "            # The header\n",
    "            if 'header' not in config:\n",
    "              config['header'] = dict()\n",
    "            header = config['header']\n",
    "            if 'labelFontSize' not in header:\n",
    "              header['labelFontSize'] = header_font_size\n",
    "            if 'titleFontSize' not in header:\n",
    "              header['titleFontSize'] = header_font_size    \n",
    "\n",
    "            # Title\n",
    "            if 'title' not in config:\n",
    "              config['title'] = dict()\n",
    "            title = config['title']\n",
    "            if 'fontSize' not in title:\n",
    "              title['fontSize'] = title_font_size\n",
    "\n",
    "            # Marks\n",
    "            if 'mark' not in config:\n",
    "              config['mark'] = dict()\n",
    "            mark = config['mark']\n",
    "            if 'fontSize' not in mark:\n",
    "              mark['fontSize'] = mark_font_size\n",
    "\n",
    "            # Mark tooltips\n",
    "            if tooltip and 'tooltip' not in mark:\n",
    "              mark['tooltip'] = dict(content=\"encoding\")\n",
    "\n",
    "            return existingTheme\n",
    "            \n",
    "        return patch_theme\n",
    "\n",
    "    # We can only do this once per session\n",
    "    if theme_sentinel not in alt.themes.names():\n",
    "      for name in alt.themes.names():\n",
    "        alt.themes.register(name, make_theme(name))\n",
    "      \n",
    "      # register a sentinel theme so we only do this once\n",
    "      alt.themes.register(theme_sentinel, make_theme('default'))\n",
    "      alt.themes.enable('default')\n",
    "\n",
    "  except Exception:\n",
    "    pass\n",
    "\n",
    "# enable pandas latex repr when targeting pdfs\n",
    "try:\n",
    "  import pandas as pd\n",
    "  if fig_format == 'pdf':\n",
    "    pd.set_option('display.latex.repr', True)\n",
    "except Exception:\n",
    "  pass\n",
    "\n",
    "# interactivity\n",
    "if interactivity:\n",
    "  from IPython.core.interactiveshell import InteractiveShell\n",
    "  InteractiveShell.ast_node_interactivity = interactivity\n",
    "\n",
    "# NOTE: the kernel_deps code is repeated in the cleanup.py file\n",
    "# (we can't easily share this code b/c of the way it is run).\n",
    "# If you edit this code also edit the same code in cleanup.py!\n",
    "\n",
    "# output kernel dependencies\n",
    "kernel_deps = dict()\n",
    "for module in list(sys.modules.values()):\n",
    "  # Some modules play games with sys.modules (e.g. email/__init__.py\n",
    "  # in the standard library), and occasionally this can cause strange\n",
    "  # failures in getattr.  Just ignore anything that's not an ordinary\n",
    "  # module.\n",
    "  if not isinstance(module, types.ModuleType):\n",
    "    continue\n",
    "  path = getattr(module, \"__file__\", None)\n",
    "  if not path:\n",
    "    continue\n",
    "  if path.endswith(\".pyc\") or path.endswith(\".pyo\"):\n",
    "    path = path[:-1]\n",
    "  if not os.path.exists(path):\n",
    "    continue\n",
    "  kernel_deps[path] = os.stat(path).st_mtime\n",
    "print(json.dumps(kernel_deps))\n",
    "\n",
    "# set run_path if requested\n",
    "run_path = 'L1VzZXJzL2Z0MTQ5NjgvUmVwb3MvaW50cm8tY29kaW5nLWRhdGEtYW5hbHlzaXMvcXVhcnRvLzA4'\n",
    "if run_path:\n",
    "  # hex-decode the path\n",
    "  run_path = base64.b64decode(run_path.encode(\"utf-8\")).decode(\"utf-8\")\n",
    "  os.chdir(run_path)\n",
    "\n",
    "# reset state\n",
    "%reset\n",
    "\n",
    "# shiny\n",
    "# Checking for shiny by using False directly because we're after the %reset. We don't want\n",
    "# to set a variable that stays in global scope.\n",
    "if False:\n",
    "  try:\n",
    "    import htmltools as _htmltools\n",
    "    import ast as _ast\n",
    "\n",
    "    _htmltools.html_dependency_render_mode = \"json\"\n",
    "\n",
    "    # This decorator will be added to all function definitions\n",
    "    def _display_if_has_repr_html(x):\n",
    "      try:\n",
    "        # IPython 7.14 preferred import\n",
    "        from IPython.display import display, HTML\n",
    "      except:\n",
    "        from IPython.core.display import display, HTML\n",
    "\n",
    "      if hasattr(x, '_repr_html_'):\n",
    "        display(HTML(x._repr_html_()))\n",
    "      return x\n",
    "\n",
    "    # ideally we would undo the call to ast_transformers.append\n",
    "    # at the end of this block whenver an error occurs, we do \n",
    "    # this for now as it will only be a problem if the user \n",
    "    # switches from shiny to not-shiny mode (and even then likely\n",
    "    # won't matter)\n",
    "    import builtins\n",
    "    builtins._display_if_has_repr_html = _display_if_has_repr_html\n",
    "\n",
    "    class _FunctionDefReprHtml(_ast.NodeTransformer):\n",
    "      def visit_FunctionDef(self, node):\n",
    "        node.decorator_list.insert(\n",
    "          0,\n",
    "          _ast.Name(id=\"_display_if_has_repr_html\", ctx=_ast.Load())\n",
    "        )\n",
    "        return node\n",
    "\n",
    "      def visit_AsyncFunctionDef(self, node):\n",
    "        node.decorator_list.insert(\n",
    "          0,\n",
    "          _ast.Name(id=\"_display_if_has_repr_html\", ctx=_ast.Load())\n",
    "        )\n",
    "        return node\n",
    "\n",
    "    ip = get_ipython()\n",
    "    ip.ast_transformers.append(_FunctionDefReprHtml())\n",
    "\n",
    "  except:\n",
    "    pass\n",
    "\n",
    "def ojs_define(**kwargs):\n",
    "  import json\n",
    "  try:\n",
    "    # IPython 7.14 preferred import\n",
    "    from IPython.display import display, HTML\n",
    "  except:\n",
    "    from IPython.core.display import display, HTML\n",
    "\n",
    "  # do some minor magic for convenience when handling pandas\n",
    "  # dataframes\n",
    "  def convert(v):\n",
    "    try:\n",
    "      import pandas as pd\n",
    "    except ModuleNotFoundError: # don't do the magic when pandas is not available\n",
    "      return v\n",
    "    if type(v) == pd.Series:\n",
    "      v = pd.DataFrame(v)\n",
    "    if type(v) == pd.DataFrame:\n",
    "      j = json.loads(v.T.to_json(orient='split'))\n",
    "      return dict((k,v) for (k,v) in zip(j[\"index\"], j[\"data\"]))\n",
    "    else:\n",
    "      return v\n",
    "\n",
    "  v = dict(contents=list(dict(name=key, value=convert(value)) for (key, value) in kwargs.items()))\n",
    "  display(HTML('<script type=\"ojs-define\">' + json.dumps(v) + '</script>'), metadata=dict(ojs_define = True))\n",
    "globals()[\"ojs_define\"] = ojs_define\n",
    "globals()[\"__spec__\"] = None"
   ]
  },
  {
   "cell_type": "code",
   "execution_count": 2,
   "id": "99e17a35",
   "metadata": {},
   "outputs": [
    {
     "name": "stdout",
     "output_type": "stream",
     "text": [
      "Array: [10 20 30 40 50]\n",
      "Element at index 1: 20\n"
     ]
    }
   ],
   "source": [
    "import numpy as np\n",
    "\n",
    "arr = np.array([10, 20, 30, 40, 50])\n",
    "print(\"Array:\", arr)\n",
    "print(\"Element at index 1:\", arr[1])"
   ]
  },
  {
   "cell_type": "code",
   "execution_count": 3,
   "id": "34c44e28",
   "metadata": {},
   "outputs": [
    {
     "name": "stdout",
     "output_type": "stream",
     "text": [
      "Slice from index 1 to 3: [20 30 40]\n"
     ]
    }
   ],
   "source": [
    "print(\"Slice from index 1 to 3:\", arr[1:4])"
   ]
  },
  {
   "cell_type": "code",
   "execution_count": 4,
   "id": "012315f7",
   "metadata": {},
   "outputs": [
    {
     "name": "stdout",
     "output_type": "stream",
     "text": [
      "Every other element: [10 30 50]\n",
      "Last three elements: [30 40 50]\n",
      "Reversed array: [50 40 30 20 10]\n",
      "All elements: [10 20 30 40 50]\n"
     ]
    }
   ],
   "source": [
    "# Step size: select every other element\n",
    "print(\"Every other element:\", arr[::2])\n",
    "\n",
    "# Negative indices: last three elements\n",
    "print(\"Last three elements:\", arr[-3:])\n",
    "\n",
    "# Reverse slicing: reverse the array\n",
    "print(\"Reversed array:\", arr[::-1])\n",
    "\n",
    "# Selecting all elements\n",
    "print(\"All elements:\", arr[:])"
   ]
  },
  {
   "cell_type": "code",
   "execution_count": 5,
   "id": "0ec237df",
   "metadata": {},
   "outputs": [
    {
     "name": "stdout",
     "output_type": "stream",
     "text": [
      "Original array before modification: [10 20 30 40 50]\n",
      "Modified slice_view: [99 40 50]\n",
      "Original array after modification: [10 20 99 40 50]\n"
     ]
    }
   ],
   "source": [
    "# Demonstrating that slicing creates a view, not a copy\n",
    "slice_view = arr[2:5]\n",
    "print(\"Original array before modification:\", arr)\n",
    "slice_view[0] = 99  # Modify the view\n",
    "print(\"Modified slice_view:\", slice_view)\n",
    "print(\"Original array after modification:\", arr)  # arr is also changed"
   ]
  },
  {
   "cell_type": "code",
   "execution_count": 6,
   "id": "fe9a30be",
   "metadata": {},
   "outputs": [
    {
     "name": "stdout",
     "output_type": "stream",
     "text": [
      "Using slice(1, 4, 2) on arr: [20 40]\n"
     ]
    }
   ],
   "source": [
    "# Creating an independent copy of a slice\n",
    "example_slice = slice(1, 4, 2)\n",
    "print(\"Using slice(1, 4, 2) on arr:\", arr[example_slice])"
   ]
  },
  {
   "cell_type": "code",
   "execution_count": 7,
   "id": "5d5c974b",
   "metadata": {},
   "outputs": [
    {
     "name": "stdout",
     "output_type": "stream",
     "text": [
      "arr_copy: [100  40  50]\n",
      "Original arr: [10 20 99 40 50]\n"
     ]
    }
   ],
   "source": [
    "# Creating an independent copy of a slice\n",
    "arr_copy = arr[2:5].copy()\n",
    "arr_copy[0] = 100  # Modify the copy\n",
    "print(\"arr_copy:\", arr_copy)\n",
    "print(\"Original arr:\", arr)  # arr remains unchanged"
   ]
  },
  {
   "cell_type": "code",
   "execution_count": 8,
   "id": "ad8f6c10",
   "metadata": {},
   "outputs": [
    {
     "name": "stdout",
     "output_type": "stream",
     "text": [
      "Original array: [1 2 3 4 5 6]\n",
      "Boolean mask for threshold 3: [False False False  True  True  True]\n",
      "Filtered values: [4 5 6]\n"
     ]
    }
   ],
   "source": [
    "arr = np.array([1, 2, 3, 4, 5, 6])\n",
    "threshold = 3\n",
    "bool_mask = arr > threshold\n",
    "print(\"Original array:\", arr)\n",
    "print(f\"Boolean mask for threshold {threshold}:\", bool_mask)\n",
    "print(\"Filtered values:\", arr[bool_mask])"
   ]
  },
  {
   "cell_type": "code",
   "execution_count": 9,
   "id": "d1c6c44c",
   "metadata": {},
   "outputs": [
    {
     "data": {
      "text/plain": [
       "(array([3, 4, 5]),)"
      ]
     },
     "execution_count": 8,
     "metadata": {},
     "output_type": "execute_result"
    }
   ],
   "source": [
    "np.where(arr > threshold)"
   ]
  },
  {
   "cell_type": "code",
   "execution_count": 10,
   "id": "a32a41dc",
   "metadata": {},
   "outputs": [
    {
     "data": {
      "text/plain": [
       "array([3, 4, 5])"
      ]
     },
     "execution_count": 9,
     "metadata": {},
     "output_type": "execute_result"
    }
   ],
   "source": [
    "np.where(arr > threshold)[0]"
   ]
  },
  {
   "cell_type": "code",
   "execution_count": 11,
   "id": "631b77ae",
   "metadata": {},
   "outputs": [
    {
     "ename": "NameError",
     "evalue": "name 'x' is not defined",
     "output_type": "error",
     "traceback": [
      "\u001b[31m---------------------------------------------------------------------------\u001b[39m",
      "\u001b[31mNameError\u001b[39m                                 Traceback (most recent call last)",
      "\u001b[36mCell\u001b[39m\u001b[36m \u001b[39m\u001b[32mIn[10]\u001b[39m\u001b[32m, line 5\u001b[39m\n\u001b[32m      2\u001b[39m b = np.array([-\u001b[32m1\u001b[39m,-\u001b[32m2\u001b[39m, -\u001b[32m3\u001b[39m, - \u001b[32m4\u001b[39m, -\u001b[32m5\u001b[39m])\n\u001b[32m      3\u001b[39m c = np.array([\u001b[32m10\u001b[39m, \u001b[32m20\u001b[39m, \u001b[32m30\u001b[39m, \u001b[32m40\u001b[39m, \u001b[32m50\u001b[39m])\n\u001b[32m----> \u001b[39m\u001b[32m5\u001b[39m result = np.where(a > \u001b[32m2\u001b[39m, \u001b[43mx\u001b[49m, y)\n\u001b[32m      6\u001b[39m \u001b[38;5;28mprint\u001b[39m(result)\n",
      "\u001b[31mNameError\u001b[39m: name 'x' is not defined"
     ]
    }
   ],
   "source": [
    "a  = np.array([1, 2, 3, 4, 5])\n",
    "b = np.array([-1,-2, -3, - 4, -5])\n",
    "c = np.array([10, 20, 30, 40, 50])\n",
    "\n",
    "result = np.where(a > 2, x, y)\n",
    "print(result)"
   ]
  },
  {
   "cell_type": "code",
   "execution_count": 12,
   "id": "d7f44ce2",
   "metadata": {},
   "outputs": [
    {
     "name": "stdout",
     "output_type": "stream",
     "text": [
      "np.arange(0, 10, 2): [0 2 4 6 8]\n",
      "np.linspace(0, 1, 5): [0.   0.25 0.5  0.75 1.  ]\n"
     ]
    }
   ],
   "source": [
    "print(\"np.arange(0, 10, 2):\", np.arange(0, 10, 2))\n",
    "print(\"np.linspace(0, 1, 5):\", np.linspace(0, 1, 5))"
   ]
  },
  {
   "cell_type": "code",
   "execution_count": 13,
   "id": "e3f529a4",
   "metadata": {},
   "outputs": [
    {
     "data": {
      "text/plain": [
       "array([0, 2, 4, 6, 8])"
      ]
     },
     "execution_count": 12,
     "metadata": {},
     "output_type": "execute_result"
    }
   ],
   "source": [
    "# integers\n",
    "np.arange(0, 10, 2)  # Creates an array with values from 0 to 10 with a step of 2"
   ]
  },
  {
   "cell_type": "code",
   "execution_count": 14,
   "id": "f9de5992",
   "metadata": {},
   "outputs": [
    {
     "data": {
      "text/plain": [
       "array([0. , 0.2, 0.4, 0.6, 0.8])"
      ]
     },
     "execution_count": 13,
     "metadata": {},
     "output_type": "execute_result"
    }
   ],
   "source": [
    "# floating-point numbers\n",
    "np.arange(0.0, 1.0, 0.2)  # Creates an array with values from 0.0 to 1.0 with a step of 0.2"
   ]
  },
  {
   "cell_type": "code",
   "execution_count": 15,
   "id": "53469e5d",
   "metadata": {},
   "outputs": [
    {
     "data": {
      "text/plain": [
       "array([0.+0.j, 2.+0.j, 4.+0.j, 6.+0.j, 8.+0.j])"
      ]
     },
     "execution_count": 14,
     "metadata": {},
     "output_type": "execute_result"
    }
   ],
   "source": [
    "# complex numbers, by using the data type specifier `dtype=complex`\n",
    "np.arange(0, 10, 2, dtype=complex)  # Creates an array with complex numbers from 0 to 10 with a step of 2"
   ]
  },
  {
   "cell_type": "code",
   "execution_count": 16,
   "id": "37c9f36c",
   "metadata": {},
   "outputs": [
    {
     "name": "stdout",
     "output_type": "stream",
     "text": [
      "Zeros array: [0 0 0 0 0 0]\n",
      "Ones array: [1 1 1 1 1 1]\n",
      "Full array (filled with 7): [7 7 7 7 7 7]\n",
      "An empty array:\n",
      " [0. 0. 0. 0. 0.]\n"
     ]
    }
   ],
   "source": [
    "# Examples using filled array generation functions\n",
    "\n",
    "# Create a 1D array of zeros with the same shape as arr\n",
    "zeros_arr = np.zeros_like(arr)\n",
    "print(\"Zeros array:\", zeros_arr)\n",
    "\n",
    "# Create a 1D array of ones with the same shape as arr\n",
    "ones_arr = np.ones_like(arr)\n",
    "print(\"Ones array:\", ones_arr)\n",
    "\n",
    "# Create a 1D array filled with the value 7, same shape as arr\n",
    "full_arr = np.full_like(arr, 7)\n",
    "print(\"Full array (filled with 7):\", full_arr)\n",
    "\n",
    "# Create an uninitialized array (values may be random, or zeros)\n",
    "empty_2d = np.empty(5)\n",
    "print(\"An empty array:\\n\", empty_2d)"
   ]
  },
  {
   "cell_type": "code",
   "execution_count": 17,
   "id": "b4678932",
   "metadata": {},
   "outputs": [],
   "source": [
    "def lcg(seed, a=1664525, c=1013904223, m=2**32, size=10):\n",
    "    nums = []\n",
    "    x = seed\n",
    "    for _ in range(size):\n",
    "        x = (a * x + c) % m\n",
    "        nums.append(x)\n",
    "    return nums"
   ]
  },
  {
   "cell_type": "code",
   "execution_count": 18,
   "id": "7229bd08",
   "metadata": {},
   "outputs": [
    {
     "name": "stdout",
     "output_type": "stream",
     "text": [
      "LCG sequence: [1083814273, 378494188, 2479403867, 955863294, 1613448261]\n"
     ]
    }
   ],
   "source": [
    "# Example usage:\n",
    "lcg_sequence = lcg(seed=42, size=5)\n",
    "print(\"LCG sequence:\", lcg_sequence)"
   ]
  },
  {
   "cell_type": "code",
   "execution_count": 19,
   "id": "851c7c9f",
   "metadata": {},
   "outputs": [
    {
     "name": "stdout",
     "output_type": "stream",
     "text": [
      "LCG sequence with short period: [8, 11, 10, 5, 12, 15, 14, 9, 0, 3, 2, 13, 4, 7, 6, 1, 8, 11, 10, 5]\n"
     ]
    }
   ],
   "source": [
    "# Example of LCG with a short period by choosing small modulus\n",
    "short_period_seq = lcg(seed=1,  a=5, c=3, m=16, size=20)\n",
    "print(\"LCG sequence with short period:\", short_period_seq)"
   ]
  },
  {
   "cell_type": "code",
   "execution_count": 20,
   "id": "e4f72e7d",
   "metadata": {},
   "outputs": [],
   "source": [
    "rng = np.random.default_rng(seed=123)"
   ]
  },
  {
   "cell_type": "code",
   "execution_count": 21,
   "id": "410e244a",
   "metadata": {},
   "outputs": [
    {
     "data": {
      "text/plain": [
       "array([ 1, 68, 59,  5, 90])"
      ]
     },
     "execution_count": 20,
     "metadata": {},
     "output_type": "execute_result"
    }
   ],
   "source": [
    "rng.integers(0, 100, size=5)  # 5 random integers between 0 and 100"
   ]
  },
  {
   "cell_type": "code",
   "execution_count": 22,
   "id": "c5413f40",
   "metadata": {},
   "outputs": [
    {
     "data": {
      "text/plain": [
       "array([1.84371811e-01, 1.75905901e-01, 8.12094507e-01, 9.23344998e-01,\n",
       "       2.76574398e-01, 8.19754562e-01, 8.89892693e-01, 5.12970455e-01,\n",
       "       2.44964601e-01, 8.24241596e-01, 2.13762963e-01, 7.41467052e-01,\n",
       "       6.29940205e-01, 9.27407259e-01, 2.31908189e-01, 7.99125129e-01,\n",
       "       5.18165037e-01, 2.31555625e-01, 1.65903993e-01, 4.97788968e-01,\n",
       "       5.82724641e-01, 1.84337987e-01, 1.48949168e-02, 4.71133229e-01,\n",
       "       7.28243328e-01, 9.18600492e-01, 6.25534006e-01, 9.17122573e-01,\n",
       "       8.64690251e-01, 2.18142873e-01, 8.66127431e-01, 7.30751936e-01,\n",
       "       2.77865290e-01, 7.97043553e-01, 8.65221713e-01, 2.99437896e-01,\n",
       "       5.27042084e-01, 7.14868066e-02, 5.83238410e-01, 2.37906400e-01,\n",
       "       7.64963646e-01, 1.73631636e-01, 3.12742256e-01, 1.44744768e-02,\n",
       "       3.25519216e-02, 4.96701842e-01, 4.68312534e-01, 1.27690323e-01,\n",
       "       2.57562505e-01, 3.18110929e-03, 3.81067748e-01, 5.75873084e-01,\n",
       "       4.27298771e-01, 8.35102347e-01, 6.16491251e-01, 2.66083912e-01,\n",
       "       8.11022111e-01, 4.99486750e-01, 7.58810321e-01, 5.66089086e-01,\n",
       "       4.37440362e-01, 3.96154444e-01, 2.22352879e-02, 4.69350788e-01,\n",
       "       6.23558402e-01, 9.46113421e-01, 4.35326080e-01, 4.85641403e-01,\n",
       "       5.19115144e-01, 4.08590980e-01, 5.78795719e-01, 7.03506733e-02,\n",
       "       4.88383831e-01, 6.10144828e-01, 7.43879107e-01, 4.29830320e-01,\n",
       "       3.02802133e-01, 5.89003332e-03, 7.56478970e-01, 7.75759702e-02,\n",
       "       4.89988038e-01, 3.04361097e-01, 8.40822162e-01, 9.50475862e-01,\n",
       "       3.18874579e-01, 8.97768289e-01, 3.37529051e-01, 8.12112111e-01,\n",
       "       7.98843598e-01, 6.55285177e-01, 2.28703455e-01, 1.37674465e-01,\n",
       "       4.24371139e-01, 1.51538753e-01, 8.73272949e-01, 1.79126757e-01,\n",
       "       3.02946616e-02, 5.59249677e-01, 4.28806253e-01, 8.58597422e-01,\n",
       "       1.60831376e-01, 3.60353699e-01, 6.40509937e-01, 9.31079350e-01,\n",
       "       2.61801022e-01, 6.88098414e-01, 1.49052652e-01, 7.40154973e-01,\n",
       "       2.93181283e-01, 2.43745105e-01, 2.29821438e-01, 3.70651165e-01,\n",
       "       3.28555087e-01, 6.12641672e-01, 5.44715400e-01, 7.49643105e-01,\n",
       "       2.94954285e-01, 9.60553728e-01, 5.43482759e-01, 6.79424148e-01,\n",
       "       6.88259248e-01, 1.52297793e-01, 1.45024452e-01, 4.62043822e-01,\n",
       "       5.21933533e-01, 2.72044753e-01, 1.80120947e-01, 5.03921087e-01,\n",
       "       6.59638348e-01, 2.28754453e-01, 2.18418231e-01, 9.54899059e-01,\n",
       "       7.24892934e-01, 3.43368483e-02, 9.81617034e-01, 8.49616629e-03,\n",
       "       2.64961882e-01, 9.17324152e-01, 8.03877164e-02, 8.54715704e-01,\n",
       "       1.44677397e-01, 1.79241078e-01, 7.84673473e-01, 8.95424057e-01,\n",
       "       4.60734326e-01, 3.84836822e-02, 3.15305260e-01, 1.52932497e-02,\n",
       "       3.49173685e-01, 6.59310019e-01, 2.65216132e-01, 6.52018838e-01,\n",
       "       9.27480197e-01, 4.66138759e-01, 2.07109561e-01, 9.22714245e-01,\n",
       "       9.45856611e-01, 1.34905654e-01, 8.99638534e-01, 2.92149167e-01,\n",
       "       1.28175443e-01, 1.18076690e-01, 7.59450077e-01, 8.84425144e-02,\n",
       "       7.63151744e-01, 2.39618554e-01, 4.18783790e-01, 1.43017706e-01,\n",
       "       6.52669797e-01, 4.57785927e-01, 3.93830151e-01, 8.04673138e-01,\n",
       "       4.59015110e-01, 6.91568337e-01, 7.81989077e-01, 6.14881258e-01,\n",
       "       9.61390895e-01, 5.50878047e-01, 2.19012527e-01, 5.41879843e-01,\n",
       "       2.44556981e-01, 8.33270172e-02, 7.56362092e-01, 2.64497549e-01,\n",
       "       3.13640437e-01, 9.88342858e-01, 4.00557832e-01, 4.41312096e-01,\n",
       "       9.20598730e-01, 7.90066378e-01, 8.59482088e-01, 4.68356714e-01,\n",
       "       2.12503574e-01, 6.56388165e-02, 7.98140191e-02, 1.36989553e-01,\n",
       "       2.69348924e-01, 7.77373950e-01, 2.29526009e-01, 4.21793581e-01,\n",
       "       4.58136535e-01, 3.09685992e-01, 1.77010903e-01, 2.68030787e-01,\n",
       "       8.52354381e-01, 9.94072275e-01, 3.70674245e-01, 4.61750909e-01,\n",
       "       3.34988554e-01, 3.65438705e-01, 6.87173494e-01, 7.35326314e-01,\n",
       "       3.17037589e-01, 1.45020086e-01, 7.07526003e-01, 4.39390997e-01,\n",
       "       9.16295276e-01, 4.09334109e-01, 2.77150070e-02, 7.26138640e-01,\n",
       "       9.85781890e-01, 4.66361827e-01, 9.52649389e-01, 1.62589708e-01,\n",
       "       2.12859688e-01, 3.41512042e-01, 4.05946036e-01, 8.99458188e-01,\n",
       "       9.72509770e-01, 5.10212230e-01, 6.96744277e-01, 6.27618975e-01,\n",
       "       8.60532754e-01, 1.07781528e-01, 5.61674829e-01, 8.08329407e-01,\n",
       "       7.74227117e-01, 7.67461953e-01, 9.81200035e-01, 2.83038159e-02,\n",
       "       1.06097737e-01, 1.53329230e-01, 5.80881814e-01, 4.30837283e-01,\n",
       "       6.41294099e-02, 2.79183123e-01, 3.90760254e-01, 5.05871219e-01,\n",
       "       7.55738892e-01, 4.89023703e-01, 8.25727590e-01, 5.40468140e-01,\n",
       "       3.57183202e-01, 8.05977481e-01, 1.86378547e-01, 8.89289032e-01,\n",
       "       6.73413707e-01, 9.53377252e-01, 2.09842996e-01, 2.32745704e-01,\n",
       "       4.56558778e-01, 1.48755812e-01, 3.97266148e-02, 3.51908111e-01,\n",
       "       7.51073437e-01, 8.88985034e-01, 2.33330969e-01, 9.44303691e-01,\n",
       "       7.92382452e-02, 7.82914944e-02, 7.05380588e-01, 6.78028455e-02,\n",
       "       9.70647394e-01, 2.74209810e-01, 1.28723815e-01, 7.68454465e-01,\n",
       "       4.22450862e-01, 9.00075386e-01, 4.92458541e-01, 7.98362805e-03,\n",
       "       1.63343123e-01, 9.93855166e-02, 1.81349494e-01, 2.70568170e-01,\n",
       "       7.53784338e-02, 8.78925401e-01, 6.73292806e-01, 4.43977331e-01,\n",
       "       8.98713315e-01, 6.11667746e-01, 6.81721781e-01, 7.12645562e-01,\n",
       "       4.39463988e-01, 2.93164240e-01, 8.86758579e-01, 3.69086347e-01,\n",
       "       4.36794215e-01, 2.76273452e-01, 5.53644595e-01, 5.38142965e-01,\n",
       "       4.31733785e-01, 3.53278547e-01, 5.41743078e-01, 3.82057942e-01,\n",
       "       7.79098989e-01, 1.53412210e-01, 7.20461787e-01, 2.08668011e-01,\n",
       "       9.32024800e-01, 3.84991713e-01, 3.23780149e-01, 9.00976329e-01,\n",
       "       4.73760930e-02, 9.77634923e-01, 9.28686984e-01, 6.64628650e-01,\n",
       "       5.69600819e-01, 5.24352848e-01, 8.34164345e-02, 9.07821313e-02,\n",
       "       6.90645119e-01, 9.57967677e-01, 5.10249274e-01, 1.01844895e-03,\n",
       "       8.28841928e-01, 8.30527092e-01, 3.36511890e-01, 6.79818631e-01,\n",
       "       1.41583649e-01, 1.63237978e-01, 7.11432537e-01, 5.09927237e-01,\n",
       "       5.88925603e-01, 5.23705849e-01, 9.40467623e-01, 7.88692180e-01,\n",
       "       8.99123374e-01, 2.91613581e-01, 9.79610619e-01, 8.18777761e-01,\n",
       "       9.95662196e-02, 8.71069391e-02, 1.91521038e-01, 3.36374640e-01,\n",
       "       2.19437735e-01, 5.18401453e-02, 4.45013130e-01, 2.62511860e-01,\n",
       "       4.62669935e-01, 7.83487475e-01, 3.21772672e-01, 4.03029885e-02,\n",
       "       8.34537973e-01, 4.90318507e-01, 2.44148858e-01, 9.28257314e-01,\n",
       "       7.35195053e-01, 4.21703964e-01, 3.47123735e-01, 7.10517888e-02,\n",
       "       2.85652304e-01, 7.15829431e-01, 7.56348747e-02, 3.76477949e-01,\n",
       "       5.91571543e-01, 7.39956524e-01, 7.42822511e-01, 2.92607877e-01,\n",
       "       3.29242395e-01, 1.57348400e-01, 7.29287841e-01, 2.65469563e-01,\n",
       "       4.80423341e-01, 8.99725840e-01, 6.42896243e-03, 8.56693461e-01,\n",
       "       7.39848839e-01, 6.45152381e-01, 4.07077242e-01, 6.24018428e-01,\n",
       "       9.48596887e-01, 9.52827932e-02, 6.77719450e-02, 3.40497035e-01,\n",
       "       1.03056557e-01, 9.17756634e-01, 7.87378214e-01, 1.58418307e-01,\n",
       "       3.73626915e-01, 4.15391292e-01, 9.54422908e-01, 3.29219753e-01,\n",
       "       4.80208521e-01, 5.28962176e-01, 7.81803274e-01, 8.68044648e-01,\n",
       "       6.70774506e-01, 3.63329218e-01, 2.29046003e-01, 3.98075545e-01,\n",
       "       5.75837731e-01, 7.66922112e-01, 9.59497014e-01, 8.73402359e-01,\n",
       "       7.87775841e-01, 9.00659757e-01, 6.96050335e-01, 9.45490228e-01,\n",
       "       5.13548471e-01, 9.10756934e-02, 7.29521894e-01, 9.48477875e-01,\n",
       "       3.10402712e-02, 6.22092795e-01, 3.04768507e-01, 4.04182471e-01,\n",
       "       9.18098826e-01, 3.34389520e-01, 6.25812967e-01, 4.23398749e-01,\n",
       "       9.26832129e-01, 3.68676160e-01, 9.93795752e-02, 4.18998728e-01,\n",
       "       4.05119062e-01, 8.85378822e-01, 3.31414354e-01, 2.94004444e-01,\n",
       "       4.07031481e-01, 6.91009738e-01, 4.22313249e-01, 5.22053089e-01,\n",
       "       7.10217611e-01, 2.67980368e-02, 1.33159234e-01, 7.25115476e-01,\n",
       "       9.07175470e-01, 8.67027162e-01, 7.07202750e-01, 9.81854660e-01,\n",
       "       8.52905505e-01, 6.93752664e-01, 6.40121696e-01, 8.53131626e-01,\n",
       "       8.80156165e-01, 2.74037982e-01, 8.54019135e-01, 5.88206803e-01,\n",
       "       1.86379777e-04, 1.97099418e-01, 7.79598163e-01, 3.42190497e-01,\n",
       "       8.43060960e-01, 6.02672523e-01, 9.86654937e-01, 7.63854232e-01,\n",
       "       9.30444278e-02, 8.37787891e-01, 6.63912156e-01, 2.20122755e-01,\n",
       "       5.16804413e-01, 1.60351790e-01, 3.73046077e-01, 7.44788479e-01,\n",
       "       4.53366397e-01, 6.61458118e-01, 8.99345144e-01, 7.01525089e-01,\n",
       "       9.20566999e-02, 4.12473460e-01, 3.16132834e-01, 4.78451996e-01,\n",
       "       8.96847839e-01, 3.42900315e-01, 7.41429784e-01, 4.68276663e-01,\n",
       "       8.37718614e-01, 2.35700386e-01, 5.23455616e-01, 6.31811742e-01,\n",
       "       3.76699726e-01, 5.63502651e-01, 2.96738637e-01, 9.87425770e-01,\n",
       "       6.87260695e-01, 6.29460053e-01, 9.34547524e-01, 4.40673000e-01,\n",
       "       9.81269351e-01, 9.00139631e-02, 9.88211527e-01, 7.19692087e-01,\n",
       "       5.79939881e-01, 3.56486538e-01, 2.03086688e-01, 9.82557875e-01,\n",
       "       2.35221673e-01, 8.80107684e-01, 5.70474295e-02, 8.01264314e-01,\n",
       "       8.69584494e-01, 2.44912426e-01, 9.76953176e-01, 3.71831094e-01,\n",
       "       1.58355891e-01, 4.19490157e-01, 9.72325640e-01, 1.13491229e-01,\n",
       "       6.92972289e-01, 1.36092032e-01, 6.85297152e-01, 1.54219934e-01,\n",
       "       9.43749823e-01, 9.13711151e-01, 9.84413406e-01, 8.78415554e-01,\n",
       "       3.85919890e-01, 4.65802671e-01, 3.13890072e-01, 4.92166010e-01,\n",
       "       2.37900547e-01, 9.60058750e-01, 4.17853706e-01, 3.36021029e-01,\n",
       "       9.35275132e-01, 3.47530896e-01, 4.21498557e-01, 6.27928406e-01,\n",
       "       7.30556551e-01, 4.25667830e-01, 2.22257876e-01, 6.21894105e-01,\n",
       "       1.70135598e-01, 6.18882849e-01, 6.42565172e-01, 6.38895026e-01,\n",
       "       3.51982564e-01, 3.96320815e-01, 2.65015454e-01, 7.89367513e-01,\n",
       "       7.16239201e-01, 6.91437570e-01, 9.71314939e-01, 8.86818231e-01,\n",
       "       4.29160537e-01, 7.57904842e-01, 6.44050284e-01, 5.37030350e-01,\n",
       "       1.40040249e-01, 4.93648641e-01, 2.16956963e-01, 8.08458170e-01,\n",
       "       7.39295663e-01, 1.79091296e-01, 9.03285198e-02, 1.08586391e-01,\n",
       "       7.83586979e-01, 9.41516049e-01, 2.89726949e-01, 1.09244985e-01,\n",
       "       7.07720088e-01, 5.22596691e-01, 6.05670467e-01, 5.01821423e-01,\n",
       "       8.09740839e-01, 5.84896971e-01, 8.02212848e-01, 6.57759409e-01,\n",
       "       6.84953179e-01, 7.36580632e-01, 5.78187585e-01, 3.59761003e-01,\n",
       "       3.96263174e-01, 2.23260703e-02, 3.71782090e-02, 4.64820602e-01,\n",
       "       8.01973219e-01, 7.07226413e-01, 3.84889505e-01, 4.79529675e-01,\n",
       "       8.38114215e-01, 7.87692873e-01, 6.10222185e-01, 8.49063075e-01,\n",
       "       9.79207663e-01, 6.22966362e-01, 9.69881649e-01, 7.80090568e-02,\n",
       "       7.75855776e-01, 9.61048047e-02, 2.21691318e-01, 3.39170089e-01,\n",
       "       1.16700789e-01, 7.15962826e-01, 3.49435446e-01, 1.68633123e-01,\n",
       "       2.14742590e-01, 2.47672902e-02, 9.60535205e-01, 9.51182093e-01,\n",
       "       2.54441148e-01, 6.99273568e-01, 4.64313594e-02, 3.49571461e-01,\n",
       "       6.76266217e-01, 2.27676696e-01, 3.39148914e-01, 1.31136392e-01,\n",
       "       1.51316642e-01, 6.21017714e-03, 3.38630900e-01, 4.25739019e-01,\n",
       "       4.22599751e-01, 2.84916502e-01, 5.31731583e-01, 2.53781815e-02,\n",
       "       4.05774435e-01, 6.12898421e-01, 7.64075727e-01, 9.92727201e-01,\n",
       "       4.39374925e-01, 9.40188607e-01, 9.16371994e-01, 1.39190844e-01,\n",
       "       5.00843313e-01, 2.24280699e-01, 7.93077513e-01, 7.35168059e-01,\n",
       "       9.73456559e-01, 5.93342214e-02, 4.33034747e-01, 3.64531796e-01,\n",
       "       6.55678105e-01, 5.30821139e-01, 5.70188154e-01, 1.42042459e-01,\n",
       "       9.41130038e-01, 3.24981732e-01, 3.93215105e-01, 2.28596939e-01,\n",
       "       3.03361353e-01, 3.78744798e-01, 2.60604557e-01, 4.53498545e-01,\n",
       "       8.33089640e-01, 8.43666133e-01, 6.12317203e-01, 5.52709486e-01,\n",
       "       6.02282676e-01, 5.04238757e-01, 7.10020576e-02, 1.01995977e-01,\n",
       "       4.78667187e-01, 7.38418414e-02, 1.29717098e-01, 6.25772270e-01,\n",
       "       9.45583945e-01, 3.47629781e-02, 6.02315044e-01, 4.52489476e-01,\n",
       "       3.95084990e-02, 7.80372045e-01, 7.04680631e-01, 9.34338102e-01,\n",
       "       6.63940453e-01, 7.15504435e-01, 3.60105197e-01, 5.79098519e-01,\n",
       "       6.20473130e-01, 1.16505534e-01, 1.99216124e-01, 2.36086058e-01,\n",
       "       6.09880241e-01, 5.42884698e-01, 3.22745858e-01, 7.89789443e-01,\n",
       "       6.91813852e-01, 1.39315464e-01, 7.89802302e-01, 3.09553223e-01,\n",
       "       4.66120187e-01, 1.81748724e-01, 4.03280255e-01, 2.29615358e-01,\n",
       "       7.33369033e-01, 5.88246449e-01, 8.81447262e-01, 1.58060193e-01,\n",
       "       5.74691483e-01, 4.72075225e-01, 4.76160368e-01, 7.55445869e-01,\n",
       "       4.14679282e-01, 6.95271222e-01, 2.78711499e-01, 1.27075953e-01,\n",
       "       7.92857877e-01, 5.25856417e-01, 2.47756200e-01, 4.51794210e-01,\n",
       "       6.32646492e-01, 2.46935350e-01, 1.80625697e-01, 9.90570705e-01,\n",
       "       1.84435744e-01, 3.34265115e-01, 3.98346351e-01, 8.61159621e-01,\n",
       "       2.78233797e-01, 2.21618214e-01, 1.26682913e-01, 7.60594687e-01,\n",
       "       5.65182951e-01, 9.42787883e-02, 4.54948466e-01, 9.88445048e-01,\n",
       "       9.23071934e-01, 5.62383859e-01, 2.35183420e-01, 5.88979107e-01,\n",
       "       5.12704297e-01, 9.69980113e-01, 1.50404598e-02, 3.11346496e-01,\n",
       "       4.03148074e-01, 7.30309455e-01, 7.49192551e-01, 7.34195577e-01,\n",
       "       5.68886818e-01, 5.51682285e-01, 2.90253650e-01, 8.68864839e-01,\n",
       "       4.26876456e-01, 3.57536909e-01, 7.95125315e-01, 7.24742588e-01,\n",
       "       3.18551534e-01, 2.36879864e-02, 8.38310718e-03, 8.50825909e-01,\n",
       "       1.51046580e-01, 6.02445589e-01, 5.90731652e-01, 2.25353624e-01,\n",
       "       4.45584992e-01, 4.19023040e-01, 5.02707937e-01, 8.57022140e-01,\n",
       "       9.15971624e-01, 8.65700471e-02, 4.29082699e-01, 2.94536932e-01,\n",
       "       7.87849073e-01, 3.45847897e-01, 4.85105598e-01, 7.06576725e-01,\n",
       "       6.35219271e-01, 7.43435940e-01, 4.30920168e-01, 5.41323170e-01,\n",
       "       2.72144070e-01, 7.77095084e-01, 8.66290049e-01, 3.02129491e-01,\n",
       "       4.97757480e-01, 1.04605450e-01, 1.11726740e-01, 1.44628744e-01,\n",
       "       6.29905356e-01, 7.86264040e-01, 1.29190474e-01, 9.97435899e-01,\n",
       "       3.53866468e-01, 8.93344644e-01, 9.99608624e-01, 8.41059435e-01,\n",
       "       3.80353548e-01, 2.41634372e-02, 5.07971669e-01, 4.87943326e-01,\n",
       "       3.51834111e-03, 8.68652395e-01, 1.46184072e-01, 6.27005376e-01,\n",
       "       2.62514882e-01, 4.14292580e-01, 4.69887143e-01, 5.87663680e-01,\n",
       "       5.19519352e-01, 3.64439271e-01, 4.04623206e-02, 1.26604592e-01,\n",
       "       6.23990975e-01, 6.06017770e-01, 6.68272217e-01, 8.03770268e-02,\n",
       "       2.49796689e-01, 2.34870364e-01, 8.14631148e-01, 7.59801548e-01,\n",
       "       7.51641514e-01, 9.71902838e-01, 9.15851294e-01, 6.44074919e-01,\n",
       "       5.08843946e-01, 8.17654038e-01, 5.49662595e-01, 7.67618746e-01,\n",
       "       1.80170976e-01, 5.13005646e-01, 4.83605604e-01, 4.84650633e-01,\n",
       "       5.19503300e-01, 6.13990319e-01, 6.05418128e-01, 9.52585636e-01,\n",
       "       2.19548381e-01, 1.43917481e-01, 7.29420234e-01, 2.43480099e-01,\n",
       "       2.80502889e-01, 1.79434111e-01, 4.77527810e-01, 4.09491510e-01,\n",
       "       9.75167208e-01, 6.75184193e-01, 5.84872619e-01, 5.77342807e-01,\n",
       "       2.85003405e-01, 8.87184719e-01, 1.16355801e-01, 7.35554824e-01,\n",
       "       1.24013004e-01, 4.98390320e-01, 2.16397744e-01, 5.53822787e-01,\n",
       "       1.96260005e-01, 5.02868933e-01, 3.11090563e-02, 2.46768705e-01,\n",
       "       7.35394909e-01, 5.19689621e-01, 4.95135275e-01, 6.36488593e-01,\n",
       "       5.25254822e-01, 2.63066968e-01, 8.89971280e-01, 3.13161731e-01,\n",
       "       1.82308237e-02, 1.89502519e-01, 4.09071206e-01, 9.76064011e-03,\n",
       "       5.45704311e-01, 9.53276151e-01, 5.59704505e-01, 2.07067188e-01,\n",
       "       6.41759332e-02, 5.40570751e-01, 6.85448654e-01, 6.41559203e-01,\n",
       "       5.67484382e-01, 3.67901675e-01, 3.88360406e-01, 8.62396452e-01,\n",
       "       4.83391607e-02, 2.98826500e-01, 2.87245366e-01, 9.81379650e-01,\n",
       "       5.01772265e-01, 1.81215893e-01, 8.47957394e-01, 3.73746504e-01,\n",
       "       3.85041209e-01, 3.37156609e-01, 1.50255558e-01, 4.46627035e-01,\n",
       "       5.49211816e-01, 4.52836646e-01, 3.81312948e-01, 2.29694327e-01,\n",
       "       8.58702776e-01, 8.63031827e-01, 5.62718035e-01, 7.10165693e-01,\n",
       "       9.10979874e-01, 1.60458306e-01, 1.27352099e-01, 1.98341592e-01,\n",
       "       5.91370725e-01, 7.33427875e-02, 7.33828716e-01, 4.99027872e-02,\n",
       "       2.56524814e-02, 9.66295697e-01, 3.53274248e-01, 5.59386955e-01,\n",
       "       4.82919017e-01, 6.47204067e-01, 9.42171578e-01, 5.57108997e-01,\n",
       "       3.22657791e-01, 4.04844321e-02, 6.44860711e-01, 4.20518623e-01,\n",
       "       9.55370116e-01, 5.85203790e-01, 6.34037553e-01, 6.41387498e-01,\n",
       "       5.42994115e-01, 3.88003153e-01, 4.61014667e-01, 6.82868933e-01,\n",
       "       2.38841304e-01, 1.82540351e-01, 8.99260513e-01, 6.82811763e-01,\n",
       "       8.71299481e-01, 3.67317126e-01, 5.75866982e-01, 6.04302596e-01,\n",
       "       8.94619187e-01, 8.77432271e-01, 2.60269946e-01, 9.68562352e-01,\n",
       "       3.72231077e-01, 6.09669515e-01, 9.93231610e-01, 4.07178709e-01,\n",
       "       6.41876306e-01, 9.88305005e-01, 6.29292661e-01, 6.57618907e-01,\n",
       "       7.88160705e-01, 7.87910291e-01, 9.48015524e-01, 6.48913074e-01,\n",
       "       2.51063503e-01, 6.11801501e-02, 7.97181219e-02, 9.62301018e-01,\n",
       "       8.23306828e-01, 5.93376564e-01, 8.99971486e-01, 8.70132481e-01,\n",
       "       3.59576234e-01, 8.09451971e-01, 1.99053249e-01, 9.83838075e-01,\n",
       "       3.16119220e-01, 2.79590636e-01, 1.82316030e-01, 5.55344640e-01,\n",
       "       9.01338225e-01, 5.54274114e-01, 3.89840504e-02, 5.33396917e-02,\n",
       "       5.18277669e-01, 8.89943918e-01, 5.83347833e-01, 7.46426878e-01,\n",
       "       8.36735442e-01, 1.31531810e-01, 4.28953841e-01, 3.81465212e-03,\n",
       "       4.18834672e-01, 8.58456078e-01, 7.87468105e-01, 3.34499223e-01,\n",
       "       7.12883037e-01, 7.12539124e-01, 4.91427391e-01, 1.03870391e-01,\n",
       "       9.26174898e-01, 5.72580403e-01, 1.78409738e-01, 6.73914909e-01,\n",
       "       7.71047912e-01, 1.11449991e-01, 4.24989628e-01, 9.49653830e-01,\n",
       "       5.87384706e-01, 7.84826859e-01, 1.51450563e-01, 2.67089098e-01,\n",
       "       9.63130696e-01, 8.07866729e-02, 8.94102677e-01, 6.35593048e-02,\n",
       "       5.94423335e-01, 1.37989970e-02, 9.02332677e-01, 5.34706480e-01,\n",
       "       5.37337899e-01, 3.88505423e-01, 6.97279170e-01, 6.67139924e-01,\n",
       "       6.01679114e-01, 4.61518241e-01, 1.89506686e-01, 5.79511760e-01])"
      ]
     },
     "execution_count": 21,
     "metadata": {},
     "output_type": "execute_result"
    }
   ],
   "source": [
    "rng.random(1000)"
   ]
  },
  {
   "cell_type": "code",
   "execution_count": 23,
   "id": "45e81f6f",
   "metadata": {},
   "outputs": [
    {
     "data": {
      "text/plain": [
       "array([9.39046881e-01, 2.99072349e-01, 4.60476377e-01, 5.75651076e-02,\n",
       "       8.53021741e-02, 1.99444561e-01, 6.30163990e-01, 2.72450314e-01,\n",
       "       9.49816269e-01, 4.16201503e-01, 6.24219978e-01, 5.65506017e-01,\n",
       "       4.97016101e-01, 3.99685405e-01, 4.46141742e-01, 9.96016783e-01,\n",
       "       9.20760027e-02, 9.66146235e-01, 2.53428386e-01, 7.98048289e-01,\n",
       "       2.30934744e-01, 3.91438675e-01, 7.12524762e-01, 9.24495876e-01,\n",
       "       4.36304104e-01, 6.09645109e-01, 3.47455055e-01, 2.09448681e-01,\n",
       "       9.40345824e-01, 9.39048542e-01, 9.76034937e-01, 9.78221913e-01,\n",
       "       9.02928508e-01, 5.60702051e-01, 3.09192067e-01, 3.91578411e-01,\n",
       "       2.92628804e-01, 3.17626904e-01, 7.66354541e-01, 9.39779224e-01,\n",
       "       5.69968327e-01, 7.13253015e-01, 2.74080220e-01, 8.95021851e-01,\n",
       "       5.30589171e-01, 6.62250513e-01, 8.64017361e-01, 3.16234042e-01,\n",
       "       1.88104862e-01, 5.57143310e-01, 8.17542081e-01, 8.58312274e-01,\n",
       "       5.01593115e-02, 7.92609803e-01, 2.75257158e-01, 1.06116893e-01,\n",
       "       2.96840193e-01, 1.21722548e-01, 3.73409647e-01, 4.84855204e-01,\n",
       "       9.22876849e-01, 8.74894519e-01, 7.52243348e-01, 9.78958211e-02,\n",
       "       4.50270849e-01, 3.30712733e-01, 9.77906312e-01, 9.14776224e-01,\n",
       "       9.13868879e-01, 8.38384506e-01, 7.49295400e-01, 7.10760466e-01,\n",
       "       5.26938341e-01, 5.82278280e-01, 4.80260639e-01, 5.05936164e-01,\n",
       "       1.61046049e-01, 2.43229116e-01, 2.34171132e-01, 3.40931217e-01,\n",
       "       4.66680644e-01, 4.43303703e-01, 9.16474167e-01, 1.64046955e-01,\n",
       "       4.32778458e-01, 2.50382062e-01, 9.69336428e-01, 5.05868856e-01,\n",
       "       5.97572988e-01, 9.61026988e-01, 6.88217480e-01, 5.12134690e-01,\n",
       "       3.64972923e-01, 7.74441496e-01, 4.08990526e-01, 7.56958925e-01,\n",
       "       2.00530754e-01, 2.37046734e-02, 3.14880132e-01, 7.18777612e-01,\n",
       "       9.93411364e-01, 2.04545022e-01, 8.13393436e-01, 6.02388676e-01,\n",
       "       4.72424496e-01, 9.15535640e-01, 5.49467740e-01, 5.53611078e-01,\n",
       "       3.79539326e-02, 6.23560704e-01, 7.76300109e-01, 5.83428729e-01,\n",
       "       8.06469228e-01, 5.88682791e-01, 7.01220649e-01, 2.81851476e-01,\n",
       "       1.52021601e-01, 5.65156070e-01, 7.32794705e-01, 5.48162882e-01,\n",
       "       1.77599121e-01, 8.06796579e-01, 1.76029382e-01, 4.15069242e-01,\n",
       "       8.61067741e-01, 2.03767686e-01, 3.03374987e-01, 9.56281712e-01,\n",
       "       4.96929571e-01, 2.63140565e-01, 5.48214506e-03, 5.07201406e-01,\n",
       "       8.67810292e-01, 2.55675259e-01, 6.05977714e-01, 4.75479148e-02,\n",
       "       3.11960444e-03, 5.54840591e-01, 1.10582273e-01, 9.77321754e-01,\n",
       "       6.44707923e-01, 4.92329798e-01, 4.38426760e-01, 9.96039697e-02,\n",
       "       7.20558841e-01, 9.66520259e-01, 5.57218602e-01, 5.66755844e-01,\n",
       "       2.00055375e-01, 2.01626605e-01, 1.97593822e-02, 7.08782545e-01,\n",
       "       7.83318769e-01, 6.05374008e-01, 8.84005733e-02, 9.24494874e-02,\n",
       "       3.37631718e-01, 6.71974027e-01, 8.11094465e-01, 6.48130078e-01,\n",
       "       8.56567945e-02, 4.15919142e-01, 1.13229127e-01, 3.84815962e-01,\n",
       "       8.98405796e-01, 8.28333721e-01, 6.31976262e-01, 2.10819193e-01,\n",
       "       1.02017242e-01, 8.48920389e-01, 5.02509110e-01, 8.23674751e-02,\n",
       "       8.78193787e-01, 5.43596167e-01, 9.36220894e-01, 3.72718503e-02,\n",
       "       2.33907671e-01, 3.32317764e-01, 1.16643626e-01, 1.79741474e-01,\n",
       "       5.50346034e-01, 3.14914038e-01, 4.66292031e-01, 1.19050105e-01,\n",
       "       9.67330379e-01, 5.17209722e-01, 3.29413257e-01, 5.06939964e-01,\n",
       "       6.77473761e-01, 4.39335185e-01, 5.36633968e-01, 5.08119033e-01,\n",
       "       6.60915553e-01, 2.81602932e-01, 7.67412814e-01, 4.37584231e-01,\n",
       "       8.53253295e-01, 3.60466663e-01, 1.99149777e-01, 2.73663273e-01,\n",
       "       8.36071859e-02, 6.51674516e-01, 2.40058390e-01, 3.99561750e-01,\n",
       "       2.94306151e-01, 2.59131632e-01, 9.21081146e-01, 9.77457778e-01,\n",
       "       7.59463906e-01, 9.17235823e-01, 2.24739173e-01, 8.95179168e-03,\n",
       "       3.32654963e-01, 1.85178069e-01, 1.56566257e-01, 9.86649044e-01,\n",
       "       1.83058118e-01, 3.60504984e-01, 3.47485932e-02, 7.00267040e-01,\n",
       "       4.87796298e-01, 1.26143539e-01, 2.68842854e-01, 5.48578408e-02,\n",
       "       9.76707585e-01, 3.06238432e-01, 6.29145369e-02, 8.71402212e-01,\n",
       "       5.46726494e-01, 5.70306434e-01, 3.83497303e-01, 6.60174228e-01,\n",
       "       3.03535071e-01, 5.92221133e-01, 2.48318360e-01, 4.25080529e-01,\n",
       "       2.38926593e-01, 9.21466382e-01, 4.86994228e-01, 5.98600799e-01,\n",
       "       6.02966315e-01, 8.81515304e-01, 5.01991498e-01, 9.55579830e-01,\n",
       "       8.03049675e-01, 8.89482334e-01, 5.86259040e-01, 2.98590937e-01,\n",
       "       1.70701098e-01, 6.76465597e-01, 4.68659805e-02, 5.81771565e-01,\n",
       "       4.30385329e-01, 1.94970270e-01, 8.74490822e-01, 2.76041618e-01,\n",
       "       1.11886334e-01, 2.73645781e-01, 4.51729674e-01, 5.64951892e-01,\n",
       "       9.49877563e-01, 3.57451532e-01, 8.21238186e-01, 7.82852812e-01,\n",
       "       3.15079437e-01, 6.57408126e-01, 6.75003130e-01, 1.97777437e-01,\n",
       "       9.33368675e-01, 6.36717139e-02, 6.18067652e-02, 5.53587160e-01,\n",
       "       3.13264006e-01, 5.52835105e-01, 2.96553226e-01, 8.86666517e-01,\n",
       "       4.54500199e-01, 1.12838032e-01, 2.73088770e-01, 1.60579622e-01,\n",
       "       9.88848127e-01, 7.64797877e-01, 2.38755209e-01, 2.06513489e-01,\n",
       "       7.09747436e-01, 7.83601141e-01, 4.98321584e-01, 9.22615238e-01,\n",
       "       4.33066353e-01, 5.96670489e-01, 6.22017475e-02, 5.40068839e-01,\n",
       "       2.28925449e-01, 1.21800229e-01, 3.62077305e-01, 5.96335034e-01,\n",
       "       8.45790418e-01, 3.33130975e-01, 5.15639637e-01, 6.67838071e-01,\n",
       "       1.07683183e-02, 5.64992104e-01, 6.03295561e-01, 1.21048449e-01,\n",
       "       4.45780525e-01, 4.40698882e-01, 7.45671182e-01, 3.15114678e-01,\n",
       "       3.63511342e-01, 6.04209884e-02, 2.46925855e-01, 6.54217948e-01,\n",
       "       3.15348568e-01, 5.93983769e-01, 3.61622656e-01, 5.89536917e-01,\n",
       "       6.51420483e-01, 4.05148560e-01, 8.85472566e-01, 5.94187764e-03,\n",
       "       1.29931134e-01, 5.54676669e-01, 1.58565413e-01, 2.97718421e-01,\n",
       "       2.39183839e-01, 8.13161632e-01, 2.56432174e-01, 4.55495082e-01,\n",
       "       8.66773335e-01, 4.74161695e-01, 8.79824388e-01, 6.13388923e-01,\n",
       "       8.05616862e-01, 3.89964154e-01, 5.49124034e-01, 1.88516834e-02,\n",
       "       6.78648866e-01, 2.11352893e-02, 7.47267428e-01, 9.93132865e-01,\n",
       "       9.56919666e-01, 6.28902825e-01, 7.84826963e-01, 2.31412155e-01,\n",
       "       4.61915361e-01, 7.40138069e-01, 1.30809776e-01, 2.89822950e-01,\n",
       "       1.72577763e-01, 2.58512370e-01, 1.11739129e-01, 2.05501170e-01,\n",
       "       6.21224997e-01, 9.57338512e-01, 5.45806568e-01, 9.25340888e-01,\n",
       "       3.65686268e-01, 7.11680890e-01, 3.39997009e-01, 5.11716892e-01,\n",
       "       1.48922035e-01, 7.67503817e-01, 2.62191161e-01, 4.70173622e-01,\n",
       "       9.72929519e-01, 4.69575122e-01, 9.09733151e-01, 8.44748028e-01,\n",
       "       5.02236810e-01, 1.34381388e-01, 1.85123585e-01, 4.22317586e-01,\n",
       "       4.36513643e-01, 7.68556667e-01, 7.44617946e-01, 8.07089891e-02,\n",
       "       3.67476926e-01, 3.92403075e-02, 2.27581056e-01, 9.55978199e-01,\n",
       "       2.67355271e-01, 1.09349430e-01, 6.84934585e-01, 9.57111536e-02,\n",
       "       9.15547961e-01, 6.26693750e-01, 6.91814895e-01, 5.52959059e-01,\n",
       "       3.60970462e-01, 3.03738771e-02, 2.86480059e-01, 5.99010907e-02,\n",
       "       7.71218831e-01, 4.30088632e-01, 6.74977103e-01, 8.35081532e-01,\n",
       "       2.95654631e-01, 8.74616706e-01, 1.24960991e-01, 5.26928286e-01,\n",
       "       7.77395342e-01, 7.39842315e-01, 6.60814147e-01, 5.65130412e-01,\n",
       "       2.20348043e-01, 2.38456453e-01, 9.31657446e-03, 4.48256654e-01,\n",
       "       2.65352845e-01, 2.40815269e-01, 6.38530143e-01, 1.56858034e-01,\n",
       "       2.36504980e-01, 7.46484788e-01, 3.97029208e-01, 7.67796987e-01,\n",
       "       1.80498800e-01, 3.82578022e-01, 6.21753653e-01, 5.82020157e-01,\n",
       "       2.96019333e-01, 9.92414322e-01, 3.89788153e-01, 6.38642355e-01,\n",
       "       1.66983293e-01, 1.73415192e-01, 1.37398670e-02, 2.37580668e-01,\n",
       "       1.99639036e-01, 7.95087954e-01, 1.77660488e-01, 3.70720849e-01,\n",
       "       9.26332543e-01, 3.83092454e-01, 1.57896459e-01, 8.87986269e-01,\n",
       "       1.62724795e-01, 9.43776004e-01, 9.47770523e-01, 2.08565739e-01,\n",
       "       2.56907715e-01, 6.80663558e-01, 3.41946270e-01, 1.34994192e-01,\n",
       "       4.94789023e-01, 5.66743643e-03, 2.45165622e-01, 6.19023288e-01,\n",
       "       9.75593920e-01, 5.92461338e-02, 9.09004205e-02, 4.63243802e-01,\n",
       "       8.22387350e-01, 1.70918091e-01, 5.75100984e-01, 3.35140369e-01,\n",
       "       4.68705969e-01, 1.47151202e-01, 8.47253985e-01, 4.19769574e-01,\n",
       "       2.68394636e-02, 6.12353914e-01, 2.57518300e-01, 7.60307339e-01,\n",
       "       1.18149812e-02, 4.16342047e-01, 6.39608253e-01, 3.22392740e-01,\n",
       "       3.74420155e-01, 3.90134937e-01, 6.81239224e-01, 9.29478422e-01,\n",
       "       9.29048739e-01, 2.20197109e-01, 5.48000828e-01, 4.47280939e-01,\n",
       "       2.26052968e-01, 6.74115280e-01, 8.49571863e-01, 6.92680684e-01,\n",
       "       2.41917850e-01, 8.63866200e-01, 7.37356681e-01, 3.91472579e-01,\n",
       "       6.11947071e-01, 7.22743143e-01, 7.29350342e-01, 3.82094538e-01,\n",
       "       1.13268130e-01, 6.61689390e-01, 5.48965399e-01, 5.78609601e-01,\n",
       "       8.28296877e-01, 8.66148183e-01, 6.06183160e-01, 7.43907862e-01,\n",
       "       6.84041139e-01, 5.04629593e-01, 5.85694492e-01, 5.44613518e-01,\n",
       "       5.04709317e-01, 3.67703861e-01, 7.06676888e-01, 8.14875765e-02,\n",
       "       4.58417580e-01, 5.44996000e-01, 8.40103325e-01, 4.09019151e-01,\n",
       "       4.54258064e-01, 5.01554503e-01, 8.82274163e-01, 6.98791958e-01,\n",
       "       4.94292773e-01, 2.70974854e-01, 9.80345041e-01, 3.77745309e-01,\n",
       "       3.54225457e-01, 3.57946109e-01, 1.63522213e-01, 5.04434221e-01,\n",
       "       1.57169153e-01, 2.62902242e-01, 7.54080831e-01, 1.42662222e-01,\n",
       "       4.89198857e-02, 8.96956676e-01, 1.66028183e-01, 1.05744495e-01,\n",
       "       5.77262122e-01, 4.95333468e-01, 2.69221539e-01, 7.50629043e-02,\n",
       "       8.00641226e-01, 6.37875957e-01, 1.44590932e-01, 2.89403720e-01,\n",
       "       8.29014256e-01, 9.06232511e-01, 5.34988220e-01, 1.88377352e-01,\n",
       "       1.40360738e-02, 1.21884387e-01, 8.53648493e-01, 7.39454445e-01,\n",
       "       2.55709883e-01, 4.96526758e-01, 1.41675501e-01, 1.10881288e-01,\n",
       "       2.27003581e-02, 5.06955737e-01, 7.12320947e-01, 6.13523558e-02,\n",
       "       4.05780570e-01, 5.75356159e-01, 4.27570251e-01, 3.91731663e-02,\n",
       "       3.59125118e-01, 6.07530855e-01, 2.09980493e-01, 6.37577808e-01,\n",
       "       4.67977959e-01, 6.67936873e-01, 5.15925675e-01, 1.72443532e-02,\n",
       "       9.90899812e-01, 6.63725434e-01, 2.65976611e-02, 3.29401293e-01,\n",
       "       2.03772643e-01, 5.25321081e-01, 5.21774029e-01, 3.61756661e-01,\n",
       "       7.01433873e-01, 8.60661979e-01, 2.83490606e-01, 9.75994671e-02,\n",
       "       9.97636879e-01, 8.39402421e-01, 2.89122434e-01, 6.01370400e-01,\n",
       "       7.78274265e-02, 9.58840484e-01, 2.95308935e-01, 2.73414800e-01,\n",
       "       2.15145912e-01, 2.32607254e-01, 8.99541130e-01, 2.61819681e-01,\n",
       "       4.29901612e-01, 5.09332053e-01, 7.76760074e-01, 9.66727606e-01,\n",
       "       9.03271662e-01, 5.21577287e-01, 7.01896898e-01, 2.48531042e-01,\n",
       "       5.48329026e-01, 1.89795727e-01, 1.16278273e-01, 7.70498781e-02,\n",
       "       7.98109521e-01, 3.07431651e-01, 9.33656812e-01, 7.09477107e-01,\n",
       "       6.03351999e-01, 3.42529819e-01, 3.89799751e-01, 8.14044765e-01,\n",
       "       5.48647495e-01, 6.78955853e-01, 5.27875352e-01, 9.22524052e-01,\n",
       "       4.64668625e-01, 7.77288260e-01, 6.63861343e-01, 7.56830805e-01,\n",
       "       3.87510118e-01, 3.39214872e-01, 4.09521302e-01, 4.99021471e-02,\n",
       "       6.71094039e-02, 8.71835442e-01, 7.14479803e-01, 8.71500636e-01,\n",
       "       4.70883837e-01, 3.38454678e-01, 1.93298748e-01, 9.08053118e-03,\n",
       "       1.19849570e-02, 8.25213241e-01, 3.45732425e-02, 1.25061895e-01,\n",
       "       9.67070867e-01, 9.52576638e-02, 1.13074586e-01, 8.66017214e-01,\n",
       "       8.56738468e-01, 6.34160252e-01, 5.21817310e-01, 2.37326991e-02,\n",
       "       4.45799054e-02, 1.17434528e-01, 8.40408591e-01, 5.55745783e-01,\n",
       "       7.56024738e-01, 6.23063634e-01, 2.26936673e-01, 6.02586173e-01,\n",
       "       7.99224608e-02, 2.75581484e-01, 7.36358231e-01, 3.16760623e-01,\n",
       "       3.88639057e-01, 3.14300712e-01, 7.05166414e-01, 9.96209335e-01,\n",
       "       8.13363557e-01, 3.00410449e-02, 3.44026549e-01, 6.82195590e-01,\n",
       "       4.77584431e-01, 1.08808256e-01, 9.29270784e-01, 1.16843153e-01,\n",
       "       6.11075707e-01, 9.44947830e-01, 2.16341973e-01, 1.38111313e-01,\n",
       "       2.31941259e-01, 7.93296534e-01, 7.84660508e-01, 9.62220776e-01,\n",
       "       9.78038714e-01, 2.56622990e-01, 2.52882748e-01, 8.58728884e-01,\n",
       "       2.47908013e-01, 8.25546762e-01, 5.73483018e-01, 5.18959054e-01,\n",
       "       8.54767299e-01, 5.67634881e-01, 7.72012376e-01, 8.45391591e-01,\n",
       "       2.53787662e-01, 9.26891731e-01, 4.02300539e-01, 4.04906953e-01,\n",
       "       8.96553754e-01, 4.03917983e-01, 2.46264529e-01, 6.63359181e-01,\n",
       "       7.97039743e-01, 1.21872038e-01, 2.47078205e-02, 3.44022010e-01,\n",
       "       6.14689214e-01, 2.46268973e-01, 1.16183060e-01, 5.92593818e-02,\n",
       "       9.36196851e-01, 1.80862637e-01, 1.56036063e-01, 3.28245470e-01,\n",
       "       6.25056396e-01, 9.60057105e-01, 9.80454137e-01, 7.38615659e-01,\n",
       "       6.38647060e-01, 4.21520023e-01, 6.41029746e-01, 1.55398359e-01,\n",
       "       1.38090820e-01, 4.41676356e-01, 2.09316965e-01, 1.39274604e-01,\n",
       "       6.20597119e-01, 2.93102739e-01, 4.77086274e-01, 4.94198881e-01,\n",
       "       1.81244310e-01, 4.66419340e-04, 2.20412012e-01, 4.65466297e-01,\n",
       "       3.86666608e-01, 6.60946666e-01, 7.13174475e-01, 9.10054744e-01,\n",
       "       2.58206349e-01, 8.46718455e-01, 4.40410752e-01, 1.81451945e-01,\n",
       "       5.64716926e-01, 6.01446750e-01, 1.06598346e-01, 3.37186056e-01,\n",
       "       4.10934087e-01, 3.00209335e-01, 6.95339769e-01, 1.37981177e-01,\n",
       "       4.69806787e-01, 8.22103214e-03, 2.93250660e-01, 9.72403853e-01,\n",
       "       9.10775460e-02, 7.68391492e-01, 4.71175346e-01, 2.40473886e-01,\n",
       "       6.39844114e-01, 7.71800659e-01, 1.41401672e-01, 8.53959169e-01,\n",
       "       2.47556814e-01, 7.74939840e-01, 4.45042170e-02, 2.73398114e-01,\n",
       "       5.54265246e-01, 8.63758971e-01, 7.74219411e-01, 4.16773829e-01,\n",
       "       7.25118538e-01, 5.39290104e-01, 1.08711474e-01, 8.25583851e-02,\n",
       "       3.06353166e-01, 3.83219529e-01, 8.60839451e-01, 6.79976844e-01,\n",
       "       7.25867199e-01, 9.85427779e-01, 4.16377951e-02, 5.28858098e-02,\n",
       "       3.77562877e-02, 7.36128174e-01, 9.58813188e-01, 1.35057390e-02,\n",
       "       3.90703157e-01, 9.18964128e-01, 2.34047390e-01, 4.81482219e-01,\n",
       "       4.56424670e-01, 6.74335839e-01, 7.76822974e-01, 8.24378193e-01,\n",
       "       7.11327420e-01, 1.47612393e-01, 1.15066955e-02, 9.90341638e-01,\n",
       "       8.25234650e-01, 7.49161961e-01, 8.16225638e-01, 4.60326996e-01,\n",
       "       2.97124482e-01, 8.54610518e-01, 5.38353447e-01, 9.61631350e-01,\n",
       "       2.02053203e-01, 3.98745264e-01, 8.97869081e-01, 2.17531012e-01,\n",
       "       7.17190664e-01, 8.42895400e-01, 5.09209175e-01, 2.77850835e-01,\n",
       "       7.70385101e-01, 8.98876379e-01, 2.26329732e-02, 7.01434107e-01,\n",
       "       4.83751864e-01, 5.78432737e-01, 8.58170356e-01, 6.29490891e-02,\n",
       "       1.36025401e-01, 5.23700295e-01, 4.73706162e-01, 3.11395564e-01,\n",
       "       3.40342608e-01, 3.84414625e-01, 2.87871960e-01, 2.53824671e-01,\n",
       "       5.81916507e-01, 5.30911228e-01, 9.35411249e-01, 2.77090201e-03,\n",
       "       2.87714150e-01, 2.84669971e-01, 6.69182996e-01, 5.17995845e-01,\n",
       "       8.30357304e-01, 4.08039237e-01, 6.70209778e-01, 7.09472033e-01,\n",
       "       9.77039514e-01, 1.30699083e-01, 7.45993968e-01, 6.47610354e-02,\n",
       "       6.18952393e-01, 1.07269919e-01, 6.18547614e-02, 6.14745389e-01,\n",
       "       8.45125076e-01, 1.37897722e-01, 7.49469598e-01, 3.09935872e-01,\n",
       "       1.57855778e-01, 9.14563453e-01, 4.60090006e-01, 6.86840379e-01,\n",
       "       6.13167260e-01, 5.71956868e-01, 1.84486682e-01, 4.19567448e-01,\n",
       "       8.01451099e-01, 2.59943308e-01, 8.23728384e-02, 6.84533421e-01,\n",
       "       7.52549554e-01, 8.28840346e-01, 6.17659030e-01, 2.97600327e-01,\n",
       "       1.73955591e-01, 3.05756051e-01, 2.03569042e-03, 2.54816952e-01,\n",
       "       4.81229534e-01, 8.34690453e-01, 2.58826221e-01, 1.11862945e-01,\n",
       "       3.10177435e-01, 8.08646191e-01, 9.51128390e-01, 7.56449872e-02,\n",
       "       7.83386996e-01, 4.60595694e-01, 4.58201195e-01, 5.10289507e-01,\n",
       "       7.58101706e-01, 9.16468399e-01, 1.28482444e-01, 2.58583506e-01,\n",
       "       6.96765118e-01, 5.84025781e-03, 6.92299901e-01, 4.59616732e-01,\n",
       "       4.50523518e-01, 7.40215177e-01, 3.62022582e-01, 1.37208974e-01,\n",
       "       6.51771446e-01, 7.82904524e-01, 9.52234843e-01, 2.89850315e-01,\n",
       "       6.88595675e-01, 7.69937931e-01, 4.58378344e-01, 9.38766474e-01,\n",
       "       7.63179411e-01, 1.36882670e-01, 5.56652611e-01, 4.64698167e-01,\n",
       "       2.43621928e-01, 1.34920453e-01, 5.40979105e-01, 9.16859843e-01,\n",
       "       7.63449237e-01, 1.51858144e-01, 8.46576703e-01, 2.21823340e-01,\n",
       "       8.16840578e-01, 9.24855411e-01, 4.55731745e-01, 7.04288066e-01,\n",
       "       4.78152964e-01, 4.25379117e-01, 4.75146881e-01, 3.36648240e-01,\n",
       "       3.66605023e-01, 1.88449642e-01, 6.46731540e-01, 9.75416668e-01,\n",
       "       1.63605016e-01, 3.90714947e-01, 2.82926824e-01, 7.73025605e-01,\n",
       "       3.60698230e-01, 4.32143099e-03, 3.13347157e-01, 4.75902720e-01,\n",
       "       1.58720271e-01, 1.73788611e-01, 1.45198501e-01, 8.55673458e-01,\n",
       "       1.85380867e-01, 5.08237057e-01, 3.55181571e-01, 9.86155074e-01,\n",
       "       7.14983227e-01, 4.80624993e-01, 9.08687883e-01, 2.45265759e-01,\n",
       "       3.94426028e-02, 2.72335210e-01, 5.45585942e-01, 9.67169884e-01,\n",
       "       3.83255134e-01, 6.22768792e-01, 5.42178103e-01, 6.89709536e-01,\n",
       "       4.53036264e-01, 2.74958603e-01, 5.31887941e-01, 4.07142284e-01,\n",
       "       3.96566101e-02, 9.52339397e-01, 9.80892467e-01, 1.61702610e-01,\n",
       "       9.16305525e-01, 8.12907902e-01, 7.82202816e-01, 6.91177192e-01,\n",
       "       6.48327907e-01, 5.89161241e-01, 2.09708712e-01, 9.87087151e-01,\n",
       "       8.80355881e-01, 2.39709542e-02, 9.80054161e-01, 5.58697731e-01,\n",
       "       7.66711638e-01, 8.39535815e-01, 2.76899511e-01, 1.12798250e-01,\n",
       "       5.19525737e-01, 5.50361612e-01, 2.69184868e-01, 4.55888948e-01,\n",
       "       1.14524741e-01, 7.97432455e-01, 9.47297306e-01, 2.10065007e-03,\n",
       "       3.25631610e-01, 3.93960918e-01, 1.70772596e-01, 9.78050550e-01,\n",
       "       2.29130937e-01, 7.56058374e-01, 3.67350583e-01, 6.92963971e-01,\n",
       "       8.69916159e-02, 2.93356699e-01, 6.65430208e-01, 1.86539047e-01,\n",
       "       3.98378860e-01, 9.84440292e-01, 6.01335919e-01, 1.05915265e-01,\n",
       "       4.35912414e-02, 3.47717412e-01, 9.45176602e-01, 9.58938703e-01])"
      ]
     },
     "execution_count": 22,
     "metadata": {},
     "output_type": "execute_result"
    }
   ],
   "source": [
    "rng.uniform(0,1,1000)"
   ]
  },
  {
   "cell_type": "code",
   "execution_count": 24,
   "id": "8717e710",
   "metadata": {},
   "outputs": [],
   "source": [
    "normal_rv = rng.normal(loc=0, scale=4, size=10000)  # 10000 samples from a normal distribution with mean 0 and std dev 1"
   ]
  },
  {
   "cell_type": "code",
   "execution_count": 25,
   "id": "2a0e992e",
   "metadata": {},
   "outputs": [
    {
     "data": {
      "text/plain": [
       "-0.00030211517930401043"
      ]
     },
     "execution_count": 24,
     "metadata": {},
     "output_type": "execute_result"
    }
   ],
   "source": [
    "# check that the sample mean and standard deviation are close to the specified values \n",
    "\n",
    "normal_rv.mean()"
   ]
  },
  {
   "cell_type": "code",
   "execution_count": 26,
   "id": "e7473396",
   "metadata": {},
   "outputs": [
    {
     "data": {
      "text/plain": [
       "3.988386668060006"
      ]
     },
     "execution_count": 25,
     "metadata": {},
     "output_type": "execute_result"
    }
   ],
   "source": [
    "normal_rv.std()"
   ]
  },
  {
   "cell_type": "code",
   "execution_count": 27,
   "id": "07ceb5c2",
   "metadata": {},
   "outputs": [
    {
     "data": {
      "text/plain": [
       "22"
      ]
     },
     "execution_count": 26,
     "metadata": {},
     "output_type": "execute_result"
    }
   ],
   "source": [
    "rng.integers(0,100) # run this multiple times to observe the random nature of the output"
   ]
  },
  {
   "cell_type": "code",
   "execution_count": 28,
   "id": "a1bdab61",
   "metadata": {},
   "outputs": [
    {
     "name": "stdout",
     "output_type": "stream",
     "text": [
      "Time without preallocation: 0.9014 seconds\n",
      "Time with preallocation: 0.0658 seconds\n"
     ]
    }
   ],
   "source": [
    "import time\n",
    "\n",
    "# Timing a for loop that generates a random integer in each iteration\n",
    "start_time = time.time()\n",
    "steps = 1000000\n",
    "for _ in range(steps):\n",
    "    # use a random value\n",
    "    val = 2*rng.integers(0, 100)\n",
    "elapsed_no_prealloc = time.time() - start_time\n",
    "\n",
    "# Timing a for loop that uses preallocated random integers\n",
    "preallocated = rng.integers(0, 100, size=steps)\n",
    "start_time = time.time()\n",
    "for u in preallocated:\n",
    "    val = 2*u  # use the preallocated value\n",
    "elapsed_prealloc = time.time() - start_time\n",
    "\n",
    "print(f\"Time without preallocation: {elapsed_no_prealloc:.4f} seconds\")\n",
    "print(f\"Time with preallocation: {elapsed_prealloc:.4f} seconds\")"
   ]
  }
 ],
 "metadata": {
  "kernelspec": {
   "display_name": "Python 3",
   "language": "python",
   "name": "python3"
  },
  "language_info": {
   "codemirror_mode": {
    "name": "ipython",
    "version": 3
   },
   "file_extension": ".py",
   "mimetype": "text/x-python",
   "name": "python",
   "nbconvert_exporter": "python",
   "pygments_lexer": "ipython3",
   "version": "3.11.1"
  }
 },
 "nbformat": 4,
 "nbformat_minor": 5
}