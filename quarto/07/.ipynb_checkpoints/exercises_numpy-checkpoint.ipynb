{
 "cells": [
  {
   "cell_type": "markdown",
   "metadata": {},
   "source": [
    "# `numpy` Exercises\n",
    "\n",
    "These exercises test your understanding of the NumPy concepts covered in the introduction notebook."
   ]
  },
  {
   "cell_type": "markdown",
   "metadata": {},
   "source": [
    "## Exercise 1: Import and Basic Array Creation\n",
    "\n",
    "**Task:** Import NumPy with the standard `import` command and create a NumPy array from the list `[2, 4, 6, 8, 10, 12]`. Print the array, its data type, and its shape."
   ]
  },
  {
   "cell_type": "code",
   "execution_count": null,
   "metadata": {},
   "outputs": [],
   "source": [
    "# Your code here\n"
   ]
  },
  {
   "cell_type": "markdown",
   "metadata": {},
   "source": [
    "## Exercise 2: Array Indexing and Slicing\n",
    "\n",
    "**Task:** Using the array you created in Exercise 1:\n",
    "- Print the first element\n",
    "- Print the last element\n",
    "- Print elements from index 2 to 4 (inclusive of 2, exclusive of 5)\n",
    "- Print every second element"
   ]
  },
  {
   "cell_type": "code",
   "execution_count": null,
   "metadata": {},
   "outputs": [],
   "source": [
    "# Your code here\n"
   ]
  },
  {
   "cell_type": "markdown",
   "metadata": {},
   "source": [
    "## Exercise 3: Element-wise Operations\n",
    "\n",
    "**Task:** Create a NumPy array `arr = np.array([1, 4, 9, 16, 25])`. Perform the following operations and print the results:\n",
    "- Multiply each element by 3\n",
    "- Add 10 to each element\n",
    "- Calculate the square root of each element\n",
    "- Apply the sine function to each element"
   ]
  },
  {
   "cell_type": "code",
   "execution_count": null,
   "metadata": {},
   "outputs": [],
   "source": [
    "# Your code here\n"
   ]
  },
  {
   "cell_type": "markdown",
   "metadata": {},
   "source": [
    "## Exercise 4: Array Operations with Two Arrays\n",
    "\n",
    "**Task:** Create two NumPy arrays:\n",
    "- `arr1 = np.array([1, 2, 3, 4, 5])`\n",
    "- `arr2 = np.array([10, 20, 30, 40, 50])`\n",
    "\n",
    "Perform element-wise operations and print the results:\n",
    "- Add the two arrays\n",
    "- Subtract arr1 from arr2\n",
    "- Multiply the two arrays\n",
    "- Divide arr2 by arr1"
   ]
  },
  {
   "cell_type": "code",
   "execution_count": null,
   "metadata": {},
   "outputs": [],
   "source": [
    "# Your code here\n"
   ]
  },
  {
   "cell_type": "markdown",
   "metadata": {},
   "source": [
    "## Exercise 5: Shape Mismatch Error\n",
    "\n",
    "**Task:** Create two arrays with different lengths:\n",
    "- `arr_a = np.array([1, 2, 3, 4])`\n",
    "- `arr_b = np.array([10, 20])`\n",
    "\n",
    "Try to add these arrays together. What happens? Write the code and explain the error in a comment."
   ]
  },
  {
   "cell_type": "code",
   "execution_count": null,
   "metadata": {},
   "outputs": [],
   "source": [
    "# Your code here\n"
   ]
  },
  {
   "cell_type": "markdown",
   "metadata": {},
   "source": [
    "## Exercise 6: Reductive Operations\n",
    "\n",
    "**Task:** Create a NumPy array `data = np.array([12, 8, 15, 3, 7, 20, 11, 9])`. Calculate and print:\n",
    "- The sum of all elements\n",
    "- The mean (average) of all elements\n",
    "- The maximum value\n",
    "- The minimum value\n",
    "- The standard deviation"
   ]
  },
  {
   "cell_type": "code",
   "execution_count": null,
   "metadata": {},
   "outputs": [],
   "source": [
    "# Your code here\n"
   ]
  },
  {
   "cell_type": "markdown",
   "metadata": {},
   "source": [
    "## Exercise 7: Array Manipulation\n",
    "\n",
    "**Task:** Create a NumPy array `numbers = np.array([5, 2, 8, 1, 9, 3])`. Perform the following operations:\n",
    "- Sort the array and print the result\n",
    "- Calculate the cumulative sum and print the result\n",
    "- Create a new array with duplicates: `with_duplicates = np.array([5, 2, 8, 1, 9, 3, 5, 2, 1])` and find the unique elements"
   ]
  },
  {
   "cell_type": "code",
   "execution_count": null,
   "metadata": {},
   "outputs": [],
   "source": [
    "# Your code here\n"
   ]
  },
  {
   "cell_type": "markdown",
   "metadata": {},
   "source": [
    "## Exercise 8: List vs NumPy Comparison\n",
    "\n",
    "**Task:** Compare the flexibility of lists vs NumPy arrays:\n",
    "1. Create a Python list containing mixed data types: `mixed_list = [1, 'hello', 3.14, True]`\n",
    "2. Try to create a NumPy array from this list. What happens to the data types?\n",
    "3. Create a list of numbers: `num_list = [1, 2, 3, 4, 5]`\n",
    "4. Try to multiply the entire list by 2 using `num_list * 2`. What happens?\n",
    "5. Create a NumPy array from the same numbers and multiply by 2. Compare the results."
   ]
  },
  {
   "cell_type": "code",
   "execution_count": null,
   "metadata": {},
   "outputs": [],
   "source": [
    "# Your code here\n"
   ]
  },
  {
   "cell_type": "markdown",
   "metadata": {},
   "source": [
    "## Exercise 9: Performance Comparison\n",
    "\n",
    "**Task:** Compare the performance of list comprehension vs NumPy operations:\n",
    "1. Import the `time` module\n",
    "2. Create a range of 50,000 numbers using numpy `np.arange()`\n",
    "3. Time how long it takes to square each number using a **list comprehension**, i.e. the syntax `[x**2 for x in myarray]`\n",
    "4. Time how long it takes to square each number using NumPy operations\n",
    "5. Calculate and print how many times faster the NumPy operation is"
   ]
  },
  {
   "cell_type": "code",
   "execution_count": null,
   "metadata": {},
   "outputs": [],
   "source": [
    "# Your code here\n"
   ]
  },
  {
   "cell_type": "markdown",
   "metadata": {},
   "source": [
    "## Exercise 10: Complex Operations\n",
    "\n",
    "**Task:** Create a NumPy array representing angles in degrees: `angles_deg = np.array([0, 30, 45, 60, 90, 120, 180])`\n",
    "1. Convert these angles to radians (hint: multiply by π/180, use `np.pi`)\n",
    "2. Calculate the sine and cosine of each angle\n",
    "3. Verify that sin²(x) + cos²(x) = 1 for each angle (use `np.sin()` and `np.cos()`)\n",
    "4. Print all results"
   ]
  },
  {
   "cell_type": "code",
   "execution_count": null,
   "metadata": {},
   "outputs": [],
   "source": [
    "# Your code here\n"
   ]
  },
  {
   "cell_type": "code",
   "execution_count": null,
   "metadata": {},
   "outputs": [],
   "source": [
    "# Your code here\n"
   ]
  },
  {
   "cell_type": "markdown",
   "metadata": {},
   "source": [
    "## Challenge Exercise: Temperature Conversion\n",
    "\n",
    "**Task:** You have temperature readings in Celsius: `celsius_temps = np.array([0, 10, 20, 25, 30, 35, 40])`\n",
    "\n",
    "1. Convert all temperatures to Fahrenheit using the formula: F = (C × 9/5) + 32\n",
    "2. Convert all temperatures to Kelvin using the formula: K = C + 273.15\n",
    "3. Calculate the temperature range (max - min) for each scale"
   ]
  },
  {
   "cell_type": "code",
   "execution_count": null,
   "metadata": {},
   "outputs": [],
   "source": [
    "# Your code here\n"
   ]
  }
 ],
 "metadata": {
  "kernelspec": {
   "display_name": "Python 3 (ipykernel)",
   "language": "python",
   "name": "python3"
  },
  "language_info": {
   "codemirror_mode": {
    "name": "ipython",
    "version": 3
   },
   "file_extension": ".py",
   "mimetype": "text/x-python",
   "name": "python",
   "nbconvert_exporter": "python",
   "pygments_lexer": "ipython3",
   "version": "3.11.1"
  }
 },
 "nbformat": 4,
 "nbformat_minor": 4
}
