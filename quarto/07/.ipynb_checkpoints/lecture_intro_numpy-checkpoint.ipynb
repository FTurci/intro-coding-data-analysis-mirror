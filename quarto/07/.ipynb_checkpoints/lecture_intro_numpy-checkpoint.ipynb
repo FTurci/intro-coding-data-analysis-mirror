{
 "cells": [
  {
   "cell_type": "markdown",
   "metadata": {},
   "source": [
    "# The `numpy` module"
   ]
  },
  {
   "cell_type": "markdown",
   "metadata": {},
   "source": [
    "## What is the `numpy` module?\n",
    "\n",
    "A collection of many functions is called a *module*. One of the most useful modules in Python is called *numpy* (**num**erical **Py**thon) – it contains many functions to deal with numerical programming. This is technically an extension to the Core Python functionality we've been focussing on so far but now comes as standard in most Python installations."
   ]
  },
  {
   "cell_type": "markdown",
   "metadata": {},
   "source": [
    "The `numpy` module builds on the core functionality but also adds additional features including:\n",
    "\n",
    " - It is *performant* which means it is well optimised\n",
    " - It offers additional *numerical computing tools*\n",
    " - It adds an additional object called an *n-dimensional array*"
   ]
  },
  {
   "cell_type": "markdown",
   "metadata": {},
   "source": [
    "### Numpy arrays vs lists\n",
    "One thing we can use the `numpy` module for is to create a new object called a *numpy array*. This is another data structure, in addition to the in-built Python types we've been learning about, and is similiar to a list. \n",
    "\n",
    "<table style=\"font-size:0.95em;font-family:Arial, Helvetica, sans-serif;border-spacing:5px;border-collapse:initial\">\n",
    "    <tr>\n",
    "        <th style=\"background-color:lavender\">\n",
    "            Numpy arrays\n",
    "        <td style=\"width:50%;text-align:left;vertical-align:top\">\n",
    "            Numpy module (and arrays) are a Python extension (but often come as standard)<br>\n",
    "            <br>\n",
    "            Ordered<br>\n",
    "            <br>\n",
    "            Mutable<br>\n",
    "            <br>\n",
    "            Less flexible<br>\n",
    "             - One data type per array<br>\n",
    "            <br>\n",
    "            Allows implicit element-wise operations<br>\n",
    "            <br>\n",
    "            Generally quicker (optimised)<br>\n",
    "            More memory efficient\n",
    "        <th style=\"background-color:linen\">\n",
    "            Lists\n",
    "        <td style=\"width:50%;text-align:left;vertical-align:top\">\n",
    "            Lists are part of Python in-built functionality<br>\n",
    "            <br>\n",
    "            Ordered<br>\n",
    "            <br>\n",
    "            Mutable<br>\n",
    "            <br>\n",
    "            Very flexible<br>\n",
    "             - All types in any list<br>\n",
    "            <br>\n",
    "            Needs explicit element-wise operations<br>\n",
    "            <br>\n",
    "            Generally slower performance<br>\n",
    "            Less memory efficient\n",
    "    </tr>\n",
    "</table>"
   ]
  },
  {
   "cell_type": "markdown",
   "metadata": {},
   "source": [
    "When using these objects, `list` objects are highly flexible, in both content and shape whereas `numpy.array` objects are much more strict and require every item to be the same type and often work best when they have a consistent shape (e.g. 2x3 grid)."
   ]
  },
  {
   "cell_type": "markdown",
   "metadata": {},
   "source": [
    "### Numpy arrays"
   ]
  },
  {
   "cell_type": "markdown",
   "metadata": {},
   "source": [
    "`numpy.array` objects are mutable, ordered container objects but must contain a specific object type and have n-dimensional shape."
   ]
  },
  {
   "cell_type": "markdown",
   "metadata": {},
   "source": [
    "To use the `numpy` module we first need to *import* it."
   ]
  },
  {
   "cell_type": "code",
   "execution_count": 2,
   "metadata": {},
   "outputs": [],
   "source": [
    "import numpy as np"
   ]
  },
  {
   "cell_type": "markdown",
   "metadata": {},
   "source": [
    "The `as` part of this import statement gives us a shorthand to use in the code when we want to access numpy, in this case `np`. This is the convention most often used for the numpy module. `import` statements themselves are the way we access additional Python modules such as `numpy` or `matplotlib`. "
   ]
  },
  {
   "cell_type": "markdown",
   "metadata": {},
   "source": [
    "One way to create a `numpy.array` is from a `list`:"
   ]
  },
  {
   "cell_type": "code",
   "execution_count": 3,
   "metadata": {},
   "outputs": [],
   "source": [
    "list1 = [1.,1.,2.,3.,5.,8.]\n",
    "arr1 = np.array(list1)"
   ]
  },
  {
   "cell_type": "markdown",
   "metadata": {},
   "source": [
    "where we need the `np.` at the start of the function to tell python to access the `numpy` module."
   ]
  },
  {
   "cell_type": "markdown",
   "metadata": {},
   "source": [
    "We can also index and slice `numpy.arrays` in a similar way to other iterable objects (i.e. objects with length like `lists`):"
   ]
  },
  {
   "cell_type": "code",
   "execution_count": 4,
   "metadata": {},
   "outputs": [
    {
     "name": "stdout",
     "output_type": "stream",
     "text": [
      "1.0\n",
      "[2. 3. 5.]\n"
     ]
    }
   ],
   "source": [
    "print(arr1[0])\n",
    "print(arr1[2:-1])"
   ]
  },
  {
   "cell_type": "markdown",
   "metadata": {},
   "source": [
    "And a `numpy.array` has an additional properties (*attributes*) called *dtype* which tells us what is contained within the array and *shape* which tells us the dimensions of the array."
   ]
  },
  {
   "cell_type": "code",
   "execution_count": 5,
   "metadata": {},
   "outputs": [
    {
     "name": "stdout",
     "output_type": "stream",
     "text": [
      "float64\n",
      "(6,)\n"
     ]
    }
   ],
   "source": [
    "print(arr1.dtype)\n",
    "print(arr1.shape)"
   ]
  },
  {
   "cell_type": "markdown",
   "metadata": {},
   "source": [
    "### Element-wise operations\n",
    "\n",
    "The `numpy` module itself also provides some additional tools and syntax to complete simple operations more succinctly. For instance, we've shown before one way to act on every item in a `list` using a `for` loop:"
   ]
  },
  {
   "cell_type": "code",
   "execution_count": 6,
   "metadata": {},
   "outputs": [
    {
     "name": "stdout",
     "output_type": "stream",
     "text": [
      "[4.0, 4.0, 8.0, 12.0, 20.0, 32.0]\n"
     ]
    }
   ],
   "source": [
    "list2 = []\n",
    "for item in list1:\n",
    "    list2.append(item*4)\n",
    "print(list2)"
   ]
  },
  {
   "cell_type": "markdown",
   "metadata": {},
   "source": [
    "There is actually a short hand for creating a new list using a `for` loop for very simple operations called a *list comprehension*."
   ]
  },
  {
   "cell_type": "code",
   "execution_count": 7,
   "metadata": {},
   "outputs": [
    {
     "name": "stdout",
     "output_type": "stream",
     "text": [
      "[4.0, 4.0, 8.0, 12.0, 20.0, 32.0]\n"
     ]
    }
   ],
   "source": [
    "list2 = [item*4 for item in list1]\n",
    "print(list2)"
   ]
  },
  {
   "cell_type": "markdown",
   "metadata": {},
   "source": [
    "But this is still more complex than using a `numpy.array`, where the same operation can be performed using an operator directly on the whole array:"
   ]
  },
  {
   "cell_type": "code",
   "execution_count": 8,
   "metadata": {},
   "outputs": [
    {
     "name": "stdout",
     "output_type": "stream",
     "text": [
      "[ 4.  4.  8. 12. 20. 32.]\n"
     ]
    }
   ],
   "source": [
    "arr2 = arr1*4\n",
    "print(arr2)"
   ]
  },
  {
   "cell_type": "markdown",
   "metadata": {},
   "source": [
    "### Operation speed"
   ]
  },
  {
   "cell_type": "markdown",
   "metadata": {},
   "source": [
    "For large numbers of elements the time difference between operations using `lists` and `numpy.arrays` can start to be measurable. We can quickly check this my importing the `time` module:"
   ]
  },
  {
   "cell_type": "code",
   "execution_count": 9,
   "metadata": {},
   "outputs": [],
   "source": [
    "import time\n",
    "num_range = 100000"
   ]
  },
  {
   "cell_type": "code",
   "execution_count": 10,
   "metadata": {},
   "outputs": [],
   "source": [
    "time1 = time.time()\n",
    "list_out = [item*4 for item in range(num_range)]\n",
    "time2 = time.time()\n",
    "\n",
    "list_time = time2-time1"
   ]
  },
  {
   "cell_type": "code",
   "execution_count": 11,
   "metadata": {},
   "outputs": [],
   "source": [
    "time1 = time.time()\n",
    "arr_out = np.arange(num_range)*4\n",
    "time2 = time.time()\n",
    "\n",
    "arr_time = time2-time1"
   ]
  },
  {
   "cell_type": "markdown",
   "metadata": {},
   "source": [
    "Comparing the two operations we can see that performing this operation with the `list` takes longer than within a `numpy.array` (this is highly variable though):"
   ]
  },
  {
   "cell_type": "code",
   "execution_count": 12,
   "metadata": {},
   "outputs": [
    {
     "name": "stdout",
     "output_type": "stream",
     "text": [
      "Array operation is 4 times faster for 100,000 numbers\n"
     ]
    }
   ],
   "source": [
    "print(f\"Array operation is {list_time/arr_time:.0f} times faster for {num_range:,} numbers\")"
   ]
  },
  {
   "cell_type": "markdown",
   "metadata": {},
   "source": [
    "You may recall, when we first introduced `list` and `dict` objects, we also mentioned other Python objects which were similar but with some differences in functionality (`tuple` and `set` objects).  In Python, as in many languages, there are often many tools which can be used to complete a task and it's up to you to choose the correct tool for the job. Overall, `list` objects may be more appropriate when you need to store a set of strings or if you don't know the number of elements in advance (appending to a `list` is faster than appending to an `numpy.array` due to the way the data is stored in memory). Whereas `numpy.array` objects would be more appropriate when performance is a factor or for simpler numerical operations."
   ]
  },
  {
   "cell_type": "markdown",
   "metadata": {},
   "source": [
    "## Working with `numpy`"
   ]
  },
  {
   "cell_type": "markdown",
   "metadata": {},
   "source": [
    "To use the `numpy` module we always need to start by using an import statement. In this case we import the `numpy` module and use the shorthand `np`:"
   ]
  },
  {
   "cell_type": "code",
   "execution_count": 13,
   "metadata": {},
   "outputs": [],
   "source": [
    "import numpy as np"
   ]
  },
  {
   "cell_type": "code",
   "execution_count": 14,
   "metadata": {},
   "outputs": [],
   "source": [
    "arr1 = np.array([1.,1.,2.,3.,5.,8.])"
   ]
  },
  {
   "cell_type": "markdown",
   "metadata": {},
   "source": [
    "We've seen that we can apply operators directly to a `numpy.array`:"
   ]
  },
  {
   "cell_type": "code",
   "execution_count": 15,
   "metadata": {},
   "outputs": [
    {
     "data": {
      "text/plain": [
       "array([ 6.5,  6.5,  8. ,  9.5, 12.5, 17. ])"
      ]
     },
     "execution_count": 15,
     "metadata": {},
     "output_type": "execute_result"
    }
   ],
   "source": [
    "arr1*3/2 + 5"
   ]
  },
  {
   "cell_type": "markdown",
   "metadata": {},
   "source": [
    "Similarly you can use additional functions provided by the `numpy` module to do something to each element in the array. For example you can apply a square root:"
   ]
  },
  {
   "cell_type": "code",
   "execution_count": 16,
   "metadata": {},
   "outputs": [
    {
     "name": "stdout",
     "output_type": "stream",
     "text": [
      "[1.         1.         1.41421356 1.73205081 2.23606798 2.82842712]\n"
     ]
    }
   ],
   "source": [
    "print(np.sqrt(arr1))"
   ]
  },
  {
   "cell_type": "markdown",
   "metadata": {},
   "source": [
    "Or perform a reductive operation such as calculating the mean of all the elements:"
   ]
  },
  {
   "cell_type": "code",
   "execution_count": 17,
   "metadata": {},
   "outputs": [
    {
     "name": "stdout",
     "output_type": "stream",
     "text": [
      "3.3333333333333335\n"
     ]
    }
   ],
   "source": [
    "print(np.mean(arr1))"
   ]
  },
  {
   "cell_type": "markdown",
   "metadata": {},
   "source": [
    "We can also apply mathematical operations over the whole array. For instance we can look at the `np.cos` function which produces applies the cosine function element-wise:"
   ]
  },
  {
   "cell_type": "code",
   "execution_count": 18,
   "metadata": {},
   "outputs": [
    {
     "name": "stdout",
     "output_type": "stream",
     "text": [
      "\u001b[31mCall signature:\u001b[39m  np.cos(*args, **kwargs)\n",
      "\u001b[31mType:\u001b[39m            ufunc\n",
      "\u001b[31mString form:\u001b[39m     <ufunc 'cos'>\n",
      "\u001b[31mFile:\u001b[39m            ~/.pyenv/versions/3.11.1/lib/python3.11/site-packages/numpy/__init__.py\n",
      "\u001b[31mDocstring:\u001b[39m      \n",
      "cos(x, /, out=None, *, where=True, casting='same_kind', order='K', dtype=None, subok=True[, signature, extobj])\n",
      "\n",
      "Cosine element-wise.\n",
      "\n",
      "Parameters\n",
      "----------\n",
      "x : array_like\n",
      "    Input array in radians.\n",
      "out : ndarray, None, or tuple of ndarray and None, optional\n",
      "    A location into which the result is stored. If provided, it must have\n",
      "    a shape that the inputs broadcast to. If not provided or None,\n",
      "    a freshly-allocated array is returned. A tuple (possible only as a\n",
      "    keyword argument) must have length equal to the number of outputs.\n",
      "where : array_like, optional\n",
      "    This condition is broadcast over the input. At locations where the\n",
      "    condition is True, the `out` array will be set to the ufunc result.\n",
      "    Elsewhere, the `out` array will retain its original value.\n",
      "    Note that if an uninitialized `out` array is created via the default\n",
      "    ``out=None``, locations within it where the condition is False will\n",
      "    remain uninitialized.\n",
      "**kwargs\n",
      "    For other keyword-only arguments, see the\n",
      "    :ref:`ufunc docs <ufuncs.kwargs>`.\n",
      "\n",
      "Returns\n",
      "-------\n",
      "y : ndarray\n",
      "    The corresponding cosine values.\n",
      "    This is a scalar if `x` is a scalar.\n",
      "\n",
      "Notes\n",
      "-----\n",
      "If `out` is provided, the function writes the result into it,\n",
      "and returns a reference to `out`.  (See Examples)\n",
      "\n",
      "References\n",
      "----------\n",
      "M. Abramowitz and I. A. Stegun, Handbook of Mathematical Functions.\n",
      "New York, NY: Dover, 1972.\n",
      "\n",
      "Examples\n",
      "--------\n",
      ">>> np.cos(np.array([0, np.pi/2, np.pi]))\n",
      "array([  1.00000000e+00,   6.12303177e-17,  -1.00000000e+00])\n",
      ">>>\n",
      ">>> # Example of providing the optional output parameter\n",
      ">>> out1 = np.array([0], dtype='d')\n",
      ">>> out2 = np.cos([0.1], out1)\n",
      ">>> out2 is out1\n",
      "True\n",
      ">>>\n",
      ">>> # Example of ValueError due to provision of shape mis-matched `out`\n",
      ">>> np.cos(np.zeros((3,3)),np.zeros((2,2)))\n",
      "Traceback (most recent call last):\n",
      "  File \"<stdin>\", line 1, in <module>\n",
      "ValueError: operands could not be broadcast together with shapes (3,3) (2,2)\n",
      "\u001b[31mClass docstring:\u001b[39m\n",
      "Functions that operate element by element on whole arrays.\n",
      "\n",
      "To see the documentation for a specific ufunc, use `info`.  For\n",
      "example, ``np.info(np.sin)``.  Because ufuncs are written in C\n",
      "(for speed) and linked into Python with NumPy's ufunc facility,\n",
      "Python's help() function finds this page whenever help() is called\n",
      "on a ufunc.\n",
      "\n",
      "A detailed explanation of ufuncs can be found in the docs for :ref:`ufuncs`.\n",
      "\n",
      "**Calling ufuncs:** ``op(*x[, out], where=True, **kwargs)``\n",
      "\n",
      "Apply `op` to the arguments `*x` elementwise, broadcasting the arguments.\n",
      "\n",
      "The broadcasting rules are:\n",
      "\n",
      "* Dimensions of length 1 may be prepended to either array.\n",
      "* Arrays may be repeated along dimensions of length 1.\n",
      "\n",
      "Parameters\n",
      "----------\n",
      "*x : array_like\n",
      "    Input arrays.\n",
      "out : ndarray, None, or tuple of ndarray and None, optional\n",
      "    Alternate array object(s) in which to put the result; if provided, it\n",
      "    must have a shape that the inputs broadcast to. A tuple of arrays\n",
      "    (possible only as a keyword argument) must have length equal to the\n",
      "    number of outputs; use None for uninitialized outputs to be\n",
      "    allocated by the ufunc.\n",
      "where : array_like, optional\n",
      "    This condition is broadcast over the input. At locations where the\n",
      "    condition is True, the `out` array will be set to the ufunc result.\n",
      "    Elsewhere, the `out` array will retain its original value.\n",
      "    Note that if an uninitialized `out` array is created via the default\n",
      "    ``out=None``, locations within it where the condition is False will\n",
      "    remain uninitialized.\n",
      "**kwargs\n",
      "    For other keyword-only arguments, see the :ref:`ufunc docs <ufuncs.kwargs>`.\n",
      "\n",
      "Returns\n",
      "-------\n",
      "r : ndarray or tuple of ndarray\n",
      "    `r` will have the shape that the arrays in `x` broadcast to; if `out` is\n",
      "    provided, it will be returned. If not, `r` will be allocated and\n",
      "    may contain uninitialized values. If the function has more than one\n",
      "    output, then the result will be a tuple of arrays."
     ]
    }
   ],
   "source": [
    "np.cos?"
   ]
  },
  {
   "cell_type": "markdown",
   "metadata": {},
   "source": [
    "The help states that this wants an *array-like* object and wants the input in radians. We can write this as:"
   ]
  },
  {
   "cell_type": "code",
   "execution_count": 19,
   "metadata": {},
   "outputs": [
    {
     "name": "stdout",
     "output_type": "stream",
     "text": [
      "[ 0.54030231  0.54030231 -0.41614684 -0.9899925   0.28366219 -0.14550003]\n"
     ]
    }
   ],
   "source": [
    "print(np.cos(arr1))"
   ]
  },
  {
   "cell_type": "markdown",
   "metadata": {},
   "source": [
    "If we look at `arr1` we can see that this has not been updated by the application of these operations - when using this functionality a copy of the array is returned which you can choose to re-assign to the original variable name or create a new variable:"
   ]
  },
  {
   "cell_type": "code",
   "execution_count": 20,
   "metadata": {},
   "outputs": [
    {
     "name": "stdout",
     "output_type": "stream",
     "text": [
      "[1. 1. 2. 3. 5. 8.]\n",
      "[ 6.5  6.5  8.   9.5 12.5 17. ]\n"
     ]
    }
   ],
   "source": [
    "print(arr1)\n",
    "arr2 = arr1*3/2 + 5\n",
    "print(arr2)"
   ]
  },
  {
   "cell_type": "markdown",
   "metadata": {},
   "source": [
    "## Element-wise operations on 1D arrays\n",
    "\n",
    "Element-wise operations in numpy allow you to perform arithmetic or mathematical functions on each corresponding element of arrays. For example, if you have two arrays of the same length, `arr1` and `arr2`, you can add them directly: `arr1 + arr2`. This will produce a new array where each element is the sum of the elements at the same position in the original arrays. Similarly, you can use other operators (`-`, `*`, `/`) or numpy functions (`np.sqrt(arr1)`, `np.cos(arr1)`) to apply operations to each element individually. The arrays must have compatible shapes for these operations."
   ]
  },
  {
   "cell_type": "code",
   "execution_count": 21,
   "metadata": {},
   "outputs": [
    {
     "name": "stdout",
     "output_type": "stream",
     "text": [
      "[ 7.5  7.5 10.  12.5 17.5 25. ]\n",
      "[-5.5 -5.5 -6.  -6.5 -7.5 -9. ]\n"
     ]
    }
   ],
   "source": [
    "# Element-wise addition of arr1 and arr2\n",
    "added = arr1 + arr2\n",
    "print(added)\n",
    "# Element-wise subtraction of arr1 and arr2\n",
    "subtracted = arr1 - arr2\n",
    "print(subtracted)"
   ]
  },
  {
   "cell_type": "code",
   "execution_count": 22,
   "metadata": {},
   "outputs": [
    {
     "name": "stdout",
     "output_type": "stream",
     "text": [
      "Element-wise multiplication: [  6.5   6.5  16.   28.5  62.5 136. ]\n",
      "Element-wise division: [0.15384615 0.15384615 0.25       0.31578947 0.4        0.47058824]\n"
     ]
    }
   ],
   "source": [
    "# Element-wise multiplication and division of arr1 and arr2\n",
    "multiplied = arr1 * arr2\n",
    "divided = arr1 / arr2\n",
    "\n",
    "print(\"Element-wise multiplication:\", multiplied)\n",
    "print(\"Element-wise division:\", divided)"
   ]
  },
  {
   "cell_type": "markdown",
   "metadata": {},
   "source": [
    "When 1D arrays have different lengths, you need to be careful about the operations you perform. **Element-wise operations**: Operations such as `arr1 + arr3` or `arr1 * arr3` require arrays to have the same length or compatible shapes. If the lengths differ, numpy will raise a `ValueError` due to shape mismatch.\n"
   ]
  },
  {
   "cell_type": "code",
   "execution_count": 23,
   "metadata": {},
   "outputs": [
    {
     "ename": "NameError",
     "evalue": "name 'arr3' is not defined",
     "output_type": "error",
     "traceback": [
      "\u001b[31m---------------------------------------------------------------------------\u001b[39m",
      "\u001b[31mNameError\u001b[39m                                 Traceback (most recent call last)",
      "\u001b[36mCell\u001b[39m\u001b[36m \u001b[39m\u001b[32mIn[23]\u001b[39m\u001b[32m, line 2\u001b[39m\n\u001b[32m      1\u001b[39m \u001b[38;5;66;03m# This will raise a ValueError because arr1 and arr3 have different lengths\u001b[39;00m\n\u001b[32m----> \u001b[39m\u001b[32m2\u001b[39m result = arr1 + \u001b[43marr3\u001b[49m\n",
      "\u001b[31mNameError\u001b[39m: name 'arr3' is not defined"
     ]
    }
   ],
   "source": [
    "# This will raise a ValueError because arr1 and arr3 have different lengths\n",
    "result = arr1 + arr3\n"
   ]
  },
  {
   "cell_type": "markdown",
   "metadata": {},
   "source": [
    "## Basic operations on 1D arrays\n",
    "\n",
    "Summing all elements in a 1D numpy array can be done with `np.sum(arr1)`.\n",
    "\n",
    "For cumulative summing, use `np.cumsum(arr1)`, which returns an array where each element is the sum of all previous elements.\n",
    "\n",
    "\n",
    "Sorting is performed with `np.sort(arr1)`, which returns a sorted copy of the array.\n",
    " \n",
    "To concatenate two arrays, use `np.concatenate([arr1, arr2])`. This joins the arrays end-to-end, creating a new array containing all elements from both arrays in order. Concatenation is useful for combining datasets or extending arrays.\n",
    "  \n",
    "To find unique elements, use `np.unique(arr1)`, which returns an array of the distinct values in `arr1`. These operations are efficient and commonly used for data analysis."
   ]
  },
  {
   "cell_type": "code",
   "execution_count": 24,
   "metadata": {},
   "outputs": [
    {
     "name": "stdout",
     "output_type": "stream",
     "text": [
      "Sum of arr1: 20.0\n",
      "Cumulative sum of arr1: [ 1.  2.  4.  7. 12. 20.]\n",
      "Sorted arr1: [1. 1. 2. 3. 5. 8.]\n",
      "Combined array: [ 1.   1.   2.   3.   5.   8.   6.5  6.5  8.   9.5 12.5 17. ]\n",
      "Unique elements in combined: [ 1.   2.   3.   5.   6.5  8.   9.5 12.5 17. ]\n"
     ]
    }
   ],
   "source": [
    "# Summing all elements in arr1\n",
    "total_sum = np.sum(arr1)\n",
    "print(\"Sum of arr1:\", total_sum)\n",
    "\n",
    "# Cumulative summing of arr1\n",
    "cumulative_sum = np.cumsum(arr1)\n",
    "print(\"Cumulative sum of arr1:\", cumulative_sum)\n",
    "\n",
    "# Sorting arr1\n",
    "sorted_arr = np.sort(arr1)\n",
    "print(\"Sorted arr1:\", sorted_arr)\n",
    "\n",
    "# Combine arr1 and arr2 into a single array\n",
    "combined = np.concatenate([arr1, arr2])\n",
    "print(\"Combined array:\", combined)\n",
    "\n",
    "# Finding unique elements in combined\n",
    "unique_elements = np.unique(combined)\n",
    "print(\"Unique elements in combined:\", unique_elements)"
   ]
  },
  {
   "cell_type": "markdown",
   "metadata": {},
   "source": []
  }
 ],
 "metadata": {
  "kernelspec": {
   "display_name": "3.11.1",
   "language": "python",
   "name": "python3"
  },
  "language_info": {
   "codemirror_mode": {
    "name": "ipython",
    "version": 3
   },
   "file_extension": ".py",
   "mimetype": "text/x-python",
   "name": "python",
   "nbconvert_exporter": "python",
   "pygments_lexer": "ipython3",
   "version": "3.11.1"
  }
 },
 "nbformat": 4,
 "nbformat_minor": 4
}
