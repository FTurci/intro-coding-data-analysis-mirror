{
 "cells": [
  {
   "cell_type": "markdown",
   "id": "522539d1-7e66-476d-8430-a912792cf770",
   "metadata": {},
   "source": [
    "# Week 2: Solutions"
   ]
  },
  {
   "cell_type": "markdown",
   "id": "88dd90df-5e93-4828-af08-64ccc5b107af",
   "metadata": {},
   "source": [
    "This notebook contains the solutions to the week 2 `Beginner`, `Intermediate` and `Advanced` exercises."
   ]
  },
  {
   "cell_type": "markdown",
   "id": "e8062e1c-1b13-4a3b-b5c4-404a1b5f1a85",
   "metadata": {},
   "source": [
    "### Table of Contents\n",
    "\n",
    " - [Welcome Page](./week_02_home.ipynb)\n",
    "\n",
    " - [Beginner: If Statements](./week_02_booleans_and_conditionals_beginner.ipynb)\n",
    " - [Intermediate: Match Statements](./week_02_booleans_and_conditionals_intermediate.ipynb)\n",
    " - [Advanced: Conditional Expressions and Lazy Evaluation](./week_02_booleans_and_conditionals_advanced.ipynb)\n",
    "\n",
    " - [**Solutions**](./week_02_solutions_demonstrator_version.ipynb)\n",
    "     - [Beginner: If Statements](#Beginner:-If-Statements)\n",
    "     - [Intermediate: Match Statements](#Intermediate:-Match-Statements)\n",
    "     - [Advanced: Conditional Expressions and Lazy Evaluation](#Advanced:-Conditional-Expressions-and-Lazy-Evaluation)\n",
    " - [Slides](./week_02_slides.ipynb) ([Powerpoint](./Lecture2_Booleans_and_Conditionals.pptx))"
   ]
  },
  {
   "cell_type": "markdown",
   "id": "cdc6a51b-9125-4469-9ad7-94decff65ec0",
   "metadata": {},
   "source": [
    "## Beginner: If Statements"
   ]
  },
  {
   "cell_type": "markdown",
   "id": "f6de7fa2-106d-45ab-90a7-a8b0d3f4cf70",
   "metadata": {},
   "source": [
    "**Question 1:** The answer to this question is given below:"
   ]
  },
  {
   "cell_type": "code",
   "execution_count": null,
   "id": "76df5006-24e7-4254-a8cf-734632bc350e",
   "metadata": {},
   "outputs": [],
   "source": [
    "# Create a string containing your last (or first) name\n",
    "name = \"Anderson\"\n",
    "\n",
    "# Check if the length of the string is greater than 8\n",
    "if len(name) > 8:\n",
    "    print(\"The name is long\")"
   ]
  },
  {
   "cell_type": "markdown",
   "id": "52c6ee8b-5ae9-4601-983b-7ede67b1fe2f",
   "metadata": {},
   "source": [
    " > **Demonstrator Notes:** This question aims to give students their first practice with `if` statements. If a student is struggling, check in with them regularly and recap strings and the `len()` function as needed."
   ]
  },
  {
   "cell_type": "markdown",
   "id": "1e4e9bc4-daea-41b1-9204-fed2299f8a20",
   "metadata": {},
   "source": [
    "**Question 2:** The code for this question is below."
   ]
  },
  {
   "cell_type": "code",
   "execution_count": null,
   "id": "016addf3-8aa5-4eb3-b58d-f043c2aab4b6",
   "metadata": {},
   "outputs": [],
   "source": [
    "# The pH level\n",
    "ph_level = 6\n",
    "\n",
    "if ph_level < 0 or ph_level > 14:\n",
    "    liquid_type = \"unknown\"\n",
    "elif ph_level < 7:\n",
    "    liquid_type = \"acid\"\n",
    "elif ph_level == 7:\n",
    "    liquid_type = \"neutral\"\n",
    "else:\n",
    "    liquid_type = \"alkali\"\n",
    "\n",
    "print(liquid_type)"
   ]
  },
  {
   "cell_type": "markdown",
   "id": "c0d310f2-dd63-431a-ab44-81c0d78ff396",
   "metadata": {},
   "source": [
    " > **Demonstrator Notes:** Please be mindful that some students may not be familiar with the pH scale, either because they have not studied Chemistry recently or because they learned it using different terms or acronyms. Before explaining the code, check that they understand the context - they might not say anything if they are confused."
   ]
  },
  {
   "cell_type": "markdown",
   "id": "b3aa648a-b283-4f6d-8835-262690c2d092",
   "metadata": {},
   "source": [
    "**Question 3:** The problem with this code is that the boolean for the `if` evaluates as `True` when the `temperature` exceeds 100, so the `elif` is never executed. A simple solution would be to switch the order of the clauses like so:"
   ]
  },
  {
   "cell_type": "code",
   "execution_count": null,
   "id": "e9a99d19-8176-445d-9cb5-32d24abeaad1",
   "metadata": {},
   "outputs": [],
   "source": [
    "# Temperature in degrees celcius\n",
    "temperature = 120 \n",
    "\n",
    "if temperature > 100:\n",
    "    state = \"gas\"\n",
    "elif temperature > 0:\n",
    "    state = \"liquid\"\n",
    "else:\n",
    "    state = \"solid\"\n",
    "\n",
    "print(\"State of water:\", state)"
   ]
  },
  {
   "cell_type": "markdown",
   "id": "64caed76-aba6-4129-9b49-4dc12ca2fbd3",
   "metadata": {},
   "source": [
    "> **Demonstrator Notes:** The students have been given a similar example, where the solution is to reorder the clauses, in the `Worked Example: Determining a Leap Year` section. If students are struggling with this question, please suggest they re-read this section before providing them with the answer. "
   ]
  },
  {
   "cell_type": "markdown",
   "id": "2439bbe5-1f84-4a33-9157-d344786c5a96",
   "metadata": {},
   "source": [
    "**Question 4:** The code for this question is below:"
   ]
  },
  {
   "cell_type": "code",
   "execution_count": null,
   "id": "116d9e61-5119-4b99-b085-b7ca9c536d2e",
   "metadata": {},
   "outputs": [],
   "source": [
    "# Example input\n",
    "day_number = 32   # February 1st\n",
    "\n",
    "# Work out the month\n",
    "if day_number <= 31:\n",
    "    month = \"January\"\n",
    "elif day_number <= 59:   # 31 + 28\n",
    "    month = \"February\"\n",
    "elif day_number <= 90:   # 59 + 31\n",
    "    month = \"March\"\n",
    "elif day_number <= 120:  # 90 + 30\n",
    "    month = \"April\"\n",
    "elif day_number <= 151:  # 120 + 31\n",
    "    month = \"May\"\n",
    "elif day_number <= 181:  # 151 + 30\n",
    "    month = \"June\"\n",
    "elif day_number <= 212:  # 181 + 31\n",
    "    month = \"July\"\n",
    "elif day_number <= 243:  # 212 + 31\n",
    "    month = \"August\"\n",
    "elif day_number <= 273:  # 243 + 30\n",
    "    month = \"September\"\n",
    "elif day_number <= 304:  # 273 + 31\n",
    "    month = \"October\"\n",
    "elif day_number <= 334:  # 304 + 30\n",
    "    month = \"November\"\n",
    "else:                    # 334 + 31\n",
    "    month = \"December\"\n",
    "\n",
    "print(month)"
   ]
  },
  {
   "cell_type": "markdown",
   "id": "a2c1eac3-2620-4831-8818-7068ef36cd13",
   "metadata": {},
   "source": [
    " > **Demonstrator Notes:** Many students will not immediately think to add up the days in each month in the manner the above code has. Because of the unfamiliar logic, be ready to guide them step by step and ''hold their hands'' a bit more than usual for this question."
   ]
  },
  {
   "cell_type": "markdown",
   "id": "70fb3d8e-7ba6-4ce4-9b3a-fd7588133831",
   "metadata": {},
   "source": [
    "**Question 5:** One potential solution to this question is given below:"
   ]
  },
  {
   "cell_type": "code",
   "execution_count": null,
   "id": "fb4ce968-61ee-43bd-ab77-d5e46c963b07",
   "metadata": {},
   "outputs": [],
   "source": [
    "# The number of days\n",
    "day_number = 399\n",
    "\n",
    "# Wrap the day_number so it always falls between 1 and 365\n",
    "day_number = day_number % 365\n",
    "if day_number == 0:\n",
    "    day_number = 365\n",
    "\n",
    "# Work out the month\n",
    "if day_number <= 31:\n",
    "    month = \"January\"\n",
    "elif day_number <= 59:   # 31 + 28\n",
    "    month = \"February\"\n",
    "elif day_number <= 90:   # 59 + 31\n",
    "    month = \"March\"\n",
    "elif day_number <= 120:  # 90 + 30\n",
    "    month = \"April\"\n",
    "elif day_number <= 151:  # 120 + 31\n",
    "    month = \"May\"\n",
    "elif day_number <= 181:  # 151 + 30\n",
    "    month = \"June\"\n",
    "elif day_number <= 212:  # 181 + 31\n",
    "    month = \"July\"\n",
    "elif day_number <= 243:  # 212 + 31\n",
    "    month = \"August\"\n",
    "elif day_number <= 273:  # 243 + 30\n",
    "    month = \"September\"\n",
    "elif day_number <= 304:  # 273 + 31\n",
    "    month = \"October\"\n",
    "elif day_number <= 334:  # 304 + 30\n",
    "    month = \"November\"\n",
    "else:                    # 334 + 31\n",
    "    month = \"December\"\n",
    "\n",
    "print(month)"
   ]
  },
  {
   "cell_type": "markdown",
   "id": "3483766f-b113-4611-ba6d-ee57aa087961",
   "metadata": {},
   "source": [
    " > **Demonstrator Notes:** Many students may struggle here because they have forgotten, or never fully grasped, the `%` operator. Make sure they understand this operator before giving the answer, explaining it in terms of modular/\"clock\" arithmetic if necessary."
   ]
  },
  {
   "cell_type": "markdown",
   "id": "4dafed71-26d6-4916-914c-190cfcdfb817",
   "metadata": {},
   "source": [
    "**Question 6:** An answer to this question is given below."
   ]
  },
  {
   "cell_type": "code",
   "execution_count": null,
   "id": "c00fb72d-a613-458f-bece-a32312913294",
   "metadata": {},
   "outputs": [],
   "source": [
    "# Distance in kilometres\n",
    "distance_km = 3.0\n",
    "\n",
    "# Convert to miles\n",
    "distance_in_miles = distance_km / 1.60934\n",
    "\n",
    "# Check conditions\n",
    "if distance_in_miles > 2:\n",
    "    print(\"Distance is more than 2 miles\")\n",
    "else:\n",
    "    print(\"Distance is short\")\n",
    "\n",
    "if distance_in_miles > 1:\n",
    "    print(\"Distance is more than 1 mile\")"
   ]
  },
  {
   "cell_type": "markdown",
   "id": "aa54dce1-cb9a-435e-a283-ab56aa062af6",
   "metadata": {},
   "source": [
    " > **Demonstrator Notes:** Last year, many students really struggled with unit conversions. Check they are doing `distance_km / 1.60934` instead of `distance_km*1.60934`."
   ]
  },
  {
   "cell_type": "markdown",
   "id": "faca1466-89df-4e45-bc59-fd1072751eec",
   "metadata": {},
   "source": [
    "**Question 7:** A solution to this question is given below:"
   ]
  },
  {
   "cell_type": "code",
   "execution_count": null,
   "id": "20f2d553-ee24-4a7b-b3f6-fd2c74cca698",
   "metadata": {},
   "outputs": [],
   "source": [
    "year = 1900\n",
    "\n",
    "if year % 400 == 0:                         # Added line\n",
    "    leap_year = \"Yes\"                       # Added line\n",
    "elif year % 4 == 0 and year % 100 == 0:    # if --> elif\n",
    "    leap_year = \"No\"\n",
    "elif year % 4 == 0:\n",
    "    leap_year = \"Yes\"\n",
    "else:\n",
    "    leap_year = \"No\"\n",
    "\n",
    "print(f\"Is {year} a leap year? {leap_year}\")"
   ]
  },
  {
   "cell_type": "markdown",
   "id": "76da996e-6f3a-4770-9afb-b9c27abcdcfb",
   "metadata": {},
   "source": [
    " > **Question 7:** This question may feel daunting to students at first. In reality, the solution only requires adding the first clause (`year % 400 == 0`). One way to help is to have students test a few example years on paper before coding so the logic becomes clearer. Only encourage them to start coding once you feel they have a strong conceptual grasp of the problem."
   ]
  },
  {
   "cell_type": "markdown",
   "id": "0484e86b-4423-4ce1-865a-032b38aa76f1",
   "metadata": {},
   "source": [
    "**Question 8:** The `pass` statement is a placeholder which effectively does nothing. If it were not there, we would have a `SyntaxError` as the `if` statement must contain code."
   ]
  },
  {
   "cell_type": "markdown",
   "id": "c1d18aa0-d122-451c-98e6-d36d47af7bf9",
   "metadata": {},
   "source": [
    " > **Demonstrator Notes:** This question has two purposes. First, it introduces students to the pass statement, which they will need later in the course. Second, and more importantly, it encourages them to practice using documentation and independent research. Prompt students to look up the answer online rather than giving it to them directly."
   ]
  },
  {
   "cell_type": "markdown",
   "id": "c9f3541e-e91e-40ed-8dfb-000662d5d0ed",
   "metadata": {},
   "source": [
    "**Question 9:** An answer to this question is given below:"
   ]
  },
  {
   "cell_type": "code",
   "execution_count": null,
   "id": "c913b0d4-b600-4f55-8b20-35a80161c9f5",
   "metadata": {},
   "outputs": [],
   "source": [
    "# The previous player's answer\n",
    "prev_answer = \"Fizz\"\n",
    "\n",
    "# The previous player's number\n",
    "prev_number = 6\n",
    "\n",
    "# Work out what the previous player's answer should have been\n",
    "if prev_number % 3 == 0 and prev_number % 5 == 0:\n",
    "    correct_prev = \"FizzBuzz\"\n",
    "elif prev_number % 3 == 0:\n",
    "    correct_prev = \"Fizz\"\n",
    "elif prev_number % 5 == 0:\n",
    "    correct_prev = \"Buzz\"\n",
    "else:\n",
    "    correct_prev = str(prev_number)\n",
    "\n",
    "# Check if their answer was correct\n",
    "if prev_answer != correct_prev:\n",
    "    print(f\"Oops! The previous player should have said '{correct_prev}', not '{prev_answer}'.\")\n",
    "\n",
    "# Work out and print your answer (for the next number)\n",
    "my_number = prev_number + 1\n",
    "\n",
    "if my_number % 3 == 0 and my_number % 5 == 0:\n",
    "    print(\"FizzBuzz\")\n",
    "elif my_number % 3 == 0:\n",
    "    print(\"Fizz\")\n",
    "elif my_number % 5 == 0:\n",
    "    print(\"Buzz\")\n",
    "else:\n",
    "    print(str(my_number))"
   ]
  },
  {
   "cell_type": "markdown",
   "id": "06f5c4aa-a1a1-4a04-b42f-686ef7905681",
   "metadata": {},
   "source": [
    " > **Demonstrator Notes:** This is a classic introduction to coding task. If student's are struggling encourage them to search for `FizzBuzz exercise python` online. They will find lots of good advice which does not instantly give them the answer."
   ]
  },
  {
   "cell_type": "markdown",
   "id": "931a44aa-004f-4e6a-90d3-7a7dfdda795e",
   "metadata": {},
   "source": [
    "**Question 10:** The desired answer is below:"
   ]
  },
  {
   "cell_type": "code",
   "execution_count": null,
   "id": "915fe5b5-3436-4a9e-b9dd-af19a61fd37b",
   "metadata": {},
   "outputs": [],
   "source": [
    "x = 30\n",
    "z = 4\n",
    "\n",
    "if z < 0 and (x < 20 or x > 30):\n",
    "    print(\"A\")\n",
    "elif z < 0:\n",
    "    print(\"B\")"
   ]
  },
  {
   "cell_type": "markdown",
   "id": "bb8c3df6-2723-49ba-8cb6-df389f2eb206",
   "metadata": {},
   "source": [
    "An alternative is given by:"
   ]
  },
  {
   "cell_type": "code",
   "execution_count": null,
   "id": "f8c7b108-8ba6-42dc-8b74-5bc0de4032a0",
   "metadata": {},
   "outputs": [],
   "source": [
    "x = 30\n",
    "z = 4\n",
    "\n",
    "if z < 0 and (20 <= x <= 30):\n",
    "    print(\"B\")\n",
    "elif z < 0:\n",
    "    print(\"A\")"
   ]
  },
  {
   "cell_type": "markdown",
   "id": "bc133a58-d1f8-4551-a253-22a7dad8e55d",
   "metadata": {},
   "source": [
    " > **Demonstrator Notes:** Below is a step-by-step solution to reducing this problem. First, note that we can combine the `x < 4`, `x < 15` and `x > 30` cases to get: "
   ]
  },
  {
   "cell_type": "code",
   "execution_count": null,
   "id": "2ada365a-2db9-4b55-8158-a8b9c1bf29d4",
   "metadata": {},
   "outputs": [],
   "source": [
    "if z < 0:\n",
    "    if x < 15 or x > 30: # Combined three cases\n",
    "        print(\"A\")\n",
    "    elif z > 20:\n",
    "        print(\"B\")\n",
    "    else:\n",
    "        if x < 20:\n",
    "            print(\"A\")\n",
    "        else:\n",
    "            print(\"B\")\n",
    "elif z < - 1:\n",
    "    print(\"B\")"
   ]
  },
  {
   "cell_type": "markdown",
   "id": "a88ec0e0-a7c5-4776-84af-6e27135cdd38",
   "metadata": {},
   "source": [
    " > Next, note that the final `elif` should never be evaluated as if `z < -1` then `z < 0`, so the `if` is executed instead."
   ]
  },
  {
   "cell_type": "code",
   "execution_count": null,
   "id": "d7e82353-3db0-4a16-adb7-b0f33b1ecfc8",
   "metadata": {},
   "outputs": [],
   "source": [
    "if z < 0:\n",
    "    if x < 15 or x > 30: \n",
    "        print(\"A\")\n",
    "    elif z > 20:\n",
    "        print(\"B\")\n",
    "    else:\n",
    "        if x < 20:\n",
    "            print(\"A\")\n",
    "        else:\n",
    "            print(\"B\")\n",
    "# elif deleted"
   ]
  },
  {
   "cell_type": "markdown",
   "id": "5c52977a-c072-4772-a9c9-ccc96b67425d",
   "metadata": {},
   "source": [
    " > We can now combine the innermost `if` and `else` as follows:"
   ]
  },
  {
   "cell_type": "code",
   "execution_count": null,
   "id": "45aba70f-ee39-4f2e-8e7e-049cfaccab74",
   "metadata": {},
   "outputs": [],
   "source": [
    "if z < 0:\n",
    "    if x < 15 or x > 30: \n",
    "        print(\"A\")\n",
    "    elif z > 20:\n",
    "        print(\"B\")\n",
    "    elif x < 20:              # Combined else with inner if\n",
    "        print(\"A\")            #\n",
    "    else:                     # Combined else with else\n",
    "        print(\"B\")            #"
   ]
  },
  {
   "cell_type": "markdown",
   "id": "dda33de6-a021-4244-ade9-ddf8c3d9510f",
   "metadata": {},
   "source": [
    " > Now, note that the `z > 20` can't ever be evaluated `True`, as if we are inside the outer `if` then `z < 0`."
   ]
  },
  {
   "cell_type": "code",
   "execution_count": null,
   "id": "01614d4a-d23f-43f4-a377-9995a0814837",
   "metadata": {},
   "outputs": [],
   "source": [
    "if z < 0:\n",
    "    if x < 15 or x > 30: \n",
    "        print(\"A\")\n",
    "        # Second case removed as it cannot ever be true\n",
    "    elif x < 20:              \n",
    "        print(\"A\")            \n",
    "    else:           \n",
    "        print(\"B\")            "
   ]
  },
  {
   "cell_type": "markdown",
   "id": "25d73698-8ab4-4476-b1a5-df70be292784",
   "metadata": {},
   "source": [
    " > We can now combine the inner `if` and `elif`:"
   ]
  },
  {
   "cell_type": "code",
   "execution_count": null,
   "id": "89e89c11-b37e-4fd2-81a0-f696ffecdd7f",
   "metadata": {},
   "outputs": [],
   "source": [
    "if z < 0:\n",
    "    if x < 20 or x > 30: \n",
    "        print(\"A\")\n",
    "    else:           \n",
    "        print(\"B\")   "
   ]
  },
  {
   "cell_type": "markdown",
   "id": "0dd61b11-0fa5-4220-8e57-ac792d06b498",
   "metadata": {},
   "source": [
    " > By combining the outer `if` and inner statements, we now get the result."
   ]
  },
  {
   "cell_type": "markdown",
   "id": "27deff29-b7f5-46b3-b411-cd7fb438d680",
   "metadata": {},
   "source": [
    "## Intermediate: Match Statements"
   ]
  },
  {
   "cell_type": "markdown",
   "id": "58508b90-9217-414b-a4c2-02d33e3df247",
   "metadata": {},
   "source": [
    "**Question 1:** The answer to this question is given below:"
   ]
  },
  {
   "cell_type": "code",
   "execution_count": null,
   "id": "7e20405f-3ce3-4f2a-b935-ebaea9f53791",
   "metadata": {},
   "outputs": [],
   "source": [
    "# Point in space\n",
    "point = (1, 5)\n",
    "\n",
    "# Match statement\n",
    "match point:\n",
    "    case (0, y) if y > 0:\n",
    "        location = \"on the positive y-axis\"\n",
    "    case (0, y) if y < 0:\n",
    "        location = \"on the negative y-axis\"\n",
    "    case (x, 0) if x > 0:\n",
    "        location = \"on the positive x-axis\"\n",
    "    case (x, 0) if x < 0:\n",
    "        location = \"on the negative x-axis\"\n",
    "    case (0, 0):\n",
    "        location = \"at the origin\"\n",
    "    case (x, y) if x > 0 and y > 0:\n",
    "        location = \"in the upper right quadrant\"\n",
    "    case (x, y) if x > 0 and y < 0:\n",
    "        location = \"in the lower right quadrant\"\n",
    "    case (x, y) if x < 0 and y < 0:\n",
    "        location = \"in the lower left quadrant\"\n",
    "    case (x, y) if x < 0 and y > 0:\n",
    "        location = \"in the upper left quadrant\"\n",
    "\n",
    "# Describe where the point is\n",
    "print(f\"The point {point} is {location}.\")\n"
   ]
  },
  {
   "cell_type": "markdown",
   "id": "0189fae0-5b7d-4bfa-8f0e-0b847925f7b8",
   "metadata": {},
   "source": [
    " > **Demonstrator Notes:** This question aims to give the students pratice with the `match` statement. Before offering help, it might be worth checking that they understand the context for this question. Before offering help, check that they understand the context: less mathematical students, or non-native speakers, may not feel confident with terms like \"Cartesian plane\" or \"quadrant.\""
   ]
  },
  {
   "cell_type": "markdown",
   "id": "a5d492b2-35c5-4c80-ade5-1ea0d3b89552",
   "metadata": {},
   "source": [
    "**Question 2:** The solution to this question is given below:"
   ]
  },
  {
   "cell_type": "code",
   "execution_count": null,
   "id": "2976b0b7-1f97-4d3e-a451-0538ef90cbcf",
   "metadata": {},
   "outputs": [],
   "source": [
    "x = 2\n",
    "\n",
    "match x:\n",
    "    case 1:\n",
    "        print(\"one\")\n",
    "    case 2:\n",
    "        print(\"two\")\n",
    "    case 3:\n",
    "        print(\"three\")\n",
    "    case _:\n",
    "        print(\"something else\")\n"
   ]
  },
  {
   "cell_type": "markdown",
   "id": "549f6ed0-e6e2-494c-8552-7b10e6ff4e81",
   "metadata": {},
   "source": [
    " > **Demonstrator Notes:** Because this example looks very similar when written with `if` statements, students may wonder what the point of `match` is. Point them to the section `Converting Long elif Statements to match`, which provides a more compelling example and highlights the advantages of `match` in certain situations."
   ]
  },
  {
   "cell_type": "markdown",
   "id": "afb47921-142b-4275-ad08-278d563aac0c",
   "metadata": {},
   "source": [
    "**Question 3:** A model answer is given below:"
   ]
  },
  {
   "cell_type": "code",
   "execution_count": null,
   "id": "5c1bb7e5-aa04-4e87-851c-6fad7df0be0d",
   "metadata": {},
   "outputs": [],
   "source": [
    "# Example input\n",
    "a = 10\n",
    "b = 5\n",
    "operator = \"*\"\n",
    "\n",
    "# Match statement to apply the operation\n",
    "match operator:\n",
    "    case \"+\":\n",
    "        my_result = a + b\n",
    "    case \"-\":\n",
    "        my_result = a - b\n",
    "    case \"*\":\n",
    "        my_result = a * b\n",
    "    case \"/\":\n",
    "        my_result = a / b\n",
    "    case _:\n",
    "        my_result = \"Invalid operator\"\n",
    "\n",
    "print(my_result)\n"
   ]
  },
  {
   "cell_type": "markdown",
   "id": "ff0a25e2-73cf-4ef1-8e85-537c18970529",
   "metadata": {},
   "source": [
    " > **Demonstrator Notes:** A common mistake here is confusing operators with their string forms - for example, writing `\"*\"` instead of `*`, or the reverse.  \n"
   ]
  },
  {
   "cell_type": "markdown",
   "id": "1c7a66b7-c6f3-4606-8559-988bb18b3efb",
   "metadata": {},
   "source": [
    "**Question 4:** An example solution is provided below:"
   ]
  },
  {
   "cell_type": "code",
   "execution_count": null,
   "id": "621307bb-a10e-4b6f-9807-bbca9a9ab0ed",
   "metadata": {},
   "outputs": [],
   "source": [
    "# Exchange rates as of Sept 6, 2025 (3 s.f.)\n",
    "GBP_TO_USD = 1.35\n",
    "GBP_TO_EUR = 1.15\n",
    "GBP_TO_JPY = 199\n",
    "\n",
    "# Example input\n",
    "account = (100, \"USD\")      # 100 dollars\n",
    "target_currency = \"EUR\"     # convert to euros\n",
    "\n",
    "# --- Step 1: convert original balance into GBP ---\n",
    "match account:\n",
    "    case (balance, \"GBP\"):\n",
    "        balance_gbp = balance\n",
    "    case (balance, \"USD\"):\n",
    "        balance_gbp = balance / GBP_TO_USD\n",
    "    case (balance, \"EUR\"):\n",
    "        balance_gbp = balance / GBP_TO_EUR\n",
    "    case (balance, \"JPY\"):\n",
    "        balance_gbp = balance / GBP_TO_JPY\n",
    "    case _:\n",
    "        balance_gbp = None\n",
    "\n",
    "# --- Step 2: convert GBP into target currency ---\n",
    "match target_currency:\n",
    "    case \"GBP\" if balance_gbp is not None:\n",
    "        print(f\"Balance: £{balance_gbp:.2f}\")\n",
    "    case \"USD\" if balance_gbp is not None:\n",
    "        print(f\"Balance: ${balance_gbp * GBP_TO_USD:.2f}\")\n",
    "    case \"EUR\" if balance_gbp is not None:\n",
    "        print(f\"Balance: €{balance_gbp * GBP_TO_EUR:.2f}\")\n",
    "    case \"JPY\" if balance_gbp is not None:\n",
    "        print(f\"Balance: ¥{balance_gbp * GBP_TO_JPY:.0f}\")\n",
    "    case _:\n",
    "        print(\"Unsupported currency\")\n"
   ]
  },
  {
   "cell_type": "markdown",
   "id": "99d77262-2e39-43c2-92ab-86b732a44ce7",
   "metadata": {},
   "source": [
    "> **Demonstrator Notes:** See the notes on *Beginner Question 6* about unit conversion. In this question, some students may try to code every possible pair of conversions separately (e.g. `GBP -> USD`, `GBP -> EUR`, … , `EUR -> JPY`). Discourage this, as it leads to unnecessary repetition (especially if we wanted to add more currency units!). Instead, hint at the approach shown above: convert everything via a common unit, requiring only two conversions.  \n"
   ]
  },
  {
   "cell_type": "markdown",
   "id": "a6a4b6e1-53ff-4327-88c3-054e8f8e82dd",
   "metadata": {},
   "source": [
    "**Question 10:** Below is a solution to this exercise:"
   ]
  },
  {
   "cell_type": "code",
   "execution_count": null,
   "id": "d68cf80f-f0aa-47f2-b8e6-b090a9dd9fba",
   "metadata": {},
   "outputs": [],
   "source": [
    "# Example rgb values\n",
    "rgb_values = (10,223,20)\n",
    "\n",
    "match rgb_values:\n",
    "\n",
    "    case (r,g,b) if (r > 200) and (g < 50) and (b < 50):\n",
    "\n",
    "        color_name = \"Red\"\n",
    "\n",
    "    case (r,g,b) if (g > 200) and (b < 50) and (r < 50):\n",
    "\n",
    "        color_name = \"Green\"\n",
    "\n",
    "    case (r,g,b) if (b > 200) and (r < 50) and (g < 50):\n",
    "\n",
    "        color_name = \"Blue\"\n",
    "\n",
    "    case _:\n",
    "\n",
    "        color_name = \"Unknown\"\n",
    "\n",
    "print(color_name)"
   ]
  },
  {
   "cell_type": "markdown",
   "id": "9fe8773a-1ca3-425d-a92c-47dd4d4c7614",
   "metadata": {},
   "source": [
    " > **Demonstrator Notes:** Some students may skip the note directing them to review `tuple`s in the intermediate Week 1 material. Before offering help, check that they understand what a `tuple` is. If they do not, redirect them back to that material.  \n"
   ]
  },
  {
   "cell_type": "markdown",
   "id": "a74a0d5b-0caf-484c-9476-c9aff9765054",
   "metadata": {},
   "source": [
    "## Advanced: Conditional Expressions and Lazy Evaluation"
   ]
  },
  {
   "cell_type": "markdown",
   "id": "60fadeeb-4375-4a2f-a9d0-b93ceb9c9841",
   "metadata": {},
   "source": [
    "**Question 1:** An answer to this question is given below:"
   ]
  },
  {
   "cell_type": "code",
   "execution_count": null,
   "id": "cd0e923a-4b5b-4ee2-9fb5-1c6703377907",
   "metadata": {},
   "outputs": [],
   "source": [
    "# Variables x and y\n",
    "x = 4\n",
    "y = 2\n",
    "\n",
    "# Compute the maximum using a conditional expression\n",
    "max_xy = x if x > y else y\n",
    "\n",
    "# print the result\n",
    "print(max_xy)"
   ]
  },
  {
   "cell_type": "markdown",
   "id": "96016cd3-e785-4567-95ec-657f57240d0b",
   "metadata": {},
   "source": [
    " > **Demonstrator Notes:** The logic in this question is very similar to the absolute value example in the `Conditional Expressions` section. If students are unsure what to do here, begin by referring them back to this example."
   ]
  },
  {
   "cell_type": "markdown",
   "id": "c46faef0-00d8-487a-809c-473758e48cd1",
   "metadata": {},
   "source": [
    "**Question 2:** The answers to this question, alongside commented code are given below:"
   ]
  },
  {
   "cell_type": "code",
   "execution_count": null,
   "id": "59b18e18-2cdc-4e6d-8a23-97a8a3d6302a",
   "metadata": {},
   "outputs": [],
   "source": [
    "# my_variable = True and 1/0        # Division by zero error\n",
    "# my_variable = False and 1/0       # No error, False assigned to my_variable\n",
    "# my_variable = str(False and 1/0)  # No error, \"False\" assigned to my_variable\n",
    "# my_variable = str(False) and 1/0  # Division by zero error\n"
   ]
  },
  {
   "cell_type": "markdown",
   "id": "128305c6-0611-485f-ae75-a801338c48c1",
   "metadata": {},
   "source": [
    "> **Demonstrator Notes:** Explanations of the behaviour are given below:\n",
    "> \n",
    "> - The first statement gives a `division by zero` error because the left-hand side is `True`, so Python must also evaluate the right-hand side to determine the result of the `and`.\n",
    "> \n",
    ">  - The second statement does not throw an error: since the left-hand side is `False`, Python stops there and assigns `False` directly to `my_variable` without checking the right-hand side.\n",
    "> \n",
    ">  - The third statement avoids the error for the same reason as the second. Wrapping the code in `str()` means `my_variable` is assigned the string value `\"False\"` instead of the boolean value `False`.\n",
    "> \n",
    ">  - The fourth case again causes a `division by zero error`. This is because `str(False)` is the string `\"False\"`, which is a truthy value in Python (the only `Falsy` string is the empty string `\"\"`). Since it is not `False`, Python must evaluate the second argument `1/0`, which triggers the error."
   ]
  },
  {
   "cell_type": "markdown",
   "id": "3061dd8f-c355-4c05-b88b-b0dace4e71b4",
   "metadata": {},
   "source": [
    "**Question 3:** When Python evaluates an and expression, it checks the left-hand side first.\n",
    "\n",
    " - If `my_boolean` is `True`, the right-hand side (`print(...)`) must also be evaluated, so the message is printed.\n",
    "\n",
    " - If `my_boolean` is `False`, Python stops immediately, as it knows the `and` must be `False`, and the right-hand side is never run - so nothing is printed."
   ]
  },
  {
   "cell_type": "markdown",
   "id": "bc2726b0-7c91-4205-ad8b-3d327d3edd16",
   "metadata": {},
   "source": [
    " > **Demonstrator Notes:** If students are struggling with this question, first refer them to the text in the `Lazy Evaluation` section. This section offers a similar explanation to the above text."
   ]
  },
  {
   "cell_type": "markdown",
   "id": "3b590f50-ad7d-4b56-a5cb-fadffae46bce",
   "metadata": {},
   "source": [
    "**Question 4:** An answer to this question is given below:"
   ]
  },
  {
   "cell_type": "code",
   "execution_count": null,
   "id": "252b26ac-e6eb-465f-ae67-a22ec8216e55",
   "metadata": {},
   "outputs": [],
   "source": [
    "my_boolean = True\n",
    "\n",
    "# Answer\n",
    "output = (my_boolean and print(\"This code is printing\")) or (not my_boolean and print(\"This code is printing2\"))"
   ]
  },
  {
   "cell_type": "markdown",
   "id": "c855ee19-b4e3-48f3-a967-b7f5a0f825ea",
   "metadata": {},
   "source": [
    " > **Demonstrator Notes:** This question may be challenging for students who are still new to Boolean logic. Encourage them to first rewrite the statements in plain English before attempting to code, drawing clear links between the `and`, `or`, and `not` operators and their plain-English meanings.  "
   ]
  },
  {
   "cell_type": "markdown",
   "id": "ce80c25b-b19d-4ff8-b272-551663147b96",
   "metadata": {},
   "source": [
    "**Question 5:** The rule for evaluating `x or y` is:\n",
    "\n",
    " - If `x` is `Truthy`, return `x`.\n",
    " - If `x` is `Falsy`, return `y`.\n",
    "\n",
    "This is the mirror image of how `and` works. Some example code is given by:"
   ]
  },
  {
   "cell_type": "code",
   "execution_count": null,
   "id": "6b782530-bf94-42de-be28-16d202cfc62c",
   "metadata": {},
   "outputs": [],
   "source": [
    "x = 0\n",
    "y = \"hello\"\n",
    "\n",
    "result = x or y\n",
    "print(result)   # Output: hello"
   ]
  },
  {
   "cell_type": "markdown",
   "id": "82a7c4a3-bc77-498c-aaf8-f3ade52b8593",
   "metadata": {},
   "source": [
    "> **Demonstrator Notes:** The reasoning behind the answer is as follows. Suppose `x` and `y` are Boolean values and we want to evaluate `x or y`.  We would do the following\n",
    "> \n",
    "> - First check `x`. If `x` is `True`, then the whole `or` expression is `True` and there is no need to check `y`. In this case, we return `x`.\n",
    ">   \n",
    "> - If `x` is `False`, then we must check `y`. If `y` is `True`, the whole expression is `True`; otherwise, it is `False`. In either case, the result is the truth value of `y`, so we return `y`.  \n",
    ">\n",
    "> Generalising from Booleans, we replace `True` with `Truthy` and `False` with `Falsy`, giving the final rule:\n",
    "> \n",
    "> - If `x` is Truthy, return `x`.  \n",
    "> - If `x` is Falsy, return `y`.  \n"
   ]
  }
 ],
 "metadata": {
  "kernelspec": {
   "display_name": "Python 3 (ipykernel)",
   "language": "python",
   "name": "python3"
  },
  "language_info": {
   "codemirror_mode": {
    "name": "ipython",
    "version": 3
   },
   "file_extension": ".py",
   "mimetype": "text/x-python",
   "name": "python",
   "nbconvert_exporter": "python",
   "pygments_lexer": "ipython3",
   "version": "3.9.13"
  }
 },
 "nbformat": 4,
 "nbformat_minor": 5
}
